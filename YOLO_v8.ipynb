{
 "cells": [
  {
   "cell_type": "code",
   "execution_count": 1,
   "metadata": {
    "colab": {
     "base_uri": "https://localhost:8080/"
    },
    "id": "9kq1sutFC5n5",
    "outputId": "f89d26a6-9093-4be0-f919-843017d47d6b"
   },
   "outputs": [
    {
     "name": "stderr",
     "output_type": "stream",
     "text": [
      "C:\\Users\\ciarp\\anaconda3\\lib\\site-packages\\torchvision\\io\\image.py:13: UserWarning: Failed to load image Python extension: '[WinError 127] Impossibile trovare la procedura specificata'If you don't plan on using image functionality from `torchvision.io`, you can ignore this warning. Otherwise, there might be something wrong with your environment. Did you have `libjpeg` or `libpng` installed before building `torchvision` from source?\n",
      "  warn(\n"
     ]
    }
   ],
   "source": [
    "from PIL import Image\n",
    "import torchvision.transforms as transforms\n",
    "import torch\n",
    "import matplotlib.pyplot as plt\n",
    "import numpy as np\n",
    "import cv2\n",
    "import os\n",
    "import pandas as pd\n",
    "import math\n",
    "import shutil\n",
    "# from google.colab import drive\n",
    "# drive.mount('/content/drive',force_remount=True)"
   ]
  },
  {
   "cell_type": "code",
   "execution_count": null,
   "metadata": {
    "id": "5H5HlE-1jHyw"
   },
   "outputs": [],
   "source": [
    "# from zipfile import ZipFile\n",
    "# with ZipFile('/content/drive/MyDrive/archive/data/yolov1/yolov1-20231017T090248Z-002.zip', 'r') as f:\n",
    "#    f.extractall('/content/drive/MyDrive/archive/data')"
   ]
  },
  {
   "cell_type": "code",
   "execution_count": null,
   "metadata": {
    "id": "QYZU4ruVLEt_"
   },
   "outputs": [],
   "source": []
  },
  {
   "cell_type": "code",
   "execution_count": 2,
   "metadata": {
    "id": "2kgyywiYEaSz"
   },
   "outputs": [],
   "source": [
    "# Drive Path\n",
    "# import zipfile\n",
    "# with zipfile.ZipFile(os.path.join(os.getcwd(),\"drive\",\"MyDrive\",\"archive (1).zip\"), 'r') as zip_ref:\n",
    "#     zip_ref.extractall(os.path.join(os.getcwd(),\"drive\",\"MyDrive\",\"archive\"))\n",
    "\n",
    "#drive_dir=os.path.join(os.getcwd(),\"drive\",\"MyDrive\",\"archive\",\"data\")\n",
    "# drive_dir=os.path.join(os.getcwd(),\"drive\",\"MyDrive\",\"archive\",\"data\")\n",
    "drive_dir=os.path.join(os.getcwd(), \"archive\",\"data\")\n",
    "\n",
    "\n",
    "#Dataframe Creation\n",
    "train_labels=os.path.join(drive_dir,\"train_solution_bounding_boxes (1).csv\")\n",
    "\n",
    "train_imgs_dir=os.path.join(drive_dir,\"training_images\")\n",
    "test_imgs_dir=os.path.join(drive_dir,\"testing_images\")\n",
    "\n",
    "imgs_list=list(sorted(os.listdir(train_imgs_dir)))\n",
    "idxs=list(range(len(imgs_list)))\n",
    "np.random.shuffle(idxs)\n",
    "\n",
    "train_idx=idxs[:int(0.8*len(idxs))]\n",
    "val_idx=idxs[int(0.8*len(idxs)):]\n",
    "\n",
    "\n",
    "imgs_list=list(sorted(os.listdir(train_imgs_dir)))"
   ]
  },
  {
   "cell_type": "code",
   "execution_count": null,
   "metadata": {
    "colab": {
     "base_uri": "https://localhost:8080/",
     "height": 206
    },
    "id": "wFb4jHA8IbdY",
    "outputId": "de82a027-2a07-4815-babc-7eaec18fe382"
   },
   "outputs": [
    {
     "data": {
      "text/html": [
       "\n",
       "  <div id=\"df-eeb4463a-d70e-4481-8de1-7b494fd02694\" class=\"colab-df-container\">\n",
       "    <div>\n",
       "<style scoped>\n",
       "    .dataframe tbody tr th:only-of-type {\n",
       "        vertical-align: middle;\n",
       "    }\n",
       "\n",
       "    .dataframe tbody tr th {\n",
       "        vertical-align: top;\n",
       "    }\n",
       "\n",
       "    .dataframe thead th {\n",
       "        text-align: right;\n",
       "    }\n",
       "</style>\n",
       "<table border=\"1\" class=\"dataframe\">\n",
       "  <thead>\n",
       "    <tr style=\"text-align: right;\">\n",
       "      <th></th>\n",
       "      <th>img_name</th>\n",
       "      <th>class</th>\n",
       "      <th>x_centre</th>\n",
       "      <th>y_centre</th>\n",
       "      <th>width</th>\n",
       "      <th>height</th>\n",
       "    </tr>\n",
       "  </thead>\n",
       "  <tbody>\n",
       "    <tr>\n",
       "      <th>0</th>\n",
       "      <td>vid_4_1000.jpg</td>\n",
       "      <td>0</td>\n",
       "      <td>0.450434</td>\n",
       "      <td>0.539817</td>\n",
       "      <td>0.068741</td>\n",
       "      <td>0.095238</td>\n",
       "    </tr>\n",
       "    <tr>\n",
       "      <th>1</th>\n",
       "      <td>vid_4_10000.jpg</td>\n",
       "      <td>0</td>\n",
       "      <td>0.100217</td>\n",
       "      <td>0.557191</td>\n",
       "      <td>0.155572</td>\n",
       "      <td>0.129987</td>\n",
       "    </tr>\n",
       "    <tr>\n",
       "      <th>2</th>\n",
       "      <td>vid_4_10040.jpg</td>\n",
       "      <td>0</td>\n",
       "      <td>0.444645</td>\n",
       "      <td>0.543678</td>\n",
       "      <td>0.181621</td>\n",
       "      <td>0.157014</td>\n",
       "    </tr>\n",
       "    <tr>\n",
       "      <th>3</th>\n",
       "      <td>vid_4_10020.jpg</td>\n",
       "      <td>0</td>\n",
       "      <td>0.833213</td>\n",
       "      <td>0.531451</td>\n",
       "      <td>0.197540</td>\n",
       "      <td>0.155727</td>\n",
       "    </tr>\n",
       "    <tr>\n",
       "      <th>4</th>\n",
       "      <td>vid_4_10060.jpg</td>\n",
       "      <td>0</td>\n",
       "      <td>0.110347</td>\n",
       "      <td>0.559122</td>\n",
       "      <td>0.171491</td>\n",
       "      <td>0.136422</td>\n",
       "    </tr>\n",
       "  </tbody>\n",
       "</table>\n",
       "</div>\n",
       "    <div class=\"colab-df-buttons\">\n",
       "\n",
       "  <div class=\"colab-df-container\">\n",
       "    <button class=\"colab-df-convert\" onclick=\"convertToInteractive('df-eeb4463a-d70e-4481-8de1-7b494fd02694')\"\n",
       "            title=\"Convert this dataframe to an interactive table.\"\n",
       "            style=\"display:none;\">\n",
       "\n",
       "  <svg xmlns=\"http://www.w3.org/2000/svg\" height=\"24px\" viewBox=\"0 -960 960 960\">\n",
       "    <path d=\"M120-120v-720h720v720H120Zm60-500h600v-160H180v160Zm220 220h160v-160H400v160Zm0 220h160v-160H400v160ZM180-400h160v-160H180v160Zm440 0h160v-160H620v160ZM180-180h160v-160H180v160Zm440 0h160v-160H620v160Z\"/>\n",
       "  </svg>\n",
       "    </button>\n",
       "\n",
       "  <style>\n",
       "    .colab-df-container {\n",
       "      display:flex;\n",
       "      gap: 12px;\n",
       "    }\n",
       "\n",
       "    .colab-df-convert {\n",
       "      background-color: #E8F0FE;\n",
       "      border: none;\n",
       "      border-radius: 50%;\n",
       "      cursor: pointer;\n",
       "      display: none;\n",
       "      fill: #1967D2;\n",
       "      height: 32px;\n",
       "      padding: 0 0 0 0;\n",
       "      width: 32px;\n",
       "    }\n",
       "\n",
       "    .colab-df-convert:hover {\n",
       "      background-color: #E2EBFA;\n",
       "      box-shadow: 0px 1px 2px rgba(60, 64, 67, 0.3), 0px 1px 3px 1px rgba(60, 64, 67, 0.15);\n",
       "      fill: #174EA6;\n",
       "    }\n",
       "\n",
       "    .colab-df-buttons div {\n",
       "      margin-bottom: 4px;\n",
       "    }\n",
       "\n",
       "    [theme=dark] .colab-df-convert {\n",
       "      background-color: #3B4455;\n",
       "      fill: #D2E3FC;\n",
       "    }\n",
       "\n",
       "    [theme=dark] .colab-df-convert:hover {\n",
       "      background-color: #434B5C;\n",
       "      box-shadow: 0px 1px 3px 1px rgba(0, 0, 0, 0.15);\n",
       "      filter: drop-shadow(0px 1px 2px rgba(0, 0, 0, 0.3));\n",
       "      fill: #FFFFFF;\n",
       "    }\n",
       "  </style>\n",
       "\n",
       "    <script>\n",
       "      const buttonEl =\n",
       "        document.querySelector('#df-eeb4463a-d70e-4481-8de1-7b494fd02694 button.colab-df-convert');\n",
       "      buttonEl.style.display =\n",
       "        google.colab.kernel.accessAllowed ? 'block' : 'none';\n",
       "\n",
       "      async function convertToInteractive(key) {\n",
       "        const element = document.querySelector('#df-eeb4463a-d70e-4481-8de1-7b494fd02694');\n",
       "        const dataTable =\n",
       "          await google.colab.kernel.invokeFunction('convertToInteractive',\n",
       "                                                    [key], {});\n",
       "        if (!dataTable) return;\n",
       "\n",
       "        const docLinkHtml = 'Like what you see? Visit the ' +\n",
       "          '<a target=\"_blank\" href=https://colab.research.google.com/notebooks/data_table.ipynb>data table notebook</a>'\n",
       "          + ' to learn more about interactive tables.';\n",
       "        element.innerHTML = '';\n",
       "        dataTable['output_type'] = 'display_data';\n",
       "        await google.colab.output.renderOutput(dataTable, element);\n",
       "        const docLink = document.createElement('div');\n",
       "        docLink.innerHTML = docLinkHtml;\n",
       "        element.appendChild(docLink);\n",
       "      }\n",
       "    </script>\n",
       "  </div>\n",
       "\n",
       "\n",
       "<div id=\"df-a589c98f-5a97-4d53-b803-c63c79b31d4d\">\n",
       "  <button class=\"colab-df-quickchart\" onclick=\"quickchart('df-a589c98f-5a97-4d53-b803-c63c79b31d4d')\"\n",
       "            title=\"Suggest charts.\"\n",
       "            style=\"display:none;\">\n",
       "\n",
       "<svg xmlns=\"http://www.w3.org/2000/svg\" height=\"24px\"viewBox=\"0 0 24 24\"\n",
       "     width=\"24px\">\n",
       "    <g>\n",
       "        <path d=\"M19 3H5c-1.1 0-2 .9-2 2v14c0 1.1.9 2 2 2h14c1.1 0 2-.9 2-2V5c0-1.1-.9-2-2-2zM9 17H7v-7h2v7zm4 0h-2V7h2v10zm4 0h-2v-4h2v4z\"/>\n",
       "    </g>\n",
       "</svg>\n",
       "  </button>\n",
       "\n",
       "<style>\n",
       "  .colab-df-quickchart {\n",
       "      --bg-color: #E8F0FE;\n",
       "      --fill-color: #1967D2;\n",
       "      --hover-bg-color: #E2EBFA;\n",
       "      --hover-fill-color: #174EA6;\n",
       "      --disabled-fill-color: #AAA;\n",
       "      --disabled-bg-color: #DDD;\n",
       "  }\n",
       "\n",
       "  [theme=dark] .colab-df-quickchart {\n",
       "      --bg-color: #3B4455;\n",
       "      --fill-color: #D2E3FC;\n",
       "      --hover-bg-color: #434B5C;\n",
       "      --hover-fill-color: #FFFFFF;\n",
       "      --disabled-bg-color: #3B4455;\n",
       "      --disabled-fill-color: #666;\n",
       "  }\n",
       "\n",
       "  .colab-df-quickchart {\n",
       "    background-color: var(--bg-color);\n",
       "    border: none;\n",
       "    border-radius: 50%;\n",
       "    cursor: pointer;\n",
       "    display: none;\n",
       "    fill: var(--fill-color);\n",
       "    height: 32px;\n",
       "    padding: 0;\n",
       "    width: 32px;\n",
       "  }\n",
       "\n",
       "  .colab-df-quickchart:hover {\n",
       "    background-color: var(--hover-bg-color);\n",
       "    box-shadow: 0 1px 2px rgba(60, 64, 67, 0.3), 0 1px 3px 1px rgba(60, 64, 67, 0.15);\n",
       "    fill: var(--button-hover-fill-color);\n",
       "  }\n",
       "\n",
       "  .colab-df-quickchart-complete:disabled,\n",
       "  .colab-df-quickchart-complete:disabled:hover {\n",
       "    background-color: var(--disabled-bg-color);\n",
       "    fill: var(--disabled-fill-color);\n",
       "    box-shadow: none;\n",
       "  }\n",
       "\n",
       "  .colab-df-spinner {\n",
       "    border: 2px solid var(--fill-color);\n",
       "    border-color: transparent;\n",
       "    border-bottom-color: var(--fill-color);\n",
       "    animation:\n",
       "      spin 1s steps(1) infinite;\n",
       "  }\n",
       "\n",
       "  @keyframes spin {\n",
       "    0% {\n",
       "      border-color: transparent;\n",
       "      border-bottom-color: var(--fill-color);\n",
       "      border-left-color: var(--fill-color);\n",
       "    }\n",
       "    20% {\n",
       "      border-color: transparent;\n",
       "      border-left-color: var(--fill-color);\n",
       "      border-top-color: var(--fill-color);\n",
       "    }\n",
       "    30% {\n",
       "      border-color: transparent;\n",
       "      border-left-color: var(--fill-color);\n",
       "      border-top-color: var(--fill-color);\n",
       "      border-right-color: var(--fill-color);\n",
       "    }\n",
       "    40% {\n",
       "      border-color: transparent;\n",
       "      border-right-color: var(--fill-color);\n",
       "      border-top-color: var(--fill-color);\n",
       "    }\n",
       "    60% {\n",
       "      border-color: transparent;\n",
       "      border-right-color: var(--fill-color);\n",
       "    }\n",
       "    80% {\n",
       "      border-color: transparent;\n",
       "      border-right-color: var(--fill-color);\n",
       "      border-bottom-color: var(--fill-color);\n",
       "    }\n",
       "    90% {\n",
       "      border-color: transparent;\n",
       "      border-bottom-color: var(--fill-color);\n",
       "    }\n",
       "  }\n",
       "</style>\n",
       "\n",
       "  <script>\n",
       "    async function quickchart(key) {\n",
       "      const quickchartButtonEl =\n",
       "        document.querySelector('#' + key + ' button');\n",
       "      quickchartButtonEl.disabled = true;  // To prevent multiple clicks.\n",
       "      quickchartButtonEl.classList.add('colab-df-spinner');\n",
       "      try {\n",
       "        const charts = await google.colab.kernel.invokeFunction(\n",
       "            'suggestCharts', [key], {});\n",
       "      } catch (error) {\n",
       "        console.error('Error during call to suggestCharts:', error);\n",
       "      }\n",
       "      quickchartButtonEl.classList.remove('colab-df-spinner');\n",
       "      quickchartButtonEl.classList.add('colab-df-quickchart-complete');\n",
       "    }\n",
       "    (() => {\n",
       "      let quickchartButtonEl =\n",
       "        document.querySelector('#df-a589c98f-5a97-4d53-b803-c63c79b31d4d button');\n",
       "      quickchartButtonEl.style.display =\n",
       "        google.colab.kernel.accessAllowed ? 'block' : 'none';\n",
       "    })();\n",
       "  </script>\n",
       "</div>\n",
       "    </div>\n",
       "  </div>\n"
      ],
      "text/plain": [
       "          img_name  class  x_centre  y_centre     width    height\n",
       "0   vid_4_1000.jpg      0  0.450434  0.539817  0.068741  0.095238\n",
       "1  vid_4_10000.jpg      0  0.100217  0.557191  0.155572  0.129987\n",
       "2  vid_4_10040.jpg      0  0.444645  0.543678  0.181621  0.157014\n",
       "3  vid_4_10020.jpg      0  0.833213  0.531451  0.197540  0.155727\n",
       "4  vid_4_10060.jpg      0  0.110347  0.559122  0.171491  0.136422"
      ]
     },
     "execution_count": 10,
     "metadata": {},
     "output_type": "execute_result"
    }
   ],
   "source": [
    "df=pd.read_csv(train_labels)\n",
    "\n",
    "width=676\n",
    "height=380\n",
    "\n",
    "df[\"class\"]=0\n",
    "df.rename(columns={'image':'img_name'}, inplace=True)\n",
    "\n",
    "df[\"x_centre\"]=(df[\"xmin\"]+df[\"xmax\"])/2\n",
    "df[\"y_centre\"]=(df[\"ymin\"]+df[\"ymax\"])/2\n",
    "df[\"width\"]=(df[\"xmax\"]-df[\"xmin\"])\n",
    "df[\"height\"]=(df[\"ymax\"]-df[\"ymin\"])\n",
    "\n",
    "#normalizing bounding box coordinates\n",
    "df[\"x_centre\"]=df[\"x_centre\"]/width\n",
    "df[\"y_centre\"]=df[\"y_centre\"]/height\n",
    "df[\"width\"]=df[\"width\"]/width\n",
    "df[\"height\"]=df[\"height\"]/height\n",
    "\n",
    "df_yolo=df[[\"img_name\",\"class\",\"x_centre\",\"y_centre\",\"width\",\"height\"]]\n",
    "df_yolo.head()"
   ]
  },
  {
   "cell_type": "code",
   "execution_count": 3,
   "metadata": {
    "id": "q1ywZ0bDIGFT"
   },
   "outputs": [],
   "source": [
    "# train and test subdirectories with labels directory\n",
    "\n",
    "from os import path\n",
    "yolo_dir=os.path.join(drive_dir,\"yolov8\")\n",
    "if path.exists(yolo_dir) == False:\n",
    "  os.mkdir(yolo_dir)\n",
    "\n",
    "labels_dir=os.path.join(yolo_dir,\"labels\")\n",
    "if path.exists(labels_dir) == False:\n",
    "  os.mkdir(labels_dir)\n",
    "\n",
    "if path.exists(labels_dir+\"/train\") == False:\n",
    "  os.mkdir(labels_dir+\"/train\")\n",
    "if path.exists(labels_dir+\"/val\") == False:\n",
    "  os.mkdir(labels_dir+\"/val\")\n",
    "\n",
    "images_dir=os.path.join(yolo_dir,\"images\")\n",
    "if path.exists(images_dir) == False:\n",
    "  os.mkdir(images_dir)\n",
    "\n",
    "if path.exists(images_dir+\"/train\") == False:\n",
    "  os.mkdir(images_dir+\"/train\")\n",
    "if path.exists(images_dir+\"/val\") == False:\n",
    "  os.mkdir(images_dir+\"/val\")\n",
    "\n",
    "# for idx,img_name in enumerate(imgs_list):\n",
    "#     subset=\"train\"\n",
    "#     if idx in val_idx:\n",
    "#         subset=\"val\"\n",
    "\n",
    "#     if np.isin(img_name,df_yolo[\"img_name\"]):\n",
    "#         columns=[\"class\",\"x_centre\",\"y_centre\",\"width\",\"height\"]\n",
    "#         img_bbox=df_yolo[df_yolo[\"img_name\"]==img_name][columns].values\n",
    "\n",
    "#         label_file_path=os.path.join(labels_dir,subset,img_name[:-4]+\".txt\")\n",
    "#         with open(label_file_path,\"w+\") as f:\n",
    "#             for row in img_bbox:\n",
    "#                 text=\" \".join(row.astype(str))\n",
    "#                 f.write(text)\n",
    "#                 f.write(\"\\n\")\n",
    "\n",
    "#     old_image_path=os.path.join(train_imgs_dir,img_name)\n",
    "#     new_image_path=os.path.join(images_dir,subset,img_name)\n",
    "#     shutil.copy(old_image_path,new_image_path)\n"
   ]
  },
  {
   "cell_type": "code",
   "execution_count": null,
   "metadata": {
    "id": "L74iUF0aEO14"
   },
   "outputs": [],
   "source": [
    "import yaml\n",
    "yolo_format=dict(path=yolo_dir,\n",
    "                 train=images_dir+\"/train\",\n",
    "                 val=images_dir+\"/val\",\n",
    "                 nc=1,\n",
    "                 names={0:\"car\"})\n",
    "\n",
    "with open(yolo_dir+'/yolo.yaml', 'w') as outfile:\n",
    "    yaml.dump(yolo_format, outfile, default_flow_style=False)"
   ]
  },
  {
   "cell_type": "code",
   "execution_count": null,
   "metadata": {
    "id": "Y5ik30nnFjHc"
   },
   "outputs": [],
   "source": [
    "!pip install ultralytics\n",
    "from ultralytics import YOLO\n",
    "model=YOLO('yolov8m.pt')\n",
    "model.train(data=yolo_dir+'/yolo.yaml',epochs=1,patience=5,batch=8,\n",
    "                     lr0=0.0005,imgsz=640)"
   ]
  },
  {
   "cell_type": "code",
   "execution_count": null,
   "metadata": {
    "id": "d1hvBxhPb2cl"
   },
   "outputs": [],
   "source": [
    "path_best_weights=\"/content/runs/detect/train/weights/best.pt\"\n",
    "model = YOLO(path_best_weights)\n",
    "\n",
    "metrics = model.val()"
   ]
  },
  {
   "cell_type": "code",
   "execution_count": null,
   "metadata": {
    "id": "MkLYnIgecMFx"
   },
   "outputs": [],
   "source": [
    "with torch.no_grad():\n",
    "    results=model.predict(source=test_imgs_dir,conf=0.50,iou=0.75)"
   ]
  },
  {
   "cell_type": "code",
   "execution_count": null,
   "metadata": {
    "id": "v33Y2vL1cexO"
   },
   "outputs": [],
   "source": [
    "prediction_dir=os.path.join(yolo_dir,\"predictions\")\n",
    "if path.exists(prediction_dir) == False:\n",
    "  os.mkdir(prediction_dir)"
   ]
  },
  {
   "cell_type": "code",
   "execution_count": null,
   "metadata": {
    "id": "ZvwUlPJbct06"
   },
   "outputs": [],
   "source": [
    "test_img_list=[]\n",
    "for result in results:\n",
    "    if len(result.boxes.xyxy):\n",
    "        name=result.path.split(\"/\")[-1].split(\".\")[0]\n",
    "        boxes=result.boxes.xyxy.cpu().numpy()\n",
    "        scores=result.boxes.conf.cpu().numpy()\n",
    "\n",
    "        test_img_list.append(name)\n",
    "\n",
    "        label_file_path=os.path.join(prediction_dir,name+\".txt\")\n",
    "        with open(label_file_path,\"w+\") as f:\n",
    "            for score,box in zip(scores,boxes):\n",
    "                text=f\"{score:0.4f} \"+\" \".join(box.astype(str))\n",
    "                f.write(text)\n",
    "                f.write(\"\\n\")"
   ]
  },
  {
   "cell_type": "code",
   "execution_count": null,
   "metadata": {
    "id": "N9OkrHn-cxMG"
   },
   "outputs": [],
   "source": [
    "def show_bbox(img,boxes,scores,name,axis=0,color=(0,255,0)):\n",
    "    boxes=boxes.astype(int)\n",
    "    scores=scores\n",
    "    img=img.copy()\n",
    "    for i,box in enumerate(boxes):\n",
    "        score=f\"{scores[i]:.4f}\"\n",
    "        cv2.rectangle(img,(box[0],box[1]),(box[2],box[3]),color,2)\n",
    "        y=box[1]-10 if box[1]-10>10 else box[1]+10\n",
    "        cv2.putText(img,score,(box[0],y),cv2.FONT_HERSHEY_SIMPLEX,0.5,color,2)\n",
    "    plt.imshow(img)\n",
    "    plt.savefig(name+\".png\")\n",
    "    #axis.imshow(img)\n",
    "    #axis.axis(\"off\")"
   ]
  },
  {
   "cell_type": "code",
   "execution_count": null,
   "metadata": {
    "id": "Th-3z6Iuc0QV"
   },
   "outputs": [],
   "source": [
    "fig,axes=plt.subplots(1,1,figsize=(12,12))\n",
    "plt.subplots_adjust(wspace=0.1,hspace=0.1)\n",
    "#ax=axes.flatten()\n",
    "\n",
    "imgs_name=np.random.choice(test_img_list,15)\n",
    "#imgs_name=['vid_5_400','vid_5_25100']\n",
    "for i,img_name in enumerate(imgs_name):\n",
    "    img_file_path=os.path.join(test_imgs_dir,img_name+\".jpg\")\n",
    "    img=cv2.imread(img_file_path)\n",
    "    img=cv2.cvtColor(img,cv2.COLOR_BGR2RGB)\n",
    "\n",
    "    label_file_path=os.path.join(prediction_dir,img_name+\".txt\")\n",
    "    label=pd.read_csv(label_file_path,sep=\" \",header=None).values\n",
    "    scores=label[:,0]\n",
    "    boxes=label[:,1:]\n",
    "    show_bbox(img,boxes,scores,name=img_name+\"_yolov8\")\n",
    "\n",
    "plt.savefig(\"1.png\")"
   ]
  },
  {
   "cell_type": "code",
   "execution_count": 4,
   "metadata": {
    "colab": {
     "base_uri": "https://localhost:8080/"
    },
    "id": "SHlgPs45hJ8f",
    "outputId": "e042e82b-6767-412e-d62f-4b61414e0add"
   },
   "outputs": [],
   "source": [
    "import torch\n",
    "import torch.nn as nn\n",
    "import torchvision.transforms.v2 as transforms\n",
    "\n",
    "import torch.optim as optim\n",
    "import torchvision.transforms.functional as FT\n",
    "from torch.utils.data import DataLoader\n",
    "\n",
    "import numpy as np\n",
    "import pandas as pd\n",
    "from collections import Counter\n",
    "\n",
    "import matplotlib.pyplot as plt\n",
    "import matplotlib.patches as patches\n",
    "\n",
    "import subprocess\n",
    "import os\n",
    "from PIL import Image\n",
    "import time\n",
    "from tqdm import tqdm\n",
    "\n",
    "from IPython import display\n",
    "display.clear_output()\n",
    "\n",
    "from torchvision import datapoints\n",
    "\n",
    "# from google.colab import drive\n",
    "# drive.mount('/content/drive',force_remount=True)"
   ]
  },
  {
   "cell_type": "code",
   "execution_count": 5,
   "metadata": {
    "id": "adNbVJTR0Cvr"
   },
   "outputs": [],
   "source": [
    "# from os import path\n",
    "# drive_dir=os.path.join(os.getcwd(),\"drive\",\"MyDrive\",\"archive\",\"data\")\n",
    "#drive_dir=os.path.join(os.getcwd(),\"drive\",\"MyDrive\",\"data\")\n",
    "\n",
    "\n",
    "yolo_dir=os.path.join(drive_dir,\"yolov8\")\n",
    "if path.exists(yolo_dir) == False:\n",
    "  os.mkdir(yolo_dir)\n",
    "\n",
    "labels_dir=os.path.join(yolo_dir,\"labels\")\n",
    "if path.exists(labels_dir) == False:\n",
    "  os.mkdir(labels_dir)\n",
    "\n",
    "if path.exists(labels_dir+\"/train\") == False:\n",
    "  os.mkdir(labels_dir+\"/train\")\n",
    "if path.exists(labels_dir+\"/val\") == False:\n",
    "  os.mkdir(labels_dir+\"/val\")\n",
    "\n",
    "images_dir=os.path.join(yolo_dir,\"images\")\n",
    "if path.exists(images_dir) == False:\n",
    "  os.mkdir(images_dir)\n",
    "\n",
    "if path.exists(images_dir+\"/train\") == False:\n",
    "  os.mkdir(images_dir+\"/train\")\n",
    "if path.exists(images_dir+\"/val\") == False:\n",
    "  os.mkdir(images_dir+\"/val\")"
   ]
  },
  {
   "cell_type": "code",
   "execution_count": 6,
   "metadata": {
    "id": "AsoHEBx-hSwh"
   },
   "outputs": [],
   "source": [
    "def intersection_over_union(boxes_preds, boxes_labels, box_format=\"midpoint\"):\n",
    "    \"\"\"\n",
    "    Calculates intersection over union\n",
    "    Parameters:\n",
    "        boxes_preds (tensor): Predictions of Bounding Boxes (BATCH_SIZE, S, S, 4) #4 because only 1 box is passed per time\n",
    "        boxes_labels (tensor): Correct labels of Bounding Boxes (BATCH_SIZE, S, S, 4)\n",
    "        box_format (str): midpoint/corners, if boxes (x,y,w,h) or (x1,y1,x2,y2)\n",
    "    Returns:\n",
    "        tensor: Intersection over union for all examples\n",
    "    \"\"\"\n",
    "\n",
    "    # print(\"boxes_preds: \", boxes_preds.shape)\n",
    "    # print(\"boxes_labels: \", boxes_labels.shape)\n",
    "\n",
    "    if box_format == \"midpoint\" :\n",
    "        box1_x1 = boxes_preds[..., 0:1] - boxes_preds[..., 2:3] / 2  # x - (w / 2)\n",
    "        box1_y1 = boxes_preds[..., 1:2] - boxes_preds[..., 3:4] / 2  # y - (h / 2)\n",
    "        box1_x2 = boxes_preds[..., 0:1] + boxes_preds[..., 2:3] / 2  # x + (w / 2)\n",
    "        box1_y2 = boxes_preds[..., 1:2] + boxes_preds[..., 3:4] / 2  # y + (h / 2)\n",
    "\n",
    "        box2_x1 = boxes_labels[..., 0:1] - boxes_labels[..., 2:3] / 2\n",
    "        box2_y1 = boxes_labels[..., 1:2] - boxes_labels[..., 3:4] / 2\n",
    "        box2_x2 = boxes_labels[..., 0:1] + boxes_labels[..., 2:3] / 2\n",
    "        box2_y2 = boxes_labels[..., 1:2] + boxes_labels[..., 3:4] / 2\n",
    "\n",
    "    if box_format == \"corners\" :\n",
    "        box1_x1, box1_y1 = boxes_preds[..., 0:1], boxes_preds[..., 1:2]\n",
    "        box1_x2, box1_y2 = boxes_preds[..., 2:3], boxes_preds[..., 3:4]\n",
    "        box2_x1, box2_y1 = boxes_labels[..., 0:1], boxes_labels[..., 1:2]\n",
    "        box2_x2, box2_y2 = boxes_labels[..., 2:3], boxes_labels[..., 3:4]\n",
    "\n",
    "    x1, y1 = torch.max(box1_x1, box2_x1), torch.max(box1_y1, box2_y1) #greater upper-left corner\n",
    "    x2, y2 = torch.min(box1_x2, box2_x2), torch.min(box1_y2, box2_y2) #lower bottom-right corner\n",
    "\n",
    "\n",
    "    '''\n",
    "    limits the range to a lower bound of 0, so to avoid negative values.\n",
    "    inter computes the area, how?\n",
    "    '''\n",
    "\n",
    "    inter = (x2-x1).clamp(0) * (y2-y1).clamp(0)\n",
    "\n",
    "    box1_area = abs( (box1_x2 - box1_x1) * (box1_y2 - box1_y1) ) #base * altezza\n",
    "    box2_area = abs( (box2_x2 - box2_x1) * (box2_y2 - box2_y1) )\n",
    "\n",
    "    uni = box1_area + box2_area - inter\n",
    "\n",
    "    return inter / (uni + 1e-6)\n",
    "\n",
    "\n",
    "def non_max_suppression(bboxes, iou_threshold, threshold, box_format=\"corners\"):\n",
    "    \"\"\"\n",
    "    Does Non Max Suppression given bboxes\n",
    "    Parameters:\n",
    "        bboxes (list): list of lists containing all bboxes with each bboxes\n",
    "        specified as [class_pred, prob_score, x1, y1, x2, y2]\n",
    "        iou_threshold (float): threshold where predicted bboxes is correct\n",
    "        threshold (float): threshold to remove predicted bboxes (independent of IoU)\n",
    "        box_format (str): \"midpoint\" or \"corners\" used to specify bboxes\n",
    "    Returns:\n",
    "        list: bboxes after performing NMS given a specific IoU threshold\n",
    "    \"\"\"\n",
    "\n",
    "    assert type(bboxes) == list\n",
    "\n",
    "    bboxes = [box for box in bboxes if box[1] > threshold]\n",
    "    bboxes = sorted(bboxes, key=lambda x: x[1], reverse=True)\n",
    "    bboxes_after_nms = []\n",
    "\n",
    "    while bboxes:\n",
    "        chosen_box = bboxes.pop(0)\n",
    "\n",
    "        bboxes = [\n",
    "            box\n",
    "            for box in bboxes\n",
    "            if box[0] != chosen_box[0]\n",
    "            or intersection_over_union(\n",
    "                torch.tensor(chosen_box[2:]),\n",
    "                torch.tensor(box[2:]),\n",
    "                box_format=box_format,\n",
    "            )\n",
    "            < iou_threshold\n",
    "        ]\n",
    "\n",
    "        bboxes_after_nms.append(chosen_box)\n",
    "\n",
    "    return bboxes_after_nms\n",
    "\n",
    "def mean_average_precision(\n",
    "    pred_boxes, true_boxes, iou_threshold=0.5, box_format=\"midpoint\", num_classes=20\n",
    "):\n",
    "    \"\"\"\n",
    "    Calculates mean average precision\n",
    "    Parameters:\n",
    "        pred_boxes (list): list of lists containing all bboxes with each bboxes\n",
    "        specified as [train_idx, class_prediction, prob_score, x1, y1, x2, y2]\n",
    "        true_boxes (list): Similar as pred_boxes except all the correct ones\n",
    "        iou_threshold (float): threshold where predicted bboxes is correct\n",
    "        box_format (str): \"midpoint\" or \"corners\" used to specify bboxes\n",
    "        num_classes (int): number of classes\n",
    "    Returns:\n",
    "        float: mAP value across all classes given a specific IoU threshold\n",
    "    \"\"\"\n",
    "\n",
    "    avg_precisions = []\n",
    "    epsilon = 1e-6 # used for numerical stability\n",
    "    for c in range(num_classes):\n",
    "        detections, ground_truths = [], []\n",
    "        for detection in pred_boxes:\n",
    "            if detection[1] == c: detections.append(detection)\n",
    "        for true_box in true_boxes :\n",
    "            if true_box[1] == c: ground_truths.append(true_box)\n",
    "        amount_bboxes = Counter([gt[0] for gt in ground_truths])\n",
    "        for key,val in amount_bboxes.items(): amount_bboxes[key] = torch.zeros(val)\n",
    "        detections.sort(key=lambda x:x[2], reverse=True)\n",
    "        TP, FP, total_true_bboxes = torch.zeros(len(detections)), torch.zeros(len(detections)), len(ground_truths)\n",
    "        if total_true_bboxes == 0:\n",
    "            continue\n",
    "        for detection_idx, detection in enumerate(detections):\n",
    "            ground_truth_img = [ bbox for bbox in ground_truths if bbox[0] == detection[0] ]\n",
    "            num_gts = len(ground_truth_img)\n",
    "            best_iou = 0\n",
    "            for idx, gt in enumerate(ground_truth_img) :\n",
    "                iou = intersection_over_union(torch.tensor(detection[3:]), torch.tensor(gt[3:]), box_format=box_format,)\n",
    "                if iou > best_iou :\n",
    "                    best_iou = iou\n",
    "                    best_gt_idx = idx\n",
    "            if best_iou > iou_threshold :\n",
    "                if amount_bboxes[detection[0]][best_gt_idx] == 0:\n",
    "                    TP[detection_idx] = 1\n",
    "                    amount_bboxes[detection[0]][best_gt_idx] = 1\n",
    "                else :\n",
    "                    FP[detection_idx] = 1\n",
    "            else :\n",
    "                FP[detection_idx] = 1\n",
    "        TP_cumsum, FP_cumsum = torch.cumsum(TP, dim=0), torch.cumsum(FP, dim=0)\n",
    "        recalls = TP_cumsum / (total_true_bboxes + epsilon)\n",
    "        precisions = torch.divide(TP_cumsum, (TP_cumsum + FP_cumsum + epsilon))\n",
    "        precisions, recalls = torch.cat((torch.tensor([1]), precisions)), torch.cat((torch.tensor([0]), recalls))\n",
    "        avg_precisions.append(torch.trapz(precisions, recalls))\n",
    "\n",
    "    return sum(avg_precisions) / (len(avg_precisions) + epsilon)\n",
    "\n",
    "\n",
    "def plot_image(image, boxes,color):\n",
    "    \"\"\"Plots predicted bounding boxes on the image\"\"\"\n",
    "    im = np.array(image)\n",
    "    height, width, _ = im.shape\n",
    "    fig, ax = plt.subplots(1)\n",
    "    ax.imshow(im)\n",
    "    for box in boxes:\n",
    "        box = box[2:]\n",
    "        assert len(box) == 4, \"Got more values than in x, y, w, h, in a box!\"\n",
    "        upper_left_x = box[0] - box[2] / 2\n",
    "        upper_left_y = box[1] - box[3] / 2\n",
    "        rect = patches.Rectangle(\n",
    "            (upper_left_x * width, upper_left_y * height),\n",
    "            box[2] * width, box[3] * height,\n",
    "            linewidth=1, edgecolor=color, facecolor=\"none\",\n",
    "        )\n",
    "        ax.add_patch(rect)\n",
    "    plt.show()\n",
    "\n",
    "def get_bboxes(loader, model, iou_threshold, threshold,S=7, B=2, C=1, pred_format=\"cells\", box_format=\"midpoint\", device=\"cuda\"):\n",
    "    all_pred_boxes = []\n",
    "    all_true_boxes = []\n",
    "\n",
    "    # make sure model is in eval before get bboxes\n",
    "    model.eval()\n",
    "    train_idx = 0\n",
    "\n",
    "    for batch_idx, (x, labels) in enumerate(loader):\n",
    "        x = x.to(device)\n",
    "        labels = labels.to(device)\n",
    "\n",
    "        with torch.no_grad():\n",
    "            predictions = model(x)\n",
    "\n",
    "        batch_size = x.shape[0]\n",
    "        true_bboxes = cellboxes_to_boxes(labels,S,B,C)\n",
    "        bboxes = cellboxes_to_boxes(predictions,S,B,C)\n",
    "\n",
    "        for idx in range(batch_size):\n",
    "            nms_boxes = non_max_suppression(\n",
    "                bboxes[idx],\n",
    "                iou_threshold=iou_threshold,\n",
    "                threshold=threshold,\n",
    "                box_format=box_format,\n",
    "            )\n",
    "            for nms_box in nms_boxes:\n",
    "                all_pred_boxes.append([train_idx] + nms_box)\n",
    "\n",
    "            for box in true_bboxes[idx]:\n",
    "                # many will get converted to 0 pred\n",
    "                if box[1] > threshold:\n",
    "                    all_true_boxes.append([train_idx] + box)\n",
    "\n",
    "            train_idx += 1\n",
    "\n",
    "    model.train()\n",
    "    return all_pred_boxes, all_true_boxes\n",
    "\n",
    "\n",
    "\n",
    "def convert_cellboxes(predictions, S=7,B=2, C=20):\n",
    "    \"\"\"\n",
    "    Converts bounding boxes output from Yolo with\n",
    "    an image split size of S into entire image ratios\n",
    "    rather than relative to cell ratios.\n",
    "    \"\"\"\n",
    "    num_classes=C\n",
    "    predictions = predictions.to(\"cpu\")\n",
    "    batch_size = predictions.shape[0]\n",
    "    predictions = predictions.reshape(batch_size, 7, 7, B*5+C)\n",
    "    bboxes1 = predictions[..., num_classes+1:num_classes+5]\n",
    "    bboxes2 = predictions[..., num_classes+6:num_classes+10]\n",
    "    scores = torch.cat(\n",
    "        (predictions[..., num_classes].unsqueeze(0), predictions[..., num_classes+5].unsqueeze(0)), dim=0\n",
    "    )\n",
    "    best_box = scores.argmax(0).unsqueeze(-1)\n",
    "    best_boxes = bboxes1 * (1 - best_box) + best_box * bboxes2\n",
    "    cell_indices = torch.arange(7).repeat(batch_size, 7, 1).unsqueeze(-1)\n",
    "    x = 1 / S * (best_boxes[..., :1] + cell_indices)\n",
    "    y = 1 / S * (best_boxes[..., 1:2] + cell_indices.permute(0, 2, 1, 3))\n",
    "    w_y = 1 / S * best_boxes[..., 2:4]\n",
    "    converted_bboxes = torch.cat((x, y, w_y), dim=-1)\n",
    "    predicted_class = predictions[..., :num_classes].argmax(-1).unsqueeze(-1)\n",
    "    best_confidence = torch.max(predictions[..., num_classes], predictions[..., num_classes+5]).unsqueeze(\n",
    "        -1\n",
    "    )\n",
    "    converted_preds = torch.cat(\n",
    "        (predicted_class, best_confidence, converted_bboxes), dim=-1\n",
    "    )\n",
    "\n",
    "    return converted_preds\n",
    "\n",
    "\n",
    "def cellboxes_to_boxes(out, S=7,B=2, C=20):\n",
    "    converted_pred = convert_cellboxes(out,S,B,C).reshape(out.shape[0], S * S, -1)\n",
    "    converted_pred[..., 0] = converted_pred[..., 0].long()\n",
    "    all_bboxes = []\n",
    "    for ex_idx in range(out.shape[0]):\n",
    "        bboxes = []\n",
    "\n",
    "        for bbox_idx in range(S * S):\n",
    "            bboxes.append([x.item() for x in converted_pred[ex_idx, bbox_idx, :]])\n",
    "        all_bboxes.append(bboxes)\n",
    "\n",
    "    return all_bboxes\n",
    "\n",
    "def makeCSVfile(dataset, folder):\n",
    "    images = subprocess.check_output(\"ls \"+ dataset.location + folder + '/images', shell=True, text=True).split('\\n')[:-1]\n",
    "    labels = subprocess.check_output(\"ls \"+ dataset.location + folder + '/labels', shell=True, text=True).split('\\n')[:-1]\n",
    "    return pd.DataFrame(data = {'image': images, 'text':labels})\n",
    "\n",
    "def save_checkpoint(state, filename=\"my_checkpoint.pth.tar\", exit_training=False):\n",
    "    print(\"=> Saving checkpoint\")\n",
    "    torch.save(state, filename)\n",
    "    if exit_training : exit()\n",
    "\n",
    "def load_checkpoint(checkpoint, model, optimizer):\n",
    "    print(\"=> Loading checkpoint\")\n",
    "    model.load_state_dict(checkpoint[\"state_dict\"])\n",
    "    optimizer.load_state_dict(checkpoint[\"optimizer\"])"
   ]
  },
  {
   "cell_type": "code",
   "execution_count": 28,
   "metadata": {
    "id": "MHOyHCaThXaj"
   },
   "outputs": [],
   "source": [
    "# Conv2d BatchNorm2d LeakyReLU MaxPool2d\n",
    "\n",
    "import torch\n",
    "import torch.nn as nn\n",
    "\n",
    "architecture_config = [\n",
    "    (7, 64, 2, 3),\n",
    "    \"M-2\",\n",
    "    (3, 192, 1, 1),\n",
    "    \"M-2\",\n",
    "    \"D\",\n",
    "    (1, 128, 1, 0),\n",
    "    (3, 256, 1, 1),\n",
    "    (1, 256, 1, 0),\n",
    "    (3, 512, 1, 1),\n",
    "    \"M-2\",\n",
    "    [(1, 256, 1, 0), (3, 512, 1, 1), 4],\n",
    "    (1, 512, 1, 0),\n",
    "    (3, 1024, 1, 1),\n",
    "    \"M-2\",\n",
    "    \"D\",\n",
    "    [(1, 512, 1, 0), (3, 1024, 1, 1), 2],\n",
    "    (3, 1024, 1, 1),\n",
    "    (3, 1024, 2, 1),\n",
    "    (3, 1024, 1, 1),\n",
    "    (3, 1024, 1, 1),\n",
    "]\n",
    "\n",
    "class CNNBlock(nn.Module):\n",
    "    def __init__(self, in_channels, out_channels, **kwargs):\n",
    "        super().__init__()\n",
    "        self.conv = nn.Conv2d(in_channels, out_channels, bias=False, **kwargs)\n",
    "        self.batchnorm = nn.BatchNorm2d(out_channels) # not present in the original YOLO model\n",
    "        self.leakyrelu = nn.LeakyReLU(0.1)\n",
    "\n",
    "    def forward(self, x): return self.leakyrelu(self.batchnorm(self.conv(x)))\n",
    "\n",
    "class Yolov1(nn.Module):\n",
    "    def __init__(self, in_channels=3, **kwargs):\n",
    "        super().__init__()\n",
    "        self.architecture = architecture_config\n",
    "        self.in_channels = in_channels\n",
    "        self.darknet = self._create_conv_layers(self.architecture)\n",
    "        self.fcs = self._create_fcs(**kwargs)\n",
    "        self.name='yolov1'\n",
    "\n",
    "    def forward(self, x):\n",
    "        x = self.darknet(x)\n",
    "        # print(f'output shape: {x.shape}')\n",
    "        return self.fcs(torch.flatten(x, start_dim=1))\n",
    "\n",
    "    def _create_conv_layers(self, architecture):\n",
    "        in_channels = self.in_channels\n",
    "        layers = []\n",
    "        for x in architecture:\n",
    "            if type(x)==tuple:\n",
    "                layers += [ CNNBlock(in_channels, x[1], kernel_size=x[0], stride=x[2], padding=x[3]) ]\n",
    "                in_channels = x[1]\n",
    "            elif type(x)==str:\n",
    "                layer_type = x.split(\"-\")\n",
    "        \n",
    "                if layer_type[0] == \"M\":\n",
    "                  stride = int(layer_type[1])\n",
    "                  layers += [ nn.MaxPool2d(kernel_size=2, stride=stride) ]\n",
    "                elif layer_type[0] == \"BN\":\n",
    "                  layers += [ nn.BatchNorm2d(in_channels) ]\n",
    "                elif layer_type[0] == \"D\":\n",
    "                  layers += [ nn.Dropout2d(p=0.15) ]\n",
    "            elif type(x)==list:\n",
    "                conv1, conv2, num_repeats = x[0], x[1], x[2]\n",
    "                for i in range(num_repeats):\n",
    "                    layers += [ CNNBlock(in_channels, conv1[1], kernel_size=conv1[0], stride=conv1[2], padding=conv1[3]) ]\n",
    "                    layers += [ CNNBlock(conv1[1], conv2[1], kernel_size=conv2[0], stride=conv2[2], padding=conv2[3]) ]\n",
    "                    in_channels = conv2[1]\n",
    "        return nn.Sequential(*layers)\n",
    "\n",
    "    def _create_fcs(self, split_size, num_boxes, num_classes):\n",
    "        S, B, C = split_size, num_boxes, num_classes\n",
    "        return nn.Sequential(\n",
    "            nn.Flatten(),\n",
    "            nn.Linear(1024*S*S,496), #4096 in YOLO paper\n",
    "            nn.Dropout(0.0),\n",
    "            nn.LeakyReLU(0.1),\n",
    "            nn.Linear(496, S*S*(B*5+C))\n",
    "        )\n",
    "\n",
    "    def predict(self,split_size, num_boxes, num_classes, source,conf=0.50,iou=0.75):\n",
    "      S, B, C = split_size, num_boxes, num_classes\n",
    "      self.eval()\n",
    "      torch.no_grad()\n",
    "\n",
    "      test_img_list=list(sorted(os.listdir(source)))\n",
    "      result={}\n",
    "      for image in test_img_list:\n",
    "        img_file_path=os.path.join(source,image)\n",
    "        img = Image.open(img_file_path)\n",
    "        for t in [transforms.Resize((448, 448)), transforms.ToTensor(),]:\n",
    "          img = t(img)\n",
    "        img=torch.unsqueeze(img, dim=0)\n",
    "        img = img.to(DEVICE)\n",
    "        bboxes = cellboxes_to_boxes(self(img),S=split_size,B=num_boxes, C=num_classes)\n",
    "        bboxes = non_max_suppression(bboxes[0], iou_threshold=iou, threshold=conf, box_format=\"midpoint\")\n",
    "        result[image]=bboxes\n",
    "      return result\n"
   ]
  },
  {
   "cell_type": "code",
   "execution_count": 8,
   "metadata": {
    "id": "6-HieJ8Wj6gx"
   },
   "outputs": [],
   "source": [
    "architecture_config_tiny = [\n",
    "    (3, 16, 1, 1),\n",
    "    \"M-2\",\n",
    "    (3, 32, 1, 1),\n",
    "    \"M-2\",\n",
    "    (3, 64, 1, 1),\n",
    "    \"M-2\",\n",
    "    (3, 128, 1, 1),\n",
    "    \"M-2\",\n",
    "    (3, 256, 1, 1),\n",
    "    \"M-2\",\n",
    "    (3, 512, 1, 1),\n",
    "    \"M-2\",\n",
    "    (3, 1024, 1, 1),\n",
    "    (3, 1024, 1, 1),\n",
    "    (1, 1024, 1, 0)\n",
    "]\n",
    "\n",
    "class CNNBlock(nn.Module):\n",
    "    def __init__(self, in_channels, out_channels, **kwargs):\n",
    "        super().__init__()\n",
    "        self.conv = nn.Conv2d(in_channels, out_channels, bias=False, **kwargs)\n",
    "        self.batchnorm = nn.BatchNorm2d(out_channels) # not present in the original YOLO model\n",
    "        self.leakyrelu = nn.LeakyReLU(0.1)\n",
    "\n",
    "    def forward(self, x): return self.leakyrelu(self.batchnorm(self.conv(x)))\n",
    "\n",
    "class Yolov2Tiny(nn.Module):\n",
    "    def __init__(self, in_channels=3, **kwargs):\n",
    "        super().__init__()\n",
    "        self.architecture = architecture_config_tiny\n",
    "        self.in_channels = in_channels\n",
    "        self.darknet = self._create_conv_layers(self.architecture)\n",
    "        self.fcs = self._create_fcs(**kwargs)\n",
    "        self.name='tiny_yolo'\n",
    "\n",
    "    def forward(self, x):\n",
    "        x = self.darknet(x)\n",
    "        # print(f'output shape: {x.shape}')\n",
    "        return self.fcs(torch.flatten(x, start_dim=1))\n",
    "\n",
    "    def _create_conv_layers(self, architecture):\n",
    "        in_channels = self.in_channels\n",
    "        layers = []\n",
    "        for x in architecture:\n",
    "            if type(x)==tuple:\n",
    "                layers += [ CNNBlock(in_channels, x[1], kernel_size=x[0], stride=x[2], padding=x[3]) ]\n",
    "                in_channels = x[1]\n",
    "            elif type(x)==str:\n",
    "                stride = int(x.split(\"-\")[1])\n",
    "                layers += [ nn.MaxPool2d(kernel_size=2, stride=stride) ]\n",
    "            elif type(x)==list:\n",
    "                conv1, conv2, num_repeats = x[0], x[1], x[2]\n",
    "                for i in range(num_repeats):\n",
    "                    layers += [ CNNBlock(in_channels, conv1[1], kernel_size=conv1[0], stride=conv1[2], padding=conv1[3]) ]\n",
    "                    layers += [ CNNBlock(conv1[1], conv2[1], kernel_size=conv2[0], stride=conv2[2], padding=conv2[3]) ]\n",
    "                    in_channels = conv2[1]\n",
    "        return nn.Sequential(*layers)\n",
    "\n",
    "    def _create_fcs(self, split_size, num_boxes, num_classes):\n",
    "        S, B, C = split_size, num_boxes, num_classes\n",
    "        return nn.Sequential(\n",
    "            nn.Flatten(),\n",
    "            nn.Linear(1024*S*S,496), #4096 in YOLO paper\n",
    "            nn.Dropout(0.0),\n",
    "            nn.LeakyReLU(0.1),\n",
    "            nn.Linear(496, S*S*(B*5+C))\n",
    "        )\n",
    "    def predict(self,split_size, num_boxes, num_classes, source,conf=0.50,iou=0.75):\n",
    "      S, B, C = split_size, num_boxes, num_classes\n",
    "      self.eval()\n",
    "      torch.no_grad()\n",
    "\n",
    "      test_img_list=list(sorted(os.listdir(source)))\n",
    "      result={}\n",
    "      for image in test_img_list:\n",
    "        img_file_path=os.path.join(source,image)\n",
    "        img = Image.open(img_file_path)\n",
    "        for t in [transforms.Resize((448, 448)), transforms.ToTensor()]:#transforms.Normalize(mean=[0.5, 0.5, 0.5], std=[0.3, 0.3, 0.3])]:\n",
    "          img = t(img)\n",
    "        img=torch.unsqueeze(img, dim=0)\n",
    "        img = img.to(DEVICE)\n",
    "        bboxes = cellboxes_to_boxes(self(img),S=split_size,B=num_boxes, C=num_classes)\n",
    "        bboxes = non_max_suppression(bboxes[0], iou_threshold=iou, threshold=conf, box_format=\"midpoint\")\n",
    "        result[image]=bboxes\n",
    "      return result"
   ]
  },
  {
   "cell_type": "code",
   "execution_count": 9,
   "metadata": {
    "id": "2VuaGZ60lVHG"
   },
   "outputs": [],
   "source": [
    "class YoloLossFruit(nn.Module):\n",
    "    \"\"\"\n",
    "    Calculate the loss for yolo (v1) model\n",
    "    \"\"\"\n",
    "\n",
    "    def __init__(self, S=7, B=2, C=3):\n",
    "        super(YoloLossFruit, self).__init__()\n",
    "        self.mse = nn.MSELoss(reduction=\"sum\")\n",
    "\n",
    "        \"\"\"\n",
    "        S is split size of image (in paper 7),\n",
    "        B is number of boxes (in paper 2),\n",
    "        C is number of classes (in paper 20, in dataset 3),\n",
    "        \"\"\"\n",
    "        self.S = S\n",
    "        self.B = B\n",
    "        self.C = C\n",
    "\n",
    "        # These are from Yolo paper, signifying how much we should\n",
    "        # pay loss for no object (noobj) and the box coordinates (coord)\n",
    "        self.lambda_noobj = 0.5\n",
    "        self.lambda_coord = 5\n",
    "\n",
    "    def forward(self, predictions, target):\n",
    "        # predictions are shaped (BATCH_SIZE, S*S(C+B*5) when inputted\n",
    "        predictions = predictions.reshape(-1, self.S, self.S, self.C + self.B * 5)\n",
    "\n",
    "        # Calculate IoU for the two predicted bounding boxes with target bbox\n",
    "        iou_b1 = intersection_over_union(predictions[..., self.C + 1:self.C + 5], target[..., self.C + 1:self.C + 5])\n",
    "        iou_b2 = intersection_over_union(predictions[..., self.C + 6:self.C + 10], target[..., self.C + 1:self.C + 5])\n",
    "        ious = torch.cat([iou_b1.unsqueeze(0), iou_b2.unsqueeze(0)], dim=0)\n",
    "\n",
    "        # Take the box with highest IoU out of the two prediction\n",
    "        # Note that bestbox will be indices of 0, 1 for which bbox was best\n",
    "        iou_maxes, bestbox = torch.max(ious, dim=0)\n",
    "        exists_box = target[..., self.C].unsqueeze(3)  # in paper this is Iobj_i\n",
    "\n",
    "        # ======================== #\n",
    "        #   FOR BOX COORDINATES    #\n",
    "        # ======================== #\n",
    "\n",
    "        # Set boxes with no object in them to 0. We only take out one of the two\n",
    "        # predictions, which is the one with highest Iou calculated previously.\n",
    "        box_predictions = exists_box * (\n",
    "            (\n",
    "                bestbox * predictions[..., self.C + 6:self.C + 10]\n",
    "                + (1 - bestbox) * predictions[..., self.C + 1:self.C + 5]\n",
    "            )\n",
    "        )\n",
    "\n",
    "        box_targets = exists_box * target[..., self.C + 1:self.C + 5]\n",
    "\n",
    "        # Take sqrt of width, height of boxes to ensure that\n",
    "        box_predictions[..., 2:4] = torch.sign(box_predictions[..., 2:4]) * torch.sqrt(\n",
    "            torch.abs(box_predictions[..., 2:4] + 1e-6)\n",
    "        )\n",
    "        box_targets[..., 2:4] = torch.sqrt(box_targets[..., 2:4])\n",
    "\n",
    "        box_loss = self.mse(\n",
    "            torch.flatten(box_predictions, end_dim=-2),\n",
    "            torch.flatten(box_targets, end_dim=-2),\n",
    "        )\n",
    "\n",
    "        # ==================== #\n",
    "        #   FOR OBJECT LOSS    #\n",
    "        # ==================== #\n",
    "\n",
    "        # pred_box is the confidence score for the bbox with highest IoU\n",
    "        pred_box = (\n",
    "            bestbox * predictions[..., self.C + 5:self.C + 6] + (1 - bestbox) * predictions[..., self.C:self.C + 1]\n",
    "        )\n",
    "\n",
    "        object_loss = self.mse(\n",
    "            torch.flatten(exists_box * pred_box),\n",
    "            torch.flatten(exists_box * target[..., self.C:self.C + 1]),\n",
    "        )\n",
    "\n",
    "        # ======================= #\n",
    "        #   FOR NO OBJECT LOSS    #\n",
    "        # ======================= #\n",
    "\n",
    "        #max_no_obj = torch.max(predictions[..., 20:21], predictions[..., 25:26])\n",
    "        #no_object_loss = self.mse(\n",
    "        #    torch.flatten((1 - exists_box) * max_no_obj, start_dim=1),\n",
    "        #    torch.flatten((1 - exists_box) * target[..., 20:21], start_dim=1),\n",
    "        #)\n",
    "\n",
    "        no_object_loss = self.mse(\n",
    "            torch.flatten((1 - exists_box) * predictions[..., self.C:self.C + 1], start_dim=1),\n",
    "            torch.flatten((1 - exists_box) * target[..., self.C:self.C + 1], start_dim=1),\n",
    "        )\n",
    "\n",
    "        no_object_loss += self.mse(\n",
    "            torch.flatten((1 - exists_box) * predictions[..., self.C + 5:self.C + 6], start_dim=1),\n",
    "            torch.flatten((1 - exists_box) * target[..., self.C:self.C + 1], start_dim=1)\n",
    "        )\n",
    "\n",
    "        # ================== #\n",
    "        #   FOR CLASS LOSS   #\n",
    "        # ================== #\n",
    "\n",
    "        class_loss = self.mse(\n",
    "            torch.flatten(exists_box * predictions[..., :self.C], end_dim=-2,),\n",
    "            torch.flatten(exists_box * target[..., :self.C], end_dim=-2,),\n",
    "        )\n",
    "\n",
    "        loss = (\n",
    "            self.lambda_coord * box_loss  # first two rows in paper\n",
    "            + object_loss  # third row in paper\n",
    "            + self.lambda_noobj * no_object_loss  # forth row\n",
    "            + class_loss  # fifth row\n",
    "        )\n",
    "\n",
    "        return loss"
   ]
  },
  {
   "cell_type": "code",
   "execution_count": 10,
   "metadata": {
    "id": "SlAMLrAQhcI6"
   },
   "outputs": [],
   "source": [
    "class YoloLoss(nn.Module):\n",
    "    def __init__(self, S=7, B=2, C=20):\n",
    "        super(YoloLoss, self).__init__()\n",
    "        self.mse = nn.MSELoss(reduction=\"sum\")\n",
    "        self.S, self.B, self.C = S, B, C\n",
    "        self.lambda_coord, self.lambda_noobj = 5, .5\n",
    "\n",
    "    def forward(self, predictions, target ):\n",
    "        predictions = predictions.reshape(-1, self.S, self.S, self.B*5+self.C)\n",
    "        ious = torch.cat(\n",
    "            (intersection_over_union(predictions[...,self.C+1:self.C+5], target[...,self.C+1:self.C+5]).unsqueeze(0),  #unsqueeze(0) works only if b_size == 1\n",
    "            intersection_over_union(predictions[...,self.C+6:self.C+10], target[...,self.C+1:self.C+5]).unsqueeze(0)) # target = [1, 1, x, y, w, h, 0,0,0,0,0]\n",
    "                                                                                                                      #pred = [0.8, 0, 0.6, 0.8, 0.5, 0.7, 1, 0.5, 0.4,\n",
    "        )\n",
    "\n",
    "        '''\n",
    "            CASE 1 CLASS:\n",
    "            C+1:C+5 -> 2:6 (4) ELEMENTS\n",
    "            C+6:C+10 -> 7:11 (4) ELEMENTS\n",
    "            element in position [C+5] is excluded\n",
    "        '''\n",
    "\n",
    "        _, bestbox = torch.max(ious, dim=0)\n",
    "        exists_box = target[...,self.C:self.C+1]\n",
    "\n",
    "        box_predictions =  exists_box * ( (1-bestbox)*predictions[...,self.C+1:self.C+5] + bestbox*predictions[...,self.C+6:self.C+10] )\n",
    "        box_predictions[...,2:4] = torch.sign(box_predictions[...,2:4])*torch.sqrt(torch.abs(box_predictions[...,2:4]+1e-6)) # WOW\n",
    "        box_targets = exists_box * target[...,self.C+1:self.C+5] #Just these 4 because it can predicts at most 1 box for each cell\n",
    "        box_targets[...,2:4] = torch.sqrt(box_targets[...,2:4]) # rad(w), rad(h)\n",
    "\n",
    "        # print(\"box_predictions: \", box_targets.shape)\n",
    "        # print(\"box_targets: \", box_targets.shape)\n",
    "        # print(\"box_predictions_flatten: \", torch.flatten(box_predictions, end_dim=-2).shape)\n",
    "        # print(\"box_targets_flatten: \", torch.flatten(box_targets, end_dim=-2).shape)\n",
    "\n",
    "        box_loss = self.mse(\n",
    "            torch.flatten(box_predictions, end_dim=-2), # batch_size*S*S, 4 e.g. (16*7*7=784, 4)\n",
    "            torch.flatten(box_targets, end_dim=-2)      # batch_size*S*S, 4\n",
    "        )\n",
    "        '''\n",
    "        object_loss is greater if my model predicted the correct box between the B possible boxes\n",
    "        C:C+1 and C+5:C+6 are 1 if the chosen box is respectively the first or the second\n",
    "        '''\n",
    "        object_loss = self.mse(\n",
    "            torch.flatten(exists_box * ( (1-bestbox)*predictions[...,self.C:self.C+1] + bestbox*predictions[...,self.C+5:self.C+6] )),\n",
    "            torch.flatten(exists_box)\n",
    "        )\n",
    "        '''\n",
    "        no_object_loss exists when no object are in the image\n",
    "        else it penalize the loss when the model predicted a box or worse if the model predicted both\n",
    "        '''\n",
    "        no_object_loss=self.mse(\n",
    "            torch.flatten((1-exists_box) * predictions[...,self.C:self.C+1], end_dim=-2),\n",
    "            torch.flatten((1-exists_box) * target[...,self.C:self.C+1], end_dim=-2)\n",
    "        ) + self.mse(\n",
    "            torch.flatten((1-exists_box) * predictions[...,self.C+5:self.C+6], end_dim=-2),\n",
    "            torch.flatten((1-exists_box) * target[...,self.C:self.C+1], end_dim=-2)\n",
    "        )\n",
    "        '''\n",
    "        penilize if the model predicted the wrong class\n",
    "        NOTE: this can be remove if the class is just one\n",
    "        '''\n",
    "        class_loss = self.mse(\n",
    "            torch.flatten(exists_box * predictions[...,:self.C], end_dim=-2),\n",
    "            torch.flatten(exists_box * target[...,:self.C], end_dim=-2)\n",
    "        )\n",
    "        loss = (self.lambda_coord*box_loss + object_loss + self.lambda_noobj*no_object_loss + class_loss)\n",
    "        return loss"
   ]
  },
  {
   "cell_type": "code",
   "execution_count": 11,
   "metadata": {
    "id": "KC-BNstduF-6"
   },
   "outputs": [],
   "source": [
    "class YoloLossMultiBoxes(nn.Module):\n",
    "    def __init__(self, S=7, B=2, C=20):\n",
    "        super(YoloLossMultiBoxes, self).__init__()\n",
    "        self.mse = nn.MSELoss(reduction=\"sum\")\n",
    "        self.S, self.B, self.C = S, B, C\n",
    "        self.lambda_coord, self.lambda_noobj = 5, .5\n",
    "\n",
    "    def forward(self, predictions, target ):\n",
    "        predictions = predictions.reshape(-1, self.S, self.S, self.B*5+self.C)\n",
    "        intersection_tuples = ()\n",
    "\n",
    "        for i_1 in range(self.B):\n",
    "            i_o_u = intersection_over_union(predictions[...,self.C+(1+i_1*5):self.C+(5+i_1*5)], target[...,self.C+1:self.C+5]).unsqueeze(0)\n",
    "            intersection_tuples += (i_o_u,)\n",
    "\n",
    "        # i_o_u = intersection_over_union(target[...,self.C+1:self.C+5], target[...,self.C+1:self.C+5]).unsqueeze(0)\n",
    "        # intersection_tuples += (i_o_u,)\n",
    "\n",
    "        ious = torch.cat(intersection_tuples) # B X batch_size X S X S X self.B*5+self.C\n",
    "\n",
    "        _, bestbox = torch.max(ious, dim=0) # Why on dimension 0 and not -1?\n",
    "        exists_box = target[...,self.C:self.C+1]\n",
    "\n",
    "        # extraction_classes = target[...,0:self.C]\n",
    "        '''\n",
    "        le prime C elems sono relativi a le probabilità per ogni classe,\n",
    "\n",
    "        '''\n",
    "\n",
    "\n",
    "\n",
    "        # print(f'bestbox: {bestbox}')\n",
    "        # print(f'exists_box shape: {exists_box.shape}, bestbox shape: {bestbox.shape}, target shape: {target.shape}, target POST shape: {target[...,0].shape}, predictions shape: {predictions.shape}')\n",
    "\n",
    "        # predictions = [\n",
    "        #   [\n",
    "        #     [[1, 0, 0.5, 0.7, 0.9, 0.3, 0, 0.3, 0.4, 0.6, 0.4, 0, 0.3, 0.4, 0.6, 0.4]], [[1, 0, 0.5, 0.7, 0.9, 0.3, 0, 0.3, 0.4, 0.6, 0.4, 0, 0.3, 0.4, 0.6, 0.4]]\n",
    "        #   ],\n",
    "        #   [\n",
    "        #     [[1, 0, 0.5, 0.7, 0.9, 0.3, 0, 0.3, 0.4, 0.6, 0.4, 0, 0.3, 0.4, 0.6, 0.4]], [[1, 0, 0.5, 0.7, 0.9, 0.3, 0, 0.3, 0.4, 0.6, 0.4, 0, 0.3, 0.4, 0.6, 0.4]]\n",
    "        #   ]\n",
    "        # ]\n",
    "\n",
    "        # bestbox = [\n",
    "        #   [\n",
    "        #     [0], [1]\n",
    "        #   ],\n",
    "        #   [\n",
    "        #     [2], [1]\n",
    "        #   ]\n",
    "        # ]\n",
    "\n",
    "        # exists_box = [\n",
    "        #   [\n",
    "        #     [0], [1]\n",
    "        #   ],\n",
    "        #   [\n",
    "        #     [0], [0]\n",
    "        #   ]\n",
    "        # ]\n",
    "\n",
    "        # preds_box = (1 - bestbox)\n",
    "        # preds_box[preds_box != 1] = 0\n",
    "        # box_predictions = preds_box * predictions[...,self.C+(1):self.C+(5)]\n",
    "\n",
    "        pred_shape = predictions.shape[0:3]\n",
    "        pred_shape = list(pred_shape)\n",
    "        pred_shape.append(4)\n",
    "\n",
    "        box_predictions = torch.zeros(pred_shape).to(DEVICE) # batch_size x S x S x 4\n",
    "\n",
    "        for i_1 in range(self.B): #prendo solo quello relativo all'argmax\n",
    "            # preds_box = ((1 + i_1) - bestbox)\n",
    "            preds_box = bestbox.detach().clone()\n",
    "            if i_1 == 0:\n",
    "              preds_box[preds_box == i_1] = -1\n",
    "              preds_box[preds_box != -1] = 0\n",
    "              preds_box[preds_box == -1] = 1\n",
    "            else:\n",
    "              preds_box[preds_box != i_1] = 0\n",
    "              preds_box[preds_box == i_1] = 1\n",
    "\n",
    "            box_predictions += preds_box * predictions[...,self.C+(1+i_1*5):self.C+(5+i_1*5)]\n",
    "\n",
    "            # box_predictions += i_1 * predictions[...,self.C+(1+i_1*5):self.C+(5+i_1*5)] # da eliminare\n",
    "\n",
    "        box_predictions = exists_box * box_predictions\n",
    "        box_predictions[...,2:4] = torch.sign(box_predictions[...,2:4])*torch.sqrt(torch.abs(box_predictions[...,2:4]+1e-6)) # WOW\n",
    "        box_targets = exists_box * target[...,self.C+1:self.C+5] #Just these 4 because it can predicts at most 1 box for each cell\n",
    "        box_targets[...,2:4] = torch.sqrt(box_targets[...,2:4]) # rad(w), rad(h)\n",
    "\n",
    "\n",
    "        '''\n",
    "            CASE 1 CLASS:\n",
    "            C+1:C+5 -> 2:6 (4) ELEMENTS\n",
    "            C+6:C+10 -> 7:11 (4) ELEMENTS\n",
    "            element in position [C+5] is excluded\n",
    "        '''\n",
    "\n",
    "#         box_predictions =  exists_box * ( (1-bestbox)*predictions[...,self.C+1:self.C+5] + bestbox*predictions[...,self.C+6:self.C+10] )\n",
    "#         box_predictions[...,2:4] = torch.sign(box_predictions[...,2:4])*torch.sqrt(torch.abs(box_predictions[...,2:4]+1e-6)) # WOW\n",
    "#         box_targets = exists_box * target[...,self.C+1:self.C+5] #Just these 4 because it can predicts at most 1 box for each cell\n",
    "#         box_targets[...,2:4] = torch.sqrt(box_targets[...,2:4]) # rad(w), rad(h)\n",
    "\n",
    "        # print(\"box_predictions: \", box_targets.shape)\n",
    "        # print(\"box_targets: \", box_targets.shape)\n",
    "        # print(\"box_predictions_flatten: \", torch.flatten(box_predictions, end_dim=-2).shape)\n",
    "        # print(\"box_targets_flatten: \", torch.flatten(box_targets, end_dim=-2).shape)\n",
    "\n",
    "        box_loss = self.mse(\n",
    "            torch.flatten(box_predictions, end_dim=-2), # batch_size*S*S, 4 e.g. (16*7*7=784, 4)\n",
    "            torch.flatten(box_targets, end_dim=-2)      # batch_size*S*S, 4\n",
    "        )\n",
    "        '''\n",
    "        object_loss is greater if my model predicted the correct box between the B possible boxes\n",
    "        C:C+1 and C+5:C+6 are 1 if the chosen box is respectively the first or the second\n",
    "        '''\n",
    "\n",
    "        # print(f'exists_box shape: {exists_box.shape}, bestbox shape: {bestbox.shape}, target shape: {target.shape}, target POST shape: {target[...,0:1].shape}, predictions shape: {predictions.shape} predictions POST shape: {predictions[...,self.C:self.C+1].shape}')\n",
    "        pred_shape = predictions.shape[0:3]\n",
    "        pred_shape = list(pred_shape)\n",
    "        pred_shape.append(1)\n",
    "        preds = torch.zeros(pred_shape).to(DEVICE) # batch_size x S x S x 1\n",
    "\n",
    "        for i_1 in range(self.B): #prendo solo quello relativo all'argmax\n",
    "            # preds_box = ((1 + i_1) - bestbox)\n",
    "            preds_box = bestbox.detach().clone()\n",
    "            if i_1 == 0:\n",
    "              preds_box[preds_box == i_1] = -1\n",
    "              preds_box[preds_box != -1] = 0\n",
    "              preds_box[preds_box == -1] = 1\n",
    "            else:\n",
    "              preds_box[preds_box != i_1] = 0\n",
    "              preds_box[preds_box == i_1] = 1\n",
    "\n",
    "            preds += preds_box * predictions[...,self.C+(i_1*5):self.C+(1+i_1*5)]\n",
    "\n",
    "        preds = exists_box * preds\n",
    "\n",
    "\n",
    "        # preds = target[...,0:1] * predictions[...,self.C:self.C+1]\n",
    "        # for i_1 in range(1, self.B): #prendo solo quello relativo all'argmax\n",
    "        #     preds += target[...,i_1:i_1+1] * predictions[...,self.C+(i_1*5):self.C+(1+i_1*5)]\n",
    "        # preds = exists_box * preds\n",
    "\n",
    "        object_loss = self.mse(\n",
    "            torch.flatten(preds),\n",
    "            torch.flatten(exists_box)\n",
    "        )\n",
    "        '''\n",
    "        no_object_loss exists when no object are in the image\n",
    "        else it penalize the loss when the model predicted a box or worse if the model predicted both\n",
    "        '''\n",
    "        no_object_loss = self.mse(\n",
    "                torch.flatten((1-exists_box) * predictions[...,self.C:self.C+1], end_dim=-2),\n",
    "                torch.flatten((1-exists_box) * target[...,self.C:self.C+1], end_dim=-2)\n",
    "            )\n",
    "        for i_1 in range(1, self.B): #prendo solo quello relativo all'argmax\n",
    "            no_object_loss += self.mse(\n",
    "                torch.flatten((1-exists_box) * predictions[...,self.C+(i_1*5):self.C+(1+i_1*5)], end_dim=-2),\n",
    "                torch.flatten((1-exists_box) * target[...,self.C:self.C+1], end_dim=-2)\n",
    "            )\n",
    "        '''\n",
    "        penilize if the model predicted the wrong class\n",
    "        NOTE: this can be remove if the class is just one\n",
    "        '''\n",
    "        class_loss = self.mse(\n",
    "            torch.flatten(exists_box * predictions[...,:self.C], end_dim=-2),\n",
    "            torch.flatten(exists_box * target[...,:self.C], end_dim=-2)\n",
    "        )\n",
    "        loss = (self.lambda_coord*box_loss + object_loss + self.lambda_noobj*no_object_loss + class_loss)\n",
    "        return loss"
   ]
  },
  {
   "cell_type": "code",
   "execution_count": 12,
   "metadata": {
    "id": "6Q1xgxRihljF"
   },
   "outputs": [],
   "source": [
    "class CARDataset(torch.utils.data.Dataset):\n",
    "    def __init__(self, label_dir, img_dir, S=7, B=2, C=20, transform=None):\n",
    "        self.label_dir, self.img_dir = label_dir, img_dir\n",
    "        self.image_list=list(sorted(os.listdir(img_dir)))\n",
    "        self.transform = transform\n",
    "        self.S, self.B, self.C = S, B, C\n",
    "\n",
    "    def __len__(self) : return len(self.image_list)\n",
    "\n",
    "    def __getitem__(self, index):\n",
    "        label_path = os.path.join(self.label_dir, self.image_list[index][:len(self.image_list[index])-3]+\"txt\")\n",
    "        image = Image.open(os.path.join(self.img_dir, self.image_list[index]))\n",
    "        boxes = []\n",
    "        if path.exists(label_path) == True:\n",
    "          with open(label_path) as f:\n",
    "              for label in f.readlines():\n",
    "                  class_label, x, y, width, height = [float(x) if float(x)!=int(float(x)) else int(float(x)) for x in label.strip().split()]\n",
    "                  boxes.append([class_label, x, y, width, height])\n",
    "\n",
    "        if self.transform: image, boxes = self.transform(image, torch.tensor(boxes))\n",
    "        label_matrix = torch.zeros(self.S, self.S, self.B*5+self.C)\n",
    "        for box in boxes:\n",
    "            class_label, x, y, width, height = box\n",
    "            i, j = int(y*self.S), int(x*self.S)\n",
    "            x_cell, y_cell, w_cell, h_cell= x*self.S-j, y*self.S-i, width*self.S, height*self.S\n",
    "            if label_matrix[i, j, self.C] == 0:\n",
    "                label_matrix[i, j, self.C], label_matrix[i, j, int(class_label)] = 1, 1\n",
    "                label_matrix[i, j, self.C+1:self.C+5] = torch.tensor([x_cell, y_cell, w_cell, h_cell])\n",
    "\n",
    "        return image, label_matrix"
   ]
  },
  {
   "cell_type": "code",
   "execution_count": 13,
   "metadata": {
    "id": "UHbK6LfzlUnf"
   },
   "outputs": [],
   "source": [
    "def yolotobox(boxes,dw,dh):\n",
    "    new_boxes=[]\n",
    "    for box in boxes:\n",
    "      box=box[len(box)-4:]\n",
    "      x,y,w,h=box[0],box[1],box[2],box[3]\n",
    "      cx=x*dw\n",
    "      cy=y*dh\n",
    "      w1=w*dw\n",
    "      h1=h*dh\n",
    "\n",
    "      if cx < 0: cx = 0\n",
    "      if cy < 0: cy = 0\n",
    "      if w1 > dw - 1: w1 = dw - 1\n",
    "      if h1 > dh - 1: h1 = dh - 1\n",
    "      new_boxes.append([cx, cy, w1, h1])\n",
    "    return new_boxes\n",
    "\n",
    "def boxtoyolo(boxes,dw,dh):\n",
    "    boxes=boxes.tolist()\n",
    "    new_boxes=[]\n",
    "    for box in boxes:\n",
    "      x,y,w,h=box[0],box[1],box[2],box[3]\n",
    "      cx=x/dw\n",
    "      cy=y/dh\n",
    "      w1=w/dw\n",
    "      h1=h/dh\n",
    "      if w1<=0.05 or h1<=0.05:\n",
    "        continue\n",
    "      new_boxes.append([0.0,cx, cy, w1, h1])\n",
    "    return new_boxes\n"
   ]
  },
  {
   "cell_type": "code",
   "execution_count": 14,
   "metadata": {
    "id": "N7CH-k2LZZou"
   },
   "outputs": [],
   "source": [
    "def select_model(model_name):\n",
    "  if model_name=='yolov1':\n",
    "    return Yolov1(split_size=7, num_boxes=2, num_classes=1).to(DEVICE)\n",
    "  elif model_name=='tiny_yolo':\n",
    "    return Yolov2Tiny(split_size=7, num_boxes=2, num_classes=1).to(DEVICE)\n",
    "  else:\n",
    "    return 0"
   ]
  },
  {
   "cell_type": "code",
   "execution_count": 29,
   "metadata": {
    "id": "m-SkhQDuikqH"
   },
   "outputs": [],
   "source": [
    "\"\"\"\n",
    "Main file for training Yolo model on Pascal VOC dataset\n",
    "\"\"\"\n",
    "import torchvision\n",
    "from torchvision.transforms.v2 import functional as F\n",
    "\n",
    "seed = 123\n",
    "torch.manual_seed(seed)\n",
    "\n",
    "# Hyperparameters etc.\n",
    "#2e-5\n",
    "LEARNING_RATE = 1e-5\n",
    "DEVICE = \"cuda\" if torch.cuda.is_available() else \"cpu\"\n",
    "#DEVICE = \"cpu\"\n",
    "BATCH_SIZE = 32 # 64 in original\n",
    "WEIGHT_DECAY = 0\n",
    "EPOCHS = 100\n",
    "NUM_WORKERS = 0\n",
    "PIN_MEMORY = True\n",
    "LOAD_MODEL = False\n",
    "DATA_AUGMENTATION=True\n",
    "#LOAD_MODEL_FILE = drive_dir+\"/overfit.pth.tar\"\n",
    "#BEST_MODEL_FILE = drive_dir+\"/best_model.pth.tar\"\n",
    "IMG_DIR_TRAIN = images_dir+\"/train\"\n",
    "LABEL_DIR_TRAIN = labels_dir+\"/train\"\n",
    "IMG_DIR_TEST = images_dir+\"/val\"\n",
    "LABEL_DIR_TEST = labels_dir+\"/val\"\n",
    "\n",
    "MINIMUM_SCALE=0.5\n",
    "\n",
    "\n",
    "class Compose(object):\n",
    "    def __init__(self, transforms):\n",
    "        self.transforms = transforms\n",
    "\n",
    "    def __call__(self, img, bboxes):\n",
    "        bboxes=yolotobox(bboxes,F.get_spatial_size(img)[1],F.get_spatial_size(img)[0])\n",
    "        if not bboxes:\n",
    "          bboxes.append([0.0,0.0,0.0,0.0])\n",
    "        bboxes = datapoints.BoundingBox(bboxes,format=datapoints.BoundingBoxFormat.CXCYWH,spatial_size=F.get_spatial_size(img),)\n",
    "        for t in self.transforms:\n",
    "            img, bboxes = t(img,bboxes)\n",
    "\n",
    "        return img, boxtoyolo(bboxes,448,448)\n",
    "\n",
    "def train_fn(train_loader, model, optimizer, loss_fn):\n",
    "    loop = tqdm(train_loader, position=0, leave=True)\n",
    "    mean_loss = []\n",
    "\n",
    "    for batch_idx, (x, y) in enumerate(loop):\n",
    "        x, y = x.to(DEVICE), y.to(DEVICE)\n",
    "        out = model(x)\n",
    "        loss = loss_fn(out, y)\n",
    "        mean_loss.append(loss.item())\n",
    "        optimizer.zero_grad()\n",
    "        loss.backward()\n",
    "        optimizer.step()\n",
    "        # update progress bar\n",
    "        loop.set_postfix(loss=loss.item())\n",
    "    #scheduler.step()\n",
    "    return sum(mean_loss)/len(mean_loss)\n",
    "\n",
    "def test_fn(loader, model, loss_fn):\n",
    "    model.eval()\n",
    "    with torch.no_grad():\n",
    "\n",
    "      loop = tqdm(loader, position=0, leave=True)\n",
    "      mean_loss = []\n",
    "\n",
    "      for batch_idx, (x, y) in enumerate(loop):\n",
    "          x, y = x.to(DEVICE), y.to(DEVICE)\n",
    "          out = model(x)\n",
    "          loss = loss_fn(out, y)\n",
    "          mean_loss.append(loss.item())\n",
    "          # update progress bar\n",
    "          loop.set_postfix(loss=loss.item())\n",
    "      #scheduler.step()\n",
    "    model.train()\n",
    "    return sum(mean_loss)/len(mean_loss)\n",
    "\n",
    "def main():\n",
    "    if DATA_AUGMENTATION:\n",
    "      transform = Compose([\n",
    "          transforms.RandomResizedCrop(size=(448, 448),scale=(MINIMUM_SCALE,1),ratio=(1,1), antialias=True),\n",
    "          transforms.RandomHorizontalFlip(p=0.5),\n",
    "          transforms.ToTensor(),\n",
    "          ])\n",
    "    else:\n",
    "      transform = Compose([transforms.Resize((448, 448)), transforms.ToTensor(),])\n",
    "\n",
    "    transform_val = Compose([transforms.Resize((448, 448)), transforms.ToTensor(),])\n",
    "\n",
    "    map_array_test=[]\n",
    "    map_array_train=[]\n",
    "    mean_loss_array=[]\n",
    "    mean_loss_test_array=[]\n",
    "    total_epoch=0\n",
    "    model = select_model('yolov1')\n",
    "    optimizer = optim.Adam( model.parameters(), lr=LEARNING_RATE, weight_decay=WEIGHT_DECAY )\n",
    "    #scheduler = optim.lr_scheduler.ExponentialLR(optimizer, gamma=0.9)\n",
    "\n",
    "    print(\"model: \", model)\n",
    "\n",
    "    loss_fn = YoloLossFruit(S=7, B=2, C=1)\n",
    "\n",
    "\n",
    "    model_dir=os.path.join(drive_dir,\"no_model\")\n",
    "    file_name=\"save_real\"\n",
    "\n",
    "    if DATA_AUGMENTATION:\n",
    "      file_name=file_name+\"_data_aug_\"+str(MINIMUM_SCALE)\n",
    "      print(file_name)\n",
    "\n",
    "    if model.name=='tiny_yolo':\n",
    "        model_dir=os.path.join(drive_dir,\"tiny_yolo\")\n",
    "\n",
    "    elif model.name=='yolov1':\n",
    "        model_dir=os.path.join(drive_dir,\"yolov1_real\")\n",
    "\n",
    "    if path.exists(model_dir) == False:\n",
    "          os.mkdir(model_dir)\n",
    "\n",
    "    LOAD_MODEL_FILE = model_dir+\"/\"+file_name+\".pth.tar\"\n",
    "    BEST_MODEL_FILE = model_dir+\"/best_\"+file_name+\".pth.tar\"\n",
    "\n",
    "    if LOAD_MODEL:\n",
    "        print(LOAD_MODEL_FILE)\n",
    "        load_checkpoint(torch.load(LOAD_MODEL_FILE), model, optimizer)\n",
    "        #scheduler.load_state_dict(torch.load(LOAD_MODEL_FILE)[\"scheduler\"])\n",
    "        total_epoch=(torch.load(LOAD_MODEL_FILE)[\"total_epoch\"])\n",
    "        map_array_test=(torch.load(LOAD_MODEL_FILE)[\"map_array_test\"])\n",
    "        map_array_train=(torch.load(LOAD_MODEL_FILE)[\"map_array_train\"])\n",
    "        mean_loss_array=(torch.load(LOAD_MODEL_FILE)[\"mean_loss_array\"])\n",
    "        mean_loss_test_array=(torch.load(LOAD_MODEL_FILE)[\"mean_loss_test_array\"])\n",
    "\n",
    "    print(total_epoch)\n",
    "    train_dataset = CARDataset(img_dir=IMG_DIR_TRAIN, label_dir=LABEL_DIR_TRAIN,S=7, B=2, C=1, transform=transform)\n",
    "    print(f\"img_dir_train: {IMG_DIR_TRAIN} img_dir_test: {IMG_DIR_TEST}\")\n",
    "    test_dataset = CARDataset(img_dir=IMG_DIR_TEST, label_dir=LABEL_DIR_TEST,S=7, B=2, C=1, transform=transform_val)\n",
    "\n",
    "    train_loader = DataLoader(dataset=train_dataset, batch_size=BATCH_SIZE, num_workers=NUM_WORKERS,pin_memory=PIN_MEMORY, shuffle=True, drop_last=True)\n",
    "\n",
    "    test_loader = DataLoader(dataset=test_dataset, batch_size=BATCH_SIZE, num_workers=NUM_WORKERS,pin_memory=PIN_MEMORY, shuffle=True, drop_last=True)\n",
    "\n",
    "    for epoch in tqdm(range(EPOCHS), position=0, leave=True):\n",
    "        if epoch % 5==0 and epoch >=0 :\n",
    "            pred_boxes, target_boxes = get_bboxes(test_loader, model, iou_threshold=0.5, threshold=0.4, device=DEVICE)\n",
    "            mean_avg_prec = mean_average_precision(pred_boxes, target_boxes, iou_threshold=0.5, box_format=\"midpoint\")\n",
    "\n",
    "            if mean_avg_prec.item()>0.3:\n",
    "              if(mean_avg_prec.item()>max(map_array_test)):\n",
    "                  print(\"SAVING BEST MODEL\")\n",
    "                  checkpoint = {\n",
    "                      \"state_dict\": model.state_dict(),\n",
    "                      \"optimizer\": optimizer.state_dict(),\n",
    "                      \"scheduler\": optimizer.state_dict(),\n",
    "                      \"total_epoch\": total_epoch+epoch+1,\n",
    "                      \"map_array_test\": map_array_test,\n",
    "                      \"map_array_train\": map_array_train,\n",
    "                      \"mean_loss_array\": mean_loss_array,\n",
    "                      \"mean_loss_test_array\": mean_loss_test_array,\n",
    "                      }\n",
    "                  save_checkpoint(checkpoint, filename=BEST_MODEL_FILE)\n",
    "            map_array_test.append(mean_avg_prec.item())\n",
    "\n",
    "            pred_boxes_train, target_boxes_train = get_bboxes(train_loader, model, iou_threshold=0.5, threshold=0.4, device=DEVICE)\n",
    "            mean_avg_prec_train = mean_average_precision(pred_boxes_train, target_boxes_train, iou_threshold=0.5, box_format=\"midpoint\")\n",
    "            map_array_train.append(mean_avg_prec_train.item())\n",
    "\n",
    "            print(f\"epoch: {total_epoch+epoch} Test mAP: {mean_avg_prec} Train mAP: {mean_avg_prec_train}\")\n",
    "            print(f\"Test mAP Array: {map_array_test}\")\n",
    "            print(f\"Train mAP Array: {map_array_train}\")\n",
    "\n",
    "            checkpoint = {\n",
    "              \"state_dict\": model.state_dict(),\n",
    "              \"optimizer\": optimizer.state_dict(),\n",
    "              \"scheduler\": optimizer.state_dict(),\n",
    "              \"total_epoch\": total_epoch+epoch+1,\n",
    "              \"map_array_test\": map_array_test,\n",
    "              \"map_array_train\": map_array_train,\n",
    "              \"mean_loss_array\": mean_loss_array,\n",
    "              \"mean_loss_test_array\": mean_loss_test_array,\n",
    "\n",
    "            }\n",
    "            save_checkpoint(checkpoint, filename=LOAD_MODEL_FILE)\n",
    "\n",
    "\n",
    "\n",
    "        mean_loss=train_fn(train_loader, model, optimizer, loss_fn)\n",
    "        mean_loss_array.append(mean_loss)\n",
    "        print(f\"Mean Loss Train Array: {mean_loss_array[-10:]}\")\n",
    "\n",
    "        mean_loss_test = test_fn(test_loader, model, loss_fn)\n",
    "        mean_loss_test_array.append(mean_loss_test)\n",
    "        print(f\"Mean Loss Test Array: {mean_loss_test_array[-10:]}\")\n",
    "\n",
    "\n",
    "    checkpoint = {\n",
    "       \"state_dict\": model.state_dict(),\n",
    "       \"optimizer\": optimizer.state_dict(),\n",
    "       \"scheduler\": optimizer.state_dict(),\n",
    "       \"total_epoch\": total_epoch+epoch+1,\n",
    "       \"map_array_test\": map_array_test,\n",
    "       \"map_array_train\": map_array_train,\n",
    "       \"mean_loss_array\": mean_loss_array,\n",
    "       \"mean_loss_test_array\": mean_loss_test_array\n",
    "    }\n",
    "    save_checkpoint(checkpoint, filename=LOAD_MODEL_FILE)#, exit_training=True)\n",
    "\n",
    "\n",
    "#main()"
   ]
  },
  {
   "cell_type": "code",
   "execution_count": 30,
   "metadata": {
    "colab": {
     "base_uri": "https://localhost:8080/"
    },
    "id": "wSnJ_CObUMm5",
    "outputId": "2fa1b8b6-a6fe-415f-81ae-41222381ccf2"
   },
   "outputs": [
    {
     "name": "stdout",
     "output_type": "stream",
     "text": [
      "model:  Yolov1(\n",
      "  (darknet): Sequential(\n",
      "    (0): CNNBlock(\n",
      "      (conv): Conv2d(3, 64, kernel_size=(7, 7), stride=(2, 2), padding=(3, 3), bias=False)\n",
      "      (batchnorm): BatchNorm2d(64, eps=1e-05, momentum=0.1, affine=True, track_running_stats=True)\n",
      "      (leakyrelu): LeakyReLU(negative_slope=0.1)\n",
      "    )\n",
      "    (1): MaxPool2d(kernel_size=2, stride=2, padding=0, dilation=1, ceil_mode=False)\n",
      "    (2): CNNBlock(\n",
      "      (conv): Conv2d(64, 192, kernel_size=(3, 3), stride=(1, 1), padding=(1, 1), bias=False)\n",
      "      (batchnorm): BatchNorm2d(192, eps=1e-05, momentum=0.1, affine=True, track_running_stats=True)\n",
      "      (leakyrelu): LeakyReLU(negative_slope=0.1)\n",
      "    )\n",
      "    (3): MaxPool2d(kernel_size=2, stride=2, padding=0, dilation=1, ceil_mode=False)\n",
      "    (4): Dropout2d(p=0.15, inplace=False)\n",
      "    (5): CNNBlock(\n",
      "      (conv): Conv2d(192, 128, kernel_size=(1, 1), stride=(1, 1), bias=False)\n",
      "      (batchnorm): BatchNorm2d(128, eps=1e-05, momentum=0.1, affine=True, track_running_stats=True)\n",
      "      (leakyrelu): LeakyReLU(negative_slope=0.1)\n",
      "    )\n",
      "    (6): CNNBlock(\n",
      "      (conv): Conv2d(128, 256, kernel_size=(3, 3), stride=(1, 1), padding=(1, 1), bias=False)\n",
      "      (batchnorm): BatchNorm2d(256, eps=1e-05, momentum=0.1, affine=True, track_running_stats=True)\n",
      "      (leakyrelu): LeakyReLU(negative_slope=0.1)\n",
      "    )\n",
      "    (7): CNNBlock(\n",
      "      (conv): Conv2d(256, 256, kernel_size=(1, 1), stride=(1, 1), bias=False)\n",
      "      (batchnorm): BatchNorm2d(256, eps=1e-05, momentum=0.1, affine=True, track_running_stats=True)\n",
      "      (leakyrelu): LeakyReLU(negative_slope=0.1)\n",
      "    )\n",
      "    (8): CNNBlock(\n",
      "      (conv): Conv2d(256, 512, kernel_size=(3, 3), stride=(1, 1), padding=(1, 1), bias=False)\n",
      "      (batchnorm): BatchNorm2d(512, eps=1e-05, momentum=0.1, affine=True, track_running_stats=True)\n",
      "      (leakyrelu): LeakyReLU(negative_slope=0.1)\n",
      "    )\n",
      "    (9): MaxPool2d(kernel_size=2, stride=2, padding=0, dilation=1, ceil_mode=False)\n",
      "    (10): CNNBlock(\n",
      "      (conv): Conv2d(512, 256, kernel_size=(1, 1), stride=(1, 1), bias=False)\n",
      "      (batchnorm): BatchNorm2d(256, eps=1e-05, momentum=0.1, affine=True, track_running_stats=True)\n",
      "      (leakyrelu): LeakyReLU(negative_slope=0.1)\n",
      "    )\n",
      "    (11): CNNBlock(\n",
      "      (conv): Conv2d(256, 512, kernel_size=(3, 3), stride=(1, 1), padding=(1, 1), bias=False)\n",
      "      (batchnorm): BatchNorm2d(512, eps=1e-05, momentum=0.1, affine=True, track_running_stats=True)\n",
      "      (leakyrelu): LeakyReLU(negative_slope=0.1)\n",
      "    )\n",
      "    (12): CNNBlock(\n",
      "      (conv): Conv2d(512, 256, kernel_size=(1, 1), stride=(1, 1), bias=False)\n",
      "      (batchnorm): BatchNorm2d(256, eps=1e-05, momentum=0.1, affine=True, track_running_stats=True)\n",
      "      (leakyrelu): LeakyReLU(negative_slope=0.1)\n",
      "    )\n",
      "    (13): CNNBlock(\n",
      "      (conv): Conv2d(256, 512, kernel_size=(3, 3), stride=(1, 1), padding=(1, 1), bias=False)\n",
      "      (batchnorm): BatchNorm2d(512, eps=1e-05, momentum=0.1, affine=True, track_running_stats=True)\n",
      "      (leakyrelu): LeakyReLU(negative_slope=0.1)\n",
      "    )\n",
      "    (14): CNNBlock(\n",
      "      (conv): Conv2d(512, 256, kernel_size=(1, 1), stride=(1, 1), bias=False)\n",
      "      (batchnorm): BatchNorm2d(256, eps=1e-05, momentum=0.1, affine=True, track_running_stats=True)\n",
      "      (leakyrelu): LeakyReLU(negative_slope=0.1)\n",
      "    )\n",
      "    (15): CNNBlock(\n",
      "      (conv): Conv2d(256, 512, kernel_size=(3, 3), stride=(1, 1), padding=(1, 1), bias=False)\n",
      "      (batchnorm): BatchNorm2d(512, eps=1e-05, momentum=0.1, affine=True, track_running_stats=True)\n",
      "      (leakyrelu): LeakyReLU(negative_slope=0.1)\n",
      "    )\n",
      "    (16): CNNBlock(\n",
      "      (conv): Conv2d(512, 256, kernel_size=(1, 1), stride=(1, 1), bias=False)\n",
      "      (batchnorm): BatchNorm2d(256, eps=1e-05, momentum=0.1, affine=True, track_running_stats=True)\n",
      "      (leakyrelu): LeakyReLU(negative_slope=0.1)\n",
      "    )\n",
      "    (17): CNNBlock(\n",
      "      (conv): Conv2d(256, 512, kernel_size=(3, 3), stride=(1, 1), padding=(1, 1), bias=False)\n",
      "      (batchnorm): BatchNorm2d(512, eps=1e-05, momentum=0.1, affine=True, track_running_stats=True)\n",
      "      (leakyrelu): LeakyReLU(negative_slope=0.1)\n",
      "    )\n",
      "    (18): CNNBlock(\n",
      "      (conv): Conv2d(512, 512, kernel_size=(1, 1), stride=(1, 1), bias=False)\n",
      "      (batchnorm): BatchNorm2d(512, eps=1e-05, momentum=0.1, affine=True, track_running_stats=True)\n",
      "      (leakyrelu): LeakyReLU(negative_slope=0.1)\n",
      "    )\n",
      "    (19): CNNBlock(\n",
      "      (conv): Conv2d(512, 1024, kernel_size=(3, 3), stride=(1, 1), padding=(1, 1), bias=False)\n",
      "      (batchnorm): BatchNorm2d(1024, eps=1e-05, momentum=0.1, affine=True, track_running_stats=True)\n",
      "      (leakyrelu): LeakyReLU(negative_slope=0.1)\n",
      "    )\n",
      "    (20): MaxPool2d(kernel_size=2, stride=2, padding=0, dilation=1, ceil_mode=False)\n",
      "    (21): Dropout2d(p=0.15, inplace=False)\n",
      "    (22): CNNBlock(\n",
      "      (conv): Conv2d(1024, 512, kernel_size=(1, 1), stride=(1, 1), bias=False)\n",
      "      (batchnorm): BatchNorm2d(512, eps=1e-05, momentum=0.1, affine=True, track_running_stats=True)\n",
      "      (leakyrelu): LeakyReLU(negative_slope=0.1)\n",
      "    )\n",
      "    (23): CNNBlock(\n",
      "      (conv): Conv2d(512, 1024, kernel_size=(3, 3), stride=(1, 1), padding=(1, 1), bias=False)\n",
      "      (batchnorm): BatchNorm2d(1024, eps=1e-05, momentum=0.1, affine=True, track_running_stats=True)\n",
      "      (leakyrelu): LeakyReLU(negative_slope=0.1)\n",
      "    )\n",
      "    (24): CNNBlock(\n",
      "      (conv): Conv2d(1024, 512, kernel_size=(1, 1), stride=(1, 1), bias=False)\n",
      "      (batchnorm): BatchNorm2d(512, eps=1e-05, momentum=0.1, affine=True, track_running_stats=True)\n",
      "      (leakyrelu): LeakyReLU(negative_slope=0.1)\n",
      "    )\n",
      "    (25): CNNBlock(\n",
      "      (conv): Conv2d(512, 1024, kernel_size=(3, 3), stride=(1, 1), padding=(1, 1), bias=False)\n",
      "      (batchnorm): BatchNorm2d(1024, eps=1e-05, momentum=0.1, affine=True, track_running_stats=True)\n",
      "      (leakyrelu): LeakyReLU(negative_slope=0.1)\n",
      "    )\n",
      "    (26): CNNBlock(\n",
      "      (conv): Conv2d(1024, 1024, kernel_size=(3, 3), stride=(1, 1), padding=(1, 1), bias=False)\n",
      "      (batchnorm): BatchNorm2d(1024, eps=1e-05, momentum=0.1, affine=True, track_running_stats=True)\n",
      "      (leakyrelu): LeakyReLU(negative_slope=0.1)\n",
      "    )\n",
      "    (27): CNNBlock(\n",
      "      (conv): Conv2d(1024, 1024, kernel_size=(3, 3), stride=(2, 2), padding=(1, 1), bias=False)\n",
      "      (batchnorm): BatchNorm2d(1024, eps=1e-05, momentum=0.1, affine=True, track_running_stats=True)\n",
      "      (leakyrelu): LeakyReLU(negative_slope=0.1)\n",
      "    )\n",
      "    (28): CNNBlock(\n",
      "      (conv): Conv2d(1024, 1024, kernel_size=(3, 3), stride=(1, 1), padding=(1, 1), bias=False)\n",
      "      (batchnorm): BatchNorm2d(1024, eps=1e-05, momentum=0.1, affine=True, track_running_stats=True)\n",
      "      (leakyrelu): LeakyReLU(negative_slope=0.1)\n",
      "    )\n",
      "    (29): CNNBlock(\n",
      "      (conv): Conv2d(1024, 1024, kernel_size=(3, 3), stride=(1, 1), padding=(1, 1), bias=False)\n",
      "      (batchnorm): BatchNorm2d(1024, eps=1e-05, momentum=0.1, affine=True, track_running_stats=True)\n",
      "      (leakyrelu): LeakyReLU(negative_slope=0.1)\n",
      "    )\n",
      "  )\n",
      "  (fcs): Sequential(\n",
      "    (0): Flatten(start_dim=1, end_dim=-1)\n",
      "    (1): Linear(in_features=50176, out_features=496, bias=True)\n",
      "    (2): Dropout(p=0.0, inplace=False)\n",
      "    (3): LeakyReLU(negative_slope=0.1)\n",
      "    (4): Linear(in_features=496, out_features=539, bias=True)\n",
      "  )\n",
      ")\n",
      "save_real_data_aug_0.5\n",
      "0\n",
      "img_dir_train: C:\\Users\\ciarp\\OneDrive\\Desktop\\Universita\\Vision & Perception\\progetto\\github\\visiope-object-detection\\archive\\data\\yolov8\\images/train img_dir_test: C:\\Users\\ciarp\\OneDrive\\Desktop\\Universita\\Vision & Perception\\progetto\\github\\visiope-object-detection\\archive\\data\\yolov8\\images/val\n"
     ]
    },
    {
     "name": "stderr",
     "output_type": "stream",
     "text": [
      "  0%|          | 0/100 [00:00<?, ?it/s]"
     ]
    },
    {
     "name": "stdout",
     "output_type": "stream",
     "text": [
      "epoch: 0 Test mAP: 0.0 Train mAP: 0.0\n",
      "Test mAP Array: [0.0]\n",
      "Train mAP Array: [0.0]\n",
      "=> Saving checkpoint\n"
     ]
    },
    {
     "name": "stderr",
     "output_type": "stream",
     "text": [
      "  0%|          | 0/25 [00:09<?, ?it/s]\n",
      "  0%|          | 0/100 [04:24<?, ?it/s]\n"
     ]
    },
    {
     "ename": "RuntimeError",
     "evalue": "CUDA error: out of memory\nCUDA kernel errors might be asynchronously reported at some other API call, so the stacktrace below might be incorrect.\nFor debugging consider passing CUDA_LAUNCH_BLOCKING=1.\nCompile with `TORCH_USE_CUDA_DSA` to enable device-side assertions.\n",
     "output_type": "error",
     "traceback": [
      "\u001b[1;31m---------------------------------------------------------------------------\u001b[0m",
      "\u001b[1;31mRuntimeError\u001b[0m                              Traceback (most recent call last)",
      "Cell \u001b[1;32mIn[30], line 1\u001b[0m\n\u001b[1;32m----> 1\u001b[0m \u001b[43mmain\u001b[49m\u001b[43m(\u001b[49m\u001b[43m)\u001b[49m\n",
      "Cell \u001b[1;32mIn[29], line 189\u001b[0m, in \u001b[0;36mmain\u001b[1;34m()\u001b[0m\n\u001b[0;32m    174\u001b[0m     checkpoint \u001b[38;5;241m=\u001b[39m {\n\u001b[0;32m    175\u001b[0m       \u001b[38;5;124m\"\u001b[39m\u001b[38;5;124mstate_dict\u001b[39m\u001b[38;5;124m\"\u001b[39m: model\u001b[38;5;241m.\u001b[39mstate_dict(),\n\u001b[0;32m    176\u001b[0m       \u001b[38;5;124m\"\u001b[39m\u001b[38;5;124moptimizer\u001b[39m\u001b[38;5;124m\"\u001b[39m: optimizer\u001b[38;5;241m.\u001b[39mstate_dict(),\n\u001b[1;32m   (...)\u001b[0m\n\u001b[0;32m    183\u001b[0m \n\u001b[0;32m    184\u001b[0m     }\n\u001b[0;32m    185\u001b[0m     save_checkpoint(checkpoint, filename\u001b[38;5;241m=\u001b[39mLOAD_MODEL_FILE)\n\u001b[1;32m--> 189\u001b[0m mean_loss\u001b[38;5;241m=\u001b[39m\u001b[43mtrain_fn\u001b[49m\u001b[43m(\u001b[49m\u001b[43mtrain_loader\u001b[49m\u001b[43m,\u001b[49m\u001b[43m \u001b[49m\u001b[43mmodel\u001b[49m\u001b[43m,\u001b[49m\u001b[43m \u001b[49m\u001b[43moptimizer\u001b[49m\u001b[43m,\u001b[49m\u001b[43m \u001b[49m\u001b[43mloss_fn\u001b[49m\u001b[43m)\u001b[49m\n\u001b[0;32m    190\u001b[0m mean_loss_array\u001b[38;5;241m.\u001b[39mappend(mean_loss)\n\u001b[0;32m    191\u001b[0m \u001b[38;5;28mprint\u001b[39m(\u001b[38;5;124mf\u001b[39m\u001b[38;5;124m\"\u001b[39m\u001b[38;5;124mMean Loss Train Array: \u001b[39m\u001b[38;5;132;01m{\u001b[39;00mmean_loss_array[\u001b[38;5;241m-\u001b[39m\u001b[38;5;241m10\u001b[39m:]\u001b[38;5;132;01m}\u001b[39;00m\u001b[38;5;124m\"\u001b[39m)\n",
      "Cell \u001b[1;32mIn[29], line 56\u001b[0m, in \u001b[0;36mtrain_fn\u001b[1;34m(train_loader, model, optimizer, loss_fn)\u001b[0m\n\u001b[0;32m     54\u001b[0m mean_loss\u001b[38;5;241m.\u001b[39mappend(loss\u001b[38;5;241m.\u001b[39mitem())\n\u001b[0;32m     55\u001b[0m optimizer\u001b[38;5;241m.\u001b[39mzero_grad()\n\u001b[1;32m---> 56\u001b[0m \u001b[43mloss\u001b[49m\u001b[38;5;241;43m.\u001b[39;49m\u001b[43mbackward\u001b[49m\u001b[43m(\u001b[49m\u001b[43m)\u001b[49m\n\u001b[0;32m     57\u001b[0m optimizer\u001b[38;5;241m.\u001b[39mstep()\n\u001b[0;32m     58\u001b[0m \u001b[38;5;66;03m# update progress bar\u001b[39;00m\n",
      "File \u001b[1;32m~\\anaconda3\\lib\\site-packages\\torch\\_tensor.py:492\u001b[0m, in \u001b[0;36mTensor.backward\u001b[1;34m(self, gradient, retain_graph, create_graph, inputs)\u001b[0m\n\u001b[0;32m    482\u001b[0m \u001b[38;5;28;01mif\u001b[39;00m has_torch_function_unary(\u001b[38;5;28mself\u001b[39m):\n\u001b[0;32m    483\u001b[0m     \u001b[38;5;28;01mreturn\u001b[39;00m handle_torch_function(\n\u001b[0;32m    484\u001b[0m         Tensor\u001b[38;5;241m.\u001b[39mbackward,\n\u001b[0;32m    485\u001b[0m         (\u001b[38;5;28mself\u001b[39m,),\n\u001b[1;32m   (...)\u001b[0m\n\u001b[0;32m    490\u001b[0m         inputs\u001b[38;5;241m=\u001b[39minputs,\n\u001b[0;32m    491\u001b[0m     )\n\u001b[1;32m--> 492\u001b[0m \u001b[43mtorch\u001b[49m\u001b[38;5;241;43m.\u001b[39;49m\u001b[43mautograd\u001b[49m\u001b[38;5;241;43m.\u001b[39;49m\u001b[43mbackward\u001b[49m\u001b[43m(\u001b[49m\n\u001b[0;32m    493\u001b[0m \u001b[43m    \u001b[49m\u001b[38;5;28;43mself\u001b[39;49m\u001b[43m,\u001b[49m\u001b[43m \u001b[49m\u001b[43mgradient\u001b[49m\u001b[43m,\u001b[49m\u001b[43m \u001b[49m\u001b[43mretain_graph\u001b[49m\u001b[43m,\u001b[49m\u001b[43m \u001b[49m\u001b[43mcreate_graph\u001b[49m\u001b[43m,\u001b[49m\u001b[43m \u001b[49m\u001b[43minputs\u001b[49m\u001b[38;5;241;43m=\u001b[39;49m\u001b[43minputs\u001b[49m\n\u001b[0;32m    494\u001b[0m \u001b[43m\u001b[49m\u001b[43m)\u001b[49m\n",
      "File \u001b[1;32m~\\anaconda3\\lib\\site-packages\\torch\\autograd\\__init__.py:251\u001b[0m, in \u001b[0;36mbackward\u001b[1;34m(tensors, grad_tensors, retain_graph, create_graph, grad_variables, inputs)\u001b[0m\n\u001b[0;32m    246\u001b[0m     retain_graph \u001b[38;5;241m=\u001b[39m create_graph\n\u001b[0;32m    248\u001b[0m \u001b[38;5;66;03m# The reason we repeat the same comment below is that\u001b[39;00m\n\u001b[0;32m    249\u001b[0m \u001b[38;5;66;03m# some Python versions print out the first line of a multi-line function\u001b[39;00m\n\u001b[0;32m    250\u001b[0m \u001b[38;5;66;03m# calls in the traceback and some print out the last line\u001b[39;00m\n\u001b[1;32m--> 251\u001b[0m \u001b[43mVariable\u001b[49m\u001b[38;5;241;43m.\u001b[39;49m\u001b[43m_execution_engine\u001b[49m\u001b[38;5;241;43m.\u001b[39;49m\u001b[43mrun_backward\u001b[49m\u001b[43m(\u001b[49m\u001b[43m  \u001b[49m\u001b[38;5;66;43;03m# Calls into the C++ engine to run the backward pass\u001b[39;49;00m\n\u001b[0;32m    252\u001b[0m \u001b[43m    \u001b[49m\u001b[43mtensors\u001b[49m\u001b[43m,\u001b[49m\n\u001b[0;32m    253\u001b[0m \u001b[43m    \u001b[49m\u001b[43mgrad_tensors_\u001b[49m\u001b[43m,\u001b[49m\n\u001b[0;32m    254\u001b[0m \u001b[43m    \u001b[49m\u001b[43mretain_graph\u001b[49m\u001b[43m,\u001b[49m\n\u001b[0;32m    255\u001b[0m \u001b[43m    \u001b[49m\u001b[43mcreate_graph\u001b[49m\u001b[43m,\u001b[49m\n\u001b[0;32m    256\u001b[0m \u001b[43m    \u001b[49m\u001b[43minputs\u001b[49m\u001b[43m,\u001b[49m\n\u001b[0;32m    257\u001b[0m \u001b[43m    \u001b[49m\u001b[43mallow_unreachable\u001b[49m\u001b[38;5;241;43m=\u001b[39;49m\u001b[38;5;28;43;01mTrue\u001b[39;49;00m\u001b[43m,\u001b[49m\n\u001b[0;32m    258\u001b[0m \u001b[43m    \u001b[49m\u001b[43maccumulate_grad\u001b[49m\u001b[38;5;241;43m=\u001b[39;49m\u001b[38;5;28;43;01mTrue\u001b[39;49;00m\u001b[43m,\u001b[49m\n\u001b[0;32m    259\u001b[0m \u001b[43m\u001b[49m\u001b[43m)\u001b[49m\n",
      "\u001b[1;31mRuntimeError\u001b[0m: CUDA error: out of memory\nCUDA kernel errors might be asynchronously reported at some other API call, so the stacktrace below might be incorrect.\nFor debugging consider passing CUDA_LAUNCH_BLOCKING=1.\nCompile with `TORCH_USE_CUDA_DSA` to enable device-side assertions.\n"
     ]
    }
   ],
   "source": [
    "main()"
   ]
  },
  {
   "cell_type": "code",
   "execution_count": null,
   "metadata": {
    "id": "XDn3g0aDHUr5"
   },
   "outputs": [],
   "source": [
    "main()\n"
   ]
  },
  {
   "cell_type": "code",
   "execution_count": null,
   "metadata": {
    "id": "UTjerr1YpNvp"
   },
   "outputs": [],
   "source": [
    "model = select_model('yolov1')\n",
    "optimizer = optim.Adam( model.parameters(), lr=LEARNING_RATE, weight_decay=WEIGHT_DECAY )"
   ]
  },
  {
   "cell_type": "code",
   "execution_count": null,
   "metadata": {
    "colab": {
     "base_uri": "https://localhost:8080/",
     "height": 576
    },
    "id": "3Di42DZT_kLD",
    "outputId": "a0aea0cd-349d-4f92-f05d-805a1f660d2f"
   },
   "outputs": [
    {
     "name": "stdout",
     "output_type": "stream",
     "text": [
      "File: best_save_data_aug_0.4.pth.tar; Epochs: 176; Val mAP: 5.613347177505493\n",
      "File: best_save_data_aug_0.5.pth.tar; Epochs: 211; Val mAP: 3.9912515258789063\n",
      "File: save.pth.tar; Epochs: 40; Val mAP: 2.9903358173370362\n",
      "File: save_1.pth.tar; Epochs: 80; Val mAP: 1.7496969866752625\n",
      "File: save_data_aug_0.4.pth.tar; Epochs: 200; Val mAP: 5.384243698120117\n",
      "File: save_data_aug_0.5.pth.tar; Epochs: 241; Val mAP: 3.4321658277511595\n",
      "File: save_data_aug_0.6.pth.tar; Epochs: 191; Val mAP: 1.2751284456253051\n",
      "File: save_data_aug_0.6_1.pth.tar; Epochs: 121; Val mAP: 12.338545441627502\n"
     ]
    },
    {
     "data": {
      "image/png": "[encoded data removed]",
      "text/plain": [
       "<Figure size 640x480 with 1 Axes>"
      ]
     },
     "metadata": {},
     "output_type": "display_data"
    }
   ],
   "source": [
    "yolov1_dir=os.path.join(drive_dir,\"yolov1\")\n",
    "file_list=list(sorted(os.listdir(yolov1_dir)))\n",
    "legend=[]\n",
    "for file in file_list:\n",
    "  epoch=torch.load(os.path.join(yolov1_dir,file),map_location=torch.device('cpu'))[\"total_epoch\"]\n",
    "  val_map=torch.load(os.path.join(yolov1_dir,file),map_location=torch.device('cpu'))[\"mean_loss_array\"]\n",
    "  print(f\"File: {file}; Epochs: {epoch}; Val mAP: {min(val_map)}\")\n",
    "  plt.plot(val_map[10:])\n",
    "  legend.append(file)\n",
    "  plt.legend(legend)"
   ]
  },
  {
   "cell_type": "code",
   "execution_count": null,
   "metadata": {
    "colab": {
     "base_uri": "https://localhost:8080/",
     "height": 485
    },
    "id": "CGEFU7DQDth3",
    "outputId": "679cede4-f56f-45ba-a6af-a5ac2909b53e"
   },
   "outputs": [
    {
     "name": "stdout",
     "output_type": "stream",
     "text": [
      "save_1.pth.tar\n",
      "File: save_1.pth.tar; Epochs: 80; Val mAP: 0.06299204379320145\n"
     ]
    },
    {
     "data": {
      "text/plain": [
       "<matplotlib.legend.Legend at 0x784c9cdfbe20>"
      ]
     },
     "execution_count": 46,
     "metadata": {},
     "output_type": "execute_result"
    },
    {
     "data": {
      "image/png": "[encoded data removed]",
      "text/plain": [
       "<Figure size 640x480 with 1 Axes>"
      ]
     },
     "metadata": {},
     "output_type": "display_data"
    }
   ],
   "source": [
    "print(file_list[3])\n",
    "file=file_list[3]\n",
    "epoch=torch.load(os.path.join(yolov1_dir,file),map_location=torch.device('cpu'))[\"total_epoch\"]\n",
    "val_map=torch.load(os.path.join(yolov1_dir,file),map_location=torch.device('cpu'))[\"map_array_test\"]\n",
    "train_map=torch.load(os.path.join(yolov1_dir,file),map_location=torch.device('cpu'))[\"map_array_train\"]\n",
    "print(f\"File: {file}; Epochs: {epoch}; Val mAP: {max(val_map)}\")\n",
    "plt.plot(val_map)\n",
    "plt.plot(train_map)\n",
    "plt.legend([file])"
   ]
  },
  {
   "cell_type": "code",
   "execution_count": null,
   "metadata": {
    "colab": {
     "base_uri": "https://localhost:8080/",
     "height": 664
    },
    "id": "UGJf5TLIaZUl",
    "outputId": "1fc7e58f-5916-4890-80ac-39df6e050430"
   },
   "outputs": [
    {
     "name": "stderr",
     "output_type": "stream",
     "text": [
      "/usr/local/lib/python3.10/dist-packages/torchvision/transforms/v2/_deprecated.py:41: UserWarning: The transform `ToTensor()` is deprecated and will be removed in a future release. Instead, please use `transforms.Compose([transforms.ToImageTensor(), transforms.ConvertImageDtype()])`.\n",
      "  warnings.warn(\n"
     ]
    },
    {
     "name": "stdout",
     "output_type": "stream",
     "text": [
      "save_data_aug_0.5\n",
      "0\n",
      "img_dir_train: /content/drive/MyDrive/archive/data/yolov8/images/train img_dir_test: /content/drive/MyDrive/archive/data/yolov8/images/val\n",
      "epoch: 0 Test mAP: 0.0 Train mAP: 0.0\n",
      "Test mAP Array: [0.0]\n",
      "Train mAP Array: [0.0]\n",
      "=> Saving checkpoint\n"
     ]
    },
    {
     "name": "stderr",
     "output_type": "stream",
     "text": [
      "100%|██████████| 25/25 [06:56<00:00, 16.64s/it, loss=40.9]\n"
     ]
    },
    {
     "name": "stdout",
     "output_type": "stream",
     "text": [
      "Mean Loss Array: [110.00563720703126]\n"
     ]
    },
    {
     "name": "stderr",
     "output_type": "stream",
     "text": [
      "100%|██████████| 25/25 [06:43<00:00, 16.12s/it, loss=53.9]\n"
     ]
    },
    {
     "name": "stdout",
     "output_type": "stream",
     "text": [
      "Mean Loss Array: [110.00563720703126, 49.39847999572754]\n"
     ]
    },
    {
     "name": "stderr",
     "output_type": "stream",
     "text": [
      " 68%|██████▊   | 17/25 [04:56<02:19, 17.46s/it, loss=54.7]\n"
     ]
    },
    {
     "ename": "KeyboardInterrupt",
     "evalue": "ignored",
     "output_type": "error",
     "traceback": [
      "\u001b[0;31m---------------------------------------------------------------------------\u001b[0m",
      "\u001b[0;31mKeyboardInterrupt\u001b[0m                         Traceback (most recent call last)",
      "\u001b[0;32m<ipython-input-70-82ca292a5259>\u001b[0m in \u001b[0;36m<cell line: 4>\u001b[0;34m()\u001b[0m\n\u001b[1;32m      2\u001b[0m \u001b[0mMINIMUM_SCALE\u001b[0m\u001b[0;34m=\u001b[0m\u001b[0;36m0.5\u001b[0m\u001b[0;34m\u001b[0m\u001b[0;34m\u001b[0m\u001b[0m\n\u001b[1;32m      3\u001b[0m \u001b[0mLOAD_MODEL\u001b[0m \u001b[0;34m=\u001b[0m \u001b[0;32mFalse\u001b[0m\u001b[0;34m\u001b[0m\u001b[0;34m\u001b[0m\u001b[0m\n\u001b[0;32m----> 4\u001b[0;31m \u001b[0mmain\u001b[0m\u001b[0;34m(\u001b[0m\u001b[0;34m)\u001b[0m\u001b[0;34m\u001b[0m\u001b[0;34m\u001b[0m\u001b[0m\n\u001b[0m",
      "\u001b[0;32m<ipython-input-68-c12c58279b37>\u001b[0m in \u001b[0;36mmain\u001b[0;34m()\u001b[0m\n\u001b[1;32m    163\u001b[0m \u001b[0;34m\u001b[0m\u001b[0m\n\u001b[1;32m    164\u001b[0m \u001b[0;34m\u001b[0m\u001b[0m\n\u001b[0;32m--> 165\u001b[0;31m         \u001b[0mmean_loss\u001b[0m\u001b[0;34m=\u001b[0m\u001b[0mtrain_fn\u001b[0m\u001b[0;34m(\u001b[0m\u001b[0mtrain_loader\u001b[0m\u001b[0;34m,\u001b[0m \u001b[0mmodel\u001b[0m\u001b[0;34m,\u001b[0m \u001b[0moptimizer\u001b[0m\u001b[0;34m,\u001b[0m \u001b[0mloss_fn\u001b[0m\u001b[0;34m)\u001b[0m\u001b[0;34m\u001b[0m\u001b[0;34m\u001b[0m\u001b[0m\n\u001b[0m\u001b[1;32m    166\u001b[0m         \u001b[0mmean_loss_array\u001b[0m\u001b[0;34m.\u001b[0m\u001b[0mappend\u001b[0m\u001b[0;34m(\u001b[0m\u001b[0mmean_loss\u001b[0m\u001b[0;34m)\u001b[0m\u001b[0;34m\u001b[0m\u001b[0;34m\u001b[0m\u001b[0m\n\u001b[1;32m    167\u001b[0m         \u001b[0mprint\u001b[0m\u001b[0;34m(\u001b[0m\u001b[0;34mf\"Mean Loss Array: {mean_loss_array}\"\u001b[0m\u001b[0;34m)\u001b[0m\u001b[0;34m\u001b[0m\u001b[0;34m\u001b[0m\u001b[0m\n",
      "\u001b[0;32m<ipython-input-68-c12c58279b37>\u001b[0m in \u001b[0;36mtrain_fn\u001b[0;34m(train_loader, model, optimizer, loss_fn)\u001b[0m\n\u001b[1;32m     50\u001b[0m     \u001b[0;32mfor\u001b[0m \u001b[0mbatch_idx\u001b[0m\u001b[0;34m,\u001b[0m \u001b[0;34m(\u001b[0m\u001b[0mx\u001b[0m\u001b[0;34m,\u001b[0m \u001b[0my\u001b[0m\u001b[0;34m)\u001b[0m \u001b[0;32min\u001b[0m \u001b[0menumerate\u001b[0m\u001b[0;34m(\u001b[0m\u001b[0mloop\u001b[0m\u001b[0;34m)\u001b[0m\u001b[0;34m:\u001b[0m\u001b[0;34m\u001b[0m\u001b[0;34m\u001b[0m\u001b[0m\n\u001b[1;32m     51\u001b[0m         \u001b[0mx\u001b[0m\u001b[0;34m,\u001b[0m \u001b[0my\u001b[0m \u001b[0;34m=\u001b[0m \u001b[0mx\u001b[0m\u001b[0;34m.\u001b[0m\u001b[0mto\u001b[0m\u001b[0;34m(\u001b[0m\u001b[0mDEVICE\u001b[0m\u001b[0;34m)\u001b[0m\u001b[0;34m,\u001b[0m \u001b[0my\u001b[0m\u001b[0;34m.\u001b[0m\u001b[0mto\u001b[0m\u001b[0;34m(\u001b[0m\u001b[0mDEVICE\u001b[0m\u001b[0;34m)\u001b[0m\u001b[0;34m\u001b[0m\u001b[0;34m\u001b[0m\u001b[0m\n\u001b[0;32m---> 52\u001b[0;31m         \u001b[0mout\u001b[0m \u001b[0;34m=\u001b[0m \u001b[0mmodel\u001b[0m\u001b[0;34m(\u001b[0m\u001b[0mx\u001b[0m\u001b[0;34m)\u001b[0m\u001b[0;34m\u001b[0m\u001b[0;34m\u001b[0m\u001b[0m\n\u001b[0m\u001b[1;32m     53\u001b[0m         \u001b[0mloss\u001b[0m \u001b[0;34m=\u001b[0m \u001b[0mloss_fn\u001b[0m\u001b[0;34m(\u001b[0m\u001b[0mout\u001b[0m\u001b[0;34m,\u001b[0m \u001b[0my\u001b[0m\u001b[0;34m)\u001b[0m\u001b[0;34m\u001b[0m\u001b[0;34m\u001b[0m\u001b[0m\n\u001b[1;32m     54\u001b[0m         \u001b[0mmean_loss\u001b[0m\u001b[0;34m.\u001b[0m\u001b[0mappend\u001b[0m\u001b[0;34m(\u001b[0m\u001b[0mloss\u001b[0m\u001b[0;34m.\u001b[0m\u001b[0mitem\u001b[0m\u001b[0;34m(\u001b[0m\u001b[0;34m)\u001b[0m\u001b[0;34m)\u001b[0m\u001b[0;34m\u001b[0m\u001b[0;34m\u001b[0m\u001b[0m\n",
      "\u001b[0;32m/usr/local/lib/python3.10/dist-packages/torch/nn/modules/module.py\u001b[0m in \u001b[0;36m_call_impl\u001b[0;34m(self, *args, **kwargs)\u001b[0m\n\u001b[1;32m   1499\u001b[0m                 \u001b[0;32mor\u001b[0m \u001b[0m_global_backward_pre_hooks\u001b[0m \u001b[0;32mor\u001b[0m \u001b[0m_global_backward_hooks\u001b[0m\u001b[0;34m\u001b[0m\u001b[0;34m\u001b[0m\u001b[0m\n\u001b[1;32m   1500\u001b[0m                 or _global_forward_hooks or _global_forward_pre_hooks):\n\u001b[0;32m-> 1501\u001b[0;31m             \u001b[0;32mreturn\u001b[0m \u001b[0mforward_call\u001b[0m\u001b[0;34m(\u001b[0m\u001b[0;34m*\u001b[0m\u001b[0margs\u001b[0m\u001b[0;34m,\u001b[0m \u001b[0;34m**\u001b[0m\u001b[0mkwargs\u001b[0m\u001b[0;34m)\u001b[0m\u001b[0;34m\u001b[0m\u001b[0;34m\u001b[0m\u001b[0m\n\u001b[0m\u001b[1;32m   1502\u001b[0m         \u001b[0;31m# Do not call functions when jit is used\u001b[0m\u001b[0;34m\u001b[0m\u001b[0;34m\u001b[0m\u001b[0m\n\u001b[1;32m   1503\u001b[0m         \u001b[0mfull_backward_hooks\u001b[0m\u001b[0;34m,\u001b[0m \u001b[0mnon_full_backward_hooks\u001b[0m \u001b[0;34m=\u001b[0m \u001b[0;34m[\u001b[0m\u001b[0;34m]\u001b[0m\u001b[0;34m,\u001b[0m \u001b[0;34m[\u001b[0m\u001b[0;34m]\u001b[0m\u001b[0;34m\u001b[0m\u001b[0;34m\u001b[0m\u001b[0m\n",
      "\u001b[0;32m<ipython-input-61-952d99560361>\u001b[0m in \u001b[0;36mforward\u001b[0;34m(self, x)\u001b[0m\n\u001b[1;32m     36\u001b[0m \u001b[0;34m\u001b[0m\u001b[0m\n\u001b[1;32m     37\u001b[0m     \u001b[0;32mdef\u001b[0m \u001b[0mforward\u001b[0m\u001b[0;34m(\u001b[0m\u001b[0mself\u001b[0m\u001b[0;34m,\u001b[0m \u001b[0mx\u001b[0m\u001b[0;34m)\u001b[0m\u001b[0;34m:\u001b[0m\u001b[0;34m\u001b[0m\u001b[0;34m\u001b[0m\u001b[0m\n\u001b[0;32m---> 38\u001b[0;31m         \u001b[0mx\u001b[0m \u001b[0;34m=\u001b[0m \u001b[0mself\u001b[0m\u001b[0;34m.\u001b[0m\u001b[0mdarknet\u001b[0m\u001b[0;34m(\u001b[0m\u001b[0mx\u001b[0m\u001b[0;34m)\u001b[0m\u001b[0;34m\u001b[0m\u001b[0;34m\u001b[0m\u001b[0m\n\u001b[0m\u001b[1;32m     39\u001b[0m         \u001b[0;31m# print(f'output shape: {x.shape}')\u001b[0m\u001b[0;34m\u001b[0m\u001b[0;34m\u001b[0m\u001b[0m\n\u001b[1;32m     40\u001b[0m         \u001b[0;32mreturn\u001b[0m \u001b[0mself\u001b[0m\u001b[0;34m.\u001b[0m\u001b[0mfcs\u001b[0m\u001b[0;34m(\u001b[0m\u001b[0mtorch\u001b[0m\u001b[0;34m.\u001b[0m\u001b[0mflatten\u001b[0m\u001b[0;34m(\u001b[0m\u001b[0mx\u001b[0m\u001b[0;34m,\u001b[0m \u001b[0mstart_dim\u001b[0m\u001b[0;34m=\u001b[0m\u001b[0;36m1\u001b[0m\u001b[0;34m)\u001b[0m\u001b[0;34m)\u001b[0m\u001b[0;34m\u001b[0m\u001b[0;34m\u001b[0m\u001b[0m\n",
      "\u001b[0;32m/usr/local/lib/python3.10/dist-packages/torch/nn/modules/module.py\u001b[0m in \u001b[0;36m_call_impl\u001b[0;34m(self, *args, **kwargs)\u001b[0m\n\u001b[1;32m   1499\u001b[0m                 \u001b[0;32mor\u001b[0m \u001b[0m_global_backward_pre_hooks\u001b[0m \u001b[0;32mor\u001b[0m \u001b[0m_global_backward_hooks\u001b[0m\u001b[0;34m\u001b[0m\u001b[0;34m\u001b[0m\u001b[0m\n\u001b[1;32m   1500\u001b[0m                 or _global_forward_hooks or _global_forward_pre_hooks):\n\u001b[0;32m-> 1501\u001b[0;31m             \u001b[0;32mreturn\u001b[0m \u001b[0mforward_call\u001b[0m\u001b[0;34m(\u001b[0m\u001b[0;34m*\u001b[0m\u001b[0margs\u001b[0m\u001b[0;34m,\u001b[0m \u001b[0;34m**\u001b[0m\u001b[0mkwargs\u001b[0m\u001b[0;34m)\u001b[0m\u001b[0;34m\u001b[0m\u001b[0;34m\u001b[0m\u001b[0m\n\u001b[0m\u001b[1;32m   1502\u001b[0m         \u001b[0;31m# Do not call functions when jit is used\u001b[0m\u001b[0;34m\u001b[0m\u001b[0;34m\u001b[0m\u001b[0m\n\u001b[1;32m   1503\u001b[0m         \u001b[0mfull_backward_hooks\u001b[0m\u001b[0;34m,\u001b[0m \u001b[0mnon_full_backward_hooks\u001b[0m \u001b[0;34m=\u001b[0m \u001b[0;34m[\u001b[0m\u001b[0;34m]\u001b[0m\u001b[0;34m,\u001b[0m \u001b[0;34m[\u001b[0m\u001b[0;34m]\u001b[0m\u001b[0;34m\u001b[0m\u001b[0;34m\u001b[0m\u001b[0m\n",
      "\u001b[0;32m/usr/local/lib/python3.10/dist-packages/torch/nn/modules/container.py\u001b[0m in \u001b[0;36mforward\u001b[0;34m(self, input)\u001b[0m\n\u001b[1;32m    215\u001b[0m     \u001b[0;32mdef\u001b[0m \u001b[0mforward\u001b[0m\u001b[0;34m(\u001b[0m\u001b[0mself\u001b[0m\u001b[0;34m,\u001b[0m \u001b[0minput\u001b[0m\u001b[0;34m)\u001b[0m\u001b[0;34m:\u001b[0m\u001b[0;34m\u001b[0m\u001b[0;34m\u001b[0m\u001b[0m\n\u001b[1;32m    216\u001b[0m         \u001b[0;32mfor\u001b[0m \u001b[0mmodule\u001b[0m \u001b[0;32min\u001b[0m \u001b[0mself\u001b[0m\u001b[0;34m:\u001b[0m\u001b[0;34m\u001b[0m\u001b[0;34m\u001b[0m\u001b[0m\n\u001b[0;32m--> 217\u001b[0;31m             \u001b[0minput\u001b[0m \u001b[0;34m=\u001b[0m \u001b[0mmodule\u001b[0m\u001b[0;34m(\u001b[0m\u001b[0minput\u001b[0m\u001b[0;34m)\u001b[0m\u001b[0;34m\u001b[0m\u001b[0;34m\u001b[0m\u001b[0m\n\u001b[0m\u001b[1;32m    218\u001b[0m         \u001b[0;32mreturn\u001b[0m \u001b[0minput\u001b[0m\u001b[0;34m\u001b[0m\u001b[0;34m\u001b[0m\u001b[0m\n\u001b[1;32m    219\u001b[0m \u001b[0;34m\u001b[0m\u001b[0m\n",
      "\u001b[0;32m/usr/local/lib/python3.10/dist-packages/torch/nn/modules/module.py\u001b[0m in \u001b[0;36m_call_impl\u001b[0;34m(self, *args, **kwargs)\u001b[0m\n\u001b[1;32m   1499\u001b[0m                 \u001b[0;32mor\u001b[0m \u001b[0m_global_backward_pre_hooks\u001b[0m \u001b[0;32mor\u001b[0m \u001b[0m_global_backward_hooks\u001b[0m\u001b[0;34m\u001b[0m\u001b[0;34m\u001b[0m\u001b[0m\n\u001b[1;32m   1500\u001b[0m                 or _global_forward_hooks or _global_forward_pre_hooks):\n\u001b[0;32m-> 1501\u001b[0;31m             \u001b[0;32mreturn\u001b[0m \u001b[0mforward_call\u001b[0m\u001b[0;34m(\u001b[0m\u001b[0;34m*\u001b[0m\u001b[0margs\u001b[0m\u001b[0;34m,\u001b[0m \u001b[0;34m**\u001b[0m\u001b[0mkwargs\u001b[0m\u001b[0;34m)\u001b[0m\u001b[0;34m\u001b[0m\u001b[0;34m\u001b[0m\u001b[0m\n\u001b[0m\u001b[1;32m   1502\u001b[0m         \u001b[0;31m# Do not call functions when jit is used\u001b[0m\u001b[0;34m\u001b[0m\u001b[0;34m\u001b[0m\u001b[0m\n\u001b[1;32m   1503\u001b[0m         \u001b[0mfull_backward_hooks\u001b[0m\u001b[0;34m,\u001b[0m \u001b[0mnon_full_backward_hooks\u001b[0m \u001b[0;34m=\u001b[0m \u001b[0;34m[\u001b[0m\u001b[0;34m]\u001b[0m\u001b[0;34m,\u001b[0m \u001b[0;34m[\u001b[0m\u001b[0;34m]\u001b[0m\u001b[0;34m\u001b[0m\u001b[0;34m\u001b[0m\u001b[0m\n",
      "\u001b[0;32m<ipython-input-61-952d99560361>\u001b[0m in \u001b[0;36mforward\u001b[0;34m(self, x)\u001b[0m\n\u001b[1;32m     24\u001b[0m         \u001b[0mself\u001b[0m\u001b[0;34m.\u001b[0m\u001b[0mleakyrelu\u001b[0m \u001b[0;34m=\u001b[0m \u001b[0mnn\u001b[0m\u001b[0;34m.\u001b[0m\u001b[0mLeakyReLU\u001b[0m\u001b[0;34m(\u001b[0m\u001b[0;36m0.1\u001b[0m\u001b[0;34m)\u001b[0m\u001b[0;34m\u001b[0m\u001b[0;34m\u001b[0m\u001b[0m\n\u001b[1;32m     25\u001b[0m \u001b[0;34m\u001b[0m\u001b[0m\n\u001b[0;32m---> 26\u001b[0;31m     \u001b[0;32mdef\u001b[0m \u001b[0mforward\u001b[0m\u001b[0;34m(\u001b[0m\u001b[0mself\u001b[0m\u001b[0;34m,\u001b[0m \u001b[0mx\u001b[0m\u001b[0;34m)\u001b[0m\u001b[0;34m:\u001b[0m \u001b[0;32mreturn\u001b[0m \u001b[0mself\u001b[0m\u001b[0;34m.\u001b[0m\u001b[0mleakyrelu\u001b[0m\u001b[0;34m(\u001b[0m\u001b[0mself\u001b[0m\u001b[0;34m.\u001b[0m\u001b[0mbatchnorm\u001b[0m\u001b[0;34m(\u001b[0m\u001b[0mself\u001b[0m\u001b[0;34m.\u001b[0m\u001b[0mconv\u001b[0m\u001b[0;34m(\u001b[0m\u001b[0mx\u001b[0m\u001b[0;34m)\u001b[0m\u001b[0;34m)\u001b[0m\u001b[0;34m)\u001b[0m\u001b[0;34m\u001b[0m\u001b[0;34m\u001b[0m\u001b[0m\n\u001b[0m\u001b[1;32m     27\u001b[0m \u001b[0;34m\u001b[0m\u001b[0m\n\u001b[1;32m     28\u001b[0m \u001b[0;32mclass\u001b[0m \u001b[0mYolov2Tiny\u001b[0m\u001b[0;34m(\u001b[0m\u001b[0mnn\u001b[0m\u001b[0;34m.\u001b[0m\u001b[0mModule\u001b[0m\u001b[0;34m)\u001b[0m\u001b[0;34m:\u001b[0m\u001b[0;34m\u001b[0m\u001b[0;34m\u001b[0m\u001b[0m\n",
      "\u001b[0;32m/usr/local/lib/python3.10/dist-packages/torch/nn/modules/module.py\u001b[0m in \u001b[0;36m_call_impl\u001b[0;34m(self, *args, **kwargs)\u001b[0m\n\u001b[1;32m   1499\u001b[0m                 \u001b[0;32mor\u001b[0m \u001b[0m_global_backward_pre_hooks\u001b[0m \u001b[0;32mor\u001b[0m \u001b[0m_global_backward_hooks\u001b[0m\u001b[0;34m\u001b[0m\u001b[0;34m\u001b[0m\u001b[0m\n\u001b[1;32m   1500\u001b[0m                 or _global_forward_hooks or _global_forward_pre_hooks):\n\u001b[0;32m-> 1501\u001b[0;31m             \u001b[0;32mreturn\u001b[0m \u001b[0mforward_call\u001b[0m\u001b[0;34m(\u001b[0m\u001b[0;34m*\u001b[0m\u001b[0margs\u001b[0m\u001b[0;34m,\u001b[0m \u001b[0;34m**\u001b[0m\u001b[0mkwargs\u001b[0m\u001b[0;34m)\u001b[0m\u001b[0;34m\u001b[0m\u001b[0;34m\u001b[0m\u001b[0m\n\u001b[0m\u001b[1;32m   1502\u001b[0m         \u001b[0;31m# Do not call functions when jit is used\u001b[0m\u001b[0;34m\u001b[0m\u001b[0;34m\u001b[0m\u001b[0m\n\u001b[1;32m   1503\u001b[0m         \u001b[0mfull_backward_hooks\u001b[0m\u001b[0;34m,\u001b[0m \u001b[0mnon_full_backward_hooks\u001b[0m \u001b[0;34m=\u001b[0m \u001b[0;34m[\u001b[0m\u001b[0;34m]\u001b[0m\u001b[0;34m,\u001b[0m \u001b[0;34m[\u001b[0m\u001b[0;34m]\u001b[0m\u001b[0;34m\u001b[0m\u001b[0;34m\u001b[0m\u001b[0m\n",
      "\u001b[0;32m/usr/local/lib/python3.10/dist-packages/torch/nn/modules/activation.py\u001b[0m in \u001b[0;36mforward\u001b[0;34m(self, input)\u001b[0m\n\u001b[1;32m    775\u001b[0m \u001b[0;34m\u001b[0m\u001b[0m\n\u001b[1;32m    776\u001b[0m     \u001b[0;32mdef\u001b[0m \u001b[0mforward\u001b[0m\u001b[0;34m(\u001b[0m\u001b[0mself\u001b[0m\u001b[0;34m,\u001b[0m \u001b[0minput\u001b[0m\u001b[0;34m:\u001b[0m \u001b[0mTensor\u001b[0m\u001b[0;34m)\u001b[0m \u001b[0;34m->\u001b[0m \u001b[0mTensor\u001b[0m\u001b[0;34m:\u001b[0m\u001b[0;34m\u001b[0m\u001b[0;34m\u001b[0m\u001b[0m\n\u001b[0;32m--> 777\u001b[0;31m         \u001b[0;32mreturn\u001b[0m \u001b[0mF\u001b[0m\u001b[0;34m.\u001b[0m\u001b[0mleaky_relu\u001b[0m\u001b[0;34m(\u001b[0m\u001b[0minput\u001b[0m\u001b[0;34m,\u001b[0m \u001b[0mself\u001b[0m\u001b[0;34m.\u001b[0m\u001b[0mnegative_slope\u001b[0m\u001b[0;34m,\u001b[0m \u001b[0mself\u001b[0m\u001b[0;34m.\u001b[0m\u001b[0minplace\u001b[0m\u001b[0;34m)\u001b[0m\u001b[0;34m\u001b[0m\u001b[0;34m\u001b[0m\u001b[0m\n\u001b[0m\u001b[1;32m    778\u001b[0m \u001b[0;34m\u001b[0m\u001b[0m\n\u001b[1;32m    779\u001b[0m     \u001b[0;32mdef\u001b[0m \u001b[0mextra_repr\u001b[0m\u001b[0;34m(\u001b[0m\u001b[0mself\u001b[0m\u001b[0;34m)\u001b[0m \u001b[0;34m->\u001b[0m \u001b[0mstr\u001b[0m\u001b[0;34m:\u001b[0m\u001b[0;34m\u001b[0m\u001b[0;34m\u001b[0m\u001b[0m\n",
      "\u001b[0;32m/usr/local/lib/python3.10/dist-packages/torch/nn/functional.py\u001b[0m in \u001b[0;36mleaky_relu\u001b[0;34m(input, negative_slope, inplace)\u001b[0m\n\u001b[1;32m   1630\u001b[0m         \u001b[0mresult\u001b[0m \u001b[0;34m=\u001b[0m \u001b[0mtorch\u001b[0m\u001b[0;34m.\u001b[0m\u001b[0m_C\u001b[0m\u001b[0;34m.\u001b[0m\u001b[0m_nn\u001b[0m\u001b[0;34m.\u001b[0m\u001b[0mleaky_relu_\u001b[0m\u001b[0;34m(\u001b[0m\u001b[0minput\u001b[0m\u001b[0;34m,\u001b[0m \u001b[0mnegative_slope\u001b[0m\u001b[0;34m)\u001b[0m\u001b[0;34m\u001b[0m\u001b[0;34m\u001b[0m\u001b[0m\n\u001b[1;32m   1631\u001b[0m     \u001b[0;32melse\u001b[0m\u001b[0;34m:\u001b[0m\u001b[0;34m\u001b[0m\u001b[0;34m\u001b[0m\u001b[0m\n\u001b[0;32m-> 1632\u001b[0;31m         \u001b[0mresult\u001b[0m \u001b[0;34m=\u001b[0m \u001b[0mtorch\u001b[0m\u001b[0;34m.\u001b[0m\u001b[0m_C\u001b[0m\u001b[0;34m.\u001b[0m\u001b[0m_nn\u001b[0m\u001b[0;34m.\u001b[0m\u001b[0mleaky_relu\u001b[0m\u001b[0;34m(\u001b[0m\u001b[0minput\u001b[0m\u001b[0;34m,\u001b[0m \u001b[0mnegative_slope\u001b[0m\u001b[0;34m)\u001b[0m\u001b[0;34m\u001b[0m\u001b[0;34m\u001b[0m\u001b[0m\n\u001b[0m\u001b[1;32m   1633\u001b[0m     \u001b[0;32mreturn\u001b[0m \u001b[0mresult\u001b[0m\u001b[0;34m\u001b[0m\u001b[0;34m\u001b[0m\u001b[0m\n\u001b[1;32m   1634\u001b[0m \u001b[0;34m\u001b[0m\u001b[0m\n",
      "\u001b[0;31mKeyboardInterrupt\u001b[0m: "
     ]
    }
   ],
   "source": [
    "EPOCHS = 50\n",
    "MINIMUM_SCALE=0.5\n",
    "LOAD_MODEL = False\n",
    "main()"
   ]
  },
  {
   "cell_type": "code",
   "execution_count": null,
   "metadata": {
    "colab": {
     "base_uri": "https://localhost:8080/"
    },
    "id": "ZnDz64LDf_XV",
    "outputId": "73bd956f-b609-49c9-e783-67ff770fb25b"
   },
   "outputs": [
    {
     "name": "stdout",
     "output_type": "stream",
     "text": [
      "save_data_aug_0.6\n",
      "0\n",
      "img_dir_train: /content/drive/MyDrive/archive/data/yolov8/images/train img_dir_test: /content/drive/MyDrive/archive/data/yolov8/images/val\n",
      "epoch: 0 Test mAP: 0.0 Train mAP: 0.0\n",
      "Test mAP Array: [0.0]\n",
      "Train mAP Array: [0.0]\n",
      "=> Saving checkpoint\n"
     ]
    },
    {
     "name": "stderr",
     "output_type": "stream",
     "text": [
      "100%|██████████| 25/25 [00:11<00:00,  2.26it/s, loss=56.6]\n"
     ]
    },
    {
     "name": "stdout",
     "output_type": "stream",
     "text": [
      "Mean Loss Array: [109.72338996887207]\n"
     ]
    },
    {
     "name": "stderr",
     "output_type": "stream",
     "text": [
      "100%|██████████| 25/25 [00:11<00:00,  2.15it/s, loss=84.1]\n"
     ]
    },
    {
     "name": "stdout",
     "output_type": "stream",
     "text": [
      "Mean Loss Array: [109.72338996887207, 44.82798828125]\n"
     ]
    },
    {
     "name": "stderr",
     "output_type": "stream",
     "text": [
      "100%|██████████| 25/25 [00:10<00:00,  2.27it/s, loss=41.2]\n"
     ]
    },
    {
     "name": "stdout",
     "output_type": "stream",
     "text": [
      "Mean Loss Array: [109.72338996887207, 44.82798828125, 32.273617362976076]\n"
     ]
    },
    {
     "name": "stderr",
     "output_type": "stream",
     "text": [
      "100%|██████████| 25/25 [00:11<00:00,  2.11it/s, loss=19.7]\n"
     ]
    },
    {
     "name": "stdout",
     "output_type": "stream",
     "text": [
      "Mean Loss Array: [109.72338996887207, 44.82798828125, 32.273617362976076, 26.064711532592774]\n"
     ]
    },
    {
     "name": "stderr",
     "output_type": "stream",
     "text": [
      "100%|██████████| 25/25 [00:11<00:00,  2.16it/s, loss=12]"
     ]
    },
    {
     "name": "stdout",
     "output_type": "stream",
     "text": [
      "Mean Loss Array: [109.72338996887207, 44.82798828125, 32.273617362976076, 26.064711532592774, 21.157442321777342]\n"
     ]
    },
    {
     "name": "stderr",
     "output_type": "stream",
     "text": [
      "\n"
     ]
    },
    {
     "name": "stdout",
     "output_type": "stream",
     "text": [
      "epoch: 5 Test mAP: 0.0 Train mAP: 0.0747547596693039\n",
      "Test mAP Array: [0.0, 0.0]\n",
      "Train mAP Array: [0.0, 0.0747547596693039]\n",
      "=> Saving checkpoint\n"
     ]
    },
    {
     "name": "stderr",
     "output_type": "stream",
     "text": [
      "100%|██████████| 25/25 [00:10<00:00,  2.32it/s, loss=19.1]\n"
     ]
    },
    {
     "name": "stdout",
     "output_type": "stream",
     "text": [
      "Mean Loss Array: [109.72338996887207, 44.82798828125, 32.273617362976076, 26.064711532592774, 21.157442321777342, 19.115713691711427]\n"
     ]
    },
    {
     "name": "stderr",
     "output_type": "stream",
     "text": [
      "100%|██████████| 25/25 [00:11<00:00,  2.14it/s, loss=19.3]\n"
     ]
    },
    {
     "name": "stdout",
     "output_type": "stream",
     "text": [
      "Mean Loss Array: [109.72338996887207, 44.82798828125, 32.273617362976076, 26.064711532592774, 21.157442321777342, 19.115713691711427, 16.144016456604003]\n"
     ]
    },
    {
     "name": "stderr",
     "output_type": "stream",
     "text": [
      "100%|██████████| 25/25 [00:11<00:00,  2.17it/s, loss=15]\n"
     ]
    },
    {
     "name": "stdout",
     "output_type": "stream",
     "text": [
      "Mean Loss Array: [109.72338996887207, 44.82798828125, 32.273617362976076, 26.064711532592774, 21.157442321777342, 19.115713691711427, 16.144016456604003, 14.384355735778808]\n"
     ]
    },
    {
     "name": "stderr",
     "output_type": "stream",
     "text": [
      "100%|██████████| 25/25 [00:11<00:00,  2.15it/s, loss=12.2]\n"
     ]
    },
    {
     "name": "stdout",
     "output_type": "stream",
     "text": [
      "Mean Loss Array: [109.72338996887207, 44.82798828125, 32.273617362976076, 26.064711532592774, 21.157442321777342, 19.115713691711427, 16.144016456604003, 14.384355735778808, 13.049383049011231]\n"
     ]
    },
    {
     "name": "stderr",
     "output_type": "stream",
     "text": [
      "100%|██████████| 25/25 [00:11<00:00,  2.13it/s, loss=12.3]"
     ]
    },
    {
     "name": "stdout",
     "output_type": "stream",
     "text": [
      "Mean Loss Array: [109.72338996887207, 44.82798828125, 32.273617362976076, 26.064711532592774, 21.157442321777342, 19.115713691711427, 16.144016456604003, 14.384355735778808, 13.049383049011231, 12.153732318878173]\n"
     ]
    },
    {
     "name": "stderr",
     "output_type": "stream",
     "text": [
      "\n"
     ]
    },
    {
     "name": "stdout",
     "output_type": "stream",
     "text": [
      "epoch: 10 Test mAP: 0.02127656154334545 Train mAP: 0.5053293108940125\n",
      "Test mAP Array: [0.0, 0.0, 0.02127656154334545]\n",
      "Train mAP Array: [0.0, 0.0747547596693039, 0.5053293108940125]\n",
      "=> Saving checkpoint\n"
     ]
    },
    {
     "name": "stderr",
     "output_type": "stream",
     "text": [
      "100%|██████████| 25/25 [00:12<00:00,  2.04it/s, loss=10.4]\n"
     ]
    },
    {
     "name": "stdout",
     "output_type": "stream",
     "text": [
      "Mean Loss Array: [109.72338996887207, 44.82798828125, 32.273617362976076, 26.064711532592774, 21.157442321777342, 19.115713691711427, 16.144016456604003, 14.384355735778808, 13.049383049011231, 12.153732318878173, 11.268043804168702]\n"
     ]
    },
    {
     "name": "stderr",
     "output_type": "stream",
     "text": [
      "100%|██████████| 25/25 [00:11<00:00,  2.26it/s, loss=10.5]\n"
     ]
    },
    {
     "name": "stdout",
     "output_type": "stream",
     "text": [
      "Mean Loss Array: [109.72338996887207, 44.82798828125, 32.273617362976076, 26.064711532592774, 21.157442321777342, 19.115713691711427, 16.144016456604003, 14.384355735778808, 13.049383049011231, 12.153732318878173, 11.268043804168702, 10.582560024261475]\n"
     ]
    },
    {
     "name": "stderr",
     "output_type": "stream",
     "text": [
      "100%|██████████| 25/25 [00:10<00:00,  2.33it/s, loss=10.5]\n"
     ]
    },
    {
     "name": "stdout",
     "output_type": "stream",
     "text": [
      "Mean Loss Array: [109.72338996887207, 44.82798828125, 32.273617362976076, 26.064711532592774, 21.157442321777342, 19.115713691711427, 16.144016456604003, 14.384355735778808, 13.049383049011231, 12.153732318878173, 11.268043804168702, 10.582560024261475, 9.440228748321534]\n"
     ]
    },
    {
     "name": "stderr",
     "output_type": "stream",
     "text": [
      "100%|██████████| 25/25 [00:11<00:00,  2.18it/s, loss=7.33]\n"
     ]
    },
    {
     "name": "stdout",
     "output_type": "stream",
     "text": [
      "Mean Loss Array: [109.72338996887207, 44.82798828125, 32.273617362976076, 26.064711532592774, 21.157442321777342, 19.115713691711427, 16.144016456604003, 14.384355735778808, 13.049383049011231, 12.153732318878173, 11.268043804168702, 10.582560024261475, 9.440228748321534, 9.014247779846192]\n"
     ]
    },
    {
     "name": "stderr",
     "output_type": "stream",
     "text": [
      "100%|██████████| 25/25 [00:11<00:00,  2.09it/s, loss=10.2]"
     ]
    },
    {
     "name": "stdout",
     "output_type": "stream",
     "text": [
      "Mean Loss Array: [109.72338996887207, 44.82798828125, 32.273617362976076, 26.064711532592774, 21.157442321777342, 19.115713691711427, 16.144016456604003, 14.384355735778808, 13.049383049011231, 12.153732318878173, 11.268043804168702, 10.582560024261475, 9.440228748321534, 9.014247779846192, 8.482091827392578]\n"
     ]
    },
    {
     "name": "stderr",
     "output_type": "stream",
     "text": [
      "\n"
     ]
    },
    {
     "name": "stdout",
     "output_type": "stream",
     "text": [
      "epoch: 15 Test mAP: 0.010204067453742027 Train mAP: 0.7937700748443604\n",
      "Test mAP Array: [0.0, 0.0, 0.02127656154334545, 0.010204067453742027]\n",
      "Train mAP Array: [0.0, 0.0747547596693039, 0.5053293108940125, 0.7937700748443604]\n",
      "=> Saving checkpoint\n"
     ]
    },
    {
     "name": "stderr",
     "output_type": "stream",
     "text": [
      "100%|██████████| 25/25 [00:11<00:00,  2.12it/s, loss=6.24]\n"
     ]
    },
    {
     "name": "stdout",
     "output_type": "stream",
     "text": [
      "Mean Loss Array: [109.72338996887207, 44.82798828125, 32.273617362976076, 26.064711532592774, 21.157442321777342, 19.115713691711427, 16.144016456604003, 14.384355735778808, 13.049383049011231, 12.153732318878173, 11.268043804168702, 10.582560024261475, 9.440228748321534, 9.014247779846192, 8.482091827392578, 8.003567943572998]\n"
     ]
    },
    {
     "name": "stderr",
     "output_type": "stream",
     "text": [
      "100%|██████████| 25/25 [00:12<00:00,  2.03it/s, loss=9.35]\n"
     ]
    },
    {
     "name": "stdout",
     "output_type": "stream",
     "text": [
      "Mean Loss Array: [109.72338996887207, 44.82798828125, 32.273617362976076, 26.064711532592774, 21.157442321777342, 19.115713691711427, 16.144016456604003, 14.384355735778808, 13.049383049011231, 12.153732318878173, 11.268043804168702, 10.582560024261475, 9.440228748321534, 9.014247779846192, 8.482091827392578, 8.003567943572998, 7.432519369125366]\n"
     ]
    },
    {
     "name": "stderr",
     "output_type": "stream",
     "text": [
      "100%|██████████| 25/25 [00:09<00:00,  2.54it/s, loss=9.68]\n"
     ]
    },
    {
     "name": "stdout",
     "output_type": "stream",
     "text": [
      "Mean Loss Array: [109.72338996887207, 44.82798828125, 32.273617362976076, 26.064711532592774, 21.157442321777342, 19.115713691711427, 16.144016456604003, 14.384355735778808, 13.049383049011231, 12.153732318878173, 11.268043804168702, 10.582560024261475, 9.440228748321534, 9.014247779846192, 8.482091827392578, 8.003567943572998, 7.432519369125366, 7.155730819702148]\n"
     ]
    },
    {
     "name": "stderr",
     "output_type": "stream",
     "text": [
      "100%|██████████| 25/25 [00:11<00:00,  2.09it/s, loss=6.98]\n"
     ]
    },
    {
     "name": "stdout",
     "output_type": "stream",
     "text": [
      "Mean Loss Array: [109.72338996887207, 44.82798828125, 32.273617362976076, 26.064711532592774, 21.157442321777342, 19.115713691711427, 16.144016456604003, 14.384355735778808, 13.049383049011231, 12.153732318878173, 11.268043804168702, 10.582560024261475, 9.440228748321534, 9.014247779846192, 8.482091827392578, 8.003567943572998, 7.432519369125366, 7.155730819702148, 6.746190195083618]\n"
     ]
    },
    {
     "name": "stderr",
     "output_type": "stream",
     "text": [
      "100%|██████████| 25/25 [00:12<00:00,  1.98it/s, loss=6.67]"
     ]
    },
    {
     "name": "stdout",
     "output_type": "stream",
     "text": [
      "Mean Loss Array: [109.72338996887207, 44.82798828125, 32.273617362976076, 26.064711532592774, 21.157442321777342, 19.115713691711427, 16.144016456604003, 14.384355735778808, 13.049383049011231, 12.153732318878173, 11.268043804168702, 10.582560024261475, 9.440228748321534, 9.014247779846192, 8.482091827392578, 8.003567943572998, 7.432519369125366, 7.155730819702148, 6.746190195083618, 6.142616205215454]\n"
     ]
    },
    {
     "name": "stderr",
     "output_type": "stream",
     "text": [
      "\n"
     ]
    },
    {
     "name": "stdout",
     "output_type": "stream",
     "text": [
      "epoch: 20 Test mAP: 0.0051215216517448425 Train mAP: 0.9663692712783813\n",
      "Test mAP Array: [0.0, 0.0, 0.02127656154334545, 0.010204067453742027, 0.0051215216517448425]\n",
      "Train mAP Array: [0.0, 0.0747547596693039, 0.5053293108940125, 0.7937700748443604, 0.9663692712783813]\n",
      "=> Saving checkpoint\n"
     ]
    },
    {
     "name": "stderr",
     "output_type": "stream",
     "text": [
      "100%|██████████| 25/25 [00:11<00:00,  2.15it/s, loss=6.53]\n"
     ]
    },
    {
     "name": "stdout",
     "output_type": "stream",
     "text": [
      "Mean Loss Array: [109.72338996887207, 44.82798828125, 32.273617362976076, 26.064711532592774, 21.157442321777342, 19.115713691711427, 16.144016456604003, 14.384355735778808, 13.049383049011231, 12.153732318878173, 11.268043804168702, 10.582560024261475, 9.440228748321534, 9.014247779846192, 8.482091827392578, 8.003567943572998, 7.432519369125366, 7.155730819702148, 6.746190195083618, 6.142616205215454, 6.142941875457764]\n"
     ]
    },
    {
     "name": "stderr",
     "output_type": "stream",
     "text": [
      "100%|██████████| 25/25 [00:12<00:00,  1.99it/s, loss=5.65]\n"
     ]
    },
    {
     "name": "stdout",
     "output_type": "stream",
     "text": [
      "Mean Loss Array: [109.72338996887207, 44.82798828125, 32.273617362976076, 26.064711532592774, 21.157442321777342, 19.115713691711427, 16.144016456604003, 14.384355735778808, 13.049383049011231, 12.153732318878173, 11.268043804168702, 10.582560024261475, 9.440228748321534, 9.014247779846192, 8.482091827392578, 8.003567943572998, 7.432519369125366, 7.155730819702148, 6.746190195083618, 6.142616205215454, 6.142941875457764, 5.743178958892822]\n"
     ]
    },
    {
     "name": "stderr",
     "output_type": "stream",
     "text": [
      "100%|██████████| 25/25 [00:11<00:00,  2.26it/s, loss=2.98]\n"
     ]
    },
    {
     "name": "stdout",
     "output_type": "stream",
     "text": [
      "Mean Loss Array: [109.72338996887207, 44.82798828125, 32.273617362976076, 26.064711532592774, 21.157442321777342, 19.115713691711427, 16.144016456604003, 14.384355735778808, 13.049383049011231, 12.153732318878173, 11.268043804168702, 10.582560024261475, 9.440228748321534, 9.014247779846192, 8.482091827392578, 8.003567943572998, 7.432519369125366, 7.155730819702148, 6.746190195083618, 6.142616205215454, 6.142941875457764, 5.743178958892822, 5.321213102340698]\n"
     ]
    },
    {
     "name": "stderr",
     "output_type": "stream",
     "text": [
      "100%|██████████| 25/25 [00:10<00:00,  2.40it/s, loss=5.22]\n"
     ]
    },
    {
     "name": "stdout",
     "output_type": "stream",
     "text": [
      "Mean Loss Array: [109.72338996887207, 44.82798828125, 32.273617362976076, 26.064711532592774, 21.157442321777342, 19.115713691711427, 16.144016456604003, 14.384355735778808, 13.049383049011231, 12.153732318878173, 11.268043804168702, 10.582560024261475, 9.440228748321534, 9.014247779846192, 8.482091827392578, 8.003567943572998, 7.432519369125366, 7.155730819702148, 6.746190195083618, 6.142616205215454, 6.142941875457764, 5.743178958892822, 5.321213102340698, 5.176215934753418]\n"
     ]
    },
    {
     "name": "stderr",
     "output_type": "stream",
     "text": [
      "100%|██████████| 25/25 [00:11<00:00,  2.22it/s, loss=4.28]"
     ]
    },
    {
     "name": "stdout",
     "output_type": "stream",
     "text": [
      "Mean Loss Array: [109.72338996887207, 44.82798828125, 32.273617362976076, 26.064711532592774, 21.157442321777342, 19.115713691711427, 16.144016456604003, 14.384355735778808, 13.049383049011231, 12.153732318878173, 11.268043804168702, 10.582560024261475, 9.440228748321534, 9.014247779846192, 8.482091827392578, 8.003567943572998, 7.432519369125366, 7.155730819702148, 6.746190195083618, 6.142616205215454, 6.142941875457764, 5.743178958892822, 5.321213102340698, 5.176215934753418, 4.775535774230957]\n"
     ]
    },
    {
     "name": "stderr",
     "output_type": "stream",
     "text": [
      "\n"
     ]
    },
    {
     "name": "stdout",
     "output_type": "stream",
     "text": [
      "epoch: 25 Test mAP: 0.014166646637022495 Train mAP: 0.9874552488327026\n",
      "Test mAP Array: [0.0, 0.0, 0.02127656154334545, 0.010204067453742027, 0.0051215216517448425, 0.014166646637022495]\n",
      "Train mAP Array: [0.0, 0.0747547596693039, 0.5053293108940125, 0.7937700748443604, 0.9663692712783813, 0.9874552488327026]\n",
      "=> Saving checkpoint\n"
     ]
    },
    {
     "name": "stderr",
     "output_type": "stream",
     "text": [
      "100%|██████████| 25/25 [00:11<00:00,  2.22it/s, loss=5.36]\n"
     ]
    },
    {
     "name": "stdout",
     "output_type": "stream",
     "text": [
      "Mean Loss Array: [109.72338996887207, 44.82798828125, 32.273617362976076, 26.064711532592774, 21.157442321777342, 19.115713691711427, 16.144016456604003, 14.384355735778808, 13.049383049011231, 12.153732318878173, 11.268043804168702, 10.582560024261475, 9.440228748321534, 9.014247779846192, 8.482091827392578, 8.003567943572998, 7.432519369125366, 7.155730819702148, 6.746190195083618, 6.142616205215454, 6.142941875457764, 5.743178958892822, 5.321213102340698, 5.176215934753418, 4.775535774230957, 4.601470146179199]\n"
     ]
    },
    {
     "name": "stderr",
     "output_type": "stream",
     "text": [
      "100%|██████████| 25/25 [00:13<00:00,  1.91it/s, loss=4.36]\n"
     ]
    },
    {
     "name": "stdout",
     "output_type": "stream",
     "text": [
      "Mean Loss Array: [109.72338996887207, 44.82798828125, 32.273617362976076, 26.064711532592774, 21.157442321777342, 19.115713691711427, 16.144016456604003, 14.384355735778808, 13.049383049011231, 12.153732318878173, 11.268043804168702, 10.582560024261475, 9.440228748321534, 9.014247779846192, 8.482091827392578, 8.003567943572998, 7.432519369125366, 7.155730819702148, 6.746190195083618, 6.142616205215454, 6.142941875457764, 5.743178958892822, 5.321213102340698, 5.176215934753418, 4.775535774230957, 4.601470146179199, 4.661863927841186]\n"
     ]
    },
    {
     "name": "stderr",
     "output_type": "stream",
     "text": [
      "100%|██████████| 25/25 [00:11<00:00,  2.10it/s, loss=2.78]\n"
     ]
    },
    {
     "name": "stdout",
     "output_type": "stream",
     "text": [
      "Mean Loss Array: [109.72338996887207, 44.82798828125, 32.273617362976076, 26.064711532592774, 21.157442321777342, 19.115713691711427, 16.144016456604003, 14.384355735778808, 13.049383049011231, 12.153732318878173, 11.268043804168702, 10.582560024261475, 9.440228748321534, 9.014247779846192, 8.482091827392578, 8.003567943572998, 7.432519369125366, 7.155730819702148, 6.746190195083618, 6.142616205215454, 6.142941875457764, 5.743178958892822, 5.321213102340698, 5.176215934753418, 4.775535774230957, 4.601470146179199, 4.661863927841186, 4.357816190719604]\n"
     ]
    },
    {
     "name": "stderr",
     "output_type": "stream",
     "text": [
      "100%|██████████| 25/25 [00:11<00:00,  2.08it/s, loss=3.59]\n"
     ]
    },
    {
     "name": "stdout",
     "output_type": "stream",
     "text": [
      "Mean Loss Array: [109.72338996887207, 44.82798828125, 32.273617362976076, 26.064711532592774, 21.157442321777342, 19.115713691711427, 16.144016456604003, 14.384355735778808, 13.049383049011231, 12.153732318878173, 11.268043804168702, 10.582560024261475, 9.440228748321534, 9.014247779846192, 8.482091827392578, 8.003567943572998, 7.432519369125366, 7.155730819702148, 6.746190195083618, 6.142616205215454, 6.142941875457764, 5.743178958892822, 5.321213102340698, 5.176215934753418, 4.775535774230957, 4.601470146179199, 4.661863927841186, 4.357816190719604, 4.063107490539551]\n"
     ]
    },
    {
     "name": "stderr",
     "output_type": "stream",
     "text": [
      "100%|██████████| 25/25 [00:13<00:00,  1.81it/s, loss=3.41]"
     ]
    },
    {
     "name": "stdout",
     "output_type": "stream",
     "text": [
      "Mean Loss Array: [109.72338996887207, 44.82798828125, 32.273617362976076, 26.064711532592774, 21.157442321777342, 19.115713691711427, 16.144016456604003, 14.384355735778808, 13.049383049011231, 12.153732318878173, 11.268043804168702, 10.582560024261475, 9.440228748321534, 9.014247779846192, 8.482091827392578, 8.003567943572998, 7.432519369125366, 7.155730819702148, 6.746190195083618, 6.142616205215454, 6.142941875457764, 5.743178958892822, 5.321213102340698, 5.176215934753418, 4.775535774230957, 4.601470146179199, 4.661863927841186, 4.357816190719604, 4.063107490539551, 3.9366776371002197]\n"
     ]
    },
    {
     "name": "stderr",
     "output_type": "stream",
     "text": [
      "\n"
     ]
    },
    {
     "name": "stdout",
     "output_type": "stream",
     "text": [
      "epoch: 30 Test mAP: 0.03316193446516991 Train mAP: 0.9544763565063477\n",
      "Test mAP Array: [0.0, 0.0, 0.02127656154334545, 0.010204067453742027, 0.0051215216517448425, 0.014166646637022495, 0.03316193446516991]\n",
      "Train mAP Array: [0.0, 0.0747547596693039, 0.5053293108940125, 0.7937700748443604, 0.9663692712783813, 0.9874552488327026, 0.9544763565063477]\n",
      "=> Saving checkpoint\n"
     ]
    },
    {
     "name": "stderr",
     "output_type": "stream",
     "text": [
      "100%|██████████| 25/25 [00:11<00:00,  2.12it/s, loss=4.43]\n"
     ]
    },
    {
     "name": "stdout",
     "output_type": "stream",
     "text": [
      "Mean Loss Array: [109.72338996887207, 44.82798828125, 32.273617362976076, 26.064711532592774, 21.157442321777342, 19.115713691711427, 16.144016456604003, 14.384355735778808, 13.049383049011231, 12.153732318878173, 11.268043804168702, 10.582560024261475, 9.440228748321534, 9.014247779846192, 8.482091827392578, 8.003567943572998, 7.432519369125366, 7.155730819702148, 6.746190195083618, 6.142616205215454, 6.142941875457764, 5.743178958892822, 5.321213102340698, 5.176215934753418, 4.775535774230957, 4.601470146179199, 4.661863927841186, 4.357816190719604, 4.063107490539551, 3.9366776371002197, 3.8242201232910156]\n"
     ]
    },
    {
     "name": "stderr",
     "output_type": "stream",
     "text": [
      "100%|██████████| 25/25 [00:13<00:00,  1.91it/s, loss=4.4]\n"
     ]
    },
    {
     "name": "stdout",
     "output_type": "stream",
     "text": [
      "Mean Loss Array: [109.72338996887207, 44.82798828125, 32.273617362976076, 26.064711532592774, 21.157442321777342, 19.115713691711427, 16.144016456604003, 14.384355735778808, 13.049383049011231, 12.153732318878173, 11.268043804168702, 10.582560024261475, 9.440228748321534, 9.014247779846192, 8.482091827392578, 8.003567943572998, 7.432519369125366, 7.155730819702148, 6.746190195083618, 6.142616205215454, 6.142941875457764, 5.743178958892822, 5.321213102340698, 5.176215934753418, 4.775535774230957, 4.601470146179199, 4.661863927841186, 4.357816190719604, 4.063107490539551, 3.9366776371002197, 3.8242201232910156, 3.982276134490967]\n"
     ]
    },
    {
     "name": "stderr",
     "output_type": "stream",
     "text": [
      "100%|██████████| 25/25 [00:10<00:00,  2.47it/s, loss=5.46]\n"
     ]
    },
    {
     "name": "stdout",
     "output_type": "stream",
     "text": [
      "Mean Loss Array: [109.72338996887207, 44.82798828125, 32.273617362976076, 26.064711532592774, 21.157442321777342, 19.115713691711427, 16.144016456604003, 14.384355735778808, 13.049383049011231, 12.153732318878173, 11.268043804168702, 10.582560024261475, 9.440228748321534, 9.014247779846192, 8.482091827392578, 8.003567943572998, 7.432519369125366, 7.155730819702148, 6.746190195083618, 6.142616205215454, 6.142941875457764, 5.743178958892822, 5.321213102340698, 5.176215934753418, 4.775535774230957, 4.601470146179199, 4.661863927841186, 4.357816190719604, 4.063107490539551, 3.9366776371002197, 3.8242201232910156, 3.982276134490967, 3.5431699085235597]\n"
     ]
    },
    {
     "name": "stderr",
     "output_type": "stream",
     "text": [
      "100%|██████████| 25/25 [00:11<00:00,  2.20it/s, loss=2.96]\n"
     ]
    },
    {
     "name": "stdout",
     "output_type": "stream",
     "text": [
      "Mean Loss Array: [109.72338996887207, 44.82798828125, 32.273617362976076, 26.064711532592774, 21.157442321777342, 19.115713691711427, 16.144016456604003, 14.384355735778808, 13.049383049011231, 12.153732318878173, 11.268043804168702, 10.582560024261475, 9.440228748321534, 9.014247779846192, 8.482091827392578, 8.003567943572998, 7.432519369125366, 7.155730819702148, 6.746190195083618, 6.142616205215454, 6.142941875457764, 5.743178958892822, 5.321213102340698, 5.176215934753418, 4.775535774230957, 4.601470146179199, 4.661863927841186, 4.357816190719604, 4.063107490539551, 3.9366776371002197, 3.8242201232910156, 3.982276134490967, 3.5431699085235597, 3.6115941429138183]\n"
     ]
    },
    {
     "name": "stderr",
     "output_type": "stream",
     "text": [
      "100%|██████████| 25/25 [00:11<00:00,  2.10it/s, loss=3.71]"
     ]
    },
    {
     "name": "stdout",
     "output_type": "stream",
     "text": [
      "Mean Loss Array: [109.72338996887207, 44.82798828125, 32.273617362976076, 26.064711532592774, 21.157442321777342, 19.115713691711427, 16.144016456604003, 14.384355735778808, 13.049383049011231, 12.153732318878173, 11.268043804168702, 10.582560024261475, 9.440228748321534, 9.014247779846192, 8.482091827392578, 8.003567943572998, 7.432519369125366, 7.155730819702148, 6.746190195083618, 6.142616205215454, 6.142941875457764, 5.743178958892822, 5.321213102340698, 5.176215934753418, 4.775535774230957, 4.601470146179199, 4.661863927841186, 4.357816190719604, 4.063107490539551, 3.9366776371002197, 3.8242201232910156, 3.982276134490967, 3.5431699085235597, 3.6115941429138183, 3.6431439113616944]\n"
     ]
    },
    {
     "name": "stderr",
     "output_type": "stream",
     "text": [
      "\n"
     ]
    },
    {
     "name": "stdout",
     "output_type": "stream",
     "text": [
      "epoch: 35 Test mAP: 0.003313692519441247 Train mAP: 0.9058959484100342\n",
      "Test mAP Array: [0.0, 0.0, 0.02127656154334545, 0.010204067453742027, 0.0051215216517448425, 0.014166646637022495, 0.03316193446516991, 0.003313692519441247]\n",
      "Train mAP Array: [0.0, 0.0747547596693039, 0.5053293108940125, 0.7937700748443604, 0.9663692712783813, 0.9874552488327026, 0.9544763565063477, 0.9058959484100342]\n",
      "=> Saving checkpoint\n"
     ]
    },
    {
     "name": "stderr",
     "output_type": "stream",
     "text": [
      "100%|██████████| 25/25 [00:10<00:00,  2.38it/s, loss=4.15]\n"
     ]
    },
    {
     "name": "stdout",
     "output_type": "stream",
     "text": [
      "Mean Loss Array: [109.72338996887207, 44.82798828125, 32.273617362976076, 26.064711532592774, 21.157442321777342, 19.115713691711427, 16.144016456604003, 14.384355735778808, 13.049383049011231, 12.153732318878173, 11.268043804168702, 10.582560024261475, 9.440228748321534, 9.014247779846192, 8.482091827392578, 8.003567943572998, 7.432519369125366, 7.155730819702148, 6.746190195083618, 6.142616205215454, 6.142941875457764, 5.743178958892822, 5.321213102340698, 5.176215934753418, 4.775535774230957, 4.601470146179199, 4.661863927841186, 4.357816190719604, 4.063107490539551, 3.9366776371002197, 3.8242201232910156, 3.982276134490967, 3.5431699085235597, 3.6115941429138183, 3.6431439113616944, 3.610076675415039]\n"
     ]
    },
    {
     "name": "stderr",
     "output_type": "stream",
     "text": [
      "100%|██████████| 25/25 [00:13<00:00,  1.88it/s, loss=3.75]\n"
     ]
    },
    {
     "name": "stdout",
     "output_type": "stream",
     "text": [
      "Mean Loss Array: [109.72338996887207, 44.82798828125, 32.273617362976076, 26.064711532592774, 21.157442321777342, 19.115713691711427, 16.144016456604003, 14.384355735778808, 13.049383049011231, 12.153732318878173, 11.268043804168702, 10.582560024261475, 9.440228748321534, 9.014247779846192, 8.482091827392578, 8.003567943572998, 7.432519369125366, 7.155730819702148, 6.746190195083618, 6.142616205215454, 6.142941875457764, 5.743178958892822, 5.321213102340698, 5.176215934753418, 4.775535774230957, 4.601470146179199, 4.661863927841186, 4.357816190719604, 4.063107490539551, 3.9366776371002197, 3.8242201232910156, 3.982276134490967, 3.5431699085235597, 3.6115941429138183, 3.6431439113616944, 3.610076675415039, 3.685580883026123]\n"
     ]
    },
    {
     "name": "stderr",
     "output_type": "stream",
     "text": [
      "100%|██████████| 25/25 [00:12<00:00,  2.07it/s, loss=2.01]\n"
     ]
    },
    {
     "name": "stdout",
     "output_type": "stream",
     "text": [
      "Mean Loss Array: [109.72338996887207, 44.82798828125, 32.273617362976076, 26.064711532592774, 21.157442321777342, 19.115713691711427, 16.144016456604003, 14.384355735778808, 13.049383049011231, 12.153732318878173, 11.268043804168702, 10.582560024261475, 9.440228748321534, 9.014247779846192, 8.482091827392578, 8.003567943572998, 7.432519369125366, 7.155730819702148, 6.746190195083618, 6.142616205215454, 6.142941875457764, 5.743178958892822, 5.321213102340698, 5.176215934753418, 4.775535774230957, 4.601470146179199, 4.661863927841186, 4.357816190719604, 4.063107490539551, 3.9366776371002197, 3.8242201232910156, 3.982276134490967, 3.5431699085235597, 3.6115941429138183, 3.6431439113616944, 3.610076675415039, 3.685580883026123, 3.7001155853271483]\n"
     ]
    },
    {
     "name": "stderr",
     "output_type": "stream",
     "text": [
      "100%|██████████| 25/25 [00:12<00:00,  2.04it/s, loss=5.12]\n"
     ]
    },
    {
     "name": "stdout",
     "output_type": "stream",
     "text": [
      "Mean Loss Array: [109.72338996887207, 44.82798828125, 32.273617362976076, 26.064711532592774, 21.157442321777342, 19.115713691711427, 16.144016456604003, 14.384355735778808, 13.049383049011231, 12.153732318878173, 11.268043804168702, 10.582560024261475, 9.440228748321534, 9.014247779846192, 8.482091827392578, 8.003567943572998, 7.432519369125366, 7.155730819702148, 6.746190195083618, 6.142616205215454, 6.142941875457764, 5.743178958892822, 5.321213102340698, 5.176215934753418, 4.775535774230957, 4.601470146179199, 4.661863927841186, 4.357816190719604, 4.063107490539551, 3.9366776371002197, 3.8242201232910156, 3.982276134490967, 3.5431699085235597, 3.6115941429138183, 3.6431439113616944, 3.610076675415039, 3.685580883026123, 3.7001155853271483, 3.8652588748931884]\n"
     ]
    },
    {
     "name": "stderr",
     "output_type": "stream",
     "text": [
      "100%|██████████| 25/25 [00:14<00:00,  1.76it/s, loss=10.6]"
     ]
    },
    {
     "name": "stdout",
     "output_type": "stream",
     "text": [
      "Mean Loss Array: [109.72338996887207, 44.82798828125, 32.273617362976076, 26.064711532592774, 21.157442321777342, 19.115713691711427, 16.144016456604003, 14.384355735778808, 13.049383049011231, 12.153732318878173, 11.268043804168702, 10.582560024261475, 9.440228748321534, 9.014247779846192, 8.482091827392578, 8.003567943572998, 7.432519369125366, 7.155730819702148, 6.746190195083618, 6.142616205215454, 6.142941875457764, 5.743178958892822, 5.321213102340698, 5.176215934753418, 4.775535774230957, 4.601470146179199, 4.661863927841186, 4.357816190719604, 4.063107490539551, 3.9366776371002197, 3.8242201232910156, 3.982276134490967, 3.5431699085235597, 3.6115941429138183, 3.6431439113616944, 3.610076675415039, 3.685580883026123, 3.7001155853271483, 3.8652588748931884, 4.324375524520874]\n"
     ]
    },
    {
     "name": "stderr",
     "output_type": "stream",
     "text": [
      "\n"
     ]
    },
    {
     "name": "stdout",
     "output_type": "stream",
     "text": [
      "epoch: 40 Test mAP: 0.026041634380817413 Train mAP: 0.7671000361442566\n",
      "Test mAP Array: [0.0, 0.0, 0.02127656154334545, 0.010204067453742027, 0.0051215216517448425, 0.014166646637022495, 0.03316193446516991, 0.003313692519441247, 0.026041634380817413]\n",
      "Train mAP Array: [0.0, 0.0747547596693039, 0.5053293108940125, 0.7937700748443604, 0.9663692712783813, 0.9874552488327026, 0.9544763565063477, 0.9058959484100342, 0.7671000361442566]\n",
      "=> Saving checkpoint\n"
     ]
    },
    {
     "name": "stderr",
     "output_type": "stream",
     "text": [
      "100%|██████████| 25/25 [00:12<00:00,  2.08it/s, loss=2.94]\n"
     ]
    },
    {
     "name": "stdout",
     "output_type": "stream",
     "text": [
      "Mean Loss Array: [109.72338996887207, 44.82798828125, 32.273617362976076, 26.064711532592774, 21.157442321777342, 19.115713691711427, 16.144016456604003, 14.384355735778808, 13.049383049011231, 12.153732318878173, 11.268043804168702, 10.582560024261475, 9.440228748321534, 9.014247779846192, 8.482091827392578, 8.003567943572998, 7.432519369125366, 7.155730819702148, 6.746190195083618, 6.142616205215454, 6.142941875457764, 5.743178958892822, 5.321213102340698, 5.176215934753418, 4.775535774230957, 4.601470146179199, 4.661863927841186, 4.357816190719604, 4.063107490539551, 3.9366776371002197, 3.8242201232910156, 3.982276134490967, 3.5431699085235597, 3.6115941429138183, 3.6431439113616944, 3.610076675415039, 3.685580883026123, 3.7001155853271483, 3.8652588748931884, 4.324375524520874, 4.284564528465271]\n"
     ]
    },
    {
     "name": "stderr",
     "output_type": "stream",
     "text": [
      "100%|██████████| 25/25 [00:12<00:00,  2.05it/s, loss=6.59]\n"
     ]
    },
    {
     "name": "stdout",
     "output_type": "stream",
     "text": [
      "Mean Loss Array: [109.72338996887207, 44.82798828125, 32.273617362976076, 26.064711532592774, 21.157442321777342, 19.115713691711427, 16.144016456604003, 14.384355735778808, 13.049383049011231, 12.153732318878173, 11.268043804168702, 10.582560024261475, 9.440228748321534, 9.014247779846192, 8.482091827392578, 8.003567943572998, 7.432519369125366, 7.155730819702148, 6.746190195083618, 6.142616205215454, 6.142941875457764, 5.743178958892822, 5.321213102340698, 5.176215934753418, 4.775535774230957, 4.601470146179199, 4.661863927841186, 4.357816190719604, 4.063107490539551, 3.9366776371002197, 3.8242201232910156, 3.982276134490967, 3.5431699085235597, 3.6115941429138183, 3.6431439113616944, 3.610076675415039, 3.685580883026123, 3.7001155853271483, 3.8652588748931884, 4.324375524520874, 4.284564528465271, 4.347878742218017]\n"
     ]
    },
    {
     "name": "stderr",
     "output_type": "stream",
     "text": [
      "100%|██████████| 25/25 [00:10<00:00,  2.48it/s, loss=5.58]\n"
     ]
    },
    {
     "name": "stdout",
     "output_type": "stream",
     "text": [
      "Mean Loss Array: [109.72338996887207, 44.82798828125, 32.273617362976076, 26.064711532592774, 21.157442321777342, 19.115713691711427, 16.144016456604003, 14.384355735778808, 13.049383049011231, 12.153732318878173, 11.268043804168702, 10.582560024261475, 9.440228748321534, 9.014247779846192, 8.482091827392578, 8.003567943572998, 7.432519369125366, 7.155730819702148, 6.746190195083618, 6.142616205215454, 6.142941875457764, 5.743178958892822, 5.321213102340698, 5.176215934753418, 4.775535774230957, 4.601470146179199, 4.661863927841186, 4.357816190719604, 4.063107490539551, 3.9366776371002197, 3.8242201232910156, 3.982276134490967, 3.5431699085235597, 3.6115941429138183, 3.6431439113616944, 3.610076675415039, 3.685580883026123, 3.7001155853271483, 3.8652588748931884, 4.324375524520874, 4.284564528465271, 4.347878742218017, 3.902965383529663]\n"
     ]
    },
    {
     "name": "stderr",
     "output_type": "stream",
     "text": [
      "100%|██████████| 25/25 [00:11<00:00,  2.11it/s, loss=4.25]\n"
     ]
    },
    {
     "name": "stdout",
     "output_type": "stream",
     "text": [
      "Mean Loss Array: [109.72338996887207, 44.82798828125, 32.273617362976076, 26.064711532592774, 21.157442321777342, 19.115713691711427, 16.144016456604003, 14.384355735778808, 13.049383049011231, 12.153732318878173, 11.268043804168702, 10.582560024261475, 9.440228748321534, 9.014247779846192, 8.482091827392578, 8.003567943572998, 7.432519369125366, 7.155730819702148, 6.746190195083618, 6.142616205215454, 6.142941875457764, 5.743178958892822, 5.321213102340698, 5.176215934753418, 4.775535774230957, 4.601470146179199, 4.661863927841186, 4.357816190719604, 4.063107490539551, 3.9366776371002197, 3.8242201232910156, 3.982276134490967, 3.5431699085235597, 3.6115941429138183, 3.6431439113616944, 3.610076675415039, 3.685580883026123, 3.7001155853271483, 3.8652588748931884, 4.324375524520874, 4.284564528465271, 4.347878742218017, 3.902965383529663, 4.126591539382934]\n"
     ]
    },
    {
     "name": "stderr",
     "output_type": "stream",
     "text": [
      "100%|██████████| 25/25 [00:12<00:00,  2.07it/s, loss=2.44]"
     ]
    },
    {
     "name": "stdout",
     "output_type": "stream",
     "text": [
      "Mean Loss Array: [109.72338996887207, 44.82798828125, 32.273617362976076, 26.064711532592774, 21.157442321777342, 19.115713691711427, 16.144016456604003, 14.384355735778808, 13.049383049011231, 12.153732318878173, 11.268043804168702, 10.582560024261475, 9.440228748321534, 9.014247779846192, 8.482091827392578, 8.003567943572998, 7.432519369125366, 7.155730819702148, 6.746190195083618, 6.142616205215454, 6.142941875457764, 5.743178958892822, 5.321213102340698, 5.176215934753418, 4.775535774230957, 4.601470146179199, 4.661863927841186, 4.357816190719604, 4.063107490539551, 3.9366776371002197, 3.8242201232910156, 3.982276134490967, 3.5431699085235597, 3.6115941429138183, 3.6431439113616944, 3.610076675415039, 3.685580883026123, 3.7001155853271483, 3.8652588748931884, 4.324375524520874, 4.284564528465271, 4.347878742218017, 3.902965383529663, 4.126591539382934, 3.909240999221802]\n"
     ]
    },
    {
     "name": "stderr",
     "output_type": "stream",
     "text": [
      "\n"
     ]
    },
    {
     "name": "stdout",
     "output_type": "stream",
     "text": [
      "epoch: 45 Test mAP: 0.0044200788252055645 Train mAP: 0.7827416658401489\n",
      "Test mAP Array: [0.0, 0.0, 0.02127656154334545, 0.010204067453742027, 0.0051215216517448425, 0.014166646637022495, 0.03316193446516991, 0.003313692519441247, 0.026041634380817413, 0.0044200788252055645]\n",
      "Train mAP Array: [0.0, 0.0747547596693039, 0.5053293108940125, 0.7937700748443604, 0.9663692712783813, 0.9874552488327026, 0.9544763565063477, 0.9058959484100342, 0.7671000361442566, 0.7827416658401489]\n",
      "=> Saving checkpoint\n"
     ]
    },
    {
     "name": "stderr",
     "output_type": "stream",
     "text": [
      "100%|██████████| 25/25 [00:12<00:00,  2.06it/s, loss=3.3]\n"
     ]
    },
    {
     "name": "stdout",
     "output_type": "stream",
     "text": [
      "Mean Loss Array: [109.72338996887207, 44.82798828125, 32.273617362976076, 26.064711532592774, 21.157442321777342, 19.115713691711427, 16.144016456604003, 14.384355735778808, 13.049383049011231, 12.153732318878173, 11.268043804168702, 10.582560024261475, 9.440228748321534, 9.014247779846192, 8.482091827392578, 8.003567943572998, 7.432519369125366, 7.155730819702148, 6.746190195083618, 6.142616205215454, 6.142941875457764, 5.743178958892822, 5.321213102340698, 5.176215934753418, 4.775535774230957, 4.601470146179199, 4.661863927841186, 4.357816190719604, 4.063107490539551, 3.9366776371002197, 3.8242201232910156, 3.982276134490967, 3.5431699085235597, 3.6115941429138183, 3.6431439113616944, 3.610076675415039, 3.685580883026123, 3.7001155853271483, 3.8652588748931884, 4.324375524520874, 4.284564528465271, 4.347878742218017, 3.902965383529663, 4.126591539382934, 3.909240999221802, 3.7352996635437012]\n"
     ]
    },
    {
     "name": "stderr",
     "output_type": "stream",
     "text": [
      "100%|██████████| 25/25 [00:12<00:00,  2.01it/s, loss=3.85]\n"
     ]
    },
    {
     "name": "stdout",
     "output_type": "stream",
     "text": [
      "Mean Loss Array: [109.72338996887207, 44.82798828125, 32.273617362976076, 26.064711532592774, 21.157442321777342, 19.115713691711427, 16.144016456604003, 14.384355735778808, 13.049383049011231, 12.153732318878173, 11.268043804168702, 10.582560024261475, 9.440228748321534, 9.014247779846192, 8.482091827392578, 8.003567943572998, 7.432519369125366, 7.155730819702148, 6.746190195083618, 6.142616205215454, 6.142941875457764, 5.743178958892822, 5.321213102340698, 5.176215934753418, 4.775535774230957, 4.601470146179199, 4.661863927841186, 4.357816190719604, 4.063107490539551, 3.9366776371002197, 3.8242201232910156, 3.982276134490967, 3.5431699085235597, 3.6115941429138183, 3.6431439113616944, 3.610076675415039, 3.685580883026123, 3.7001155853271483, 3.8652588748931884, 4.324375524520874, 4.284564528465271, 4.347878742218017, 3.902965383529663, 4.126591539382934, 3.909240999221802, 3.7352996635437012, 3.7414236068725586]\n"
     ]
    },
    {
     "name": "stderr",
     "output_type": "stream",
     "text": [
      "100%|██████████| 25/25 [00:10<00:00,  2.47it/s, loss=2.89]\n"
     ]
    },
    {
     "name": "stdout",
     "output_type": "stream",
     "text": [
      "Mean Loss Array: [109.72338996887207, 44.82798828125, 32.273617362976076, 26.064711532592774, 21.157442321777342, 19.115713691711427, 16.144016456604003, 14.384355735778808, 13.049383049011231, 12.153732318878173, 11.268043804168702, 10.582560024261475, 9.440228748321534, 9.014247779846192, 8.482091827392578, 8.003567943572998, 7.432519369125366, 7.155730819702148, 6.746190195083618, 6.142616205215454, 6.142941875457764, 5.743178958892822, 5.321213102340698, 5.176215934753418, 4.775535774230957, 4.601470146179199, 4.661863927841186, 4.357816190719604, 4.063107490539551, 3.9366776371002197, 3.8242201232910156, 3.982276134490967, 3.5431699085235597, 3.6115941429138183, 3.6431439113616944, 3.610076675415039, 3.685580883026123, 3.7001155853271483, 3.8652588748931884, 4.324375524520874, 4.284564528465271, 4.347878742218017, 3.902965383529663, 4.126591539382934, 3.909240999221802, 3.7352996635437012, 3.7414236068725586, 3.9067931318283082]\n"
     ]
    },
    {
     "name": "stderr",
     "output_type": "stream",
     "text": [
      "100%|██████████| 25/25 [00:11<00:00,  2.27it/s, loss=3.59]\n"
     ]
    },
    {
     "name": "stdout",
     "output_type": "stream",
     "text": [
      "Mean Loss Array: [109.72338996887207, 44.82798828125, 32.273617362976076, 26.064711532592774, 21.157442321777342, 19.115713691711427, 16.144016456604003, 14.384355735778808, 13.049383049011231, 12.153732318878173, 11.268043804168702, 10.582560024261475, 9.440228748321534, 9.014247779846192, 8.482091827392578, 8.003567943572998, 7.432519369125366, 7.155730819702148, 6.746190195083618, 6.142616205215454, 6.142941875457764, 5.743178958892822, 5.321213102340698, 5.176215934753418, 4.775535774230957, 4.601470146179199, 4.661863927841186, 4.357816190719604, 4.063107490539551, 3.9366776371002197, 3.8242201232910156, 3.982276134490967, 3.5431699085235597, 3.6115941429138183, 3.6431439113616944, 3.610076675415039, 3.685580883026123, 3.7001155853271483, 3.8652588748931884, 4.324375524520874, 4.284564528465271, 4.347878742218017, 3.902965383529663, 4.126591539382934, 3.909240999221802, 3.7352996635437012, 3.7414236068725586, 3.9067931318283082, 4.026785469055175]\n"
     ]
    },
    {
     "name": "stderr",
     "output_type": "stream",
     "text": [
      "100%|██████████| 25/25 [00:11<00:00,  2.10it/s, loss=2.9]"
     ]
    },
    {
     "name": "stdout",
     "output_type": "stream",
     "text": [
      "Mean Loss Array: [109.72338996887207, 44.82798828125, 32.273617362976076, 26.064711532592774, 21.157442321777342, 19.115713691711427, 16.144016456604003, 14.384355735778808, 13.049383049011231, 12.153732318878173, 11.268043804168702, 10.582560024261475, 9.440228748321534, 9.014247779846192, 8.482091827392578, 8.003567943572998, 7.432519369125366, 7.155730819702148, 6.746190195083618, 6.142616205215454, 6.142941875457764, 5.743178958892822, 5.321213102340698, 5.176215934753418, 4.775535774230957, 4.601470146179199, 4.661863927841186, 4.357816190719604, 4.063107490539551, 3.9366776371002197, 3.8242201232910156, 3.982276134490967, 3.5431699085235597, 3.6115941429138183, 3.6431439113616944, 3.610076675415039, 3.685580883026123, 3.7001155853271483, 3.8652588748931884, 4.324375524520874, 4.284564528465271, 4.347878742218017, 3.902965383529663, 4.126591539382934, 3.909240999221802, 3.7352996635437012, 3.7414236068725586, 3.9067931318283082, 4.026785469055175, 3.6361935329437256]\n"
     ]
    },
    {
     "name": "stderr",
     "output_type": "stream",
     "text": [
      "\n"
     ]
    },
    {
     "name": "stdout",
     "output_type": "stream",
     "text": [
      "epoch: 50 Test mAP: 0.021867142990231514 Train mAP: 0.8842312693595886\n",
      "Test mAP Array: [0.0, 0.0, 0.02127656154334545, 0.010204067453742027, 0.0051215216517448425, 0.014166646637022495, 0.03316193446516991, 0.003313692519441247, 0.026041634380817413, 0.0044200788252055645, 0.021867142990231514]\n",
      "Train mAP Array: [0.0, 0.0747547596693039, 0.5053293108940125, 0.7937700748443604, 0.9663692712783813, 0.9874552488327026, 0.9544763565063477, 0.9058959484100342, 0.7671000361442566, 0.7827416658401489, 0.8842312693595886]\n",
      "=> Saving checkpoint\n"
     ]
    },
    {
     "name": "stderr",
     "output_type": "stream",
     "text": [
      "100%|██████████| 25/25 [00:12<00:00,  2.06it/s, loss=4.08]\n"
     ]
    },
    {
     "name": "stdout",
     "output_type": "stream",
     "text": [
      "Mean Loss Array: [109.72338996887207, 44.82798828125, 32.273617362976076, 26.064711532592774, 21.157442321777342, 19.115713691711427, 16.144016456604003, 14.384355735778808, 13.049383049011231, 12.153732318878173, 11.268043804168702, 10.582560024261475, 9.440228748321534, 9.014247779846192, 8.482091827392578, 8.003567943572998, 7.432519369125366, 7.155730819702148, 6.746190195083618, 6.142616205215454, 6.142941875457764, 5.743178958892822, 5.321213102340698, 5.176215934753418, 4.775535774230957, 4.601470146179199, 4.661863927841186, 4.357816190719604, 4.063107490539551, 3.9366776371002197, 3.8242201232910156, 3.982276134490967, 3.5431699085235597, 3.6115941429138183, 3.6431439113616944, 3.610076675415039, 3.685580883026123, 3.7001155853271483, 3.8652588748931884, 4.324375524520874, 4.284564528465271, 4.347878742218017, 3.902965383529663, 4.126591539382934, 3.909240999221802, 3.7352996635437012, 3.7414236068725586, 3.9067931318283082, 4.026785469055175, 3.6361935329437256, 3.5152342700958252]\n"
     ]
    },
    {
     "name": "stderr",
     "output_type": "stream",
     "text": [
      "100%|██████████| 25/25 [00:13<00:00,  1.91it/s, loss=2.27]\n"
     ]
    },
    {
     "name": "stdout",
     "output_type": "stream",
     "text": [
      "Mean Loss Array: [109.72338996887207, 44.82798828125, 32.273617362976076, 26.064711532592774, 21.157442321777342, 19.115713691711427, 16.144016456604003, 14.384355735778808, 13.049383049011231, 12.153732318878173, 11.268043804168702, 10.582560024261475, 9.440228748321534, 9.014247779846192, 8.482091827392578, 8.003567943572998, 7.432519369125366, 7.155730819702148, 6.746190195083618, 6.142616205215454, 6.142941875457764, 5.743178958892822, 5.321213102340698, 5.176215934753418, 4.775535774230957, 4.601470146179199, 4.661863927841186, 4.357816190719604, 4.063107490539551, 3.9366776371002197, 3.8242201232910156, 3.982276134490967, 3.5431699085235597, 3.6115941429138183, 3.6431439113616944, 3.610076675415039, 3.685580883026123, 3.7001155853271483, 3.8652588748931884, 4.324375524520874, 4.284564528465271, 4.347878742218017, 3.902965383529663, 4.126591539382934, 3.909240999221802, 3.7352996635437012, 3.7414236068725586, 3.9067931318283082, 4.026785469055175, 3.6361935329437256, 3.5152342700958252, 3.3081491708755495]\n"
     ]
    },
    {
     "name": "stderr",
     "output_type": "stream",
     "text": [
      "100%|██████████| 25/25 [00:11<00:00,  2.17it/s, loss=2.26]\n"
     ]
    },
    {
     "name": "stdout",
     "output_type": "stream",
     "text": [
      "Mean Loss Array: [109.72338996887207, 44.82798828125, 32.273617362976076, 26.064711532592774, 21.157442321777342, 19.115713691711427, 16.144016456604003, 14.384355735778808, 13.049383049011231, 12.153732318878173, 11.268043804168702, 10.582560024261475, 9.440228748321534, 9.014247779846192, 8.482091827392578, 8.003567943572998, 7.432519369125366, 7.155730819702148, 6.746190195083618, 6.142616205215454, 6.142941875457764, 5.743178958892822, 5.321213102340698, 5.176215934753418, 4.775535774230957, 4.601470146179199, 4.661863927841186, 4.357816190719604, 4.063107490539551, 3.9366776371002197, 3.8242201232910156, 3.982276134490967, 3.5431699085235597, 3.6115941429138183, 3.6431439113616944, 3.610076675415039, 3.685580883026123, 3.7001155853271483, 3.8652588748931884, 4.324375524520874, 4.284564528465271, 4.347878742218017, 3.902965383529663, 4.126591539382934, 3.909240999221802, 3.7352996635437012, 3.7414236068725586, 3.9067931318283082, 4.026785469055175, 3.6361935329437256, 3.5152342700958252, 3.3081491708755495, 3.631723232269287]\n"
     ]
    },
    {
     "name": "stderr",
     "output_type": "stream",
     "text": [
      "100%|██████████| 25/25 [00:10<00:00,  2.31it/s, loss=5.03]\n"
     ]
    },
    {
     "name": "stdout",
     "output_type": "stream",
     "text": [
      "Mean Loss Array: [109.72338996887207, 44.82798828125, 32.273617362976076, 26.064711532592774, 21.157442321777342, 19.115713691711427, 16.144016456604003, 14.384355735778808, 13.049383049011231, 12.153732318878173, 11.268043804168702, 10.582560024261475, 9.440228748321534, 9.014247779846192, 8.482091827392578, 8.003567943572998, 7.432519369125366, 7.155730819702148, 6.746190195083618, 6.142616205215454, 6.142941875457764, 5.743178958892822, 5.321213102340698, 5.176215934753418, 4.775535774230957, 4.601470146179199, 4.661863927841186, 4.357816190719604, 4.063107490539551, 3.9366776371002197, 3.8242201232910156, 3.982276134490967, 3.5431699085235597, 3.6115941429138183, 3.6431439113616944, 3.610076675415039, 3.685580883026123, 3.7001155853271483, 3.8652588748931884, 4.324375524520874, 4.284564528465271, 4.347878742218017, 3.902965383529663, 4.126591539382934, 3.909240999221802, 3.7352996635437012, 3.7414236068725586, 3.9067931318283082, 4.026785469055175, 3.6361935329437256, 3.5152342700958252, 3.3081491708755495, 3.631723232269287, 3.4103569412231445]\n"
     ]
    },
    {
     "name": "stderr",
     "output_type": "stream",
     "text": [
      "100%|██████████| 25/25 [00:11<00:00,  2.27it/s, loss=6.22]"
     ]
    },
    {
     "name": "stdout",
     "output_type": "stream",
     "text": [
      "Mean Loss Array: [109.72338996887207, 44.82798828125, 32.273617362976076, 26.064711532592774, 21.157442321777342, 19.115713691711427, 16.144016456604003, 14.384355735778808, 13.049383049011231, 12.153732318878173, 11.268043804168702, 10.582560024261475, 9.440228748321534, 9.014247779846192, 8.482091827392578, 8.003567943572998, 7.432519369125366, 7.155730819702148, 6.746190195083618, 6.142616205215454, 6.142941875457764, 5.743178958892822, 5.321213102340698, 5.176215934753418, 4.775535774230957, 4.601470146179199, 4.661863927841186, 4.357816190719604, 4.063107490539551, 3.9366776371002197, 3.8242201232910156, 3.982276134490967, 3.5431699085235597, 3.6115941429138183, 3.6431439113616944, 3.610076675415039, 3.685580883026123, 3.7001155853271483, 3.8652588748931884, 4.324375524520874, 4.284564528465271, 4.347878742218017, 3.902965383529663, 4.126591539382934, 3.909240999221802, 3.7352996635437012, 3.7414236068725586, 3.9067931318283082, 4.026785469055175, 3.6361935329437256, 3.5152342700958252, 3.3081491708755495, 3.631723232269287, 3.4103569412231445, 3.5419870948791505]\n"
     ]
    },
    {
     "name": "stderr",
     "output_type": "stream",
     "text": [
      "\n"
     ]
    },
    {
     "name": "stdout",
     "output_type": "stream",
     "text": [
      "epoch: 55 Test mAP: 0.0007518788916058838 Train mAP: 0.8449891209602356\n",
      "Test mAP Array: [0.0, 0.0, 0.02127656154334545, 0.010204067453742027, 0.0051215216517448425, 0.014166646637022495, 0.03316193446516991, 0.003313692519441247, 0.026041634380817413, 0.0044200788252055645, 0.021867142990231514, 0.0007518788916058838]\n",
      "Train mAP Array: [0.0, 0.0747547596693039, 0.5053293108940125, 0.7937700748443604, 0.9663692712783813, 0.9874552488327026, 0.9544763565063477, 0.9058959484100342, 0.7671000361442566, 0.7827416658401489, 0.8842312693595886, 0.8449891209602356]\n",
      "=> Saving checkpoint\n"
     ]
    },
    {
     "name": "stderr",
     "output_type": "stream",
     "text": [
      "100%|██████████| 25/25 [00:11<00:00,  2.19it/s, loss=2.67]\n"
     ]
    },
    {
     "name": "stdout",
     "output_type": "stream",
     "text": [
      "Mean Loss Array: [109.72338996887207, 44.82798828125, 32.273617362976076, 26.064711532592774, 21.157442321777342, 19.115713691711427, 16.144016456604003, 14.384355735778808, 13.049383049011231, 12.153732318878173, 11.268043804168702, 10.582560024261475, 9.440228748321534, 9.014247779846192, 8.482091827392578, 8.003567943572998, 7.432519369125366, 7.155730819702148, 6.746190195083618, 6.142616205215454, 6.142941875457764, 5.743178958892822, 5.321213102340698, 5.176215934753418, 4.775535774230957, 4.601470146179199, 4.661863927841186, 4.357816190719604, 4.063107490539551, 3.9366776371002197, 3.8242201232910156, 3.982276134490967, 3.5431699085235597, 3.6115941429138183, 3.6431439113616944, 3.610076675415039, 3.685580883026123, 3.7001155853271483, 3.8652588748931884, 4.324375524520874, 4.284564528465271, 4.347878742218017, 3.902965383529663, 4.126591539382934, 3.909240999221802, 3.7352996635437012, 3.7414236068725586, 3.9067931318283082, 4.026785469055175, 3.6361935329437256, 3.5152342700958252, 3.3081491708755495, 3.631723232269287, 3.4103569412231445, 3.5419870948791505, 3.466613187789917]\n"
     ]
    },
    {
     "name": "stderr",
     "output_type": "stream",
     "text": [
      "100%|██████████| 25/25 [00:11<00:00,  2.23it/s, loss=5.95]\n"
     ]
    },
    {
     "name": "stdout",
     "output_type": "stream",
     "text": [
      "Mean Loss Array: [109.72338996887207, 44.82798828125, 32.273617362976076, 26.064711532592774, 21.157442321777342, 19.115713691711427, 16.144016456604003, 14.384355735778808, 13.049383049011231, 12.153732318878173, 11.268043804168702, 10.582560024261475, 9.440228748321534, 9.014247779846192, 8.482091827392578, 8.003567943572998, 7.432519369125366, 7.155730819702148, 6.746190195083618, 6.142616205215454, 6.142941875457764, 5.743178958892822, 5.321213102340698, 5.176215934753418, 4.775535774230957, 4.601470146179199, 4.661863927841186, 4.357816190719604, 4.063107490539551, 3.9366776371002197, 3.8242201232910156, 3.982276134490967, 3.5431699085235597, 3.6115941429138183, 3.6431439113616944, 3.610076675415039, 3.685580883026123, 3.7001155853271483, 3.8652588748931884, 4.324375524520874, 4.284564528465271, 4.347878742218017, 3.902965383529663, 4.126591539382934, 3.909240999221802, 3.7352996635437012, 3.7414236068725586, 3.9067931318283082, 4.026785469055175, 3.6361935329437256, 3.5152342700958252, 3.3081491708755495, 3.631723232269287, 3.4103569412231445, 3.5419870948791505, 3.466613187789917, 3.7215825843811037]\n"
     ]
    },
    {
     "name": "stderr",
     "output_type": "stream",
     "text": [
      "100%|██████████| 25/25 [00:11<00:00,  2.19it/s, loss=4.4]\n"
     ]
    },
    {
     "name": "stdout",
     "output_type": "stream",
     "text": [
      "Mean Loss Array: [109.72338996887207, 44.82798828125, 32.273617362976076, 26.064711532592774, 21.157442321777342, 19.115713691711427, 16.144016456604003, 14.384355735778808, 13.049383049011231, 12.153732318878173, 11.268043804168702, 10.582560024261475, 9.440228748321534, 9.014247779846192, 8.482091827392578, 8.003567943572998, 7.432519369125366, 7.155730819702148, 6.746190195083618, 6.142616205215454, 6.142941875457764, 5.743178958892822, 5.321213102340698, 5.176215934753418, 4.775535774230957, 4.601470146179199, 4.661863927841186, 4.357816190719604, 4.063107490539551, 3.9366776371002197, 3.8242201232910156, 3.982276134490967, 3.5431699085235597, 3.6115941429138183, 3.6431439113616944, 3.610076675415039, 3.685580883026123, 3.7001155853271483, 3.8652588748931884, 4.324375524520874, 4.284564528465271, 4.347878742218017, 3.902965383529663, 4.126591539382934, 3.909240999221802, 3.7352996635437012, 3.7414236068725586, 3.9067931318283082, 4.026785469055175, 3.6361935329437256, 3.5152342700958252, 3.3081491708755495, 3.631723232269287, 3.4103569412231445, 3.5419870948791505, 3.466613187789917, 3.7215825843811037, 3.487019019126892]\n"
     ]
    },
    {
     "name": "stderr",
     "output_type": "stream",
     "text": [
      "100%|██████████| 25/25 [00:11<00:00,  2.11it/s, loss=2.76]\n"
     ]
    },
    {
     "name": "stdout",
     "output_type": "stream",
     "text": [
      "Mean Loss Array: [109.72338996887207, 44.82798828125, 32.273617362976076, 26.064711532592774, 21.157442321777342, 19.115713691711427, 16.144016456604003, 14.384355735778808, 13.049383049011231, 12.153732318878173, 11.268043804168702, 10.582560024261475, 9.440228748321534, 9.014247779846192, 8.482091827392578, 8.003567943572998, 7.432519369125366, 7.155730819702148, 6.746190195083618, 6.142616205215454, 6.142941875457764, 5.743178958892822, 5.321213102340698, 5.176215934753418, 4.775535774230957, 4.601470146179199, 4.661863927841186, 4.357816190719604, 4.063107490539551, 3.9366776371002197, 3.8242201232910156, 3.982276134490967, 3.5431699085235597, 3.6115941429138183, 3.6431439113616944, 3.610076675415039, 3.685580883026123, 3.7001155853271483, 3.8652588748931884, 4.324375524520874, 4.284564528465271, 4.347878742218017, 3.902965383529663, 4.126591539382934, 3.909240999221802, 3.7352996635437012, 3.7414236068725586, 3.9067931318283082, 4.026785469055175, 3.6361935329437256, 3.5152342700958252, 3.3081491708755495, 3.631723232269287, 3.4103569412231445, 3.5419870948791505, 3.466613187789917, 3.7215825843811037, 3.487019019126892, 3.249955735206604]\n"
     ]
    },
    {
     "name": "stderr",
     "output_type": "stream",
     "text": [
      "100%|██████████| 25/25 [00:11<00:00,  2.12it/s, loss=3.4]"
     ]
    },
    {
     "name": "stdout",
     "output_type": "stream",
     "text": [
      "Mean Loss Array: [109.72338996887207, 44.82798828125, 32.273617362976076, 26.064711532592774, 21.157442321777342, 19.115713691711427, 16.144016456604003, 14.384355735778808, 13.049383049011231, 12.153732318878173, 11.268043804168702, 10.582560024261475, 9.440228748321534, 9.014247779846192, 8.482091827392578, 8.003567943572998, 7.432519369125366, 7.155730819702148, 6.746190195083618, 6.142616205215454, 6.142941875457764, 5.743178958892822, 5.321213102340698, 5.176215934753418, 4.775535774230957, 4.601470146179199, 4.661863927841186, 4.357816190719604, 4.063107490539551, 3.9366776371002197, 3.8242201232910156, 3.982276134490967, 3.5431699085235597, 3.6115941429138183, 3.6431439113616944, 3.610076675415039, 3.685580883026123, 3.7001155853271483, 3.8652588748931884, 4.324375524520874, 4.284564528465271, 4.347878742218017, 3.902965383529663, 4.126591539382934, 3.909240999221802, 3.7352996635437012, 3.7414236068725586, 3.9067931318283082, 4.026785469055175, 3.6361935329437256, 3.5152342700958252, 3.3081491708755495, 3.631723232269287, 3.4103569412231445, 3.5419870948791505, 3.466613187789917, 3.7215825843811037, 3.487019019126892, 3.249955735206604, 3.114084506034851]\n"
     ]
    },
    {
     "name": "stderr",
     "output_type": "stream",
     "text": [
      "\n"
     ]
    },
    {
     "name": "stdout",
     "output_type": "stream",
     "text": [
      "epoch: 60 Test mAP: 0.008113626390695572 Train mAP: 0.8830795884132385\n",
      "Test mAP Array: [0.0, 0.0, 0.02127656154334545, 0.010204067453742027, 0.0051215216517448425, 0.014166646637022495, 0.03316193446516991, 0.003313692519441247, 0.026041634380817413, 0.0044200788252055645, 0.021867142990231514, 0.0007518788916058838, 0.008113626390695572]\n",
      "Train mAP Array: [0.0, 0.0747547596693039, 0.5053293108940125, 0.7937700748443604, 0.9663692712783813, 0.9874552488327026, 0.9544763565063477, 0.9058959484100342, 0.7671000361442566, 0.7827416658401489, 0.8842312693595886, 0.8449891209602356, 0.8830795884132385]\n",
      "=> Saving checkpoint\n"
     ]
    },
    {
     "name": "stderr",
     "output_type": "stream",
     "text": [
      "100%|██████████| 25/25 [00:12<00:00,  2.01it/s, loss=4.03]\n"
     ]
    },
    {
     "name": "stdout",
     "output_type": "stream",
     "text": [
      "Mean Loss Array: [109.72338996887207, 44.82798828125, 32.273617362976076, 26.064711532592774, 21.157442321777342, 19.115713691711427, 16.144016456604003, 14.384355735778808, 13.049383049011231, 12.153732318878173, 11.268043804168702, 10.582560024261475, 9.440228748321534, 9.014247779846192, 8.482091827392578, 8.003567943572998, 7.432519369125366, 7.155730819702148, 6.746190195083618, 6.142616205215454, 6.142941875457764, 5.743178958892822, 5.321213102340698, 5.176215934753418, 4.775535774230957, 4.601470146179199, 4.661863927841186, 4.357816190719604, 4.063107490539551, 3.9366776371002197, 3.8242201232910156, 3.982276134490967, 3.5431699085235597, 3.6115941429138183, 3.6431439113616944, 3.610076675415039, 3.685580883026123, 3.7001155853271483, 3.8652588748931884, 4.324375524520874, 4.284564528465271, 4.347878742218017, 3.902965383529663, 4.126591539382934, 3.909240999221802, 3.7352996635437012, 3.7414236068725586, 3.9067931318283082, 4.026785469055175, 3.6361935329437256, 3.5152342700958252, 3.3081491708755495, 3.631723232269287, 3.4103569412231445, 3.5419870948791505, 3.466613187789917, 3.7215825843811037, 3.487019019126892, 3.249955735206604, 3.114084506034851, 3.0858022928237916]\n"
     ]
    },
    {
     "name": "stderr",
     "output_type": "stream",
     "text": [
      "100%|██████████| 25/25 [00:12<00:00,  1.92it/s, loss=1.99]\n"
     ]
    },
    {
     "name": "stdout",
     "output_type": "stream",
     "text": [
      "Mean Loss Array: [109.72338996887207, 44.82798828125, 32.273617362976076, 26.064711532592774, 21.157442321777342, 19.115713691711427, 16.144016456604003, 14.384355735778808, 13.049383049011231, 12.153732318878173, 11.268043804168702, 10.582560024261475, 9.440228748321534, 9.014247779846192, 8.482091827392578, 8.003567943572998, 7.432519369125366, 7.155730819702148, 6.746190195083618, 6.142616205215454, 6.142941875457764, 5.743178958892822, 5.321213102340698, 5.176215934753418, 4.775535774230957, 4.601470146179199, 4.661863927841186, 4.357816190719604, 4.063107490539551, 3.9366776371002197, 3.8242201232910156, 3.982276134490967, 3.5431699085235597, 3.6115941429138183, 3.6431439113616944, 3.610076675415039, 3.685580883026123, 3.7001155853271483, 3.8652588748931884, 4.324375524520874, 4.284564528465271, 4.347878742218017, 3.902965383529663, 4.126591539382934, 3.909240999221802, 3.7352996635437012, 3.7414236068725586, 3.9067931318283082, 4.026785469055175, 3.6361935329437256, 3.5152342700958252, 3.3081491708755495, 3.631723232269287, 3.4103569412231445, 3.5419870948791505, 3.466613187789917, 3.7215825843811037, 3.487019019126892, 3.249955735206604, 3.114084506034851, 3.0858022928237916, 2.8493510723114013]\n"
     ]
    },
    {
     "name": "stderr",
     "output_type": "stream",
     "text": [
      "100%|██████████| 25/25 [00:11<00:00,  2.18it/s, loss=3.14]\n"
     ]
    },
    {
     "name": "stdout",
     "output_type": "stream",
     "text": [
      "Mean Loss Array: [109.72338996887207, 44.82798828125, 32.273617362976076, 26.064711532592774, 21.157442321777342, 19.115713691711427, 16.144016456604003, 14.384355735778808, 13.049383049011231, 12.153732318878173, 11.268043804168702, 10.582560024261475, 9.440228748321534, 9.014247779846192, 8.482091827392578, 8.003567943572998, 7.432519369125366, 7.155730819702148, 6.746190195083618, 6.142616205215454, 6.142941875457764, 5.743178958892822, 5.321213102340698, 5.176215934753418, 4.775535774230957, 4.601470146179199, 4.661863927841186, 4.357816190719604, 4.063107490539551, 3.9366776371002197, 3.8242201232910156, 3.982276134490967, 3.5431699085235597, 3.6115941429138183, 3.6431439113616944, 3.610076675415039, 3.685580883026123, 3.7001155853271483, 3.8652588748931884, 4.324375524520874, 4.284564528465271, 4.347878742218017, 3.902965383529663, 4.126591539382934, 3.909240999221802, 3.7352996635437012, 3.7414236068725586, 3.9067931318283082, 4.026785469055175, 3.6361935329437256, 3.5152342700958252, 3.3081491708755495, 3.631723232269287, 3.4103569412231445, 3.5419870948791505, 3.466613187789917, 3.7215825843811037, 3.487019019126892, 3.249955735206604, 3.114084506034851, 3.0858022928237916, 2.8493510723114013, 2.7015558958053587]\n"
     ]
    },
    {
     "name": "stderr",
     "output_type": "stream",
     "text": [
      "100%|██████████| 25/25 [00:10<00:00,  2.42it/s, loss=2.53]\n"
     ]
    },
    {
     "name": "stdout",
     "output_type": "stream",
     "text": [
      "Mean Loss Array: [109.72338996887207, 44.82798828125, 32.273617362976076, 26.064711532592774, 21.157442321777342, 19.115713691711427, 16.144016456604003, 14.384355735778808, 13.049383049011231, 12.153732318878173, 11.268043804168702, 10.582560024261475, 9.440228748321534, 9.014247779846192, 8.482091827392578, 8.003567943572998, 7.432519369125366, 7.155730819702148, 6.746190195083618, 6.142616205215454, 6.142941875457764, 5.743178958892822, 5.321213102340698, 5.176215934753418, 4.775535774230957, 4.601470146179199, 4.661863927841186, 4.357816190719604, 4.063107490539551, 3.9366776371002197, 3.8242201232910156, 3.982276134490967, 3.5431699085235597, 3.6115941429138183, 3.6431439113616944, 3.610076675415039, 3.685580883026123, 3.7001155853271483, 3.8652588748931884, 4.324375524520874, 4.284564528465271, 4.347878742218017, 3.902965383529663, 4.126591539382934, 3.909240999221802, 3.7352996635437012, 3.7414236068725586, 3.9067931318283082, 4.026785469055175, 3.6361935329437256, 3.5152342700958252, 3.3081491708755495, 3.631723232269287, 3.4103569412231445, 3.5419870948791505, 3.466613187789917, 3.7215825843811037, 3.487019019126892, 3.249955735206604, 3.114084506034851, 3.0858022928237916, 2.8493510723114013, 2.7015558958053587, 2.614822993278503]\n"
     ]
    },
    {
     "name": "stderr",
     "output_type": "stream",
     "text": [
      "100%|██████████| 25/25 [00:11<00:00,  2.19it/s, loss=2.48]"
     ]
    },
    {
     "name": "stdout",
     "output_type": "stream",
     "text": [
      "Mean Loss Array: [109.72338996887207, 44.82798828125, 32.273617362976076, 26.064711532592774, 21.157442321777342, 19.115713691711427, 16.144016456604003, 14.384355735778808, 13.049383049011231, 12.153732318878173, 11.268043804168702, 10.582560024261475, 9.440228748321534, 9.014247779846192, 8.482091827392578, 8.003567943572998, 7.432519369125366, 7.155730819702148, 6.746190195083618, 6.142616205215454, 6.142941875457764, 5.743178958892822, 5.321213102340698, 5.176215934753418, 4.775535774230957, 4.601470146179199, 4.661863927841186, 4.357816190719604, 4.063107490539551, 3.9366776371002197, 3.8242201232910156, 3.982276134490967, 3.5431699085235597, 3.6115941429138183, 3.6431439113616944, 3.610076675415039, 3.685580883026123, 3.7001155853271483, 3.8652588748931884, 4.324375524520874, 4.284564528465271, 4.347878742218017, 3.902965383529663, 4.126591539382934, 3.909240999221802, 3.7352996635437012, 3.7414236068725586, 3.9067931318283082, 4.026785469055175, 3.6361935329437256, 3.5152342700958252, 3.3081491708755495, 3.631723232269287, 3.4103569412231445, 3.5419870948791505, 3.466613187789917, 3.7215825843811037, 3.487019019126892, 3.249955735206604, 3.114084506034851, 3.0858022928237916, 2.8493510723114013, 2.7015558958053587, 2.614822993278503, 2.4843905448913572]\n"
     ]
    },
    {
     "name": "stderr",
     "output_type": "stream",
     "text": [
      "\n"
     ]
    },
    {
     "name": "stdout",
     "output_type": "stream",
     "text": [
      "epoch: 65 Test mAP: 0.013275040313601494 Train mAP: 0.9306423664093018\n",
      "Test mAP Array: [0.0, 0.0, 0.02127656154334545, 0.010204067453742027, 0.0051215216517448425, 0.014166646637022495, 0.03316193446516991, 0.003313692519441247, 0.026041634380817413, 0.0044200788252055645, 0.021867142990231514, 0.0007518788916058838, 0.008113626390695572, 0.013275040313601494]\n",
      "Train mAP Array: [0.0, 0.0747547596693039, 0.5053293108940125, 0.7937700748443604, 0.9663692712783813, 0.9874552488327026, 0.9544763565063477, 0.9058959484100342, 0.7671000361442566, 0.7827416658401489, 0.8842312693595886, 0.8449891209602356, 0.8830795884132385, 0.9306423664093018]\n",
      "=> Saving checkpoint\n"
     ]
    },
    {
     "name": "stderr",
     "output_type": "stream",
     "text": [
      "100%|██████████| 25/25 [00:12<00:00,  2.04it/s, loss=2.32]\n"
     ]
    },
    {
     "name": "stdout",
     "output_type": "stream",
     "text": [
      "Mean Loss Array: [109.72338996887207, 44.82798828125, 32.273617362976076, 26.064711532592774, 21.157442321777342, 19.115713691711427, 16.144016456604003, 14.384355735778808, 13.049383049011231, 12.153732318878173, 11.268043804168702, 10.582560024261475, 9.440228748321534, 9.014247779846192, 8.482091827392578, 8.003567943572998, 7.432519369125366, 7.155730819702148, 6.746190195083618, 6.142616205215454, 6.142941875457764, 5.743178958892822, 5.321213102340698, 5.176215934753418, 4.775535774230957, 4.601470146179199, 4.661863927841186, 4.357816190719604, 4.063107490539551, 3.9366776371002197, 3.8242201232910156, 3.982276134490967, 3.5431699085235597, 3.6115941429138183, 3.6431439113616944, 3.610076675415039, 3.685580883026123, 3.7001155853271483, 3.8652588748931884, 4.324375524520874, 4.284564528465271, 4.347878742218017, 3.902965383529663, 4.126591539382934, 3.909240999221802, 3.7352996635437012, 3.7414236068725586, 3.9067931318283082, 4.026785469055175, 3.6361935329437256, 3.5152342700958252, 3.3081491708755495, 3.631723232269287, 3.4103569412231445, 3.5419870948791505, 3.466613187789917, 3.7215825843811037, 3.487019019126892, 3.249955735206604, 3.114084506034851, 3.0858022928237916, 2.8493510723114013, 2.7015558958053587, 2.614822993278503, 2.4843905448913572, 2.6212459993362427]\n"
     ]
    },
    {
     "name": "stderr",
     "output_type": "stream",
     "text": [
      "100%|██████████| 25/25 [00:12<00:00,  2.02it/s, loss=1.96]\n"
     ]
    },
    {
     "name": "stdout",
     "output_type": "stream",
     "text": [
      "Mean Loss Array: [109.72338996887207, 44.82798828125, 32.273617362976076, 26.064711532592774, 21.157442321777342, 19.115713691711427, 16.144016456604003, 14.384355735778808, 13.049383049011231, 12.153732318878173, 11.268043804168702, 10.582560024261475, 9.440228748321534, 9.014247779846192, 8.482091827392578, 8.003567943572998, 7.432519369125366, 7.155730819702148, 6.746190195083618, 6.142616205215454, 6.142941875457764, 5.743178958892822, 5.321213102340698, 5.176215934753418, 4.775535774230957, 4.601470146179199, 4.661863927841186, 4.357816190719604, 4.063107490539551, 3.9366776371002197, 3.8242201232910156, 3.982276134490967, 3.5431699085235597, 3.6115941429138183, 3.6431439113616944, 3.610076675415039, 3.685580883026123, 3.7001155853271483, 3.8652588748931884, 4.324375524520874, 4.284564528465271, 4.347878742218017, 3.902965383529663, 4.126591539382934, 3.909240999221802, 3.7352996635437012, 3.7414236068725586, 3.9067931318283082, 4.026785469055175, 3.6361935329437256, 3.5152342700958252, 3.3081491708755495, 3.631723232269287, 3.4103569412231445, 3.5419870948791505, 3.466613187789917, 3.7215825843811037, 3.487019019126892, 3.249955735206604, 3.114084506034851, 3.0858022928237916, 2.8493510723114013, 2.7015558958053587, 2.614822993278503, 2.4843905448913572, 2.6212459993362427, 2.6377088594436646]\n"
     ]
    },
    {
     "name": "stderr",
     "output_type": "stream",
     "text": [
      "100%|██████████| 25/25 [00:11<00:00,  2.21it/s, loss=2.54]\n"
     ]
    },
    {
     "name": "stdout",
     "output_type": "stream",
     "text": [
      "Mean Loss Array: [109.72338996887207, 44.82798828125, 32.273617362976076, 26.064711532592774, 21.157442321777342, 19.115713691711427, 16.144016456604003, 14.384355735778808, 13.049383049011231, 12.153732318878173, 11.268043804168702, 10.582560024261475, 9.440228748321534, 9.014247779846192, 8.482091827392578, 8.003567943572998, 7.432519369125366, 7.155730819702148, 6.746190195083618, 6.142616205215454, 6.142941875457764, 5.743178958892822, 5.321213102340698, 5.176215934753418, 4.775535774230957, 4.601470146179199, 4.661863927841186, 4.357816190719604, 4.063107490539551, 3.9366776371002197, 3.8242201232910156, 3.982276134490967, 3.5431699085235597, 3.6115941429138183, 3.6431439113616944, 3.610076675415039, 3.685580883026123, 3.7001155853271483, 3.8652588748931884, 4.324375524520874, 4.284564528465271, 4.347878742218017, 3.902965383529663, 4.126591539382934, 3.909240999221802, 3.7352996635437012, 3.7414236068725586, 3.9067931318283082, 4.026785469055175, 3.6361935329437256, 3.5152342700958252, 3.3081491708755495, 3.631723232269287, 3.4103569412231445, 3.5419870948791505, 3.466613187789917, 3.7215825843811037, 3.487019019126892, 3.249955735206604, 3.114084506034851, 3.0858022928237916, 2.8493510723114013, 2.7015558958053587, 2.614822993278503, 2.4843905448913572, 2.6212459993362427, 2.6377088594436646, 2.6975906467437745]\n"
     ]
    },
    {
     "name": "stderr",
     "output_type": "stream",
     "text": [
      "100%|██████████| 25/25 [00:10<00:00,  2.46it/s, loss=2.25]\n"
     ]
    },
    {
     "name": "stdout",
     "output_type": "stream",
     "text": [
      "Mean Loss Array: [109.72338996887207, 44.82798828125, 32.273617362976076, 26.064711532592774, 21.157442321777342, 19.115713691711427, 16.144016456604003, 14.384355735778808, 13.049383049011231, 12.153732318878173, 11.268043804168702, 10.582560024261475, 9.440228748321534, 9.014247779846192, 8.482091827392578, 8.003567943572998, 7.432519369125366, 7.155730819702148, 6.746190195083618, 6.142616205215454, 6.142941875457764, 5.743178958892822, 5.321213102340698, 5.176215934753418, 4.775535774230957, 4.601470146179199, 4.661863927841186, 4.357816190719604, 4.063107490539551, 3.9366776371002197, 3.8242201232910156, 3.982276134490967, 3.5431699085235597, 3.6115941429138183, 3.6431439113616944, 3.610076675415039, 3.685580883026123, 3.7001155853271483, 3.8652588748931884, 4.324375524520874, 4.284564528465271, 4.347878742218017, 3.902965383529663, 4.126591539382934, 3.909240999221802, 3.7352996635437012, 3.7414236068725586, 3.9067931318283082, 4.026785469055175, 3.6361935329437256, 3.5152342700958252, 3.3081491708755495, 3.631723232269287, 3.4103569412231445, 3.5419870948791505, 3.466613187789917, 3.7215825843811037, 3.487019019126892, 3.249955735206604, 3.114084506034851, 3.0858022928237916, 2.8493510723114013, 2.7015558958053587, 2.614822993278503, 2.4843905448913572, 2.6212459993362427, 2.6377088594436646, 2.6975906467437745, 2.7389305591583253]\n"
     ]
    },
    {
     "name": "stderr",
     "output_type": "stream",
     "text": [
      "100%|██████████| 25/25 [00:11<00:00,  2.18it/s, loss=2.92]"
     ]
    },
    {
     "name": "stdout",
     "output_type": "stream",
     "text": [
      "Mean Loss Array: [109.72338996887207, 44.82798828125, 32.273617362976076, 26.064711532592774, 21.157442321777342, 19.115713691711427, 16.144016456604003, 14.384355735778808, 13.049383049011231, 12.153732318878173, 11.268043804168702, 10.582560024261475, 9.440228748321534, 9.014247779846192, 8.482091827392578, 8.003567943572998, 7.432519369125366, 7.155730819702148, 6.746190195083618, 6.142616205215454, 6.142941875457764, 5.743178958892822, 5.321213102340698, 5.176215934753418, 4.775535774230957, 4.601470146179199, 4.661863927841186, 4.357816190719604, 4.063107490539551, 3.9366776371002197, 3.8242201232910156, 3.982276134490967, 3.5431699085235597, 3.6115941429138183, 3.6431439113616944, 3.610076675415039, 3.685580883026123, 3.7001155853271483, 3.8652588748931884, 4.324375524520874, 4.284564528465271, 4.347878742218017, 3.902965383529663, 4.126591539382934, 3.909240999221802, 3.7352996635437012, 3.7414236068725586, 3.9067931318283082, 4.026785469055175, 3.6361935329437256, 3.5152342700958252, 3.3081491708755495, 3.631723232269287, 3.4103569412231445, 3.5419870948791505, 3.466613187789917, 3.7215825843811037, 3.487019019126892, 3.249955735206604, 3.114084506034851, 3.0858022928237916, 2.8493510723114013, 2.7015558958053587, 2.614822993278503, 2.4843905448913572, 2.6212459993362427, 2.6377088594436646, 2.6975906467437745, 2.7389305591583253, 2.8232978200912475]\n"
     ]
    },
    {
     "name": "stderr",
     "output_type": "stream",
     "text": [
      "\n"
     ]
    },
    {
     "name": "stdout",
     "output_type": "stream",
     "text": [
      "epoch: 70 Test mAP: 0.010353523306548595 Train mAP: 0.8613497614860535\n",
      "Test mAP Array: [0.0, 0.0, 0.02127656154334545, 0.010204067453742027, 0.0051215216517448425, 0.014166646637022495, 0.03316193446516991, 0.003313692519441247, 0.026041634380817413, 0.0044200788252055645, 0.021867142990231514, 0.0007518788916058838, 0.008113626390695572, 0.013275040313601494, 0.010353523306548595]\n",
      "Train mAP Array: [0.0, 0.0747547596693039, 0.5053293108940125, 0.7937700748443604, 0.9663692712783813, 0.9874552488327026, 0.9544763565063477, 0.9058959484100342, 0.7671000361442566, 0.7827416658401489, 0.8842312693595886, 0.8449891209602356, 0.8830795884132385, 0.9306423664093018, 0.8613497614860535]\n",
      "=> Saving checkpoint\n"
     ]
    },
    {
     "name": "stderr",
     "output_type": "stream",
     "text": [
      "100%|██████████| 25/25 [00:12<00:00,  2.05it/s, loss=3.38]\n"
     ]
    },
    {
     "name": "stdout",
     "output_type": "stream",
     "text": [
      "Mean Loss Array: [109.72338996887207, 44.82798828125, 32.273617362976076, 26.064711532592774, 21.157442321777342, 19.115713691711427, 16.144016456604003, 14.384355735778808, 13.049383049011231, 12.153732318878173, 11.268043804168702, 10.582560024261475, 9.440228748321534, 9.014247779846192, 8.482091827392578, 8.003567943572998, 7.432519369125366, 7.155730819702148, 6.746190195083618, 6.142616205215454, 6.142941875457764, 5.743178958892822, 5.321213102340698, 5.176215934753418, 4.775535774230957, 4.601470146179199, 4.661863927841186, 4.357816190719604, 4.063107490539551, 3.9366776371002197, 3.8242201232910156, 3.982276134490967, 3.5431699085235597, 3.6115941429138183, 3.6431439113616944, 3.610076675415039, 3.685580883026123, 3.7001155853271483, 3.8652588748931884, 4.324375524520874, 4.284564528465271, 4.347878742218017, 3.902965383529663, 4.126591539382934, 3.909240999221802, 3.7352996635437012, 3.7414236068725586, 3.9067931318283082, 4.026785469055175, 3.6361935329437256, 3.5152342700958252, 3.3081491708755495, 3.631723232269287, 3.4103569412231445, 3.5419870948791505, 3.466613187789917, 3.7215825843811037, 3.487019019126892, 3.249955735206604, 3.114084506034851, 3.0858022928237916, 2.8493510723114013, 2.7015558958053587, 2.614822993278503, 2.4843905448913572, 2.6212459993362427, 2.6377088594436646, 2.6975906467437745, 2.7389305591583253, 2.8232978200912475, 2.72934965133667]\n"
     ]
    },
    {
     "name": "stderr",
     "output_type": "stream",
     "text": [
      "100%|██████████| 25/25 [00:12<00:00,  2.01it/s, loss=2.05]\n"
     ]
    },
    {
     "name": "stdout",
     "output_type": "stream",
     "text": [
      "Mean Loss Array: [109.72338996887207, 44.82798828125, 32.273617362976076, 26.064711532592774, 21.157442321777342, 19.115713691711427, 16.144016456604003, 14.384355735778808, 13.049383049011231, 12.153732318878173, 11.268043804168702, 10.582560024261475, 9.440228748321534, 9.014247779846192, 8.482091827392578, 8.003567943572998, 7.432519369125366, 7.155730819702148, 6.746190195083618, 6.142616205215454, 6.142941875457764, 5.743178958892822, 5.321213102340698, 5.176215934753418, 4.775535774230957, 4.601470146179199, 4.661863927841186, 4.357816190719604, 4.063107490539551, 3.9366776371002197, 3.8242201232910156, 3.982276134490967, 3.5431699085235597, 3.6115941429138183, 3.6431439113616944, 3.610076675415039, 3.685580883026123, 3.7001155853271483, 3.8652588748931884, 4.324375524520874, 4.284564528465271, 4.347878742218017, 3.902965383529663, 4.126591539382934, 3.909240999221802, 3.7352996635437012, 3.7414236068725586, 3.9067931318283082, 4.026785469055175, 3.6361935329437256, 3.5152342700958252, 3.3081491708755495, 3.631723232269287, 3.4103569412231445, 3.5419870948791505, 3.466613187789917, 3.7215825843811037, 3.487019019126892, 3.249955735206604, 3.114084506034851, 3.0858022928237916, 2.8493510723114013, 2.7015558958053587, 2.614822993278503, 2.4843905448913572, 2.6212459993362427, 2.6377088594436646, 2.6975906467437745, 2.7389305591583253, 2.8232978200912475, 2.72934965133667, 2.646454849243164]\n"
     ]
    },
    {
     "name": "stderr",
     "output_type": "stream",
     "text": [
      "100%|██████████| 25/25 [00:11<00:00,  2.11it/s, loss=3.07]\n"
     ]
    },
    {
     "name": "stdout",
     "output_type": "stream",
     "text": [
      "Mean Loss Array: [109.72338996887207, 44.82798828125, 32.273617362976076, 26.064711532592774, 21.157442321777342, 19.115713691711427, 16.144016456604003, 14.384355735778808, 13.049383049011231, 12.153732318878173, 11.268043804168702, 10.582560024261475, 9.440228748321534, 9.014247779846192, 8.482091827392578, 8.003567943572998, 7.432519369125366, 7.155730819702148, 6.746190195083618, 6.142616205215454, 6.142941875457764, 5.743178958892822, 5.321213102340698, 5.176215934753418, 4.775535774230957, 4.601470146179199, 4.661863927841186, 4.357816190719604, 4.063107490539551, 3.9366776371002197, 3.8242201232910156, 3.982276134490967, 3.5431699085235597, 3.6115941429138183, 3.6431439113616944, 3.610076675415039, 3.685580883026123, 3.7001155853271483, 3.8652588748931884, 4.324375524520874, 4.284564528465271, 4.347878742218017, 3.902965383529663, 4.126591539382934, 3.909240999221802, 3.7352996635437012, 3.7414236068725586, 3.9067931318283082, 4.026785469055175, 3.6361935329437256, 3.5152342700958252, 3.3081491708755495, 3.631723232269287, 3.4103569412231445, 3.5419870948791505, 3.466613187789917, 3.7215825843811037, 3.487019019126892, 3.249955735206604, 3.114084506034851, 3.0858022928237916, 2.8493510723114013, 2.7015558958053587, 2.614822993278503, 2.4843905448913572, 2.6212459993362427, 2.6377088594436646, 2.6975906467437745, 2.7389305591583253, 2.8232978200912475, 2.72934965133667, 2.646454849243164, 2.613568410873413]\n"
     ]
    },
    {
     "name": "stderr",
     "output_type": "stream",
     "text": [
      "100%|██████████| 25/25 [00:11<00:00,  2.09it/s, loss=2.22]\n"
     ]
    },
    {
     "name": "stdout",
     "output_type": "stream",
     "text": [
      "Mean Loss Array: [109.72338996887207, 44.82798828125, 32.273617362976076, 26.064711532592774, 21.157442321777342, 19.115713691711427, 16.144016456604003, 14.384355735778808, 13.049383049011231, 12.153732318878173, 11.268043804168702, 10.582560024261475, 9.440228748321534, 9.014247779846192, 8.482091827392578, 8.003567943572998, 7.432519369125366, 7.155730819702148, 6.746190195083618, 6.142616205215454, 6.142941875457764, 5.743178958892822, 5.321213102340698, 5.176215934753418, 4.775535774230957, 4.601470146179199, 4.661863927841186, 4.357816190719604, 4.063107490539551, 3.9366776371002197, 3.8242201232910156, 3.982276134490967, 3.5431699085235597, 3.6115941429138183, 3.6431439113616944, 3.610076675415039, 3.685580883026123, 3.7001155853271483, 3.8652588748931884, 4.324375524520874, 4.284564528465271, 4.347878742218017, 3.902965383529663, 4.126591539382934, 3.909240999221802, 3.7352996635437012, 3.7414236068725586, 3.9067931318283082, 4.026785469055175, 3.6361935329437256, 3.5152342700958252, 3.3081491708755495, 3.631723232269287, 3.4103569412231445, 3.5419870948791505, 3.466613187789917, 3.7215825843811037, 3.487019019126892, 3.249955735206604, 3.114084506034851, 3.0858022928237916, 2.8493510723114013, 2.7015558958053587, 2.614822993278503, 2.4843905448913572, 2.6212459993362427, 2.6377088594436646, 2.6975906467437745, 2.7389305591583253, 2.8232978200912475, 2.72934965133667, 2.646454849243164, 2.613568410873413, 2.5136814594268797]\n"
     ]
    },
    {
     "name": "stderr",
     "output_type": "stream",
     "text": [
      "100%|██████████| 25/25 [00:09<00:00,  2.61it/s, loss=2.71]"
     ]
    },
    {
     "name": "stdout",
     "output_type": "stream",
     "text": [
      "Mean Loss Array: [109.72338996887207, 44.82798828125, 32.273617362976076, 26.064711532592774, 21.157442321777342, 19.115713691711427, 16.144016456604003, 14.384355735778808, 13.049383049011231, 12.153732318878173, 11.268043804168702, 10.582560024261475, 9.440228748321534, 9.014247779846192, 8.482091827392578, 8.003567943572998, 7.432519369125366, 7.155730819702148, 6.746190195083618, 6.142616205215454, 6.142941875457764, 5.743178958892822, 5.321213102340698, 5.176215934753418, 4.775535774230957, 4.601470146179199, 4.661863927841186, 4.357816190719604, 4.063107490539551, 3.9366776371002197, 3.8242201232910156, 3.982276134490967, 3.5431699085235597, 3.6115941429138183, 3.6431439113616944, 3.610076675415039, 3.685580883026123, 3.7001155853271483, 3.8652588748931884, 4.324375524520874, 4.284564528465271, 4.347878742218017, 3.902965383529663, 4.126591539382934, 3.909240999221802, 3.7352996635437012, 3.7414236068725586, 3.9067931318283082, 4.026785469055175, 3.6361935329437256, 3.5152342700958252, 3.3081491708755495, 3.631723232269287, 3.4103569412231445, 3.5419870948791505, 3.466613187789917, 3.7215825843811037, 3.487019019126892, 3.249955735206604, 3.114084506034851, 3.0858022928237916, 2.8493510723114013, 2.7015558958053587, 2.614822993278503, 2.4843905448913572, 2.6212459993362427, 2.6377088594436646, 2.6975906467437745, 2.7389305591583253, 2.8232978200912475, 2.72934965133667, 2.646454849243164, 2.613568410873413, 2.5136814594268797, 2.5978206110000612]\n"
     ]
    },
    {
     "name": "stderr",
     "output_type": "stream",
     "text": [
      "\n"
     ]
    },
    {
     "name": "stdout",
     "output_type": "stream",
     "text": [
      "epoch: 75 Test mAP: 0.002705624559894204 Train mAP: 0.8504751920700073\n",
      "Test mAP Array: [0.0, 0.0, 0.02127656154334545, 0.010204067453742027, 0.0051215216517448425, 0.014166646637022495, 0.03316193446516991, 0.003313692519441247, 0.026041634380817413, 0.0044200788252055645, 0.021867142990231514, 0.0007518788916058838, 0.008113626390695572, 0.013275040313601494, 0.010353523306548595, 0.002705624559894204]\n",
      "Train mAP Array: [0.0, 0.0747547596693039, 0.5053293108940125, 0.7937700748443604, 0.9663692712783813, 0.9874552488327026, 0.9544763565063477, 0.9058959484100342, 0.7671000361442566, 0.7827416658401489, 0.8842312693595886, 0.8449891209602356, 0.8830795884132385, 0.9306423664093018, 0.8613497614860535, 0.8504751920700073]\n",
      "=> Saving checkpoint\n"
     ]
    },
    {
     "name": "stderr",
     "output_type": "stream",
     "text": [
      "100%|██████████| 25/25 [00:11<00:00,  2.18it/s, loss=2.15]\n"
     ]
    },
    {
     "name": "stdout",
     "output_type": "stream",
     "text": [
      "Mean Loss Array: [109.72338996887207, 44.82798828125, 32.273617362976076, 26.064711532592774, 21.157442321777342, 19.115713691711427, 16.144016456604003, 14.384355735778808, 13.049383049011231, 12.153732318878173, 11.268043804168702, 10.582560024261475, 9.440228748321534, 9.014247779846192, 8.482091827392578, 8.003567943572998, 7.432519369125366, 7.155730819702148, 6.746190195083618, 6.142616205215454, 6.142941875457764, 5.743178958892822, 5.321213102340698, 5.176215934753418, 4.775535774230957, 4.601470146179199, 4.661863927841186, 4.357816190719604, 4.063107490539551, 3.9366776371002197, 3.8242201232910156, 3.982276134490967, 3.5431699085235597, 3.6115941429138183, 3.6431439113616944, 3.610076675415039, 3.685580883026123, 3.7001155853271483, 3.8652588748931884, 4.324375524520874, 4.284564528465271, 4.347878742218017, 3.902965383529663, 4.126591539382934, 3.909240999221802, 3.7352996635437012, 3.7414236068725586, 3.9067931318283082, 4.026785469055175, 3.6361935329437256, 3.5152342700958252, 3.3081491708755495, 3.631723232269287, 3.4103569412231445, 3.5419870948791505, 3.466613187789917, 3.7215825843811037, 3.487019019126892, 3.249955735206604, 3.114084506034851, 3.0858022928237916, 2.8493510723114013, 2.7015558958053587, 2.614822993278503, 2.4843905448913572, 2.6212459993362427, 2.6377088594436646, 2.6975906467437745, 2.7389305591583253, 2.8232978200912475, 2.72934965133667, 2.646454849243164, 2.613568410873413, 2.5136814594268797, 2.5978206110000612, 2.6254583644866942]\n"
     ]
    },
    {
     "name": "stderr",
     "output_type": "stream",
     "text": [
      "100%|██████████| 25/25 [00:11<00:00,  2.20it/s, loss=2.54]\n"
     ]
    },
    {
     "name": "stdout",
     "output_type": "stream",
     "text": [
      "Mean Loss Array: [109.72338996887207, 44.82798828125, 32.273617362976076, 26.064711532592774, 21.157442321777342, 19.115713691711427, 16.144016456604003, 14.384355735778808, 13.049383049011231, 12.153732318878173, 11.268043804168702, 10.582560024261475, 9.440228748321534, 9.014247779846192, 8.482091827392578, 8.003567943572998, 7.432519369125366, 7.155730819702148, 6.746190195083618, 6.142616205215454, 6.142941875457764, 5.743178958892822, 5.321213102340698, 5.176215934753418, 4.775535774230957, 4.601470146179199, 4.661863927841186, 4.357816190719604, 4.063107490539551, 3.9366776371002197, 3.8242201232910156, 3.982276134490967, 3.5431699085235597, 3.6115941429138183, 3.6431439113616944, 3.610076675415039, 3.685580883026123, 3.7001155853271483, 3.8652588748931884, 4.324375524520874, 4.284564528465271, 4.347878742218017, 3.902965383529663, 4.126591539382934, 3.909240999221802, 3.7352996635437012, 3.7414236068725586, 3.9067931318283082, 4.026785469055175, 3.6361935329437256, 3.5152342700958252, 3.3081491708755495, 3.631723232269287, 3.4103569412231445, 3.5419870948791505, 3.466613187789917, 3.7215825843811037, 3.487019019126892, 3.249955735206604, 3.114084506034851, 3.0858022928237916, 2.8493510723114013, 2.7015558958053587, 2.614822993278503, 2.4843905448913572, 2.6212459993362427, 2.6377088594436646, 2.6975906467437745, 2.7389305591583253, 2.8232978200912475, 2.72934965133667, 2.646454849243164, 2.613568410873413, 2.5136814594268797, 2.5978206110000612, 2.6254583644866942, 2.4057094049453736]\n"
     ]
    },
    {
     "name": "stderr",
     "output_type": "stream",
     "text": [
      "100%|██████████| 25/25 [00:11<00:00,  2.12it/s, loss=2.47]\n"
     ]
    },
    {
     "name": "stdout",
     "output_type": "stream",
     "text": [
      "Mean Loss Array: [109.72338996887207, 44.82798828125, 32.273617362976076, 26.064711532592774, 21.157442321777342, 19.115713691711427, 16.144016456604003, 14.384355735778808, 13.049383049011231, 12.153732318878173, 11.268043804168702, 10.582560024261475, 9.440228748321534, 9.014247779846192, 8.482091827392578, 8.003567943572998, 7.432519369125366, 7.155730819702148, 6.746190195083618, 6.142616205215454, 6.142941875457764, 5.743178958892822, 5.321213102340698, 5.176215934753418, 4.775535774230957, 4.601470146179199, 4.661863927841186, 4.357816190719604, 4.063107490539551, 3.9366776371002197, 3.8242201232910156, 3.982276134490967, 3.5431699085235597, 3.6115941429138183, 3.6431439113616944, 3.610076675415039, 3.685580883026123, 3.7001155853271483, 3.8652588748931884, 4.324375524520874, 4.284564528465271, 4.347878742218017, 3.902965383529663, 4.126591539382934, 3.909240999221802, 3.7352996635437012, 3.7414236068725586, 3.9067931318283082, 4.026785469055175, 3.6361935329437256, 3.5152342700958252, 3.3081491708755495, 3.631723232269287, 3.4103569412231445, 3.5419870948791505, 3.466613187789917, 3.7215825843811037, 3.487019019126892, 3.249955735206604, 3.114084506034851, 3.0858022928237916, 2.8493510723114013, 2.7015558958053587, 2.614822993278503, 2.4843905448913572, 2.6212459993362427, 2.6377088594436646, 2.6975906467437745, 2.7389305591583253, 2.8232978200912475, 2.72934965133667, 2.646454849243164, 2.613568410873413, 2.5136814594268797, 2.5978206110000612, 2.6254583644866942, 2.4057094049453736, 2.402720084190369]\n"
     ]
    },
    {
     "name": "stderr",
     "output_type": "stream",
     "text": [
      "100%|██████████| 25/25 [00:11<00:00,  2.11it/s, loss=1.36]\n"
     ]
    },
    {
     "name": "stdout",
     "output_type": "stream",
     "text": [
      "Mean Loss Array: [109.72338996887207, 44.82798828125, 32.273617362976076, 26.064711532592774, 21.157442321777342, 19.115713691711427, 16.144016456604003, 14.384355735778808, 13.049383049011231, 12.153732318878173, 11.268043804168702, 10.582560024261475, 9.440228748321534, 9.014247779846192, 8.482091827392578, 8.003567943572998, 7.432519369125366, 7.155730819702148, 6.746190195083618, 6.142616205215454, 6.142941875457764, 5.743178958892822, 5.321213102340698, 5.176215934753418, 4.775535774230957, 4.601470146179199, 4.661863927841186, 4.357816190719604, 4.063107490539551, 3.9366776371002197, 3.8242201232910156, 3.982276134490967, 3.5431699085235597, 3.6115941429138183, 3.6431439113616944, 3.610076675415039, 3.685580883026123, 3.7001155853271483, 3.8652588748931884, 4.324375524520874, 4.284564528465271, 4.347878742218017, 3.902965383529663, 4.126591539382934, 3.909240999221802, 3.7352996635437012, 3.7414236068725586, 3.9067931318283082, 4.026785469055175, 3.6361935329437256, 3.5152342700958252, 3.3081491708755495, 3.631723232269287, 3.4103569412231445, 3.5419870948791505, 3.466613187789917, 3.7215825843811037, 3.487019019126892, 3.249955735206604, 3.114084506034851, 3.0858022928237916, 2.8493510723114013, 2.7015558958053587, 2.614822993278503, 2.4843905448913572, 2.6212459993362427, 2.6377088594436646, 2.6975906467437745, 2.7389305591583253, 2.8232978200912475, 2.72934965133667, 2.646454849243164, 2.613568410873413, 2.5136814594268797, 2.5978206110000612, 2.6254583644866942, 2.4057094049453736, 2.402720084190369, 2.639316430091858]\n"
     ]
    },
    {
     "name": "stderr",
     "output_type": "stream",
     "text": [
      "100%|██████████| 25/25 [00:11<00:00,  2.12it/s, loss=2.61]"
     ]
    },
    {
     "name": "stdout",
     "output_type": "stream",
     "text": [
      "Mean Loss Array: [109.72338996887207, 44.82798828125, 32.273617362976076, 26.064711532592774, 21.157442321777342, 19.115713691711427, 16.144016456604003, 14.384355735778808, 13.049383049011231, 12.153732318878173, 11.268043804168702, 10.582560024261475, 9.440228748321534, 9.014247779846192, 8.482091827392578, 8.003567943572998, 7.432519369125366, 7.155730819702148, 6.746190195083618, 6.142616205215454, 6.142941875457764, 5.743178958892822, 5.321213102340698, 5.176215934753418, 4.775535774230957, 4.601470146179199, 4.661863927841186, 4.357816190719604, 4.063107490539551, 3.9366776371002197, 3.8242201232910156, 3.982276134490967, 3.5431699085235597, 3.6115941429138183, 3.6431439113616944, 3.610076675415039, 3.685580883026123, 3.7001155853271483, 3.8652588748931884, 4.324375524520874, 4.284564528465271, 4.347878742218017, 3.902965383529663, 4.126591539382934, 3.909240999221802, 3.7352996635437012, 3.7414236068725586, 3.9067931318283082, 4.026785469055175, 3.6361935329437256, 3.5152342700958252, 3.3081491708755495, 3.631723232269287, 3.4103569412231445, 3.5419870948791505, 3.466613187789917, 3.7215825843811037, 3.487019019126892, 3.249955735206604, 3.114084506034851, 3.0858022928237916, 2.8493510723114013, 2.7015558958053587, 2.614822993278503, 2.4843905448913572, 2.6212459993362427, 2.6377088594436646, 2.6975906467437745, 2.7389305591583253, 2.8232978200912475, 2.72934965133667, 2.646454849243164, 2.613568410873413, 2.5136814594268797, 2.5978206110000612, 2.6254583644866942, 2.4057094049453736, 2.402720084190369, 2.639316430091858, 2.774964299201965]\n"
     ]
    },
    {
     "name": "stderr",
     "output_type": "stream",
     "text": [
      "\n"
     ]
    },
    {
     "name": "stdout",
     "output_type": "stream",
     "text": [
      "epoch: 80 Test mAP: 0.044328223913908005 Train mAP: 0.8839361667633057\n",
      "Test mAP Array: [0.0, 0.0, 0.02127656154334545, 0.010204067453742027, 0.0051215216517448425, 0.014166646637022495, 0.03316193446516991, 0.003313692519441247, 0.026041634380817413, 0.0044200788252055645, 0.021867142990231514, 0.0007518788916058838, 0.008113626390695572, 0.013275040313601494, 0.010353523306548595, 0.002705624559894204, 0.044328223913908005]\n",
      "Train mAP Array: [0.0, 0.0747547596693039, 0.5053293108940125, 0.7937700748443604, 0.9663692712783813, 0.9874552488327026, 0.9544763565063477, 0.9058959484100342, 0.7671000361442566, 0.7827416658401489, 0.8842312693595886, 0.8449891209602356, 0.8830795884132385, 0.9306423664093018, 0.8613497614860535, 0.8504751920700073, 0.8839361667633057]\n",
      "=> Saving checkpoint\n"
     ]
    },
    {
     "name": "stderr",
     "output_type": "stream",
     "text": [
      "100%|██████████| 25/25 [00:14<00:00,  1.77it/s, loss=1.83]\n"
     ]
    },
    {
     "name": "stdout",
     "output_type": "stream",
     "text": [
      "Mean Loss Array: [109.72338996887207, 44.82798828125, 32.273617362976076, 26.064711532592774, 21.157442321777342, 19.115713691711427, 16.144016456604003, 14.384355735778808, 13.049383049011231, 12.153732318878173, 11.268043804168702, 10.582560024261475, 9.440228748321534, 9.014247779846192, 8.482091827392578, 8.003567943572998, 7.432519369125366, 7.155730819702148, 6.746190195083618, 6.142616205215454, 6.142941875457764, 5.743178958892822, 5.321213102340698, 5.176215934753418, 4.775535774230957, 4.601470146179199, 4.661863927841186, 4.357816190719604, 4.063107490539551, 3.9366776371002197, 3.8242201232910156, 3.982276134490967, 3.5431699085235597, 3.6115941429138183, 3.6431439113616944, 3.610076675415039, 3.685580883026123, 3.7001155853271483, 3.8652588748931884, 4.324375524520874, 4.284564528465271, 4.347878742218017, 3.902965383529663, 4.126591539382934, 3.909240999221802, 3.7352996635437012, 3.7414236068725586, 3.9067931318283082, 4.026785469055175, 3.6361935329437256, 3.5152342700958252, 3.3081491708755495, 3.631723232269287, 3.4103569412231445, 3.5419870948791505, 3.466613187789917, 3.7215825843811037, 3.487019019126892, 3.249955735206604, 3.114084506034851, 3.0858022928237916, 2.8493510723114013, 2.7015558958053587, 2.614822993278503, 2.4843905448913572, 2.6212459993362427, 2.6377088594436646, 2.6975906467437745, 2.7389305591583253, 2.8232978200912475, 2.72934965133667, 2.646454849243164, 2.613568410873413, 2.5136814594268797, 2.5978206110000612, 2.6254583644866942, 2.4057094049453736, 2.402720084190369, 2.639316430091858, 2.774964299201965, 2.754122519493103]\n"
     ]
    },
    {
     "name": "stderr",
     "output_type": "stream",
     "text": [
      "100%|██████████| 25/25 [00:12<00:00,  1.96it/s, loss=2.58]\n"
     ]
    },
    {
     "name": "stdout",
     "output_type": "stream",
     "text": [
      "Mean Loss Array: [109.72338996887207, 44.82798828125, 32.273617362976076, 26.064711532592774, 21.157442321777342, 19.115713691711427, 16.144016456604003, 14.384355735778808, 13.049383049011231, 12.153732318878173, 11.268043804168702, 10.582560024261475, 9.440228748321534, 9.014247779846192, 8.482091827392578, 8.003567943572998, 7.432519369125366, 7.155730819702148, 6.746190195083618, 6.142616205215454, 6.142941875457764, 5.743178958892822, 5.321213102340698, 5.176215934753418, 4.775535774230957, 4.601470146179199, 4.661863927841186, 4.357816190719604, 4.063107490539551, 3.9366776371002197, 3.8242201232910156, 3.982276134490967, 3.5431699085235597, 3.6115941429138183, 3.6431439113616944, 3.610076675415039, 3.685580883026123, 3.7001155853271483, 3.8652588748931884, 4.324375524520874, 4.284564528465271, 4.347878742218017, 3.902965383529663, 4.126591539382934, 3.909240999221802, 3.7352996635437012, 3.7414236068725586, 3.9067931318283082, 4.026785469055175, 3.6361935329437256, 3.5152342700958252, 3.3081491708755495, 3.631723232269287, 3.4103569412231445, 3.5419870948791505, 3.466613187789917, 3.7215825843811037, 3.487019019126892, 3.249955735206604, 3.114084506034851, 3.0858022928237916, 2.8493510723114013, 2.7015558958053587, 2.614822993278503, 2.4843905448913572, 2.6212459993362427, 2.6377088594436646, 2.6975906467437745, 2.7389305591583253, 2.8232978200912475, 2.72934965133667, 2.646454849243164, 2.613568410873413, 2.5136814594268797, 2.5978206110000612, 2.6254583644866942, 2.4057094049453736, 2.402720084190369, 2.639316430091858, 2.774964299201965, 2.754122519493103, 3.2175788402557375]\n"
     ]
    },
    {
     "name": "stderr",
     "output_type": "stream",
     "text": [
      "100%|██████████| 25/25 [00:10<00:00,  2.34it/s, loss=2.66]\n"
     ]
    },
    {
     "name": "stdout",
     "output_type": "stream",
     "text": [
      "Mean Loss Array: [109.72338996887207, 44.82798828125, 32.273617362976076, 26.064711532592774, 21.157442321777342, 19.115713691711427, 16.144016456604003, 14.384355735778808, 13.049383049011231, 12.153732318878173, 11.268043804168702, 10.582560024261475, 9.440228748321534, 9.014247779846192, 8.482091827392578, 8.003567943572998, 7.432519369125366, 7.155730819702148, 6.746190195083618, 6.142616205215454, 6.142941875457764, 5.743178958892822, 5.321213102340698, 5.176215934753418, 4.775535774230957, 4.601470146179199, 4.661863927841186, 4.357816190719604, 4.063107490539551, 3.9366776371002197, 3.8242201232910156, 3.982276134490967, 3.5431699085235597, 3.6115941429138183, 3.6431439113616944, 3.610076675415039, 3.685580883026123, 3.7001155853271483, 3.8652588748931884, 4.324375524520874, 4.284564528465271, 4.347878742218017, 3.902965383529663, 4.126591539382934, 3.909240999221802, 3.7352996635437012, 3.7414236068725586, 3.9067931318283082, 4.026785469055175, 3.6361935329437256, 3.5152342700958252, 3.3081491708755495, 3.631723232269287, 3.4103569412231445, 3.5419870948791505, 3.466613187789917, 3.7215825843811037, 3.487019019126892, 3.249955735206604, 3.114084506034851, 3.0858022928237916, 2.8493510723114013, 2.7015558958053587, 2.614822993278503, 2.4843905448913572, 2.6212459993362427, 2.6377088594436646, 2.6975906467437745, 2.7389305591583253, 2.8232978200912475, 2.72934965133667, 2.646454849243164, 2.613568410873413, 2.5136814594268797, 2.5978206110000612, 2.6254583644866942, 2.4057094049453736, 2.402720084190369, 2.639316430091858, 2.774964299201965, 2.754122519493103, 3.2175788402557375, 3.1085861253738405]\n"
     ]
    },
    {
     "name": "stderr",
     "output_type": "stream",
     "text": [
      "100%|██████████| 25/25 [00:10<00:00,  2.32it/s, loss=2.84]\n"
     ]
    },
    {
     "name": "stdout",
     "output_type": "stream",
     "text": [
      "Mean Loss Array: [109.72338996887207, 44.82798828125, 32.273617362976076, 26.064711532592774, 21.157442321777342, 19.115713691711427, 16.144016456604003, 14.384355735778808, 13.049383049011231, 12.153732318878173, 11.268043804168702, 10.582560024261475, 9.440228748321534, 9.014247779846192, 8.482091827392578, 8.003567943572998, 7.432519369125366, 7.155730819702148, 6.746190195083618, 6.142616205215454, 6.142941875457764, 5.743178958892822, 5.321213102340698, 5.176215934753418, 4.775535774230957, 4.601470146179199, 4.661863927841186, 4.357816190719604, 4.063107490539551, 3.9366776371002197, 3.8242201232910156, 3.982276134490967, 3.5431699085235597, 3.6115941429138183, 3.6431439113616944, 3.610076675415039, 3.685580883026123, 3.7001155853271483, 3.8652588748931884, 4.324375524520874, 4.284564528465271, 4.347878742218017, 3.902965383529663, 4.126591539382934, 3.909240999221802, 3.7352996635437012, 3.7414236068725586, 3.9067931318283082, 4.026785469055175, 3.6361935329437256, 3.5152342700958252, 3.3081491708755495, 3.631723232269287, 3.4103569412231445, 3.5419870948791505, 3.466613187789917, 3.7215825843811037, 3.487019019126892, 3.249955735206604, 3.114084506034851, 3.0858022928237916, 2.8493510723114013, 2.7015558958053587, 2.614822993278503, 2.4843905448913572, 2.6212459993362427, 2.6377088594436646, 2.6975906467437745, 2.7389305591583253, 2.8232978200912475, 2.72934965133667, 2.646454849243164, 2.613568410873413, 2.5136814594268797, 2.5978206110000612, 2.6254583644866942, 2.4057094049453736, 2.402720084190369, 2.639316430091858, 2.774964299201965, 2.754122519493103, 3.2175788402557375, 3.1085861253738405, 2.6763640642166138]\n"
     ]
    },
    {
     "name": "stderr",
     "output_type": "stream",
     "text": [
      "100%|██████████| 25/25 [00:12<00:00,  2.06it/s, loss=2.25]"
     ]
    },
    {
     "name": "stdout",
     "output_type": "stream",
     "text": [
      "Mean Loss Array: [109.72338996887207, 44.82798828125, 32.273617362976076, 26.064711532592774, 21.157442321777342, 19.115713691711427, 16.144016456604003, 14.384355735778808, 13.049383049011231, 12.153732318878173, 11.268043804168702, 10.582560024261475, 9.440228748321534, 9.014247779846192, 8.482091827392578, 8.003567943572998, 7.432519369125366, 7.155730819702148, 6.746190195083618, 6.142616205215454, 6.142941875457764, 5.743178958892822, 5.321213102340698, 5.176215934753418, 4.775535774230957, 4.601470146179199, 4.661863927841186, 4.357816190719604, 4.063107490539551, 3.9366776371002197, 3.8242201232910156, 3.982276134490967, 3.5431699085235597, 3.6115941429138183, 3.6431439113616944, 3.610076675415039, 3.685580883026123, 3.7001155853271483, 3.8652588748931884, 4.324375524520874, 4.284564528465271, 4.347878742218017, 3.902965383529663, 4.126591539382934, 3.909240999221802, 3.7352996635437012, 3.7414236068725586, 3.9067931318283082, 4.026785469055175, 3.6361935329437256, 3.5152342700958252, 3.3081491708755495, 3.631723232269287, 3.4103569412231445, 3.5419870948791505, 3.466613187789917, 3.7215825843811037, 3.487019019126892, 3.249955735206604, 3.114084506034851, 3.0858022928237916, 2.8493510723114013, 2.7015558958053587, 2.614822993278503, 2.4843905448913572, 2.6212459993362427, 2.6377088594436646, 2.6975906467437745, 2.7389305591583253, 2.8232978200912475, 2.72934965133667, 2.646454849243164, 2.613568410873413, 2.5136814594268797, 2.5978206110000612, 2.6254583644866942, 2.4057094049453736, 2.402720084190369, 2.639316430091858, 2.774964299201965, 2.754122519493103, 3.2175788402557375, 3.1085861253738405, 2.6763640642166138, 2.2616823387145994]\n"
     ]
    },
    {
     "name": "stderr",
     "output_type": "stream",
     "text": [
      "\n"
     ]
    },
    {
     "name": "stdout",
     "output_type": "stream",
     "text": [
      "epoch: 85 Test mAP: 0.013353311456739902 Train mAP: 0.9316099286079407\n",
      "Test mAP Array: [0.0, 0.0, 0.02127656154334545, 0.010204067453742027, 0.0051215216517448425, 0.014166646637022495, 0.03316193446516991, 0.003313692519441247, 0.026041634380817413, 0.0044200788252055645, 0.021867142990231514, 0.0007518788916058838, 0.008113626390695572, 0.013275040313601494, 0.010353523306548595, 0.002705624559894204, 0.044328223913908005, 0.013353311456739902]\n",
      "Train mAP Array: [0.0, 0.0747547596693039, 0.5053293108940125, 0.7937700748443604, 0.9663692712783813, 0.9874552488327026, 0.9544763565063477, 0.9058959484100342, 0.7671000361442566, 0.7827416658401489, 0.8842312693595886, 0.8449891209602356, 0.8830795884132385, 0.9306423664093018, 0.8613497614860535, 0.8504751920700073, 0.8839361667633057, 0.9316099286079407]\n",
      "=> Saving checkpoint\n"
     ]
    },
    {
     "name": "stderr",
     "output_type": "stream",
     "text": [
      "100%|██████████| 25/25 [00:12<00:00,  2.01it/s, loss=2.08]\n"
     ]
    },
    {
     "name": "stdout",
     "output_type": "stream",
     "text": [
      "Mean Loss Array: [109.72338996887207, 44.82798828125, 32.273617362976076, 26.064711532592774, 21.157442321777342, 19.115713691711427, 16.144016456604003, 14.384355735778808, 13.049383049011231, 12.153732318878173, 11.268043804168702, 10.582560024261475, 9.440228748321534, 9.014247779846192, 8.482091827392578, 8.003567943572998, 7.432519369125366, 7.155730819702148, 6.746190195083618, 6.142616205215454, 6.142941875457764, 5.743178958892822, 5.321213102340698, 5.176215934753418, 4.775535774230957, 4.601470146179199, 4.661863927841186, 4.357816190719604, 4.063107490539551, 3.9366776371002197, 3.8242201232910156, 3.982276134490967, 3.5431699085235597, 3.6115941429138183, 3.6431439113616944, 3.610076675415039, 3.685580883026123, 3.7001155853271483, 3.8652588748931884, 4.324375524520874, 4.284564528465271, 4.347878742218017, 3.902965383529663, 4.126591539382934, 3.909240999221802, 3.7352996635437012, 3.7414236068725586, 3.9067931318283082, 4.026785469055175, 3.6361935329437256, 3.5152342700958252, 3.3081491708755495, 3.631723232269287, 3.4103569412231445, 3.5419870948791505, 3.466613187789917, 3.7215825843811037, 3.487019019126892, 3.249955735206604, 3.114084506034851, 3.0858022928237916, 2.8493510723114013, 2.7015558958053587, 2.614822993278503, 2.4843905448913572, 2.6212459993362427, 2.6377088594436646, 2.6975906467437745, 2.7389305591583253, 2.8232978200912475, 2.72934965133667, 2.646454849243164, 2.613568410873413, 2.5136814594268797, 2.5978206110000612, 2.6254583644866942, 2.4057094049453736, 2.402720084190369, 2.639316430091858, 2.774964299201965, 2.754122519493103, 3.2175788402557375, 3.1085861253738405, 2.6763640642166138, 2.2616823387145994, 2.0419602537155153]\n"
     ]
    },
    {
     "name": "stderr",
     "output_type": "stream",
     "text": [
      "100%|██████████| 25/25 [00:12<00:00,  1.99it/s, loss=1.77]\n"
     ]
    },
    {
     "name": "stdout",
     "output_type": "stream",
     "text": [
      "Mean Loss Array: [109.72338996887207, 44.82798828125, 32.273617362976076, 26.064711532592774, 21.157442321777342, 19.115713691711427, 16.144016456604003, 14.384355735778808, 13.049383049011231, 12.153732318878173, 11.268043804168702, 10.582560024261475, 9.440228748321534, 9.014247779846192, 8.482091827392578, 8.003567943572998, 7.432519369125366, 7.155730819702148, 6.746190195083618, 6.142616205215454, 6.142941875457764, 5.743178958892822, 5.321213102340698, 5.176215934753418, 4.775535774230957, 4.601470146179199, 4.661863927841186, 4.357816190719604, 4.063107490539551, 3.9366776371002197, 3.8242201232910156, 3.982276134490967, 3.5431699085235597, 3.6115941429138183, 3.6431439113616944, 3.610076675415039, 3.685580883026123, 3.7001155853271483, 3.8652588748931884, 4.324375524520874, 4.284564528465271, 4.347878742218017, 3.902965383529663, 4.126591539382934, 3.909240999221802, 3.7352996635437012, 3.7414236068725586, 3.9067931318283082, 4.026785469055175, 3.6361935329437256, 3.5152342700958252, 3.3081491708755495, 3.631723232269287, 3.4103569412231445, 3.5419870948791505, 3.466613187789917, 3.7215825843811037, 3.487019019126892, 3.249955735206604, 3.114084506034851, 3.0858022928237916, 2.8493510723114013, 2.7015558958053587, 2.614822993278503, 2.4843905448913572, 2.6212459993362427, 2.6377088594436646, 2.6975906467437745, 2.7389305591583253, 2.8232978200912475, 2.72934965133667, 2.646454849243164, 2.613568410873413, 2.5136814594268797, 2.5978206110000612, 2.6254583644866942, 2.4057094049453736, 2.402720084190369, 2.639316430091858, 2.774964299201965, 2.754122519493103, 3.2175788402557375, 3.1085861253738405, 2.6763640642166138, 2.2616823387145994, 2.0419602537155153, 2.4161604404449464]\n"
     ]
    },
    {
     "name": "stderr",
     "output_type": "stream",
     "text": [
      "100%|██████████| 25/25 [00:11<00:00,  2.11it/s, loss=3.45]\n"
     ]
    },
    {
     "name": "stdout",
     "output_type": "stream",
     "text": [
      "Mean Loss Array: [109.72338996887207, 44.82798828125, 32.273617362976076, 26.064711532592774, 21.157442321777342, 19.115713691711427, 16.144016456604003, 14.384355735778808, 13.049383049011231, 12.153732318878173, 11.268043804168702, 10.582560024261475, 9.440228748321534, 9.014247779846192, 8.482091827392578, 8.003567943572998, 7.432519369125366, 7.155730819702148, 6.746190195083618, 6.142616205215454, 6.142941875457764, 5.743178958892822, 5.321213102340698, 5.176215934753418, 4.775535774230957, 4.601470146179199, 4.661863927841186, 4.357816190719604, 4.063107490539551, 3.9366776371002197, 3.8242201232910156, 3.982276134490967, 3.5431699085235597, 3.6115941429138183, 3.6431439113616944, 3.610076675415039, 3.685580883026123, 3.7001155853271483, 3.8652588748931884, 4.324375524520874, 4.284564528465271, 4.347878742218017, 3.902965383529663, 4.126591539382934, 3.909240999221802, 3.7352996635437012, 3.7414236068725586, 3.9067931318283082, 4.026785469055175, 3.6361935329437256, 3.5152342700958252, 3.3081491708755495, 3.631723232269287, 3.4103569412231445, 3.5419870948791505, 3.466613187789917, 3.7215825843811037, 3.487019019126892, 3.249955735206604, 3.114084506034851, 3.0858022928237916, 2.8493510723114013, 2.7015558958053587, 2.614822993278503, 2.4843905448913572, 2.6212459993362427, 2.6377088594436646, 2.6975906467437745, 2.7389305591583253, 2.8232978200912475, 2.72934965133667, 2.646454849243164, 2.613568410873413, 2.5136814594268797, 2.5978206110000612, 2.6254583644866942, 2.4057094049453736, 2.402720084190369, 2.639316430091858, 2.774964299201965, 2.754122519493103, 3.2175788402557375, 3.1085861253738405, 2.6763640642166138, 2.2616823387145994, 2.0419602537155153, 2.4161604404449464, 2.1771450996398927]\n"
     ]
    },
    {
     "name": "stderr",
     "output_type": "stream",
     "text": [
      "100%|██████████| 25/25 [00:10<00:00,  2.34it/s, loss=1.44]\n"
     ]
    },
    {
     "name": "stdout",
     "output_type": "stream",
     "text": [
      "Mean Loss Array: [109.72338996887207, 44.82798828125, 32.273617362976076, 26.064711532592774, 21.157442321777342, 19.115713691711427, 16.144016456604003, 14.384355735778808, 13.049383049011231, 12.153732318878173, 11.268043804168702, 10.582560024261475, 9.440228748321534, 9.014247779846192, 8.482091827392578, 8.003567943572998, 7.432519369125366, 7.155730819702148, 6.746190195083618, 6.142616205215454, 6.142941875457764, 5.743178958892822, 5.321213102340698, 5.176215934753418, 4.775535774230957, 4.601470146179199, 4.661863927841186, 4.357816190719604, 4.063107490539551, 3.9366776371002197, 3.8242201232910156, 3.982276134490967, 3.5431699085235597, 3.6115941429138183, 3.6431439113616944, 3.610076675415039, 3.685580883026123, 3.7001155853271483, 3.8652588748931884, 4.324375524520874, 4.284564528465271, 4.347878742218017, 3.902965383529663, 4.126591539382934, 3.909240999221802, 3.7352996635437012, 3.7414236068725586, 3.9067931318283082, 4.026785469055175, 3.6361935329437256, 3.5152342700958252, 3.3081491708755495, 3.631723232269287, 3.4103569412231445, 3.5419870948791505, 3.466613187789917, 3.7215825843811037, 3.487019019126892, 3.249955735206604, 3.114084506034851, 3.0858022928237916, 2.8493510723114013, 2.7015558958053587, 2.614822993278503, 2.4843905448913572, 2.6212459993362427, 2.6377088594436646, 2.6975906467437745, 2.7389305591583253, 2.8232978200912475, 2.72934965133667, 2.646454849243164, 2.613568410873413, 2.5136814594268797, 2.5978206110000612, 2.6254583644866942, 2.4057094049453736, 2.402720084190369, 2.639316430091858, 2.774964299201965, 2.754122519493103, 3.2175788402557375, 3.1085861253738405, 2.6763640642166138, 2.2616823387145994, 2.0419602537155153, 2.4161604404449464, 2.1771450996398927, 2.094261951446533]\n"
     ]
    },
    {
     "name": "stderr",
     "output_type": "stream",
     "text": [
      "100%|██████████| 25/25 [00:11<00:00,  2.23it/s, loss=1.78]"
     ]
    },
    {
     "name": "stdout",
     "output_type": "stream",
     "text": [
      "Mean Loss Array: [109.72338996887207, 44.82798828125, 32.273617362976076, 26.064711532592774, 21.157442321777342, 19.115713691711427, 16.144016456604003, 14.384355735778808, 13.049383049011231, 12.153732318878173, 11.268043804168702, 10.582560024261475, 9.440228748321534, 9.014247779846192, 8.482091827392578, 8.003567943572998, 7.432519369125366, 7.155730819702148, 6.746190195083618, 6.142616205215454, 6.142941875457764, 5.743178958892822, 5.321213102340698, 5.176215934753418, 4.775535774230957, 4.601470146179199, 4.661863927841186, 4.357816190719604, 4.063107490539551, 3.9366776371002197, 3.8242201232910156, 3.982276134490967, 3.5431699085235597, 3.6115941429138183, 3.6431439113616944, 3.610076675415039, 3.685580883026123, 3.7001155853271483, 3.8652588748931884, 4.324375524520874, 4.284564528465271, 4.347878742218017, 3.902965383529663, 4.126591539382934, 3.909240999221802, 3.7352996635437012, 3.7414236068725586, 3.9067931318283082, 4.026785469055175, 3.6361935329437256, 3.5152342700958252, 3.3081491708755495, 3.631723232269287, 3.4103569412231445, 3.5419870948791505, 3.466613187789917, 3.7215825843811037, 3.487019019126892, 3.249955735206604, 3.114084506034851, 3.0858022928237916, 2.8493510723114013, 2.7015558958053587, 2.614822993278503, 2.4843905448913572, 2.6212459993362427, 2.6377088594436646, 2.6975906467437745, 2.7389305591583253, 2.8232978200912475, 2.72934965133667, 2.646454849243164, 2.613568410873413, 2.5136814594268797, 2.5978206110000612, 2.6254583644866942, 2.4057094049453736, 2.402720084190369, 2.639316430091858, 2.774964299201965, 2.754122519493103, 3.2175788402557375, 3.1085861253738405, 2.6763640642166138, 2.2616823387145994, 2.0419602537155153, 2.4161604404449464, 2.1771450996398927, 2.094261951446533, 2.2152916240692138]\n"
     ]
    },
    {
     "name": "stderr",
     "output_type": "stream",
     "text": [
      "\n"
     ]
    },
    {
     "name": "stdout",
     "output_type": "stream",
     "text": [
      "epoch: 90 Test mAP: 0.012046190910041332 Train mAP: 0.9345404505729675\n",
      "Test mAP Array: [0.0, 0.0, 0.02127656154334545, 0.010204067453742027, 0.0051215216517448425, 0.014166646637022495, 0.03316193446516991, 0.003313692519441247, 0.026041634380817413, 0.0044200788252055645, 0.021867142990231514, 0.0007518788916058838, 0.008113626390695572, 0.013275040313601494, 0.010353523306548595, 0.002705624559894204, 0.044328223913908005, 0.013353311456739902, 0.012046190910041332]\n",
      "Train mAP Array: [0.0, 0.0747547596693039, 0.5053293108940125, 0.7937700748443604, 0.9663692712783813, 0.9874552488327026, 0.9544763565063477, 0.9058959484100342, 0.7671000361442566, 0.7827416658401489, 0.8842312693595886, 0.8449891209602356, 0.8830795884132385, 0.9306423664093018, 0.8613497614860535, 0.8504751920700073, 0.8839361667633057, 0.9316099286079407, 0.9345404505729675]\n",
      "=> Saving checkpoint\n"
     ]
    },
    {
     "name": "stderr",
     "output_type": "stream",
     "text": [
      "100%|██████████| 25/25 [00:14<00:00,  1.71it/s, loss=3.2]\n"
     ]
    },
    {
     "name": "stdout",
     "output_type": "stream",
     "text": [
      "Mean Loss Array: [109.72338996887207, 44.82798828125, 32.273617362976076, 26.064711532592774, 21.157442321777342, 19.115713691711427, 16.144016456604003, 14.384355735778808, 13.049383049011231, 12.153732318878173, 11.268043804168702, 10.582560024261475, 9.440228748321534, 9.014247779846192, 8.482091827392578, 8.003567943572998, 7.432519369125366, 7.155730819702148, 6.746190195083618, 6.142616205215454, 6.142941875457764, 5.743178958892822, 5.321213102340698, 5.176215934753418, 4.775535774230957, 4.601470146179199, 4.661863927841186, 4.357816190719604, 4.063107490539551, 3.9366776371002197, 3.8242201232910156, 3.982276134490967, 3.5431699085235597, 3.6115941429138183, 3.6431439113616944, 3.610076675415039, 3.685580883026123, 3.7001155853271483, 3.8652588748931884, 4.324375524520874, 4.284564528465271, 4.347878742218017, 3.902965383529663, 4.126591539382934, 3.909240999221802, 3.7352996635437012, 3.7414236068725586, 3.9067931318283082, 4.026785469055175, 3.6361935329437256, 3.5152342700958252, 3.3081491708755495, 3.631723232269287, 3.4103569412231445, 3.5419870948791505, 3.466613187789917, 3.7215825843811037, 3.487019019126892, 3.249955735206604, 3.114084506034851, 3.0858022928237916, 2.8493510723114013, 2.7015558958053587, 2.614822993278503, 2.4843905448913572, 2.6212459993362427, 2.6377088594436646, 2.6975906467437745, 2.7389305591583253, 2.8232978200912475, 2.72934965133667, 2.646454849243164, 2.613568410873413, 2.5136814594268797, 2.5978206110000612, 2.6254583644866942, 2.4057094049453736, 2.402720084190369, 2.639316430091858, 2.774964299201965, 2.754122519493103, 3.2175788402557375, 3.1085861253738405, 2.6763640642166138, 2.2616823387145994, 2.0419602537155153, 2.4161604404449464, 2.1771450996398927, 2.094261951446533, 2.2152916240692138, 2.179808506965637]\n"
     ]
    },
    {
     "name": "stderr",
     "output_type": "stream",
     "text": [
      "100%|██████████| 25/25 [00:13<00:00,  1.91it/s, loss=1.74]\n"
     ]
    },
    {
     "name": "stdout",
     "output_type": "stream",
     "text": [
      "Mean Loss Array: [109.72338996887207, 44.82798828125, 32.273617362976076, 26.064711532592774, 21.157442321777342, 19.115713691711427, 16.144016456604003, 14.384355735778808, 13.049383049011231, 12.153732318878173, 11.268043804168702, 10.582560024261475, 9.440228748321534, 9.014247779846192, 8.482091827392578, 8.003567943572998, 7.432519369125366, 7.155730819702148, 6.746190195083618, 6.142616205215454, 6.142941875457764, 5.743178958892822, 5.321213102340698, 5.176215934753418, 4.775535774230957, 4.601470146179199, 4.661863927841186, 4.357816190719604, 4.063107490539551, 3.9366776371002197, 3.8242201232910156, 3.982276134490967, 3.5431699085235597, 3.6115941429138183, 3.6431439113616944, 3.610076675415039, 3.685580883026123, 3.7001155853271483, 3.8652588748931884, 4.324375524520874, 4.284564528465271, 4.347878742218017, 3.902965383529663, 4.126591539382934, 3.909240999221802, 3.7352996635437012, 3.7414236068725586, 3.9067931318283082, 4.026785469055175, 3.6361935329437256, 3.5152342700958252, 3.3081491708755495, 3.631723232269287, 3.4103569412231445, 3.5419870948791505, 3.466613187789917, 3.7215825843811037, 3.487019019126892, 3.249955735206604, 3.114084506034851, 3.0858022928237916, 2.8493510723114013, 2.7015558958053587, 2.614822993278503, 2.4843905448913572, 2.6212459993362427, 2.6377088594436646, 2.6975906467437745, 2.7389305591583253, 2.8232978200912475, 2.72934965133667, 2.646454849243164, 2.613568410873413, 2.5136814594268797, 2.5978206110000612, 2.6254583644866942, 2.4057094049453736, 2.402720084190369, 2.639316430091858, 2.774964299201965, 2.754122519493103, 3.2175788402557375, 3.1085861253738405, 2.6763640642166138, 2.2616823387145994, 2.0419602537155153, 2.4161604404449464, 2.1771450996398927, 2.094261951446533, 2.2152916240692138, 2.179808506965637, 2.1776322078704835]\n"
     ]
    },
    {
     "name": "stderr",
     "output_type": "stream",
     "text": [
      "100%|██████████| 25/25 [00:12<00:00,  2.04it/s, loss=2.11]\n"
     ]
    },
    {
     "name": "stdout",
     "output_type": "stream",
     "text": [
      "Mean Loss Array: [109.72338996887207, 44.82798828125, 32.273617362976076, 26.064711532592774, 21.157442321777342, 19.115713691711427, 16.144016456604003, 14.384355735778808, 13.049383049011231, 12.153732318878173, 11.268043804168702, 10.582560024261475, 9.440228748321534, 9.014247779846192, 8.482091827392578, 8.003567943572998, 7.432519369125366, 7.155730819702148, 6.746190195083618, 6.142616205215454, 6.142941875457764, 5.743178958892822, 5.321213102340698, 5.176215934753418, 4.775535774230957, 4.601470146179199, 4.661863927841186, 4.357816190719604, 4.063107490539551, 3.9366776371002197, 3.8242201232910156, 3.982276134490967, 3.5431699085235597, 3.6115941429138183, 3.6431439113616944, 3.610076675415039, 3.685580883026123, 3.7001155853271483, 3.8652588748931884, 4.324375524520874, 4.284564528465271, 4.347878742218017, 3.902965383529663, 4.126591539382934, 3.909240999221802, 3.7352996635437012, 3.7414236068725586, 3.9067931318283082, 4.026785469055175, 3.6361935329437256, 3.5152342700958252, 3.3081491708755495, 3.631723232269287, 3.4103569412231445, 3.5419870948791505, 3.466613187789917, 3.7215825843811037, 3.487019019126892, 3.249955735206604, 3.114084506034851, 3.0858022928237916, 2.8493510723114013, 2.7015558958053587, 2.614822993278503, 2.4843905448913572, 2.6212459993362427, 2.6377088594436646, 2.6975906467437745, 2.7389305591583253, 2.8232978200912475, 2.72934965133667, 2.646454849243164, 2.613568410873413, 2.5136814594268797, 2.5978206110000612, 2.6254583644866942, 2.4057094049453736, 2.402720084190369, 2.639316430091858, 2.774964299201965, 2.754122519493103, 3.2175788402557375, 3.1085861253738405, 2.6763640642166138, 2.2616823387145994, 2.0419602537155153, 2.4161604404449464, 2.1771450996398927, 2.094261951446533, 2.2152916240692138, 2.179808506965637, 2.1776322078704835, 2.254474244117737]\n"
     ]
    },
    {
     "name": "stderr",
     "output_type": "stream",
     "text": [
      "100%|██████████| 25/25 [00:12<00:00,  1.99it/s, loss=3.16]\n"
     ]
    },
    {
     "name": "stdout",
     "output_type": "stream",
     "text": [
      "Mean Loss Array: [109.72338996887207, 44.82798828125, 32.273617362976076, 26.064711532592774, 21.157442321777342, 19.115713691711427, 16.144016456604003, 14.384355735778808, 13.049383049011231, 12.153732318878173, 11.268043804168702, 10.582560024261475, 9.440228748321534, 9.014247779846192, 8.482091827392578, 8.003567943572998, 7.432519369125366, 7.155730819702148, 6.746190195083618, 6.142616205215454, 6.142941875457764, 5.743178958892822, 5.321213102340698, 5.176215934753418, 4.775535774230957, 4.601470146179199, 4.661863927841186, 4.357816190719604, 4.063107490539551, 3.9366776371002197, 3.8242201232910156, 3.982276134490967, 3.5431699085235597, 3.6115941429138183, 3.6431439113616944, 3.610076675415039, 3.685580883026123, 3.7001155853271483, 3.8652588748931884, 4.324375524520874, 4.284564528465271, 4.347878742218017, 3.902965383529663, 4.126591539382934, 3.909240999221802, 3.7352996635437012, 3.7414236068725586, 3.9067931318283082, 4.026785469055175, 3.6361935329437256, 3.5152342700958252, 3.3081491708755495, 3.631723232269287, 3.4103569412231445, 3.5419870948791505, 3.466613187789917, 3.7215825843811037, 3.487019019126892, 3.249955735206604, 3.114084506034851, 3.0858022928237916, 2.8493510723114013, 2.7015558958053587, 2.614822993278503, 2.4843905448913572, 2.6212459993362427, 2.6377088594436646, 2.6975906467437745, 2.7389305591583253, 2.8232978200912475, 2.72934965133667, 2.646454849243164, 2.613568410873413, 2.5136814594268797, 2.5978206110000612, 2.6254583644866942, 2.4057094049453736, 2.402720084190369, 2.639316430091858, 2.774964299201965, 2.754122519493103, 3.2175788402557375, 3.1085861253738405, 2.6763640642166138, 2.2616823387145994, 2.0419602537155153, 2.4161604404449464, 2.1771450996398927, 2.094261951446533, 2.2152916240692138, 2.179808506965637, 2.1776322078704835, 2.254474244117737, 2.177420110702515]\n"
     ]
    },
    {
     "name": "stderr",
     "output_type": "stream",
     "text": [
      "100%|██████████| 25/25 [00:12<00:00,  2.02it/s, loss=4.09]"
     ]
    },
    {
     "name": "stdout",
     "output_type": "stream",
     "text": [
      "Mean Loss Array: [109.72338996887207, 44.82798828125, 32.273617362976076, 26.064711532592774, 21.157442321777342, 19.115713691711427, 16.144016456604003, 14.384355735778808, 13.049383049011231, 12.153732318878173, 11.268043804168702, 10.582560024261475, 9.440228748321534, 9.014247779846192, 8.482091827392578, 8.003567943572998, 7.432519369125366, 7.155730819702148, 6.746190195083618, 6.142616205215454, 6.142941875457764, 5.743178958892822, 5.321213102340698, 5.176215934753418, 4.775535774230957, 4.601470146179199, 4.661863927841186, 4.357816190719604, 4.063107490539551, 3.9366776371002197, 3.8242201232910156, 3.982276134490967, 3.5431699085235597, 3.6115941429138183, 3.6431439113616944, 3.610076675415039, 3.685580883026123, 3.7001155853271483, 3.8652588748931884, 4.324375524520874, 4.284564528465271, 4.347878742218017, 3.902965383529663, 4.126591539382934, 3.909240999221802, 3.7352996635437012, 3.7414236068725586, 3.9067931318283082, 4.026785469055175, 3.6361935329437256, 3.5152342700958252, 3.3081491708755495, 3.631723232269287, 3.4103569412231445, 3.5419870948791505, 3.466613187789917, 3.7215825843811037, 3.487019019126892, 3.249955735206604, 3.114084506034851, 3.0858022928237916, 2.8493510723114013, 2.7015558958053587, 2.614822993278503, 2.4843905448913572, 2.6212459993362427, 2.6377088594436646, 2.6975906467437745, 2.7389305591583253, 2.8232978200912475, 2.72934965133667, 2.646454849243164, 2.613568410873413, 2.5136814594268797, 2.5978206110000612, 2.6254583644866942, 2.4057094049453736, 2.402720084190369, 2.639316430091858, 2.774964299201965, 2.754122519493103, 3.2175788402557375, 3.1085861253738405, 2.6763640642166138, 2.2616823387145994, 2.0419602537155153, 2.4161604404449464, 2.1771450996398927, 2.094261951446533, 2.2152916240692138, 2.179808506965637, 2.1776322078704835, 2.254474244117737, 2.177420110702515, 2.2640201902389525]\n"
     ]
    },
    {
     "name": "stderr",
     "output_type": "stream",
     "text": [
      "\n"
     ]
    },
    {
     "name": "stdout",
     "output_type": "stream",
     "text": [
      "epoch: 95 Test mAP: 0.015503612346947193 Train mAP: 0.8662539124488831\n",
      "Test mAP Array: [0.0, 0.0, 0.02127656154334545, 0.010204067453742027, 0.0051215216517448425, 0.014166646637022495, 0.03316193446516991, 0.003313692519441247, 0.026041634380817413, 0.0044200788252055645, 0.021867142990231514, 0.0007518788916058838, 0.008113626390695572, 0.013275040313601494, 0.010353523306548595, 0.002705624559894204, 0.044328223913908005, 0.013353311456739902, 0.012046190910041332, 0.015503612346947193]\n",
      "Train mAP Array: [0.0, 0.0747547596693039, 0.5053293108940125, 0.7937700748443604, 0.9663692712783813, 0.9874552488327026, 0.9544763565063477, 0.9058959484100342, 0.7671000361442566, 0.7827416658401489, 0.8842312693595886, 0.8449891209602356, 0.8830795884132385, 0.9306423664093018, 0.8613497614860535, 0.8504751920700073, 0.8839361667633057, 0.9316099286079407, 0.9345404505729675, 0.8662539124488831]\n",
      "=> Saving checkpoint\n"
     ]
    },
    {
     "name": "stderr",
     "output_type": "stream",
     "text": [
      "100%|██████████| 25/25 [00:12<00:00,  1.94it/s, loss=3.05]\n"
     ]
    },
    {
     "name": "stdout",
     "output_type": "stream",
     "text": [
      "Mean Loss Array: [109.72338996887207, 44.82798828125, 32.273617362976076, 26.064711532592774, 21.157442321777342, 19.115713691711427, 16.144016456604003, 14.384355735778808, 13.049383049011231, 12.153732318878173, 11.268043804168702, 10.582560024261475, 9.440228748321534, 9.014247779846192, 8.482091827392578, 8.003567943572998, 7.432519369125366, 7.155730819702148, 6.746190195083618, 6.142616205215454, 6.142941875457764, 5.743178958892822, 5.321213102340698, 5.176215934753418, 4.775535774230957, 4.601470146179199, 4.661863927841186, 4.357816190719604, 4.063107490539551, 3.9366776371002197, 3.8242201232910156, 3.982276134490967, 3.5431699085235597, 3.6115941429138183, 3.6431439113616944, 3.610076675415039, 3.685580883026123, 3.7001155853271483, 3.8652588748931884, 4.324375524520874, 4.284564528465271, 4.347878742218017, 3.902965383529663, 4.126591539382934, 3.909240999221802, 3.7352996635437012, 3.7414236068725586, 3.9067931318283082, 4.026785469055175, 3.6361935329437256, 3.5152342700958252, 3.3081491708755495, 3.631723232269287, 3.4103569412231445, 3.5419870948791505, 3.466613187789917, 3.7215825843811037, 3.487019019126892, 3.249955735206604, 3.114084506034851, 3.0858022928237916, 2.8493510723114013, 2.7015558958053587, 2.614822993278503, 2.4843905448913572, 2.6212459993362427, 2.6377088594436646, 2.6975906467437745, 2.7389305591583253, 2.8232978200912475, 2.72934965133667, 2.646454849243164, 2.613568410873413, 2.5136814594268797, 2.5978206110000612, 2.6254583644866942, 2.4057094049453736, 2.402720084190369, 2.639316430091858, 2.774964299201965, 2.754122519493103, 3.2175788402557375, 3.1085861253738405, 2.6763640642166138, 2.2616823387145994, 2.0419602537155153, 2.4161604404449464, 2.1771450996398927, 2.094261951446533, 2.2152916240692138, 2.179808506965637, 2.1776322078704835, 2.254474244117737, 2.177420110702515, 2.2640201902389525, 2.2587379169464112]\n"
     ]
    },
    {
     "name": "stderr",
     "output_type": "stream",
     "text": [
      "100%|██████████| 25/25 [00:13<00:00,  1.89it/s, loss=3.26]\n"
     ]
    },
    {
     "name": "stdout",
     "output_type": "stream",
     "text": [
      "Mean Loss Array: [109.72338996887207, 44.82798828125, 32.273617362976076, 26.064711532592774, 21.157442321777342, 19.115713691711427, 16.144016456604003, 14.384355735778808, 13.049383049011231, 12.153732318878173, 11.268043804168702, 10.582560024261475, 9.440228748321534, 9.014247779846192, 8.482091827392578, 8.003567943572998, 7.432519369125366, 7.155730819702148, 6.746190195083618, 6.142616205215454, 6.142941875457764, 5.743178958892822, 5.321213102340698, 5.176215934753418, 4.775535774230957, 4.601470146179199, 4.661863927841186, 4.357816190719604, 4.063107490539551, 3.9366776371002197, 3.8242201232910156, 3.982276134490967, 3.5431699085235597, 3.6115941429138183, 3.6431439113616944, 3.610076675415039, 3.685580883026123, 3.7001155853271483, 3.8652588748931884, 4.324375524520874, 4.284564528465271, 4.347878742218017, 3.902965383529663, 4.126591539382934, 3.909240999221802, 3.7352996635437012, 3.7414236068725586, 3.9067931318283082, 4.026785469055175, 3.6361935329437256, 3.5152342700958252, 3.3081491708755495, 3.631723232269287, 3.4103569412231445, 3.5419870948791505, 3.466613187789917, 3.7215825843811037, 3.487019019126892, 3.249955735206604, 3.114084506034851, 3.0858022928237916, 2.8493510723114013, 2.7015558958053587, 2.614822993278503, 2.4843905448913572, 2.6212459993362427, 2.6377088594436646, 2.6975906467437745, 2.7389305591583253, 2.8232978200912475, 2.72934965133667, 2.646454849243164, 2.613568410873413, 2.5136814594268797, 2.5978206110000612, 2.6254583644866942, 2.4057094049453736, 2.402720084190369, 2.639316430091858, 2.774964299201965, 2.754122519493103, 3.2175788402557375, 3.1085861253738405, 2.6763640642166138, 2.2616823387145994, 2.0419602537155153, 2.4161604404449464, 2.1771450996398927, 2.094261951446533, 2.2152916240692138, 2.179808506965637, 2.1776322078704835, 2.254474244117737, 2.177420110702515, 2.2640201902389525, 2.2587379169464112, 2.5137687158584594]\n"
     ]
    },
    {
     "name": "stderr",
     "output_type": "stream",
     "text": [
      "100%|██████████| 25/25 [00:10<00:00,  2.32it/s, loss=1.85]\n"
     ]
    },
    {
     "name": "stdout",
     "output_type": "stream",
     "text": [
      "Mean Loss Array: [109.72338996887207, 44.82798828125, 32.273617362976076, 26.064711532592774, 21.157442321777342, 19.115713691711427, 16.144016456604003, 14.384355735778808, 13.049383049011231, 12.153732318878173, 11.268043804168702, 10.582560024261475, 9.440228748321534, 9.014247779846192, 8.482091827392578, 8.003567943572998, 7.432519369125366, 7.155730819702148, 6.746190195083618, 6.142616205215454, 6.142941875457764, 5.743178958892822, 5.321213102340698, 5.176215934753418, 4.775535774230957, 4.601470146179199, 4.661863927841186, 4.357816190719604, 4.063107490539551, 3.9366776371002197, 3.8242201232910156, 3.982276134490967, 3.5431699085235597, 3.6115941429138183, 3.6431439113616944, 3.610076675415039, 3.685580883026123, 3.7001155853271483, 3.8652588748931884, 4.324375524520874, 4.284564528465271, 4.347878742218017, 3.902965383529663, 4.126591539382934, 3.909240999221802, 3.7352996635437012, 3.7414236068725586, 3.9067931318283082, 4.026785469055175, 3.6361935329437256, 3.5152342700958252, 3.3081491708755495, 3.631723232269287, 3.4103569412231445, 3.5419870948791505, 3.466613187789917, 3.7215825843811037, 3.487019019126892, 3.249955735206604, 3.114084506034851, 3.0858022928237916, 2.8493510723114013, 2.7015558958053587, 2.614822993278503, 2.4843905448913572, 2.6212459993362427, 2.6377088594436646, 2.6975906467437745, 2.7389305591583253, 2.8232978200912475, 2.72934965133667, 2.646454849243164, 2.613568410873413, 2.5136814594268797, 2.5978206110000612, 2.6254583644866942, 2.4057094049453736, 2.402720084190369, 2.639316430091858, 2.774964299201965, 2.754122519493103, 3.2175788402557375, 3.1085861253738405, 2.6763640642166138, 2.2616823387145994, 2.0419602537155153, 2.4161604404449464, 2.1771450996398927, 2.094261951446533, 2.2152916240692138, 2.179808506965637, 2.1776322078704835, 2.254474244117737, 2.177420110702515, 2.2640201902389525, 2.2587379169464112, 2.5137687158584594, 2.596677689552307]\n"
     ]
    },
    {
     "name": "stderr",
     "output_type": "stream",
     "text": [
      "100%|██████████| 25/25 [00:11<00:00,  2.27it/s, loss=2.55]\n"
     ]
    },
    {
     "name": "stdout",
     "output_type": "stream",
     "text": [
      "Mean Loss Array: [109.72338996887207, 44.82798828125, 32.273617362976076, 26.064711532592774, 21.157442321777342, 19.115713691711427, 16.144016456604003, 14.384355735778808, 13.049383049011231, 12.153732318878173, 11.268043804168702, 10.582560024261475, 9.440228748321534, 9.014247779846192, 8.482091827392578, 8.003567943572998, 7.432519369125366, 7.155730819702148, 6.746190195083618, 6.142616205215454, 6.142941875457764, 5.743178958892822, 5.321213102340698, 5.176215934753418, 4.775535774230957, 4.601470146179199, 4.661863927841186, 4.357816190719604, 4.063107490539551, 3.9366776371002197, 3.8242201232910156, 3.982276134490967, 3.5431699085235597, 3.6115941429138183, 3.6431439113616944, 3.610076675415039, 3.685580883026123, 3.7001155853271483, 3.8652588748931884, 4.324375524520874, 4.284564528465271, 4.347878742218017, 3.902965383529663, 4.126591539382934, 3.909240999221802, 3.7352996635437012, 3.7414236068725586, 3.9067931318283082, 4.026785469055175, 3.6361935329437256, 3.5152342700958252, 3.3081491708755495, 3.631723232269287, 3.4103569412231445, 3.5419870948791505, 3.466613187789917, 3.7215825843811037, 3.487019019126892, 3.249955735206604, 3.114084506034851, 3.0858022928237916, 2.8493510723114013, 2.7015558958053587, 2.614822993278503, 2.4843905448913572, 2.6212459993362427, 2.6377088594436646, 2.6975906467437745, 2.7389305591583253, 2.8232978200912475, 2.72934965133667, 2.646454849243164, 2.613568410873413, 2.5136814594268797, 2.5978206110000612, 2.6254583644866942, 2.4057094049453736, 2.402720084190369, 2.639316430091858, 2.774964299201965, 2.754122519493103, 3.2175788402557375, 3.1085861253738405, 2.6763640642166138, 2.2616823387145994, 2.0419602537155153, 2.4161604404449464, 2.1771450996398927, 2.094261951446533, 2.2152916240692138, 2.179808506965637, 2.1776322078704835, 2.254474244117737, 2.177420110702515, 2.2640201902389525, 2.2587379169464112, 2.5137687158584594, 2.596677689552307, 2.317622127532959]\n"
     ]
    },
    {
     "name": "stderr",
     "output_type": "stream",
     "text": [
      "100%|██████████| 25/25 [00:12<00:00,  2.02it/s, loss=1.4]"
     ]
    },
    {
     "name": "stdout",
     "output_type": "stream",
     "text": [
      "Mean Loss Array: [109.72338996887207, 44.82798828125, 32.273617362976076, 26.064711532592774, 21.157442321777342, 19.115713691711427, 16.144016456604003, 14.384355735778808, 13.049383049011231, 12.153732318878173, 11.268043804168702, 10.582560024261475, 9.440228748321534, 9.014247779846192, 8.482091827392578, 8.003567943572998, 7.432519369125366, 7.155730819702148, 6.746190195083618, 6.142616205215454, 6.142941875457764, 5.743178958892822, 5.321213102340698, 5.176215934753418, 4.775535774230957, 4.601470146179199, 4.661863927841186, 4.357816190719604, 4.063107490539551, 3.9366776371002197, 3.8242201232910156, 3.982276134490967, 3.5431699085235597, 3.6115941429138183, 3.6431439113616944, 3.610076675415039, 3.685580883026123, 3.7001155853271483, 3.8652588748931884, 4.324375524520874, 4.284564528465271, 4.347878742218017, 3.902965383529663, 4.126591539382934, 3.909240999221802, 3.7352996635437012, 3.7414236068725586, 3.9067931318283082, 4.026785469055175, 3.6361935329437256, 3.5152342700958252, 3.3081491708755495, 3.631723232269287, 3.4103569412231445, 3.5419870948791505, 3.466613187789917, 3.7215825843811037, 3.487019019126892, 3.249955735206604, 3.114084506034851, 3.0858022928237916, 2.8493510723114013, 2.7015558958053587, 2.614822993278503, 2.4843905448913572, 2.6212459993362427, 2.6377088594436646, 2.6975906467437745, 2.7389305591583253, 2.8232978200912475, 2.72934965133667, 2.646454849243164, 2.613568410873413, 2.5136814594268797, 2.5978206110000612, 2.6254583644866942, 2.4057094049453736, 2.402720084190369, 2.639316430091858, 2.774964299201965, 2.754122519493103, 3.2175788402557375, 3.1085861253738405, 2.6763640642166138, 2.2616823387145994, 2.0419602537155153, 2.4161604404449464, 2.1771450996398927, 2.094261951446533, 2.2152916240692138, 2.179808506965637, 2.1776322078704835, 2.254474244117737, 2.177420110702515, 2.2640201902389525, 2.2587379169464112, 2.5137687158584594, 2.596677689552307, 2.317622127532959, 2.346512265205383]\n"
     ]
    },
    {
     "name": "stderr",
     "output_type": "stream",
     "text": [
      "\n"
     ]
    },
    {
     "name": "stdout",
     "output_type": "stream",
     "text": [
      "epoch: 100 Test mAP: 0.00856652669608593 Train mAP: 0.8716952204704285\n",
      "Test mAP Array: [0.0, 0.0, 0.02127656154334545, 0.010204067453742027, 0.0051215216517448425, 0.014166646637022495, 0.03316193446516991, 0.003313692519441247, 0.026041634380817413, 0.0044200788252055645, 0.021867142990231514, 0.0007518788916058838, 0.008113626390695572, 0.013275040313601494, 0.010353523306548595, 0.002705624559894204, 0.044328223913908005, 0.013353311456739902, 0.012046190910041332, 0.015503612346947193, 0.00856652669608593]\n",
      "Train mAP Array: [0.0, 0.0747547596693039, 0.5053293108940125, 0.7937700748443604, 0.9663692712783813, 0.9874552488327026, 0.9544763565063477, 0.9058959484100342, 0.7671000361442566, 0.7827416658401489, 0.8842312693595886, 0.8449891209602356, 0.8830795884132385, 0.9306423664093018, 0.8613497614860535, 0.8504751920700073, 0.8839361667633057, 0.9316099286079407, 0.9345404505729675, 0.8662539124488831, 0.8716952204704285]\n",
      "=> Saving checkpoint\n"
     ]
    },
    {
     "name": "stderr",
     "output_type": "stream",
     "text": [
      "100%|██████████| 25/25 [00:13<00:00,  1.80it/s, loss=3.66]\n"
     ]
    },
    {
     "name": "stdout",
     "output_type": "stream",
     "text": [
      "Mean Loss Array: [109.72338996887207, 44.82798828125, 32.273617362976076, 26.064711532592774, 21.157442321777342, 19.115713691711427, 16.144016456604003, 14.384355735778808, 13.049383049011231, 12.153732318878173, 11.268043804168702, 10.582560024261475, 9.440228748321534, 9.014247779846192, 8.482091827392578, 8.003567943572998, 7.432519369125366, 7.155730819702148, 6.746190195083618, 6.142616205215454, 6.142941875457764, 5.743178958892822, 5.321213102340698, 5.176215934753418, 4.775535774230957, 4.601470146179199, 4.661863927841186, 4.357816190719604, 4.063107490539551, 3.9366776371002197, 3.8242201232910156, 3.982276134490967, 3.5431699085235597, 3.6115941429138183, 3.6431439113616944, 3.610076675415039, 3.685580883026123, 3.7001155853271483, 3.8652588748931884, 4.324375524520874, 4.284564528465271, 4.347878742218017, 3.902965383529663, 4.126591539382934, 3.909240999221802, 3.7352996635437012, 3.7414236068725586, 3.9067931318283082, 4.026785469055175, 3.6361935329437256, 3.5152342700958252, 3.3081491708755495, 3.631723232269287, 3.4103569412231445, 3.5419870948791505, 3.466613187789917, 3.7215825843811037, 3.487019019126892, 3.249955735206604, 3.114084506034851, 3.0858022928237916, 2.8493510723114013, 2.7015558958053587, 2.614822993278503, 2.4843905448913572, 2.6212459993362427, 2.6377088594436646, 2.6975906467437745, 2.7389305591583253, 2.8232978200912475, 2.72934965133667, 2.646454849243164, 2.613568410873413, 2.5136814594268797, 2.5978206110000612, 2.6254583644866942, 2.4057094049453736, 2.402720084190369, 2.639316430091858, 2.774964299201965, 2.754122519493103, 3.2175788402557375, 3.1085861253738405, 2.6763640642166138, 2.2616823387145994, 2.0419602537155153, 2.4161604404449464, 2.1771450996398927, 2.094261951446533, 2.2152916240692138, 2.179808506965637, 2.1776322078704835, 2.254474244117737, 2.177420110702515, 2.2640201902389525, 2.2587379169464112, 2.5137687158584594, 2.596677689552307, 2.317622127532959, 2.346512265205383, 2.4663615322113035]\n"
     ]
    },
    {
     "name": "stderr",
     "output_type": "stream",
     "text": [
      "100%|██████████| 25/25 [00:13<00:00,  1.90it/s, loss=2.44]\n"
     ]
    },
    {
     "name": "stdout",
     "output_type": "stream",
     "text": [
      "Mean Loss Array: [109.72338996887207, 44.82798828125, 32.273617362976076, 26.064711532592774, 21.157442321777342, 19.115713691711427, 16.144016456604003, 14.384355735778808, 13.049383049011231, 12.153732318878173, 11.268043804168702, 10.582560024261475, 9.440228748321534, 9.014247779846192, 8.482091827392578, 8.003567943572998, 7.432519369125366, 7.155730819702148, 6.746190195083618, 6.142616205215454, 6.142941875457764, 5.743178958892822, 5.321213102340698, 5.176215934753418, 4.775535774230957, 4.601470146179199, 4.661863927841186, 4.357816190719604, 4.063107490539551, 3.9366776371002197, 3.8242201232910156, 3.982276134490967, 3.5431699085235597, 3.6115941429138183, 3.6431439113616944, 3.610076675415039, 3.685580883026123, 3.7001155853271483, 3.8652588748931884, 4.324375524520874, 4.284564528465271, 4.347878742218017, 3.902965383529663, 4.126591539382934, 3.909240999221802, 3.7352996635437012, 3.7414236068725586, 3.9067931318283082, 4.026785469055175, 3.6361935329437256, 3.5152342700958252, 3.3081491708755495, 3.631723232269287, 3.4103569412231445, 3.5419870948791505, 3.466613187789917, 3.7215825843811037, 3.487019019126892, 3.249955735206604, 3.114084506034851, 3.0858022928237916, 2.8493510723114013, 2.7015558958053587, 2.614822993278503, 2.4843905448913572, 2.6212459993362427, 2.6377088594436646, 2.6975906467437745, 2.7389305591583253, 2.8232978200912475, 2.72934965133667, 2.646454849243164, 2.613568410873413, 2.5136814594268797, 2.5978206110000612, 2.6254583644866942, 2.4057094049453736, 2.402720084190369, 2.639316430091858, 2.774964299201965, 2.754122519493103, 3.2175788402557375, 3.1085861253738405, 2.6763640642166138, 2.2616823387145994, 2.0419602537155153, 2.4161604404449464, 2.1771450996398927, 2.094261951446533, 2.2152916240692138, 2.179808506965637, 2.1776322078704835, 2.254474244117737, 2.177420110702515, 2.2640201902389525, 2.2587379169464112, 2.5137687158584594, 2.596677689552307, 2.317622127532959, 2.346512265205383, 2.4663615322113035, 2.5086402177810667]\n"
     ]
    },
    {
     "name": "stderr",
     "output_type": "stream",
     "text": [
      "100%|██████████| 25/25 [00:12<00:00,  2.03it/s, loss=1.97]\n"
     ]
    },
    {
     "name": "stdout",
     "output_type": "stream",
     "text": [
      "Mean Loss Array: [109.72338996887207, 44.82798828125, 32.273617362976076, 26.064711532592774, 21.157442321777342, 19.115713691711427, 16.144016456604003, 14.384355735778808, 13.049383049011231, 12.153732318878173, 11.268043804168702, 10.582560024261475, 9.440228748321534, 9.014247779846192, 8.482091827392578, 8.003567943572998, 7.432519369125366, 7.155730819702148, 6.746190195083618, 6.142616205215454, 6.142941875457764, 5.743178958892822, 5.321213102340698, 5.176215934753418, 4.775535774230957, 4.601470146179199, 4.661863927841186, 4.357816190719604, 4.063107490539551, 3.9366776371002197, 3.8242201232910156, 3.982276134490967, 3.5431699085235597, 3.6115941429138183, 3.6431439113616944, 3.610076675415039, 3.685580883026123, 3.7001155853271483, 3.8652588748931884, 4.324375524520874, 4.284564528465271, 4.347878742218017, 3.902965383529663, 4.126591539382934, 3.909240999221802, 3.7352996635437012, 3.7414236068725586, 3.9067931318283082, 4.026785469055175, 3.6361935329437256, 3.5152342700958252, 3.3081491708755495, 3.631723232269287, 3.4103569412231445, 3.5419870948791505, 3.466613187789917, 3.7215825843811037, 3.487019019126892, 3.249955735206604, 3.114084506034851, 3.0858022928237916, 2.8493510723114013, 2.7015558958053587, 2.614822993278503, 2.4843905448913572, 2.6212459993362427, 2.6377088594436646, 2.6975906467437745, 2.7389305591583253, 2.8232978200912475, 2.72934965133667, 2.646454849243164, 2.613568410873413, 2.5136814594268797, 2.5978206110000612, 2.6254583644866942, 2.4057094049453736, 2.402720084190369, 2.639316430091858, 2.774964299201965, 2.754122519493103, 3.2175788402557375, 3.1085861253738405, 2.6763640642166138, 2.2616823387145994, 2.0419602537155153, 2.4161604404449464, 2.1771450996398927, 2.094261951446533, 2.2152916240692138, 2.179808506965637, 2.1776322078704835, 2.254474244117737, 2.177420110702515, 2.2640201902389525, 2.2587379169464112, 2.5137687158584594, 2.596677689552307, 2.317622127532959, 2.346512265205383, 2.4663615322113035, 2.5086402177810667, 2.367177896499634]\n"
     ]
    },
    {
     "name": "stderr",
     "output_type": "stream",
     "text": [
      "100%|██████████| 25/25 [00:11<00:00,  2.13it/s, loss=2.33]\n"
     ]
    },
    {
     "name": "stdout",
     "output_type": "stream",
     "text": [
      "Mean Loss Array: [109.72338996887207, 44.82798828125, 32.273617362976076, 26.064711532592774, 21.157442321777342, 19.115713691711427, 16.144016456604003, 14.384355735778808, 13.049383049011231, 12.153732318878173, 11.268043804168702, 10.582560024261475, 9.440228748321534, 9.014247779846192, 8.482091827392578, 8.003567943572998, 7.432519369125366, 7.155730819702148, 6.746190195083618, 6.142616205215454, 6.142941875457764, 5.743178958892822, 5.321213102340698, 5.176215934753418, 4.775535774230957, 4.601470146179199, 4.661863927841186, 4.357816190719604, 4.063107490539551, 3.9366776371002197, 3.8242201232910156, 3.982276134490967, 3.5431699085235597, 3.6115941429138183, 3.6431439113616944, 3.610076675415039, 3.685580883026123, 3.7001155853271483, 3.8652588748931884, 4.324375524520874, 4.284564528465271, 4.347878742218017, 3.902965383529663, 4.126591539382934, 3.909240999221802, 3.7352996635437012, 3.7414236068725586, 3.9067931318283082, 4.026785469055175, 3.6361935329437256, 3.5152342700958252, 3.3081491708755495, 3.631723232269287, 3.4103569412231445, 3.5419870948791505, 3.466613187789917, 3.7215825843811037, 3.487019019126892, 3.249955735206604, 3.114084506034851, 3.0858022928237916, 2.8493510723114013, 2.7015558958053587, 2.614822993278503, 2.4843905448913572, 2.6212459993362427, 2.6377088594436646, 2.6975906467437745, 2.7389305591583253, 2.8232978200912475, 2.72934965133667, 2.646454849243164, 2.613568410873413, 2.5136814594268797, 2.5978206110000612, 2.6254583644866942, 2.4057094049453736, 2.402720084190369, 2.639316430091858, 2.774964299201965, 2.754122519493103, 3.2175788402557375, 3.1085861253738405, 2.6763640642166138, 2.2616823387145994, 2.0419602537155153, 2.4161604404449464, 2.1771450996398927, 2.094261951446533, 2.2152916240692138, 2.179808506965637, 2.1776322078704835, 2.254474244117737, 2.177420110702515, 2.2640201902389525, 2.2587379169464112, 2.5137687158584594, 2.596677689552307, 2.317622127532959, 2.346512265205383, 2.4663615322113035, 2.5086402177810667, 2.367177896499634, 2.326920690536499]\n"
     ]
    },
    {
     "name": "stderr",
     "output_type": "stream",
     "text": [
      "100%|██████████| 25/25 [00:11<00:00,  2.25it/s, loss=2.07]"
     ]
    },
    {
     "name": "stdout",
     "output_type": "stream",
     "text": [
      "Mean Loss Array: [109.72338996887207, 44.82798828125, 32.273617362976076, 26.064711532592774, 21.157442321777342, 19.115713691711427, 16.144016456604003, 14.384355735778808, 13.049383049011231, 12.153732318878173, 11.268043804168702, 10.582560024261475, 9.440228748321534, 9.014247779846192, 8.482091827392578, 8.003567943572998, 7.432519369125366, 7.155730819702148, 6.746190195083618, 6.142616205215454, 6.142941875457764, 5.743178958892822, 5.321213102340698, 5.176215934753418, 4.775535774230957, 4.601470146179199, 4.661863927841186, 4.357816190719604, 4.063107490539551, 3.9366776371002197, 3.8242201232910156, 3.982276134490967, 3.5431699085235597, 3.6115941429138183, 3.6431439113616944, 3.610076675415039, 3.685580883026123, 3.7001155853271483, 3.8652588748931884, 4.324375524520874, 4.284564528465271, 4.347878742218017, 3.902965383529663, 4.126591539382934, 3.909240999221802, 3.7352996635437012, 3.7414236068725586, 3.9067931318283082, 4.026785469055175, 3.6361935329437256, 3.5152342700958252, 3.3081491708755495, 3.631723232269287, 3.4103569412231445, 3.5419870948791505, 3.466613187789917, 3.7215825843811037, 3.487019019126892, 3.249955735206604, 3.114084506034851, 3.0858022928237916, 2.8493510723114013, 2.7015558958053587, 2.614822993278503, 2.4843905448913572, 2.6212459993362427, 2.6377088594436646, 2.6975906467437745, 2.7389305591583253, 2.8232978200912475, 2.72934965133667, 2.646454849243164, 2.613568410873413, 2.5136814594268797, 2.5978206110000612, 2.6254583644866942, 2.4057094049453736, 2.402720084190369, 2.639316430091858, 2.774964299201965, 2.754122519493103, 3.2175788402557375, 3.1085861253738405, 2.6763640642166138, 2.2616823387145994, 2.0419602537155153, 2.4161604404449464, 2.1771450996398927, 2.094261951446533, 2.2152916240692138, 2.179808506965637, 2.1776322078704835, 2.254474244117737, 2.177420110702515, 2.2640201902389525, 2.2587379169464112, 2.5137687158584594, 2.596677689552307, 2.317622127532959, 2.346512265205383, 2.4663615322113035, 2.5086402177810667, 2.367177896499634, 2.326920690536499, 2.210363359451294]\n"
     ]
    },
    {
     "name": "stderr",
     "output_type": "stream",
     "text": [
      "\n"
     ]
    },
    {
     "name": "stdout",
     "output_type": "stream",
     "text": [
      "epoch: 105 Test mAP: 0.012172631919384003 Train mAP: 0.9339544177055359\n",
      "Test mAP Array: [0.0, 0.0, 0.02127656154334545, 0.010204067453742027, 0.0051215216517448425, 0.014166646637022495, 0.03316193446516991, 0.003313692519441247, 0.026041634380817413, 0.0044200788252055645, 0.021867142990231514, 0.0007518788916058838, 0.008113626390695572, 0.013275040313601494, 0.010353523306548595, 0.002705624559894204, 0.044328223913908005, 0.013353311456739902, 0.012046190910041332, 0.015503612346947193, 0.00856652669608593, 0.012172631919384003]\n",
      "Train mAP Array: [0.0, 0.0747547596693039, 0.5053293108940125, 0.7937700748443604, 0.9663692712783813, 0.9874552488327026, 0.9544763565063477, 0.9058959484100342, 0.7671000361442566, 0.7827416658401489, 0.8842312693595886, 0.8449891209602356, 0.8830795884132385, 0.9306423664093018, 0.8613497614860535, 0.8504751920700073, 0.8839361667633057, 0.9316099286079407, 0.9345404505729675, 0.8662539124488831, 0.8716952204704285, 0.9339544177055359]\n",
      "=> Saving checkpoint\n"
     ]
    },
    {
     "name": "stderr",
     "output_type": "stream",
     "text": [
      "100%|██████████| 25/25 [00:10<00:00,  2.44it/s, loss=2.05]\n"
     ]
    },
    {
     "name": "stdout",
     "output_type": "stream",
     "text": [
      "Mean Loss Array: [109.72338996887207, 44.82798828125, 32.273617362976076, 26.064711532592774, 21.157442321777342, 19.115713691711427, 16.144016456604003, 14.384355735778808, 13.049383049011231, 12.153732318878173, 11.268043804168702, 10.582560024261475, 9.440228748321534, 9.014247779846192, 8.482091827392578, 8.003567943572998, 7.432519369125366, 7.155730819702148, 6.746190195083618, 6.142616205215454, 6.142941875457764, 5.743178958892822, 5.321213102340698, 5.176215934753418, 4.775535774230957, 4.601470146179199, 4.661863927841186, 4.357816190719604, 4.063107490539551, 3.9366776371002197, 3.8242201232910156, 3.982276134490967, 3.5431699085235597, 3.6115941429138183, 3.6431439113616944, 3.610076675415039, 3.685580883026123, 3.7001155853271483, 3.8652588748931884, 4.324375524520874, 4.284564528465271, 4.347878742218017, 3.902965383529663, 4.126591539382934, 3.909240999221802, 3.7352996635437012, 3.7414236068725586, 3.9067931318283082, 4.026785469055175, 3.6361935329437256, 3.5152342700958252, 3.3081491708755495, 3.631723232269287, 3.4103569412231445, 3.5419870948791505, 3.466613187789917, 3.7215825843811037, 3.487019019126892, 3.249955735206604, 3.114084506034851, 3.0858022928237916, 2.8493510723114013, 2.7015558958053587, 2.614822993278503, 2.4843905448913572, 2.6212459993362427, 2.6377088594436646, 2.6975906467437745, 2.7389305591583253, 2.8232978200912475, 2.72934965133667, 2.646454849243164, 2.613568410873413, 2.5136814594268797, 2.5978206110000612, 2.6254583644866942, 2.4057094049453736, 2.402720084190369, 2.639316430091858, 2.774964299201965, 2.754122519493103, 3.2175788402557375, 3.1085861253738405, 2.6763640642166138, 2.2616823387145994, 2.0419602537155153, 2.4161604404449464, 2.1771450996398927, 2.094261951446533, 2.2152916240692138, 2.179808506965637, 2.1776322078704835, 2.254474244117737, 2.177420110702515, 2.2640201902389525, 2.2587379169464112, 2.5137687158584594, 2.596677689552307, 2.317622127532959, 2.346512265205383, 2.4663615322113035, 2.5086402177810667, 2.367177896499634, 2.326920690536499, 2.210363359451294, 2.0326780819892885]\n"
     ]
    },
    {
     "name": "stderr",
     "output_type": "stream",
     "text": [
      "100%|██████████| 25/25 [00:12<00:00,  1.93it/s, loss=2.55]\n"
     ]
    },
    {
     "name": "stdout",
     "output_type": "stream",
     "text": [
      "Mean Loss Array: [109.72338996887207, 44.82798828125, 32.273617362976076, 26.064711532592774, 21.157442321777342, 19.115713691711427, 16.144016456604003, 14.384355735778808, 13.049383049011231, 12.153732318878173, 11.268043804168702, 10.582560024261475, 9.440228748321534, 9.014247779846192, 8.482091827392578, 8.003567943572998, 7.432519369125366, 7.155730819702148, 6.746190195083618, 6.142616205215454, 6.142941875457764, 5.743178958892822, 5.321213102340698, 5.176215934753418, 4.775535774230957, 4.601470146179199, 4.661863927841186, 4.357816190719604, 4.063107490539551, 3.9366776371002197, 3.8242201232910156, 3.982276134490967, 3.5431699085235597, 3.6115941429138183, 3.6431439113616944, 3.610076675415039, 3.685580883026123, 3.7001155853271483, 3.8652588748931884, 4.324375524520874, 4.284564528465271, 4.347878742218017, 3.902965383529663, 4.126591539382934, 3.909240999221802, 3.7352996635437012, 3.7414236068725586, 3.9067931318283082, 4.026785469055175, 3.6361935329437256, 3.5152342700958252, 3.3081491708755495, 3.631723232269287, 3.4103569412231445, 3.5419870948791505, 3.466613187789917, 3.7215825843811037, 3.487019019126892, 3.249955735206604, 3.114084506034851, 3.0858022928237916, 2.8493510723114013, 2.7015558958053587, 2.614822993278503, 2.4843905448913572, 2.6212459993362427, 2.6377088594436646, 2.6975906467437745, 2.7389305591583253, 2.8232978200912475, 2.72934965133667, 2.646454849243164, 2.613568410873413, 2.5136814594268797, 2.5978206110000612, 2.6254583644866942, 2.4057094049453736, 2.402720084190369, 2.639316430091858, 2.774964299201965, 2.754122519493103, 3.2175788402557375, 3.1085861253738405, 2.6763640642166138, 2.2616823387145994, 2.0419602537155153, 2.4161604404449464, 2.1771450996398927, 2.094261951446533, 2.2152916240692138, 2.179808506965637, 2.1776322078704835, 2.254474244117737, 2.177420110702515, 2.2640201902389525, 2.2587379169464112, 2.5137687158584594, 2.596677689552307, 2.317622127532959, 2.346512265205383, 2.4663615322113035, 2.5086402177810667, 2.367177896499634, 2.326920690536499, 2.210363359451294, 2.0326780819892885, 2.2230395793914797]\n"
     ]
    },
    {
     "name": "stderr",
     "output_type": "stream",
     "text": [
      "100%|██████████| 25/25 [00:12<00:00,  1.99it/s, loss=1.43]\n"
     ]
    },
    {
     "name": "stdout",
     "output_type": "stream",
     "text": [
      "Mean Loss Array: [109.72338996887207, 44.82798828125, 32.273617362976076, 26.064711532592774, 21.157442321777342, 19.115713691711427, 16.144016456604003, 14.384355735778808, 13.049383049011231, 12.153732318878173, 11.268043804168702, 10.582560024261475, 9.440228748321534, 9.014247779846192, 8.482091827392578, 8.003567943572998, 7.432519369125366, 7.155730819702148, 6.746190195083618, 6.142616205215454, 6.142941875457764, 5.743178958892822, 5.321213102340698, 5.176215934753418, 4.775535774230957, 4.601470146179199, 4.661863927841186, 4.357816190719604, 4.063107490539551, 3.9366776371002197, 3.8242201232910156, 3.982276134490967, 3.5431699085235597, 3.6115941429138183, 3.6431439113616944, 3.610076675415039, 3.685580883026123, 3.7001155853271483, 3.8652588748931884, 4.324375524520874, 4.284564528465271, 4.347878742218017, 3.902965383529663, 4.126591539382934, 3.909240999221802, 3.7352996635437012, 3.7414236068725586, 3.9067931318283082, 4.026785469055175, 3.6361935329437256, 3.5152342700958252, 3.3081491708755495, 3.631723232269287, 3.4103569412231445, 3.5419870948791505, 3.466613187789917, 3.7215825843811037, 3.487019019126892, 3.249955735206604, 3.114084506034851, 3.0858022928237916, 2.8493510723114013, 2.7015558958053587, 2.614822993278503, 2.4843905448913572, 2.6212459993362427, 2.6377088594436646, 2.6975906467437745, 2.7389305591583253, 2.8232978200912475, 2.72934965133667, 2.646454849243164, 2.613568410873413, 2.5136814594268797, 2.5978206110000612, 2.6254583644866942, 2.4057094049453736, 2.402720084190369, 2.639316430091858, 2.774964299201965, 2.754122519493103, 3.2175788402557375, 3.1085861253738405, 2.6763640642166138, 2.2616823387145994, 2.0419602537155153, 2.4161604404449464, 2.1771450996398927, 2.094261951446533, 2.2152916240692138, 2.179808506965637, 2.1776322078704835, 2.254474244117737, 2.177420110702515, 2.2640201902389525, 2.2587379169464112, 2.5137687158584594, 2.596677689552307, 2.317622127532959, 2.346512265205383, 2.4663615322113035, 2.5086402177810667, 2.367177896499634, 2.326920690536499, 2.210363359451294, 2.0326780819892885, 2.2230395793914797, 2.0994843864440917]\n"
     ]
    },
    {
     "name": "stderr",
     "output_type": "stream",
     "text": [
      "100%|██████████| 25/25 [00:12<00:00,  2.05it/s, loss=2.48]\n"
     ]
    },
    {
     "name": "stdout",
     "output_type": "stream",
     "text": [
      "Mean Loss Array: [109.72338996887207, 44.82798828125, 32.273617362976076, 26.064711532592774, 21.157442321777342, 19.115713691711427, 16.144016456604003, 14.384355735778808, 13.049383049011231, 12.153732318878173, 11.268043804168702, 10.582560024261475, 9.440228748321534, 9.014247779846192, 8.482091827392578, 8.003567943572998, 7.432519369125366, 7.155730819702148, 6.746190195083618, 6.142616205215454, 6.142941875457764, 5.743178958892822, 5.321213102340698, 5.176215934753418, 4.775535774230957, 4.601470146179199, 4.661863927841186, 4.357816190719604, 4.063107490539551, 3.9366776371002197, 3.8242201232910156, 3.982276134490967, 3.5431699085235597, 3.6115941429138183, 3.6431439113616944, 3.610076675415039, 3.685580883026123, 3.7001155853271483, 3.8652588748931884, 4.324375524520874, 4.284564528465271, 4.347878742218017, 3.902965383529663, 4.126591539382934, 3.909240999221802, 3.7352996635437012, 3.7414236068725586, 3.9067931318283082, 4.026785469055175, 3.6361935329437256, 3.5152342700958252, 3.3081491708755495, 3.631723232269287, 3.4103569412231445, 3.5419870948791505, 3.466613187789917, 3.7215825843811037, 3.487019019126892, 3.249955735206604, 3.114084506034851, 3.0858022928237916, 2.8493510723114013, 2.7015558958053587, 2.614822993278503, 2.4843905448913572, 2.6212459993362427, 2.6377088594436646, 2.6975906467437745, 2.7389305591583253, 2.8232978200912475, 2.72934965133667, 2.646454849243164, 2.613568410873413, 2.5136814594268797, 2.5978206110000612, 2.6254583644866942, 2.4057094049453736, 2.402720084190369, 2.639316430091858, 2.774964299201965, 2.754122519493103, 3.2175788402557375, 3.1085861253738405, 2.6763640642166138, 2.2616823387145994, 2.0419602537155153, 2.4161604404449464, 2.1771450996398927, 2.094261951446533, 2.2152916240692138, 2.179808506965637, 2.1776322078704835, 2.254474244117737, 2.177420110702515, 2.2640201902389525, 2.2587379169464112, 2.5137687158584594, 2.596677689552307, 2.317622127532959, 2.346512265205383, 2.4663615322113035, 2.5086402177810667, 2.367177896499634, 2.326920690536499, 2.210363359451294, 2.0326780819892885, 2.2230395793914797, 2.0994843864440917, 2.20056378364563]\n"
     ]
    },
    {
     "name": "stderr",
     "output_type": "stream",
     "text": [
      "100%|██████████| 25/25 [00:12<00:00,  1.98it/s, loss=3.18]"
     ]
    },
    {
     "name": "stdout",
     "output_type": "stream",
     "text": [
      "Mean Loss Array: [109.72338996887207, 44.82798828125, 32.273617362976076, 26.064711532592774, 21.157442321777342, 19.115713691711427, 16.144016456604003, 14.384355735778808, 13.049383049011231, 12.153732318878173, 11.268043804168702, 10.582560024261475, 9.440228748321534, 9.014247779846192, 8.482091827392578, 8.003567943572998, 7.432519369125366, 7.155730819702148, 6.746190195083618, 6.142616205215454, 6.142941875457764, 5.743178958892822, 5.321213102340698, 5.176215934753418, 4.775535774230957, 4.601470146179199, 4.661863927841186, 4.357816190719604, 4.063107490539551, 3.9366776371002197, 3.8242201232910156, 3.982276134490967, 3.5431699085235597, 3.6115941429138183, 3.6431439113616944, 3.610076675415039, 3.685580883026123, 3.7001155853271483, 3.8652588748931884, 4.324375524520874, 4.284564528465271, 4.347878742218017, 3.902965383529663, 4.126591539382934, 3.909240999221802, 3.7352996635437012, 3.7414236068725586, 3.9067931318283082, 4.026785469055175, 3.6361935329437256, 3.5152342700958252, 3.3081491708755495, 3.631723232269287, 3.4103569412231445, 3.5419870948791505, 3.466613187789917, 3.7215825843811037, 3.487019019126892, 3.249955735206604, 3.114084506034851, 3.0858022928237916, 2.8493510723114013, 2.7015558958053587, 2.614822993278503, 2.4843905448913572, 2.6212459993362427, 2.6377088594436646, 2.6975906467437745, 2.7389305591583253, 2.8232978200912475, 2.72934965133667, 2.646454849243164, 2.613568410873413, 2.5136814594268797, 2.5978206110000612, 2.6254583644866942, 2.4057094049453736, 2.402720084190369, 2.639316430091858, 2.774964299201965, 2.754122519493103, 3.2175788402557375, 3.1085861253738405, 2.6763640642166138, 2.2616823387145994, 2.0419602537155153, 2.4161604404449464, 2.1771450996398927, 2.094261951446533, 2.2152916240692138, 2.179808506965637, 2.1776322078704835, 2.254474244117737, 2.177420110702515, 2.2640201902389525, 2.2587379169464112, 2.5137687158584594, 2.596677689552307, 2.317622127532959, 2.346512265205383, 2.4663615322113035, 2.5086402177810667, 2.367177896499634, 2.326920690536499, 2.210363359451294, 2.0326780819892885, 2.2230395793914797, 2.0994843864440917, 2.20056378364563, 2.0773591709136965]\n"
     ]
    },
    {
     "name": "stderr",
     "output_type": "stream",
     "text": [
      "\n"
     ]
    },
    {
     "name": "stdout",
     "output_type": "stream",
     "text": [
      "epoch: 110 Test mAP: 0.046446543186903 Train mAP: 0.8891709446907043\n",
      "Test mAP Array: [0.0, 0.0, 0.02127656154334545, 0.010204067453742027, 0.0051215216517448425, 0.014166646637022495, 0.03316193446516991, 0.003313692519441247, 0.026041634380817413, 0.0044200788252055645, 0.021867142990231514, 0.0007518788916058838, 0.008113626390695572, 0.013275040313601494, 0.010353523306548595, 0.002705624559894204, 0.044328223913908005, 0.013353311456739902, 0.012046190910041332, 0.015503612346947193, 0.00856652669608593, 0.012172631919384003, 0.046446543186903]\n",
      "Train mAP Array: [0.0, 0.0747547596693039, 0.5053293108940125, 0.7937700748443604, 0.9663692712783813, 0.9874552488327026, 0.9544763565063477, 0.9058959484100342, 0.7671000361442566, 0.7827416658401489, 0.8842312693595886, 0.8449891209602356, 0.8830795884132385, 0.9306423664093018, 0.8613497614860535, 0.8504751920700073, 0.8839361667633057, 0.9316099286079407, 0.9345404505729675, 0.8662539124488831, 0.8716952204704285, 0.9339544177055359, 0.8891709446907043]\n",
      "=> Saving checkpoint\n"
     ]
    },
    {
     "name": "stderr",
     "output_type": "stream",
     "text": [
      "100%|██████████| 25/25 [00:12<00:00,  1.98it/s, loss=1.52]\n"
     ]
    },
    {
     "name": "stdout",
     "output_type": "stream",
     "text": [
      "Mean Loss Array: [109.72338996887207, 44.82798828125, 32.273617362976076, 26.064711532592774, 21.157442321777342, 19.115713691711427, 16.144016456604003, 14.384355735778808, 13.049383049011231, 12.153732318878173, 11.268043804168702, 10.582560024261475, 9.440228748321534, 9.014247779846192, 8.482091827392578, 8.003567943572998, 7.432519369125366, 7.155730819702148, 6.746190195083618, 6.142616205215454, 6.142941875457764, 5.743178958892822, 5.321213102340698, 5.176215934753418, 4.775535774230957, 4.601470146179199, 4.661863927841186, 4.357816190719604, 4.063107490539551, 3.9366776371002197, 3.8242201232910156, 3.982276134490967, 3.5431699085235597, 3.6115941429138183, 3.6431439113616944, 3.610076675415039, 3.685580883026123, 3.7001155853271483, 3.8652588748931884, 4.324375524520874, 4.284564528465271, 4.347878742218017, 3.902965383529663, 4.126591539382934, 3.909240999221802, 3.7352996635437012, 3.7414236068725586, 3.9067931318283082, 4.026785469055175, 3.6361935329437256, 3.5152342700958252, 3.3081491708755495, 3.631723232269287, 3.4103569412231445, 3.5419870948791505, 3.466613187789917, 3.7215825843811037, 3.487019019126892, 3.249955735206604, 3.114084506034851, 3.0858022928237916, 2.8493510723114013, 2.7015558958053587, 2.614822993278503, 2.4843905448913572, 2.6212459993362427, 2.6377088594436646, 2.6975906467437745, 2.7389305591583253, 2.8232978200912475, 2.72934965133667, 2.646454849243164, 2.613568410873413, 2.5136814594268797, 2.5978206110000612, 2.6254583644866942, 2.4057094049453736, 2.402720084190369, 2.639316430091858, 2.774964299201965, 2.754122519493103, 3.2175788402557375, 3.1085861253738405, 2.6763640642166138, 2.2616823387145994, 2.0419602537155153, 2.4161604404449464, 2.1771450996398927, 2.094261951446533, 2.2152916240692138, 2.179808506965637, 2.1776322078704835, 2.254474244117737, 2.177420110702515, 2.2640201902389525, 2.2587379169464112, 2.5137687158584594, 2.596677689552307, 2.317622127532959, 2.346512265205383, 2.4663615322113035, 2.5086402177810667, 2.367177896499634, 2.326920690536499, 2.210363359451294, 2.0326780819892885, 2.2230395793914797, 2.0994843864440917, 2.20056378364563, 2.0773591709136965, 2.0296157598495483]\n"
     ]
    },
    {
     "name": "stderr",
     "output_type": "stream",
     "text": [
      "100%|██████████| 25/25 [00:15<00:00,  1.64it/s, loss=1.32]\n"
     ]
    },
    {
     "name": "stdout",
     "output_type": "stream",
     "text": [
      "Mean Loss Array: [109.72338996887207, 44.82798828125, 32.273617362976076, 26.064711532592774, 21.157442321777342, 19.115713691711427, 16.144016456604003, 14.384355735778808, 13.049383049011231, 12.153732318878173, 11.268043804168702, 10.582560024261475, 9.440228748321534, 9.014247779846192, 8.482091827392578, 8.003567943572998, 7.432519369125366, 7.155730819702148, 6.746190195083618, 6.142616205215454, 6.142941875457764, 5.743178958892822, 5.321213102340698, 5.176215934753418, 4.775535774230957, 4.601470146179199, 4.661863927841186, 4.357816190719604, 4.063107490539551, 3.9366776371002197, 3.8242201232910156, 3.982276134490967, 3.5431699085235597, 3.6115941429138183, 3.6431439113616944, 3.610076675415039, 3.685580883026123, 3.7001155853271483, 3.8652588748931884, 4.324375524520874, 4.284564528465271, 4.347878742218017, 3.902965383529663, 4.126591539382934, 3.909240999221802, 3.7352996635437012, 3.7414236068725586, 3.9067931318283082, 4.026785469055175, 3.6361935329437256, 3.5152342700958252, 3.3081491708755495, 3.631723232269287, 3.4103569412231445, 3.5419870948791505, 3.466613187789917, 3.7215825843811037, 3.487019019126892, 3.249955735206604, 3.114084506034851, 3.0858022928237916, 2.8493510723114013, 2.7015558958053587, 2.614822993278503, 2.4843905448913572, 2.6212459993362427, 2.6377088594436646, 2.6975906467437745, 2.7389305591583253, 2.8232978200912475, 2.72934965133667, 2.646454849243164, 2.613568410873413, 2.5136814594268797, 2.5978206110000612, 2.6254583644866942, 2.4057094049453736, 2.402720084190369, 2.639316430091858, 2.774964299201965, 2.754122519493103, 3.2175788402557375, 3.1085861253738405, 2.6763640642166138, 2.2616823387145994, 2.0419602537155153, 2.4161604404449464, 2.1771450996398927, 2.094261951446533, 2.2152916240692138, 2.179808506965637, 2.1776322078704835, 2.254474244117737, 2.177420110702515, 2.2640201902389525, 2.2587379169464112, 2.5137687158584594, 2.596677689552307, 2.317622127532959, 2.346512265205383, 2.4663615322113035, 2.5086402177810667, 2.367177896499634, 2.326920690536499, 2.210363359451294, 2.0326780819892885, 2.2230395793914797, 2.0994843864440917, 2.20056378364563, 2.0773591709136965, 2.0296157598495483, 2.0477620792388915]\n"
     ]
    },
    {
     "name": "stderr",
     "output_type": "stream",
     "text": [
      "100%|██████████| 25/25 [00:12<00:00,  2.08it/s, loss=2.55]\n"
     ]
    },
    {
     "name": "stdout",
     "output_type": "stream",
     "text": [
      "Mean Loss Array: [109.72338996887207, 44.82798828125, 32.273617362976076, 26.064711532592774, 21.157442321777342, 19.115713691711427, 16.144016456604003, 14.384355735778808, 13.049383049011231, 12.153732318878173, 11.268043804168702, 10.582560024261475, 9.440228748321534, 9.014247779846192, 8.482091827392578, 8.003567943572998, 7.432519369125366, 7.155730819702148, 6.746190195083618, 6.142616205215454, 6.142941875457764, 5.743178958892822, 5.321213102340698, 5.176215934753418, 4.775535774230957, 4.601470146179199, 4.661863927841186, 4.357816190719604, 4.063107490539551, 3.9366776371002197, 3.8242201232910156, 3.982276134490967, 3.5431699085235597, 3.6115941429138183, 3.6431439113616944, 3.610076675415039, 3.685580883026123, 3.7001155853271483, 3.8652588748931884, 4.324375524520874, 4.284564528465271, 4.347878742218017, 3.902965383529663, 4.126591539382934, 3.909240999221802, 3.7352996635437012, 3.7414236068725586, 3.9067931318283082, 4.026785469055175, 3.6361935329437256, 3.5152342700958252, 3.3081491708755495, 3.631723232269287, 3.4103569412231445, 3.5419870948791505, 3.466613187789917, 3.7215825843811037, 3.487019019126892, 3.249955735206604, 3.114084506034851, 3.0858022928237916, 2.8493510723114013, 2.7015558958053587, 2.614822993278503, 2.4843905448913572, 2.6212459993362427, 2.6377088594436646, 2.6975906467437745, 2.7389305591583253, 2.8232978200912475, 2.72934965133667, 2.646454849243164, 2.613568410873413, 2.5136814594268797, 2.5978206110000612, 2.6254583644866942, 2.4057094049453736, 2.402720084190369, 2.639316430091858, 2.774964299201965, 2.754122519493103, 3.2175788402557375, 3.1085861253738405, 2.6763640642166138, 2.2616823387145994, 2.0419602537155153, 2.4161604404449464, 2.1771450996398927, 2.094261951446533, 2.2152916240692138, 2.179808506965637, 2.1776322078704835, 2.254474244117737, 2.177420110702515, 2.2640201902389525, 2.2587379169464112, 2.5137687158584594, 2.596677689552307, 2.317622127532959, 2.346512265205383, 2.4663615322113035, 2.5086402177810667, 2.367177896499634, 2.326920690536499, 2.210363359451294, 2.0326780819892885, 2.2230395793914797, 2.0994843864440917, 2.20056378364563, 2.0773591709136965, 2.0296157598495483, 2.0477620792388915, 1.9210728740692138]\n"
     ]
    },
    {
     "name": "stderr",
     "output_type": "stream",
     "text": [
      "100%|██████████| 25/25 [00:10<00:00,  2.42it/s, loss=1.36]\n"
     ]
    },
    {
     "name": "stdout",
     "output_type": "stream",
     "text": [
      "Mean Loss Array: [109.72338996887207, 44.82798828125, 32.273617362976076, 26.064711532592774, 21.157442321777342, 19.115713691711427, 16.144016456604003, 14.384355735778808, 13.049383049011231, 12.153732318878173, 11.268043804168702, 10.582560024261475, 9.440228748321534, 9.014247779846192, 8.482091827392578, 8.003567943572998, 7.432519369125366, 7.155730819702148, 6.746190195083618, 6.142616205215454, 6.142941875457764, 5.743178958892822, 5.321213102340698, 5.176215934753418, 4.775535774230957, 4.601470146179199, 4.661863927841186, 4.357816190719604, 4.063107490539551, 3.9366776371002197, 3.8242201232910156, 3.982276134490967, 3.5431699085235597, 3.6115941429138183, 3.6431439113616944, 3.610076675415039, 3.685580883026123, 3.7001155853271483, 3.8652588748931884, 4.324375524520874, 4.284564528465271, 4.347878742218017, 3.902965383529663, 4.126591539382934, 3.909240999221802, 3.7352996635437012, 3.7414236068725586, 3.9067931318283082, 4.026785469055175, 3.6361935329437256, 3.5152342700958252, 3.3081491708755495, 3.631723232269287, 3.4103569412231445, 3.5419870948791505, 3.466613187789917, 3.7215825843811037, 3.487019019126892, 3.249955735206604, 3.114084506034851, 3.0858022928237916, 2.8493510723114013, 2.7015558958053587, 2.614822993278503, 2.4843905448913572, 2.6212459993362427, 2.6377088594436646, 2.6975906467437745, 2.7389305591583253, 2.8232978200912475, 2.72934965133667, 2.646454849243164, 2.613568410873413, 2.5136814594268797, 2.5978206110000612, 2.6254583644866942, 2.4057094049453736, 2.402720084190369, 2.639316430091858, 2.774964299201965, 2.754122519493103, 3.2175788402557375, 3.1085861253738405, 2.6763640642166138, 2.2616823387145994, 2.0419602537155153, 2.4161604404449464, 2.1771450996398927, 2.094261951446533, 2.2152916240692138, 2.179808506965637, 2.1776322078704835, 2.254474244117737, 2.177420110702515, 2.2640201902389525, 2.2587379169464112, 2.5137687158584594, 2.596677689552307, 2.317622127532959, 2.346512265205383, 2.4663615322113035, 2.5086402177810667, 2.367177896499634, 2.326920690536499, 2.210363359451294, 2.0326780819892885, 2.2230395793914797, 2.0994843864440917, 2.20056378364563, 2.0773591709136965, 2.0296157598495483, 2.0477620792388915, 1.9210728740692138, 2.054435524940491]\n"
     ]
    },
    {
     "name": "stderr",
     "output_type": "stream",
     "text": [
      "100%|██████████| 25/25 [00:11<00:00,  2.19it/s, loss=2.43]"
     ]
    },
    {
     "name": "stdout",
     "output_type": "stream",
     "text": [
      "Mean Loss Array: [109.72338996887207, 44.82798828125, 32.273617362976076, 26.064711532592774, 21.157442321777342, 19.115713691711427, 16.144016456604003, 14.384355735778808, 13.049383049011231, 12.153732318878173, 11.268043804168702, 10.582560024261475, 9.440228748321534, 9.014247779846192, 8.482091827392578, 8.003567943572998, 7.432519369125366, 7.155730819702148, 6.746190195083618, 6.142616205215454, 6.142941875457764, 5.743178958892822, 5.321213102340698, 5.176215934753418, 4.775535774230957, 4.601470146179199, 4.661863927841186, 4.357816190719604, 4.063107490539551, 3.9366776371002197, 3.8242201232910156, 3.982276134490967, 3.5431699085235597, 3.6115941429138183, 3.6431439113616944, 3.610076675415039, 3.685580883026123, 3.7001155853271483, 3.8652588748931884, 4.324375524520874, 4.284564528465271, 4.347878742218017, 3.902965383529663, 4.126591539382934, 3.909240999221802, 3.7352996635437012, 3.7414236068725586, 3.9067931318283082, 4.026785469055175, 3.6361935329437256, 3.5152342700958252, 3.3081491708755495, 3.631723232269287, 3.4103569412231445, 3.5419870948791505, 3.466613187789917, 3.7215825843811037, 3.487019019126892, 3.249955735206604, 3.114084506034851, 3.0858022928237916, 2.8493510723114013, 2.7015558958053587, 2.614822993278503, 2.4843905448913572, 2.6212459993362427, 2.6377088594436646, 2.6975906467437745, 2.7389305591583253, 2.8232978200912475, 2.72934965133667, 2.646454849243164, 2.613568410873413, 2.5136814594268797, 2.5978206110000612, 2.6254583644866942, 2.4057094049453736, 2.402720084190369, 2.639316430091858, 2.774964299201965, 2.754122519493103, 3.2175788402557375, 3.1085861253738405, 2.6763640642166138, 2.2616823387145994, 2.0419602537155153, 2.4161604404449464, 2.1771450996398927, 2.094261951446533, 2.2152916240692138, 2.179808506965637, 2.1776322078704835, 2.254474244117737, 2.177420110702515, 2.2640201902389525, 2.2587379169464112, 2.5137687158584594, 2.596677689552307, 2.317622127532959, 2.346512265205383, 2.4663615322113035, 2.5086402177810667, 2.367177896499634, 2.326920690536499, 2.210363359451294, 2.0326780819892885, 2.2230395793914797, 2.0994843864440917, 2.20056378364563, 2.0773591709136965, 2.0296157598495483, 2.0477620792388915, 1.9210728740692138, 2.054435524940491, 2.056104645729065]\n"
     ]
    },
    {
     "name": "stderr",
     "output_type": "stream",
     "text": [
      "\n"
     ]
    },
    {
     "name": "stdout",
     "output_type": "stream",
     "text": [
      "epoch: 115 Test mAP: 0.017765548080205917 Train mAP: 0.9316245317459106\n",
      "Test mAP Array: [0.0, 0.0, 0.02127656154334545, 0.010204067453742027, 0.0051215216517448425, 0.014166646637022495, 0.03316193446516991, 0.003313692519441247, 0.026041634380817413, 0.0044200788252055645, 0.021867142990231514, 0.0007518788916058838, 0.008113626390695572, 0.013275040313601494, 0.010353523306548595, 0.002705624559894204, 0.044328223913908005, 0.013353311456739902, 0.012046190910041332, 0.015503612346947193, 0.00856652669608593, 0.012172631919384003, 0.046446543186903, 0.017765548080205917]\n",
      "Train mAP Array: [0.0, 0.0747547596693039, 0.5053293108940125, 0.7937700748443604, 0.9663692712783813, 0.9874552488327026, 0.9544763565063477, 0.9058959484100342, 0.7671000361442566, 0.7827416658401489, 0.8842312693595886, 0.8449891209602356, 0.8830795884132385, 0.9306423664093018, 0.8613497614860535, 0.8504751920700073, 0.8839361667633057, 0.9316099286079407, 0.9345404505729675, 0.8662539124488831, 0.8716952204704285, 0.9339544177055359, 0.8891709446907043, 0.9316245317459106]\n",
      "=> Saving checkpoint\n"
     ]
    },
    {
     "name": "stderr",
     "output_type": "stream",
     "text": [
      "100%|██████████| 25/25 [00:12<00:00,  2.00it/s, loss=1.44]\n"
     ]
    },
    {
     "name": "stdout",
     "output_type": "stream",
     "text": [
      "Mean Loss Array: [109.72338996887207, 44.82798828125, 32.273617362976076, 26.064711532592774, 21.157442321777342, 19.115713691711427, 16.144016456604003, 14.384355735778808, 13.049383049011231, 12.153732318878173, 11.268043804168702, 10.582560024261475, 9.440228748321534, 9.014247779846192, 8.482091827392578, 8.003567943572998, 7.432519369125366, 7.155730819702148, 6.746190195083618, 6.142616205215454, 6.142941875457764, 5.743178958892822, 5.321213102340698, 5.176215934753418, 4.775535774230957, 4.601470146179199, 4.661863927841186, 4.357816190719604, 4.063107490539551, 3.9366776371002197, 3.8242201232910156, 3.982276134490967, 3.5431699085235597, 3.6115941429138183, 3.6431439113616944, 3.610076675415039, 3.685580883026123, 3.7001155853271483, 3.8652588748931884, 4.324375524520874, 4.284564528465271, 4.347878742218017, 3.902965383529663, 4.126591539382934, 3.909240999221802, 3.7352996635437012, 3.7414236068725586, 3.9067931318283082, 4.026785469055175, 3.6361935329437256, 3.5152342700958252, 3.3081491708755495, 3.631723232269287, 3.4103569412231445, 3.5419870948791505, 3.466613187789917, 3.7215825843811037, 3.487019019126892, 3.249955735206604, 3.114084506034851, 3.0858022928237916, 2.8493510723114013, 2.7015558958053587, 2.614822993278503, 2.4843905448913572, 2.6212459993362427, 2.6377088594436646, 2.6975906467437745, 2.7389305591583253, 2.8232978200912475, 2.72934965133667, 2.646454849243164, 2.613568410873413, 2.5136814594268797, 2.5978206110000612, 2.6254583644866942, 2.4057094049453736, 2.402720084190369, 2.639316430091858, 2.774964299201965, 2.754122519493103, 3.2175788402557375, 3.1085861253738405, 2.6763640642166138, 2.2616823387145994, 2.0419602537155153, 2.4161604404449464, 2.1771450996398927, 2.094261951446533, 2.2152916240692138, 2.179808506965637, 2.1776322078704835, 2.254474244117737, 2.177420110702515, 2.2640201902389525, 2.2587379169464112, 2.5137687158584594, 2.596677689552307, 2.317622127532959, 2.346512265205383, 2.4663615322113035, 2.5086402177810667, 2.367177896499634, 2.326920690536499, 2.210363359451294, 2.0326780819892885, 2.2230395793914797, 2.0994843864440917, 2.20056378364563, 2.0773591709136965, 2.0296157598495483, 2.0477620792388915, 1.9210728740692138, 2.054435524940491, 2.056104645729065, 1.9066025376319886]\n"
     ]
    },
    {
     "name": "stderr",
     "output_type": "stream",
     "text": [
      "100%|██████████| 25/25 [00:13<00:00,  1.92it/s, loss=1.53]\n"
     ]
    },
    {
     "name": "stdout",
     "output_type": "stream",
     "text": [
      "Mean Loss Array: [109.72338996887207, 44.82798828125, 32.273617362976076, 26.064711532592774, 21.157442321777342, 19.115713691711427, 16.144016456604003, 14.384355735778808, 13.049383049011231, 12.153732318878173, 11.268043804168702, 10.582560024261475, 9.440228748321534, 9.014247779846192, 8.482091827392578, 8.003567943572998, 7.432519369125366, 7.155730819702148, 6.746190195083618, 6.142616205215454, 6.142941875457764, 5.743178958892822, 5.321213102340698, 5.176215934753418, 4.775535774230957, 4.601470146179199, 4.661863927841186, 4.357816190719604, 4.063107490539551, 3.9366776371002197, 3.8242201232910156, 3.982276134490967, 3.5431699085235597, 3.6115941429138183, 3.6431439113616944, 3.610076675415039, 3.685580883026123, 3.7001155853271483, 3.8652588748931884, 4.324375524520874, 4.284564528465271, 4.347878742218017, 3.902965383529663, 4.126591539382934, 3.909240999221802, 3.7352996635437012, 3.7414236068725586, 3.9067931318283082, 4.026785469055175, 3.6361935329437256, 3.5152342700958252, 3.3081491708755495, 3.631723232269287, 3.4103569412231445, 3.5419870948791505, 3.466613187789917, 3.7215825843811037, 3.487019019126892, 3.249955735206604, 3.114084506034851, 3.0858022928237916, 2.8493510723114013, 2.7015558958053587, 2.614822993278503, 2.4843905448913572, 2.6212459993362427, 2.6377088594436646, 2.6975906467437745, 2.7389305591583253, 2.8232978200912475, 2.72934965133667, 2.646454849243164, 2.613568410873413, 2.5136814594268797, 2.5978206110000612, 2.6254583644866942, 2.4057094049453736, 2.402720084190369, 2.639316430091858, 2.774964299201965, 2.754122519493103, 3.2175788402557375, 3.1085861253738405, 2.6763640642166138, 2.2616823387145994, 2.0419602537155153, 2.4161604404449464, 2.1771450996398927, 2.094261951446533, 2.2152916240692138, 2.179808506965637, 2.1776322078704835, 2.254474244117737, 2.177420110702515, 2.2640201902389525, 2.2587379169464112, 2.5137687158584594, 2.596677689552307, 2.317622127532959, 2.346512265205383, 2.4663615322113035, 2.5086402177810667, 2.367177896499634, 2.326920690536499, 2.210363359451294, 2.0326780819892885, 2.2230395793914797, 2.0994843864440917, 2.20056378364563, 2.0773591709136965, 2.0296157598495483, 2.0477620792388915, 1.9210728740692138, 2.054435524940491, 2.056104645729065, 1.9066025376319886, 1.843522915840149]\n"
     ]
    },
    {
     "name": "stderr",
     "output_type": "stream",
     "text": [
      "100%|██████████| 25/25 [00:12<00:00,  2.07it/s, loss=1.89]\n"
     ]
    },
    {
     "name": "stdout",
     "output_type": "stream",
     "text": [
      "Mean Loss Array: [109.72338996887207, 44.82798828125, 32.273617362976076, 26.064711532592774, 21.157442321777342, 19.115713691711427, 16.144016456604003, 14.384355735778808, 13.049383049011231, 12.153732318878173, 11.268043804168702, 10.582560024261475, 9.440228748321534, 9.014247779846192, 8.482091827392578, 8.003567943572998, 7.432519369125366, 7.155730819702148, 6.746190195083618, 6.142616205215454, 6.142941875457764, 5.743178958892822, 5.321213102340698, 5.176215934753418, 4.775535774230957, 4.601470146179199, 4.661863927841186, 4.357816190719604, 4.063107490539551, 3.9366776371002197, 3.8242201232910156, 3.982276134490967, 3.5431699085235597, 3.6115941429138183, 3.6431439113616944, 3.610076675415039, 3.685580883026123, 3.7001155853271483, 3.8652588748931884, 4.324375524520874, 4.284564528465271, 4.347878742218017, 3.902965383529663, 4.126591539382934, 3.909240999221802, 3.7352996635437012, 3.7414236068725586, 3.9067931318283082, 4.026785469055175, 3.6361935329437256, 3.5152342700958252, 3.3081491708755495, 3.631723232269287, 3.4103569412231445, 3.5419870948791505, 3.466613187789917, 3.7215825843811037, 3.487019019126892, 3.249955735206604, 3.114084506034851, 3.0858022928237916, 2.8493510723114013, 2.7015558958053587, 2.614822993278503, 2.4843905448913572, 2.6212459993362427, 2.6377088594436646, 2.6975906467437745, 2.7389305591583253, 2.8232978200912475, 2.72934965133667, 2.646454849243164, 2.613568410873413, 2.5136814594268797, 2.5978206110000612, 2.6254583644866942, 2.4057094049453736, 2.402720084190369, 2.639316430091858, 2.774964299201965, 2.754122519493103, 3.2175788402557375, 3.1085861253738405, 2.6763640642166138, 2.2616823387145994, 2.0419602537155153, 2.4161604404449464, 2.1771450996398927, 2.094261951446533, 2.2152916240692138, 2.179808506965637, 2.1776322078704835, 2.254474244117737, 2.177420110702515, 2.2640201902389525, 2.2587379169464112, 2.5137687158584594, 2.596677689552307, 2.317622127532959, 2.346512265205383, 2.4663615322113035, 2.5086402177810667, 2.367177896499634, 2.326920690536499, 2.210363359451294, 2.0326780819892885, 2.2230395793914797, 2.0994843864440917, 2.20056378364563, 2.0773591709136965, 2.0296157598495483, 2.0477620792388915, 1.9210728740692138, 2.054435524940491, 2.056104645729065, 1.9066025376319886, 1.843522915840149, 2.3062718963623046]\n"
     ]
    },
    {
     "name": "stderr",
     "output_type": "stream",
     "text": [
      "100%|██████████| 25/25 [00:11<00:00,  2.16it/s, loss=1.63]\n"
     ]
    },
    {
     "name": "stdout",
     "output_type": "stream",
     "text": [
      "Mean Loss Array: [109.72338996887207, 44.82798828125, 32.273617362976076, 26.064711532592774, 21.157442321777342, 19.115713691711427, 16.144016456604003, 14.384355735778808, 13.049383049011231, 12.153732318878173, 11.268043804168702, 10.582560024261475, 9.440228748321534, 9.014247779846192, 8.482091827392578, 8.003567943572998, 7.432519369125366, 7.155730819702148, 6.746190195083618, 6.142616205215454, 6.142941875457764, 5.743178958892822, 5.321213102340698, 5.176215934753418, 4.775535774230957, 4.601470146179199, 4.661863927841186, 4.357816190719604, 4.063107490539551, 3.9366776371002197, 3.8242201232910156, 3.982276134490967, 3.5431699085235597, 3.6115941429138183, 3.6431439113616944, 3.610076675415039, 3.685580883026123, 3.7001155853271483, 3.8652588748931884, 4.324375524520874, 4.284564528465271, 4.347878742218017, 3.902965383529663, 4.126591539382934, 3.909240999221802, 3.7352996635437012, 3.7414236068725586, 3.9067931318283082, 4.026785469055175, 3.6361935329437256, 3.5152342700958252, 3.3081491708755495, 3.631723232269287, 3.4103569412231445, 3.5419870948791505, 3.466613187789917, 3.7215825843811037, 3.487019019126892, 3.249955735206604, 3.114084506034851, 3.0858022928237916, 2.8493510723114013, 2.7015558958053587, 2.614822993278503, 2.4843905448913572, 2.6212459993362427, 2.6377088594436646, 2.6975906467437745, 2.7389305591583253, 2.8232978200912475, 2.72934965133667, 2.646454849243164, 2.613568410873413, 2.5136814594268797, 2.5978206110000612, 2.6254583644866942, 2.4057094049453736, 2.402720084190369, 2.639316430091858, 2.774964299201965, 2.754122519493103, 3.2175788402557375, 3.1085861253738405, 2.6763640642166138, 2.2616823387145994, 2.0419602537155153, 2.4161604404449464, 2.1771450996398927, 2.094261951446533, 2.2152916240692138, 2.179808506965637, 2.1776322078704835, 2.254474244117737, 2.177420110702515, 2.2640201902389525, 2.2587379169464112, 2.5137687158584594, 2.596677689552307, 2.317622127532959, 2.346512265205383, 2.4663615322113035, 2.5086402177810667, 2.367177896499634, 2.326920690536499, 2.210363359451294, 2.0326780819892885, 2.2230395793914797, 2.0994843864440917, 2.20056378364563, 2.0773591709136965, 2.0296157598495483, 2.0477620792388915, 1.9210728740692138, 2.054435524940491, 2.056104645729065, 1.9066025376319886, 1.843522915840149, 2.3062718963623046, 1.9144582271575927]\n"
     ]
    },
    {
     "name": "stderr",
     "output_type": "stream",
     "text": [
      "100%|██████████| 25/25 [00:09<00:00,  2.50it/s, loss=1.31]"
     ]
    },
    {
     "name": "stdout",
     "output_type": "stream",
     "text": [
      "Mean Loss Array: [109.72338996887207, 44.82798828125, 32.273617362976076, 26.064711532592774, 21.157442321777342, 19.115713691711427, 16.144016456604003, 14.384355735778808, 13.049383049011231, 12.153732318878173, 11.268043804168702, 10.582560024261475, 9.440228748321534, 9.014247779846192, 8.482091827392578, 8.003567943572998, 7.432519369125366, 7.155730819702148, 6.746190195083618, 6.142616205215454, 6.142941875457764, 5.743178958892822, 5.321213102340698, 5.176215934753418, 4.775535774230957, 4.601470146179199, 4.661863927841186, 4.357816190719604, 4.063107490539551, 3.9366776371002197, 3.8242201232910156, 3.982276134490967, 3.5431699085235597, 3.6115941429138183, 3.6431439113616944, 3.610076675415039, 3.685580883026123, 3.7001155853271483, 3.8652588748931884, 4.324375524520874, 4.284564528465271, 4.347878742218017, 3.902965383529663, 4.126591539382934, 3.909240999221802, 3.7352996635437012, 3.7414236068725586, 3.9067931318283082, 4.026785469055175, 3.6361935329437256, 3.5152342700958252, 3.3081491708755495, 3.631723232269287, 3.4103569412231445, 3.5419870948791505, 3.466613187789917, 3.7215825843811037, 3.487019019126892, 3.249955735206604, 3.114084506034851, 3.0858022928237916, 2.8493510723114013, 2.7015558958053587, 2.614822993278503, 2.4843905448913572, 2.6212459993362427, 2.6377088594436646, 2.6975906467437745, 2.7389305591583253, 2.8232978200912475, 2.72934965133667, 2.646454849243164, 2.613568410873413, 2.5136814594268797, 2.5978206110000612, 2.6254583644866942, 2.4057094049453736, 2.402720084190369, 2.639316430091858, 2.774964299201965, 2.754122519493103, 3.2175788402557375, 3.1085861253738405, 2.6763640642166138, 2.2616823387145994, 2.0419602537155153, 2.4161604404449464, 2.1771450996398927, 2.094261951446533, 2.2152916240692138, 2.179808506965637, 2.1776322078704835, 2.254474244117737, 2.177420110702515, 2.2640201902389525, 2.2587379169464112, 2.5137687158584594, 2.596677689552307, 2.317622127532959, 2.346512265205383, 2.4663615322113035, 2.5086402177810667, 2.367177896499634, 2.326920690536499, 2.210363359451294, 2.0326780819892885, 2.2230395793914797, 2.0994843864440917, 2.20056378364563, 2.0773591709136965, 2.0296157598495483, 2.0477620792388915, 1.9210728740692138, 2.054435524940491, 2.056104645729065, 1.9066025376319886, 1.843522915840149, 2.3062718963623046, 1.9144582271575927, 1.9594469785690307]\n"
     ]
    },
    {
     "name": "stderr",
     "output_type": "stream",
     "text": [
      "\n"
     ]
    },
    {
     "name": "stdout",
     "output_type": "stream",
     "text": [
      "epoch: 120 Test mAP: 0.023400645703077316 Train mAP: 0.8825041651725769\n",
      "Test mAP Array: [0.0, 0.0, 0.02127656154334545, 0.010204067453742027, 0.0051215216517448425, 0.014166646637022495, 0.03316193446516991, 0.003313692519441247, 0.026041634380817413, 0.0044200788252055645, 0.021867142990231514, 0.0007518788916058838, 0.008113626390695572, 0.013275040313601494, 0.010353523306548595, 0.002705624559894204, 0.044328223913908005, 0.013353311456739902, 0.012046190910041332, 0.015503612346947193, 0.00856652669608593, 0.012172631919384003, 0.046446543186903, 0.017765548080205917, 0.023400645703077316]\n",
      "Train mAP Array: [0.0, 0.0747547596693039, 0.5053293108940125, 0.7937700748443604, 0.9663692712783813, 0.9874552488327026, 0.9544763565063477, 0.9058959484100342, 0.7671000361442566, 0.7827416658401489, 0.8842312693595886, 0.8449891209602356, 0.8830795884132385, 0.9306423664093018, 0.8613497614860535, 0.8504751920700073, 0.8839361667633057, 0.9316099286079407, 0.9345404505729675, 0.8662539124488831, 0.8716952204704285, 0.9339544177055359, 0.8891709446907043, 0.9316245317459106, 0.8825041651725769]\n",
      "=> Saving checkpoint\n"
     ]
    },
    {
     "name": "stderr",
     "output_type": "stream",
     "text": [
      "100%|██████████| 25/25 [00:11<00:00,  2.24it/s, loss=1.82]\n"
     ]
    },
    {
     "name": "stdout",
     "output_type": "stream",
     "text": [
      "Mean Loss Array: [109.72338996887207, 44.82798828125, 32.273617362976076, 26.064711532592774, 21.157442321777342, 19.115713691711427, 16.144016456604003, 14.384355735778808, 13.049383049011231, 12.153732318878173, 11.268043804168702, 10.582560024261475, 9.440228748321534, 9.014247779846192, 8.482091827392578, 8.003567943572998, 7.432519369125366, 7.155730819702148, 6.746190195083618, 6.142616205215454, 6.142941875457764, 5.743178958892822, 5.321213102340698, 5.176215934753418, 4.775535774230957, 4.601470146179199, 4.661863927841186, 4.357816190719604, 4.063107490539551, 3.9366776371002197, 3.8242201232910156, 3.982276134490967, 3.5431699085235597, 3.6115941429138183, 3.6431439113616944, 3.610076675415039, 3.685580883026123, 3.7001155853271483, 3.8652588748931884, 4.324375524520874, 4.284564528465271, 4.347878742218017, 3.902965383529663, 4.126591539382934, 3.909240999221802, 3.7352996635437012, 3.7414236068725586, 3.9067931318283082, 4.026785469055175, 3.6361935329437256, 3.5152342700958252, 3.3081491708755495, 3.631723232269287, 3.4103569412231445, 3.5419870948791505, 3.466613187789917, 3.7215825843811037, 3.487019019126892, 3.249955735206604, 3.114084506034851, 3.0858022928237916, 2.8493510723114013, 2.7015558958053587, 2.614822993278503, 2.4843905448913572, 2.6212459993362427, 2.6377088594436646, 2.6975906467437745, 2.7389305591583253, 2.8232978200912475, 2.72934965133667, 2.646454849243164, 2.613568410873413, 2.5136814594268797, 2.5978206110000612, 2.6254583644866942, 2.4057094049453736, 2.402720084190369, 2.639316430091858, 2.774964299201965, 2.754122519493103, 3.2175788402557375, 3.1085861253738405, 2.6763640642166138, 2.2616823387145994, 2.0419602537155153, 2.4161604404449464, 2.1771450996398927, 2.094261951446533, 2.2152916240692138, 2.179808506965637, 2.1776322078704835, 2.254474244117737, 2.177420110702515, 2.2640201902389525, 2.2587379169464112, 2.5137687158584594, 2.596677689552307, 2.317622127532959, 2.346512265205383, 2.4663615322113035, 2.5086402177810667, 2.367177896499634, 2.326920690536499, 2.210363359451294, 2.0326780819892885, 2.2230395793914797, 2.0994843864440917, 2.20056378364563, 2.0773591709136965, 2.0296157598495483, 2.0477620792388915, 1.9210728740692138, 2.054435524940491, 2.056104645729065, 1.9066025376319886, 1.843522915840149, 2.3062718963623046, 1.9144582271575927, 1.9594469785690307, 1.9459510326385498]\n"
     ]
    },
    {
     "name": "stderr",
     "output_type": "stream",
     "text": [
      "100%|██████████| 25/25 [00:14<00:00,  1.69it/s, loss=2.18]\n"
     ]
    },
    {
     "name": "stdout",
     "output_type": "stream",
     "text": [
      "Mean Loss Array: [109.72338996887207, 44.82798828125, 32.273617362976076, 26.064711532592774, 21.157442321777342, 19.115713691711427, 16.144016456604003, 14.384355735778808, 13.049383049011231, 12.153732318878173, 11.268043804168702, 10.582560024261475, 9.440228748321534, 9.014247779846192, 8.482091827392578, 8.003567943572998, 7.432519369125366, 7.155730819702148, 6.746190195083618, 6.142616205215454, 6.142941875457764, 5.743178958892822, 5.321213102340698, 5.176215934753418, 4.775535774230957, 4.601470146179199, 4.661863927841186, 4.357816190719604, 4.063107490539551, 3.9366776371002197, 3.8242201232910156, 3.982276134490967, 3.5431699085235597, 3.6115941429138183, 3.6431439113616944, 3.610076675415039, 3.685580883026123, 3.7001155853271483, 3.8652588748931884, 4.324375524520874, 4.284564528465271, 4.347878742218017, 3.902965383529663, 4.126591539382934, 3.909240999221802, 3.7352996635437012, 3.7414236068725586, 3.9067931318283082, 4.026785469055175, 3.6361935329437256, 3.5152342700958252, 3.3081491708755495, 3.631723232269287, 3.4103569412231445, 3.5419870948791505, 3.466613187789917, 3.7215825843811037, 3.487019019126892, 3.249955735206604, 3.114084506034851, 3.0858022928237916, 2.8493510723114013, 2.7015558958053587, 2.614822993278503, 2.4843905448913572, 2.6212459993362427, 2.6377088594436646, 2.6975906467437745, 2.7389305591583253, 2.8232978200912475, 2.72934965133667, 2.646454849243164, 2.613568410873413, 2.5136814594268797, 2.5978206110000612, 2.6254583644866942, 2.4057094049453736, 2.402720084190369, 2.639316430091858, 2.774964299201965, 2.754122519493103, 3.2175788402557375, 3.1085861253738405, 2.6763640642166138, 2.2616823387145994, 2.0419602537155153, 2.4161604404449464, 2.1771450996398927, 2.094261951446533, 2.2152916240692138, 2.179808506965637, 2.1776322078704835, 2.254474244117737, 2.177420110702515, 2.2640201902389525, 2.2587379169464112, 2.5137687158584594, 2.596677689552307, 2.317622127532959, 2.346512265205383, 2.4663615322113035, 2.5086402177810667, 2.367177896499634, 2.326920690536499, 2.210363359451294, 2.0326780819892885, 2.2230395793914797, 2.0994843864440917, 2.20056378364563, 2.0773591709136965, 2.0296157598495483, 2.0477620792388915, 1.9210728740692138, 2.054435524940491, 2.056104645729065, 1.9066025376319886, 1.843522915840149, 2.3062718963623046, 1.9144582271575927, 1.9594469785690307, 1.9459510326385498, 1.86377028465271]\n"
     ]
    },
    {
     "name": "stderr",
     "output_type": "stream",
     "text": [
      "100%|██████████| 25/25 [00:12<00:00,  2.03it/s, loss=1.49]\n"
     ]
    },
    {
     "name": "stdout",
     "output_type": "stream",
     "text": [
      "Mean Loss Array: [109.72338996887207, 44.82798828125, 32.273617362976076, 26.064711532592774, 21.157442321777342, 19.115713691711427, 16.144016456604003, 14.384355735778808, 13.049383049011231, 12.153732318878173, 11.268043804168702, 10.582560024261475, 9.440228748321534, 9.014247779846192, 8.482091827392578, 8.003567943572998, 7.432519369125366, 7.155730819702148, 6.746190195083618, 6.142616205215454, 6.142941875457764, 5.743178958892822, 5.321213102340698, 5.176215934753418, 4.775535774230957, 4.601470146179199, 4.661863927841186, 4.357816190719604, 4.063107490539551, 3.9366776371002197, 3.8242201232910156, 3.982276134490967, 3.5431699085235597, 3.6115941429138183, 3.6431439113616944, 3.610076675415039, 3.685580883026123, 3.7001155853271483, 3.8652588748931884, 4.324375524520874, 4.284564528465271, 4.347878742218017, 3.902965383529663, 4.126591539382934, 3.909240999221802, 3.7352996635437012, 3.7414236068725586, 3.9067931318283082, 4.026785469055175, 3.6361935329437256, 3.5152342700958252, 3.3081491708755495, 3.631723232269287, 3.4103569412231445, 3.5419870948791505, 3.466613187789917, 3.7215825843811037, 3.487019019126892, 3.249955735206604, 3.114084506034851, 3.0858022928237916, 2.8493510723114013, 2.7015558958053587, 2.614822993278503, 2.4843905448913572, 2.6212459993362427, 2.6377088594436646, 2.6975906467437745, 2.7389305591583253, 2.8232978200912475, 2.72934965133667, 2.646454849243164, 2.613568410873413, 2.5136814594268797, 2.5978206110000612, 2.6254583644866942, 2.4057094049453736, 2.402720084190369, 2.639316430091858, 2.774964299201965, 2.754122519493103, 3.2175788402557375, 3.1085861253738405, 2.6763640642166138, 2.2616823387145994, 2.0419602537155153, 2.4161604404449464, 2.1771450996398927, 2.094261951446533, 2.2152916240692138, 2.179808506965637, 2.1776322078704835, 2.254474244117737, 2.177420110702515, 2.2640201902389525, 2.2587379169464112, 2.5137687158584594, 2.596677689552307, 2.317622127532959, 2.346512265205383, 2.4663615322113035, 2.5086402177810667, 2.367177896499634, 2.326920690536499, 2.210363359451294, 2.0326780819892885, 2.2230395793914797, 2.0994843864440917, 2.20056378364563, 2.0773591709136965, 2.0296157598495483, 2.0477620792388915, 1.9210728740692138, 2.054435524940491, 2.056104645729065, 1.9066025376319886, 1.843522915840149, 2.3062718963623046, 1.9144582271575927, 1.9594469785690307, 1.9459510326385498, 1.86377028465271, 1.6025599288940429]\n"
     ]
    },
    {
     "name": "stderr",
     "output_type": "stream",
     "text": [
      "100%|██████████| 25/25 [00:11<00:00,  2.09it/s, loss=1.29]\n"
     ]
    },
    {
     "name": "stdout",
     "output_type": "stream",
     "text": [
      "Mean Loss Array: [109.72338996887207, 44.82798828125, 32.273617362976076, 26.064711532592774, 21.157442321777342, 19.115713691711427, 16.144016456604003, 14.384355735778808, 13.049383049011231, 12.153732318878173, 11.268043804168702, 10.582560024261475, 9.440228748321534, 9.014247779846192, 8.482091827392578, 8.003567943572998, 7.432519369125366, 7.155730819702148, 6.746190195083618, 6.142616205215454, 6.142941875457764, 5.743178958892822, 5.321213102340698, 5.176215934753418, 4.775535774230957, 4.601470146179199, 4.661863927841186, 4.357816190719604, 4.063107490539551, 3.9366776371002197, 3.8242201232910156, 3.982276134490967, 3.5431699085235597, 3.6115941429138183, 3.6431439113616944, 3.610076675415039, 3.685580883026123, 3.7001155853271483, 3.8652588748931884, 4.324375524520874, 4.284564528465271, 4.347878742218017, 3.902965383529663, 4.126591539382934, 3.909240999221802, 3.7352996635437012, 3.7414236068725586, 3.9067931318283082, 4.026785469055175, 3.6361935329437256, 3.5152342700958252, 3.3081491708755495, 3.631723232269287, 3.4103569412231445, 3.5419870948791505, 3.466613187789917, 3.7215825843811037, 3.487019019126892, 3.249955735206604, 3.114084506034851, 3.0858022928237916, 2.8493510723114013, 2.7015558958053587, 2.614822993278503, 2.4843905448913572, 2.6212459993362427, 2.6377088594436646, 2.6975906467437745, 2.7389305591583253, 2.8232978200912475, 2.72934965133667, 2.646454849243164, 2.613568410873413, 2.5136814594268797, 2.5978206110000612, 2.6254583644866942, 2.4057094049453736, 2.402720084190369, 2.639316430091858, 2.774964299201965, 2.754122519493103, 3.2175788402557375, 3.1085861253738405, 2.6763640642166138, 2.2616823387145994, 2.0419602537155153, 2.4161604404449464, 2.1771450996398927, 2.094261951446533, 2.2152916240692138, 2.179808506965637, 2.1776322078704835, 2.254474244117737, 2.177420110702515, 2.2640201902389525, 2.2587379169464112, 2.5137687158584594, 2.596677689552307, 2.317622127532959, 2.346512265205383, 2.4663615322113035, 2.5086402177810667, 2.367177896499634, 2.326920690536499, 2.210363359451294, 2.0326780819892885, 2.2230395793914797, 2.0994843864440917, 2.20056378364563, 2.0773591709136965, 2.0296157598495483, 2.0477620792388915, 1.9210728740692138, 2.054435524940491, 2.056104645729065, 1.9066025376319886, 1.843522915840149, 2.3062718963623046, 1.9144582271575927, 1.9594469785690307, 1.9459510326385498, 1.86377028465271, 1.6025599288940429, 1.7876520872116088]\n"
     ]
    },
    {
     "name": "stderr",
     "output_type": "stream",
     "text": [
      "100%|██████████| 25/25 [00:11<00:00,  2.12it/s, loss=1.67]"
     ]
    },
    {
     "name": "stdout",
     "output_type": "stream",
     "text": [
      "Mean Loss Array: [109.72338996887207, 44.82798828125, 32.273617362976076, 26.064711532592774, 21.157442321777342, 19.115713691711427, 16.144016456604003, 14.384355735778808, 13.049383049011231, 12.153732318878173, 11.268043804168702, 10.582560024261475, 9.440228748321534, 9.014247779846192, 8.482091827392578, 8.003567943572998, 7.432519369125366, 7.155730819702148, 6.746190195083618, 6.142616205215454, 6.142941875457764, 5.743178958892822, 5.321213102340698, 5.176215934753418, 4.775535774230957, 4.601470146179199, 4.661863927841186, 4.357816190719604, 4.063107490539551, 3.9366776371002197, 3.8242201232910156, 3.982276134490967, 3.5431699085235597, 3.6115941429138183, 3.6431439113616944, 3.610076675415039, 3.685580883026123, 3.7001155853271483, 3.8652588748931884, 4.324375524520874, 4.284564528465271, 4.347878742218017, 3.902965383529663, 4.126591539382934, 3.909240999221802, 3.7352996635437012, 3.7414236068725586, 3.9067931318283082, 4.026785469055175, 3.6361935329437256, 3.5152342700958252, 3.3081491708755495, 3.631723232269287, 3.4103569412231445, 3.5419870948791505, 3.466613187789917, 3.7215825843811037, 3.487019019126892, 3.249955735206604, 3.114084506034851, 3.0858022928237916, 2.8493510723114013, 2.7015558958053587, 2.614822993278503, 2.4843905448913572, 2.6212459993362427, 2.6377088594436646, 2.6975906467437745, 2.7389305591583253, 2.8232978200912475, 2.72934965133667, 2.646454849243164, 2.613568410873413, 2.5136814594268797, 2.5978206110000612, 2.6254583644866942, 2.4057094049453736, 2.402720084190369, 2.639316430091858, 2.774964299201965, 2.754122519493103, 3.2175788402557375, 3.1085861253738405, 2.6763640642166138, 2.2616823387145994, 2.0419602537155153, 2.4161604404449464, 2.1771450996398927, 2.094261951446533, 2.2152916240692138, 2.179808506965637, 2.1776322078704835, 2.254474244117737, 2.177420110702515, 2.2640201902389525, 2.2587379169464112, 2.5137687158584594, 2.596677689552307, 2.317622127532959, 2.346512265205383, 2.4663615322113035, 2.5086402177810667, 2.367177896499634, 2.326920690536499, 2.210363359451294, 2.0326780819892885, 2.2230395793914797, 2.0994843864440917, 2.20056378364563, 2.0773591709136965, 2.0296157598495483, 2.0477620792388915, 1.9210728740692138, 2.054435524940491, 2.056104645729065, 1.9066025376319886, 1.843522915840149, 2.3062718963623046, 1.9144582271575927, 1.9594469785690307, 1.9459510326385498, 1.86377028465271, 1.6025599288940429, 1.7876520872116088, 1.6909418821334838]\n"
     ]
    },
    {
     "name": "stderr",
     "output_type": "stream",
     "text": [
      "\n"
     ]
    },
    {
     "name": "stdout",
     "output_type": "stream",
     "text": [
      "epoch: 125 Test mAP: 0.01204537134617567 Train mAP: 0.9395813345909119\n",
      "Test mAP Array: [0.0, 0.0, 0.02127656154334545, 0.010204067453742027, 0.0051215216517448425, 0.014166646637022495, 0.03316193446516991, 0.003313692519441247, 0.026041634380817413, 0.0044200788252055645, 0.021867142990231514, 0.0007518788916058838, 0.008113626390695572, 0.013275040313601494, 0.010353523306548595, 0.002705624559894204, 0.044328223913908005, 0.013353311456739902, 0.012046190910041332, 0.015503612346947193, 0.00856652669608593, 0.012172631919384003, 0.046446543186903, 0.017765548080205917, 0.023400645703077316, 0.01204537134617567]\n",
      "Train mAP Array: [0.0, 0.0747547596693039, 0.5053293108940125, 0.7937700748443604, 0.9663692712783813, 0.9874552488327026, 0.9544763565063477, 0.9058959484100342, 0.7671000361442566, 0.7827416658401489, 0.8842312693595886, 0.8449891209602356, 0.8830795884132385, 0.9306423664093018, 0.8613497614860535, 0.8504751920700073, 0.8839361667633057, 0.9316099286079407, 0.9345404505729675, 0.8662539124488831, 0.8716952204704285, 0.9339544177055359, 0.8891709446907043, 0.9316245317459106, 0.8825041651725769, 0.9395813345909119]\n",
      "=> Saving checkpoint\n"
     ]
    },
    {
     "name": "stderr",
     "output_type": "stream",
     "text": [
      "100%|██████████| 25/25 [00:12<00:00,  2.05it/s, loss=1.25]\n"
     ]
    },
    {
     "name": "stdout",
     "output_type": "stream",
     "text": [
      "Mean Loss Array: [109.72338996887207, 44.82798828125, 32.273617362976076, 26.064711532592774, 21.157442321777342, 19.115713691711427, 16.144016456604003, 14.384355735778808, 13.049383049011231, 12.153732318878173, 11.268043804168702, 10.582560024261475, 9.440228748321534, 9.014247779846192, 8.482091827392578, 8.003567943572998, 7.432519369125366, 7.155730819702148, 6.746190195083618, 6.142616205215454, 6.142941875457764, 5.743178958892822, 5.321213102340698, 5.176215934753418, 4.775535774230957, 4.601470146179199, 4.661863927841186, 4.357816190719604, 4.063107490539551, 3.9366776371002197, 3.8242201232910156, 3.982276134490967, 3.5431699085235597, 3.6115941429138183, 3.6431439113616944, 3.610076675415039, 3.685580883026123, 3.7001155853271483, 3.8652588748931884, 4.324375524520874, 4.284564528465271, 4.347878742218017, 3.902965383529663, 4.126591539382934, 3.909240999221802, 3.7352996635437012, 3.7414236068725586, 3.9067931318283082, 4.026785469055175, 3.6361935329437256, 3.5152342700958252, 3.3081491708755495, 3.631723232269287, 3.4103569412231445, 3.5419870948791505, 3.466613187789917, 3.7215825843811037, 3.487019019126892, 3.249955735206604, 3.114084506034851, 3.0858022928237916, 2.8493510723114013, 2.7015558958053587, 2.614822993278503, 2.4843905448913572, 2.6212459993362427, 2.6377088594436646, 2.6975906467437745, 2.7389305591583253, 2.8232978200912475, 2.72934965133667, 2.646454849243164, 2.613568410873413, 2.5136814594268797, 2.5978206110000612, 2.6254583644866942, 2.4057094049453736, 2.402720084190369, 2.639316430091858, 2.774964299201965, 2.754122519493103, 3.2175788402557375, 3.1085861253738405, 2.6763640642166138, 2.2616823387145994, 2.0419602537155153, 2.4161604404449464, 2.1771450996398927, 2.094261951446533, 2.2152916240692138, 2.179808506965637, 2.1776322078704835, 2.254474244117737, 2.177420110702515, 2.2640201902389525, 2.2587379169464112, 2.5137687158584594, 2.596677689552307, 2.317622127532959, 2.346512265205383, 2.4663615322113035, 2.5086402177810667, 2.367177896499634, 2.326920690536499, 2.210363359451294, 2.0326780819892885, 2.2230395793914797, 2.0994843864440917, 2.20056378364563, 2.0773591709136965, 2.0296157598495483, 2.0477620792388915, 1.9210728740692138, 2.054435524940491, 2.056104645729065, 1.9066025376319886, 1.843522915840149, 2.3062718963623046, 1.9144582271575927, 1.9594469785690307, 1.9459510326385498, 1.86377028465271, 1.6025599288940429, 1.7876520872116088, 1.6909418821334838, 1.731949632167816]\n"
     ]
    },
    {
     "name": "stderr",
     "output_type": "stream",
     "text": [
      "100%|██████████| 25/25 [00:11<00:00,  2.17it/s, loss=1.36]\n"
     ]
    },
    {
     "name": "stdout",
     "output_type": "stream",
     "text": [
      "Mean Loss Array: [109.72338996887207, 44.82798828125, 32.273617362976076, 26.064711532592774, 21.157442321777342, 19.115713691711427, 16.144016456604003, 14.384355735778808, 13.049383049011231, 12.153732318878173, 11.268043804168702, 10.582560024261475, 9.440228748321534, 9.014247779846192, 8.482091827392578, 8.003567943572998, 7.432519369125366, 7.155730819702148, 6.746190195083618, 6.142616205215454, 6.142941875457764, 5.743178958892822, 5.321213102340698, 5.176215934753418, 4.775535774230957, 4.601470146179199, 4.661863927841186, 4.357816190719604, 4.063107490539551, 3.9366776371002197, 3.8242201232910156, 3.982276134490967, 3.5431699085235597, 3.6115941429138183, 3.6431439113616944, 3.610076675415039, 3.685580883026123, 3.7001155853271483, 3.8652588748931884, 4.324375524520874, 4.284564528465271, 4.347878742218017, 3.902965383529663, 4.126591539382934, 3.909240999221802, 3.7352996635437012, 3.7414236068725586, 3.9067931318283082, 4.026785469055175, 3.6361935329437256, 3.5152342700958252, 3.3081491708755495, 3.631723232269287, 3.4103569412231445, 3.5419870948791505, 3.466613187789917, 3.7215825843811037, 3.487019019126892, 3.249955735206604, 3.114084506034851, 3.0858022928237916, 2.8493510723114013, 2.7015558958053587, 2.614822993278503, 2.4843905448913572, 2.6212459993362427, 2.6377088594436646, 2.6975906467437745, 2.7389305591583253, 2.8232978200912475, 2.72934965133667, 2.646454849243164, 2.613568410873413, 2.5136814594268797, 2.5978206110000612, 2.6254583644866942, 2.4057094049453736, 2.402720084190369, 2.639316430091858, 2.774964299201965, 2.754122519493103, 3.2175788402557375, 3.1085861253738405, 2.6763640642166138, 2.2616823387145994, 2.0419602537155153, 2.4161604404449464, 2.1771450996398927, 2.094261951446533, 2.2152916240692138, 2.179808506965637, 2.1776322078704835, 2.254474244117737, 2.177420110702515, 2.2640201902389525, 2.2587379169464112, 2.5137687158584594, 2.596677689552307, 2.317622127532959, 2.346512265205383, 2.4663615322113035, 2.5086402177810667, 2.367177896499634, 2.326920690536499, 2.210363359451294, 2.0326780819892885, 2.2230395793914797, 2.0994843864440917, 2.20056378364563, 2.0773591709136965, 2.0296157598495483, 2.0477620792388915, 1.9210728740692138, 2.054435524940491, 2.056104645729065, 1.9066025376319886, 1.843522915840149, 2.3062718963623046, 1.9144582271575927, 1.9594469785690307, 1.9459510326385498, 1.86377028465271, 1.6025599288940429, 1.7876520872116088, 1.6909418821334838, 1.731949632167816, 1.9265658235549927]\n"
     ]
    },
    {
     "name": "stderr",
     "output_type": "stream",
     "text": [
      "100%|██████████| 25/25 [00:11<00:00,  2.27it/s, loss=2.63]\n"
     ]
    },
    {
     "name": "stdout",
     "output_type": "stream",
     "text": [
      "Mean Loss Array: [109.72338996887207, 44.82798828125, 32.273617362976076, 26.064711532592774, 21.157442321777342, 19.115713691711427, 16.144016456604003, 14.384355735778808, 13.049383049011231, 12.153732318878173, 11.268043804168702, 10.582560024261475, 9.440228748321534, 9.014247779846192, 8.482091827392578, 8.003567943572998, 7.432519369125366, 7.155730819702148, 6.746190195083618, 6.142616205215454, 6.142941875457764, 5.743178958892822, 5.321213102340698, 5.176215934753418, 4.775535774230957, 4.601470146179199, 4.661863927841186, 4.357816190719604, 4.063107490539551, 3.9366776371002197, 3.8242201232910156, 3.982276134490967, 3.5431699085235597, 3.6115941429138183, 3.6431439113616944, 3.610076675415039, 3.685580883026123, 3.7001155853271483, 3.8652588748931884, 4.324375524520874, 4.284564528465271, 4.347878742218017, 3.902965383529663, 4.126591539382934, 3.909240999221802, 3.7352996635437012, 3.7414236068725586, 3.9067931318283082, 4.026785469055175, 3.6361935329437256, 3.5152342700958252, 3.3081491708755495, 3.631723232269287, 3.4103569412231445, 3.5419870948791505, 3.466613187789917, 3.7215825843811037, 3.487019019126892, 3.249955735206604, 3.114084506034851, 3.0858022928237916, 2.8493510723114013, 2.7015558958053587, 2.614822993278503, 2.4843905448913572, 2.6212459993362427, 2.6377088594436646, 2.6975906467437745, 2.7389305591583253, 2.8232978200912475, 2.72934965133667, 2.646454849243164, 2.613568410873413, 2.5136814594268797, 2.5978206110000612, 2.6254583644866942, 2.4057094049453736, 2.402720084190369, 2.639316430091858, 2.774964299201965, 2.754122519493103, 3.2175788402557375, 3.1085861253738405, 2.6763640642166138, 2.2616823387145994, 2.0419602537155153, 2.4161604404449464, 2.1771450996398927, 2.094261951446533, 2.2152916240692138, 2.179808506965637, 2.1776322078704835, 2.254474244117737, 2.177420110702515, 2.2640201902389525, 2.2587379169464112, 2.5137687158584594, 2.596677689552307, 2.317622127532959, 2.346512265205383, 2.4663615322113035, 2.5086402177810667, 2.367177896499634, 2.326920690536499, 2.210363359451294, 2.0326780819892885, 2.2230395793914797, 2.0994843864440917, 2.20056378364563, 2.0773591709136965, 2.0296157598495483, 2.0477620792388915, 1.9210728740692138, 2.054435524940491, 2.056104645729065, 1.9066025376319886, 1.843522915840149, 2.3062718963623046, 1.9144582271575927, 1.9594469785690307, 1.9459510326385498, 1.86377028465271, 1.6025599288940429, 1.7876520872116088, 1.6909418821334838, 1.731949632167816, 1.9265658235549927, 1.8606476402282714]\n"
     ]
    },
    {
     "name": "stderr",
     "output_type": "stream",
     "text": [
      "100%|██████████| 25/25 [00:11<00:00,  2.11it/s, loss=1.27]\n"
     ]
    },
    {
     "name": "stdout",
     "output_type": "stream",
     "text": [
      "Mean Loss Array: [109.72338996887207, 44.82798828125, 32.273617362976076, 26.064711532592774, 21.157442321777342, 19.115713691711427, 16.144016456604003, 14.384355735778808, 13.049383049011231, 12.153732318878173, 11.268043804168702, 10.582560024261475, 9.440228748321534, 9.014247779846192, 8.482091827392578, 8.003567943572998, 7.432519369125366, 7.155730819702148, 6.746190195083618, 6.142616205215454, 6.142941875457764, 5.743178958892822, 5.321213102340698, 5.176215934753418, 4.775535774230957, 4.601470146179199, 4.661863927841186, 4.357816190719604, 4.063107490539551, 3.9366776371002197, 3.8242201232910156, 3.982276134490967, 3.5431699085235597, 3.6115941429138183, 3.6431439113616944, 3.610076675415039, 3.685580883026123, 3.7001155853271483, 3.8652588748931884, 4.324375524520874, 4.284564528465271, 4.347878742218017, 3.902965383529663, 4.126591539382934, 3.909240999221802, 3.7352996635437012, 3.7414236068725586, 3.9067931318283082, 4.026785469055175, 3.6361935329437256, 3.5152342700958252, 3.3081491708755495, 3.631723232269287, 3.4103569412231445, 3.5419870948791505, 3.466613187789917, 3.7215825843811037, 3.487019019126892, 3.249955735206604, 3.114084506034851, 3.0858022928237916, 2.8493510723114013, 2.7015558958053587, 2.614822993278503, 2.4843905448913572, 2.6212459993362427, 2.6377088594436646, 2.6975906467437745, 2.7389305591583253, 2.8232978200912475, 2.72934965133667, 2.646454849243164, 2.613568410873413, 2.5136814594268797, 2.5978206110000612, 2.6254583644866942, 2.4057094049453736, 2.402720084190369, 2.639316430091858, 2.774964299201965, 2.754122519493103, 3.2175788402557375, 3.1085861253738405, 2.6763640642166138, 2.2616823387145994, 2.0419602537155153, 2.4161604404449464, 2.1771450996398927, 2.094261951446533, 2.2152916240692138, 2.179808506965637, 2.1776322078704835, 2.254474244117737, 2.177420110702515, 2.2640201902389525, 2.2587379169464112, 2.5137687158584594, 2.596677689552307, 2.317622127532959, 2.346512265205383, 2.4663615322113035, 2.5086402177810667, 2.367177896499634, 2.326920690536499, 2.210363359451294, 2.0326780819892885, 2.2230395793914797, 2.0994843864440917, 2.20056378364563, 2.0773591709136965, 2.0296157598495483, 2.0477620792388915, 1.9210728740692138, 2.054435524940491, 2.056104645729065, 1.9066025376319886, 1.843522915840149, 2.3062718963623046, 1.9144582271575927, 1.9594469785690307, 1.9459510326385498, 1.86377028465271, 1.6025599288940429, 1.7876520872116088, 1.6909418821334838, 1.731949632167816, 1.9265658235549927, 1.8606476402282714, 1.949471688270569]\n"
     ]
    },
    {
     "name": "stderr",
     "output_type": "stream",
     "text": [
      "100%|██████████| 25/25 [00:12<00:00,  2.06it/s, loss=1.81]"
     ]
    },
    {
     "name": "stdout",
     "output_type": "stream",
     "text": [
      "Mean Loss Array: [109.72338996887207, 44.82798828125, 32.273617362976076, 26.064711532592774, 21.157442321777342, 19.115713691711427, 16.144016456604003, 14.384355735778808, 13.049383049011231, 12.153732318878173, 11.268043804168702, 10.582560024261475, 9.440228748321534, 9.014247779846192, 8.482091827392578, 8.003567943572998, 7.432519369125366, 7.155730819702148, 6.746190195083618, 6.142616205215454, 6.142941875457764, 5.743178958892822, 5.321213102340698, 5.176215934753418, 4.775535774230957, 4.601470146179199, 4.661863927841186, 4.357816190719604, 4.063107490539551, 3.9366776371002197, 3.8242201232910156, 3.982276134490967, 3.5431699085235597, 3.6115941429138183, 3.6431439113616944, 3.610076675415039, 3.685580883026123, 3.7001155853271483, 3.8652588748931884, 4.324375524520874, 4.284564528465271, 4.347878742218017, 3.902965383529663, 4.126591539382934, 3.909240999221802, 3.7352996635437012, 3.7414236068725586, 3.9067931318283082, 4.026785469055175, 3.6361935329437256, 3.5152342700958252, 3.3081491708755495, 3.631723232269287, 3.4103569412231445, 3.5419870948791505, 3.466613187789917, 3.7215825843811037, 3.487019019126892, 3.249955735206604, 3.114084506034851, 3.0858022928237916, 2.8493510723114013, 2.7015558958053587, 2.614822993278503, 2.4843905448913572, 2.6212459993362427, 2.6377088594436646, 2.6975906467437745, 2.7389305591583253, 2.8232978200912475, 2.72934965133667, 2.646454849243164, 2.613568410873413, 2.5136814594268797, 2.5978206110000612, 2.6254583644866942, 2.4057094049453736, 2.402720084190369, 2.639316430091858, 2.774964299201965, 2.754122519493103, 3.2175788402557375, 3.1085861253738405, 2.6763640642166138, 2.2616823387145994, 2.0419602537155153, 2.4161604404449464, 2.1771450996398927, 2.094261951446533, 2.2152916240692138, 2.179808506965637, 2.1776322078704835, 2.254474244117737, 2.177420110702515, 2.2640201902389525, 2.2587379169464112, 2.5137687158584594, 2.596677689552307, 2.317622127532959, 2.346512265205383, 2.4663615322113035, 2.5086402177810667, 2.367177896499634, 2.326920690536499, 2.210363359451294, 2.0326780819892885, 2.2230395793914797, 2.0994843864440917, 2.20056378364563, 2.0773591709136965, 2.0296157598495483, 2.0477620792388915, 1.9210728740692138, 2.054435524940491, 2.056104645729065, 1.9066025376319886, 1.843522915840149, 2.3062718963623046, 1.9144582271575927, 1.9594469785690307, 1.9459510326385498, 1.86377028465271, 1.6025599288940429, 1.7876520872116088, 1.6909418821334838, 1.731949632167816, 1.9265658235549927, 1.8606476402282714, 1.949471688270569, 2.1066246747970583]\n"
     ]
    },
    {
     "name": "stderr",
     "output_type": "stream",
     "text": [
      "\n"
     ]
    },
    {
     "name": "stdout",
     "output_type": "stream",
     "text": [
      "epoch: 130 Test mAP: 0.016965964809060097 Train mAP: 0.8783979415893555\n",
      "Test mAP Array: [0.0, 0.0, 0.02127656154334545, 0.010204067453742027, 0.0051215216517448425, 0.014166646637022495, 0.03316193446516991, 0.003313692519441247, 0.026041634380817413, 0.0044200788252055645, 0.021867142990231514, 0.0007518788916058838, 0.008113626390695572, 0.013275040313601494, 0.010353523306548595, 0.002705624559894204, 0.044328223913908005, 0.013353311456739902, 0.012046190910041332, 0.015503612346947193, 0.00856652669608593, 0.012172631919384003, 0.046446543186903, 0.017765548080205917, 0.023400645703077316, 0.01204537134617567, 0.016965964809060097]\n",
      "Train mAP Array: [0.0, 0.0747547596693039, 0.5053293108940125, 0.7937700748443604, 0.9663692712783813, 0.9874552488327026, 0.9544763565063477, 0.9058959484100342, 0.7671000361442566, 0.7827416658401489, 0.8842312693595886, 0.8449891209602356, 0.8830795884132385, 0.9306423664093018, 0.8613497614860535, 0.8504751920700073, 0.8839361667633057, 0.9316099286079407, 0.9345404505729675, 0.8662539124488831, 0.8716952204704285, 0.9339544177055359, 0.8891709446907043, 0.9316245317459106, 0.8825041651725769, 0.9395813345909119, 0.8783979415893555]\n",
      "=> Saving checkpoint\n"
     ]
    },
    {
     "name": "stderr",
     "output_type": "stream",
     "text": [
      "100%|██████████| 25/25 [00:12<00:00,  2.03it/s, loss=0.84]\n"
     ]
    },
    {
     "name": "stdout",
     "output_type": "stream",
     "text": [
      "Mean Loss Array: [109.72338996887207, 44.82798828125, 32.273617362976076, 26.064711532592774, 21.157442321777342, 19.115713691711427, 16.144016456604003, 14.384355735778808, 13.049383049011231, 12.153732318878173, 11.268043804168702, 10.582560024261475, 9.440228748321534, 9.014247779846192, 8.482091827392578, 8.003567943572998, 7.432519369125366, 7.155730819702148, 6.746190195083618, 6.142616205215454, 6.142941875457764, 5.743178958892822, 5.321213102340698, 5.176215934753418, 4.775535774230957, 4.601470146179199, 4.661863927841186, 4.357816190719604, 4.063107490539551, 3.9366776371002197, 3.8242201232910156, 3.982276134490967, 3.5431699085235597, 3.6115941429138183, 3.6431439113616944, 3.610076675415039, 3.685580883026123, 3.7001155853271483, 3.8652588748931884, 4.324375524520874, 4.284564528465271, 4.347878742218017, 3.902965383529663, 4.126591539382934, 3.909240999221802, 3.7352996635437012, 3.7414236068725586, 3.9067931318283082, 4.026785469055175, 3.6361935329437256, 3.5152342700958252, 3.3081491708755495, 3.631723232269287, 3.4103569412231445, 3.5419870948791505, 3.466613187789917, 3.7215825843811037, 3.487019019126892, 3.249955735206604, 3.114084506034851, 3.0858022928237916, 2.8493510723114013, 2.7015558958053587, 2.614822993278503, 2.4843905448913572, 2.6212459993362427, 2.6377088594436646, 2.6975906467437745, 2.7389305591583253, 2.8232978200912475, 2.72934965133667, 2.646454849243164, 2.613568410873413, 2.5136814594268797, 2.5978206110000612, 2.6254583644866942, 2.4057094049453736, 2.402720084190369, 2.639316430091858, 2.774964299201965, 2.754122519493103, 3.2175788402557375, 3.1085861253738405, 2.6763640642166138, 2.2616823387145994, 2.0419602537155153, 2.4161604404449464, 2.1771450996398927, 2.094261951446533, 2.2152916240692138, 2.179808506965637, 2.1776322078704835, 2.254474244117737, 2.177420110702515, 2.2640201902389525, 2.2587379169464112, 2.5137687158584594, 2.596677689552307, 2.317622127532959, 2.346512265205383, 2.4663615322113035, 2.5086402177810667, 2.367177896499634, 2.326920690536499, 2.210363359451294, 2.0326780819892885, 2.2230395793914797, 2.0994843864440917, 2.20056378364563, 2.0773591709136965, 2.0296157598495483, 2.0477620792388915, 1.9210728740692138, 2.054435524940491, 2.056104645729065, 1.9066025376319886, 1.843522915840149, 2.3062718963623046, 1.9144582271575927, 1.9594469785690307, 1.9459510326385498, 1.86377028465271, 1.6025599288940429, 1.7876520872116088, 1.6909418821334838, 1.731949632167816, 1.9265658235549927, 1.8606476402282714, 1.949471688270569, 2.1066246747970583, 1.7790155863761903]\n"
     ]
    },
    {
     "name": "stderr",
     "output_type": "stream",
     "text": [
      "100%|██████████| 25/25 [00:12<00:00,  1.94it/s, loss=1.36]\n"
     ]
    },
    {
     "name": "stdout",
     "output_type": "stream",
     "text": [
      "Mean Loss Array: [109.72338996887207, 44.82798828125, 32.273617362976076, 26.064711532592774, 21.157442321777342, 19.115713691711427, 16.144016456604003, 14.384355735778808, 13.049383049011231, 12.153732318878173, 11.268043804168702, 10.582560024261475, 9.440228748321534, 9.014247779846192, 8.482091827392578, 8.003567943572998, 7.432519369125366, 7.155730819702148, 6.746190195083618, 6.142616205215454, 6.142941875457764, 5.743178958892822, 5.321213102340698, 5.176215934753418, 4.775535774230957, 4.601470146179199, 4.661863927841186, 4.357816190719604, 4.063107490539551, 3.9366776371002197, 3.8242201232910156, 3.982276134490967, 3.5431699085235597, 3.6115941429138183, 3.6431439113616944, 3.610076675415039, 3.685580883026123, 3.7001155853271483, 3.8652588748931884, 4.324375524520874, 4.284564528465271, 4.347878742218017, 3.902965383529663, 4.126591539382934, 3.909240999221802, 3.7352996635437012, 3.7414236068725586, 3.9067931318283082, 4.026785469055175, 3.6361935329437256, 3.5152342700958252, 3.3081491708755495, 3.631723232269287, 3.4103569412231445, 3.5419870948791505, 3.466613187789917, 3.7215825843811037, 3.487019019126892, 3.249955735206604, 3.114084506034851, 3.0858022928237916, 2.8493510723114013, 2.7015558958053587, 2.614822993278503, 2.4843905448913572, 2.6212459993362427, 2.6377088594436646, 2.6975906467437745, 2.7389305591583253, 2.8232978200912475, 2.72934965133667, 2.646454849243164, 2.613568410873413, 2.5136814594268797, 2.5978206110000612, 2.6254583644866942, 2.4057094049453736, 2.402720084190369, 2.639316430091858, 2.774964299201965, 2.754122519493103, 3.2175788402557375, 3.1085861253738405, 2.6763640642166138, 2.2616823387145994, 2.0419602537155153, 2.4161604404449464, 2.1771450996398927, 2.094261951446533, 2.2152916240692138, 2.179808506965637, 2.1776322078704835, 2.254474244117737, 2.177420110702515, 2.2640201902389525, 2.2587379169464112, 2.5137687158584594, 2.596677689552307, 2.317622127532959, 2.346512265205383, 2.4663615322113035, 2.5086402177810667, 2.367177896499634, 2.326920690536499, 2.210363359451294, 2.0326780819892885, 2.2230395793914797, 2.0994843864440917, 2.20056378364563, 2.0773591709136965, 2.0296157598495483, 2.0477620792388915, 1.9210728740692138, 2.054435524940491, 2.056104645729065, 1.9066025376319886, 1.843522915840149, 2.3062718963623046, 1.9144582271575927, 1.9594469785690307, 1.9459510326385498, 1.86377028465271, 1.6025599288940429, 1.7876520872116088, 1.6909418821334838, 1.731949632167816, 1.9265658235549927, 1.8606476402282714, 1.949471688270569, 2.1066246747970583, 1.7790155863761903, 1.7997071647644043]\n"
     ]
    },
    {
     "name": "stderr",
     "output_type": "stream",
     "text": [
      "100%|██████████| 25/25 [00:13<00:00,  1.90it/s, loss=1.34]\n"
     ]
    },
    {
     "name": "stdout",
     "output_type": "stream",
     "text": [
      "Mean Loss Array: [109.72338996887207, 44.82798828125, 32.273617362976076, 26.064711532592774, 21.157442321777342, 19.115713691711427, 16.144016456604003, 14.384355735778808, 13.049383049011231, 12.153732318878173, 11.268043804168702, 10.582560024261475, 9.440228748321534, 9.014247779846192, 8.482091827392578, 8.003567943572998, 7.432519369125366, 7.155730819702148, 6.746190195083618, 6.142616205215454, 6.142941875457764, 5.743178958892822, 5.321213102340698, 5.176215934753418, 4.775535774230957, 4.601470146179199, 4.661863927841186, 4.357816190719604, 4.063107490539551, 3.9366776371002197, 3.8242201232910156, 3.982276134490967, 3.5431699085235597, 3.6115941429138183, 3.6431439113616944, 3.610076675415039, 3.685580883026123, 3.7001155853271483, 3.8652588748931884, 4.324375524520874, 4.284564528465271, 4.347878742218017, 3.902965383529663, 4.126591539382934, 3.909240999221802, 3.7352996635437012, 3.7414236068725586, 3.9067931318283082, 4.026785469055175, 3.6361935329437256, 3.5152342700958252, 3.3081491708755495, 3.631723232269287, 3.4103569412231445, 3.5419870948791505, 3.466613187789917, 3.7215825843811037, 3.487019019126892, 3.249955735206604, 3.114084506034851, 3.0858022928237916, 2.8493510723114013, 2.7015558958053587, 2.614822993278503, 2.4843905448913572, 2.6212459993362427, 2.6377088594436646, 2.6975906467437745, 2.7389305591583253, 2.8232978200912475, 2.72934965133667, 2.646454849243164, 2.613568410873413, 2.5136814594268797, 2.5978206110000612, 2.6254583644866942, 2.4057094049453736, 2.402720084190369, 2.639316430091858, 2.774964299201965, 2.754122519493103, 3.2175788402557375, 3.1085861253738405, 2.6763640642166138, 2.2616823387145994, 2.0419602537155153, 2.4161604404449464, 2.1771450996398927, 2.094261951446533, 2.2152916240692138, 2.179808506965637, 2.1776322078704835, 2.254474244117737, 2.177420110702515, 2.2640201902389525, 2.2587379169464112, 2.5137687158584594, 2.596677689552307, 2.317622127532959, 2.346512265205383, 2.4663615322113035, 2.5086402177810667, 2.367177896499634, 2.326920690536499, 2.210363359451294, 2.0326780819892885, 2.2230395793914797, 2.0994843864440917, 2.20056378364563, 2.0773591709136965, 2.0296157598495483, 2.0477620792388915, 1.9210728740692138, 2.054435524940491, 2.056104645729065, 1.9066025376319886, 1.843522915840149, 2.3062718963623046, 1.9144582271575927, 1.9594469785690307, 1.9459510326385498, 1.86377028465271, 1.6025599288940429, 1.7876520872116088, 1.6909418821334838, 1.731949632167816, 1.9265658235549927, 1.8606476402282714, 1.949471688270569, 2.1066246747970583, 1.7790155863761903, 1.7997071647644043, 1.7533905220031738]\n"
     ]
    },
    {
     "name": "stderr",
     "output_type": "stream",
     "text": [
      "100%|██████████| 25/25 [00:10<00:00,  2.29it/s, loss=1.23]\n"
     ]
    },
    {
     "name": "stdout",
     "output_type": "stream",
     "text": [
      "Mean Loss Array: [109.72338996887207, 44.82798828125, 32.273617362976076, 26.064711532592774, 21.157442321777342, 19.115713691711427, 16.144016456604003, 14.384355735778808, 13.049383049011231, 12.153732318878173, 11.268043804168702, 10.582560024261475, 9.440228748321534, 9.014247779846192, 8.482091827392578, 8.003567943572998, 7.432519369125366, 7.155730819702148, 6.746190195083618, 6.142616205215454, 6.142941875457764, 5.743178958892822, 5.321213102340698, 5.176215934753418, 4.775535774230957, 4.601470146179199, 4.661863927841186, 4.357816190719604, 4.063107490539551, 3.9366776371002197, 3.8242201232910156, 3.982276134490967, 3.5431699085235597, 3.6115941429138183, 3.6431439113616944, 3.610076675415039, 3.685580883026123, 3.7001155853271483, 3.8652588748931884, 4.324375524520874, 4.284564528465271, 4.347878742218017, 3.902965383529663, 4.126591539382934, 3.909240999221802, 3.7352996635437012, 3.7414236068725586, 3.9067931318283082, 4.026785469055175, 3.6361935329437256, 3.5152342700958252, 3.3081491708755495, 3.631723232269287, 3.4103569412231445, 3.5419870948791505, 3.466613187789917, 3.7215825843811037, 3.487019019126892, 3.249955735206604, 3.114084506034851, 3.0858022928237916, 2.8493510723114013, 2.7015558958053587, 2.614822993278503, 2.4843905448913572, 2.6212459993362427, 2.6377088594436646, 2.6975906467437745, 2.7389305591583253, 2.8232978200912475, 2.72934965133667, 2.646454849243164, 2.613568410873413, 2.5136814594268797, 2.5978206110000612, 2.6254583644866942, 2.4057094049453736, 2.402720084190369, 2.639316430091858, 2.774964299201965, 2.754122519493103, 3.2175788402557375, 3.1085861253738405, 2.6763640642166138, 2.2616823387145994, 2.0419602537155153, 2.4161604404449464, 2.1771450996398927, 2.094261951446533, 2.2152916240692138, 2.179808506965637, 2.1776322078704835, 2.254474244117737, 2.177420110702515, 2.2640201902389525, 2.2587379169464112, 2.5137687158584594, 2.596677689552307, 2.317622127532959, 2.346512265205383, 2.4663615322113035, 2.5086402177810667, 2.367177896499634, 2.326920690536499, 2.210363359451294, 2.0326780819892885, 2.2230395793914797, 2.0994843864440917, 2.20056378364563, 2.0773591709136965, 2.0296157598495483, 2.0477620792388915, 1.9210728740692138, 2.054435524940491, 2.056104645729065, 1.9066025376319886, 1.843522915840149, 2.3062718963623046, 1.9144582271575927, 1.9594469785690307, 1.9459510326385498, 1.86377028465271, 1.6025599288940429, 1.7876520872116088, 1.6909418821334838, 1.731949632167816, 1.9265658235549927, 1.8606476402282714, 1.949471688270569, 2.1066246747970583, 1.7790155863761903, 1.7997071647644043, 1.7533905220031738, 1.7180848813056946]\n"
     ]
    },
    {
     "name": "stderr",
     "output_type": "stream",
     "text": [
      "100%|██████████| 25/25 [00:12<00:00,  2.07it/s, loss=1.44]"
     ]
    },
    {
     "name": "stdout",
     "output_type": "stream",
     "text": [
      "Mean Loss Array: [109.72338996887207, 44.82798828125, 32.273617362976076, 26.064711532592774, 21.157442321777342, 19.115713691711427, 16.144016456604003, 14.384355735778808, 13.049383049011231, 12.153732318878173, 11.268043804168702, 10.582560024261475, 9.440228748321534, 9.014247779846192, 8.482091827392578, 8.003567943572998, 7.432519369125366, 7.155730819702148, 6.746190195083618, 6.142616205215454, 6.142941875457764, 5.743178958892822, 5.321213102340698, 5.176215934753418, 4.775535774230957, 4.601470146179199, 4.661863927841186, 4.357816190719604, 4.063107490539551, 3.9366776371002197, 3.8242201232910156, 3.982276134490967, 3.5431699085235597, 3.6115941429138183, 3.6431439113616944, 3.610076675415039, 3.685580883026123, 3.7001155853271483, 3.8652588748931884, 4.324375524520874, 4.284564528465271, 4.347878742218017, 3.902965383529663, 4.126591539382934, 3.909240999221802, 3.7352996635437012, 3.7414236068725586, 3.9067931318283082, 4.026785469055175, 3.6361935329437256, 3.5152342700958252, 3.3081491708755495, 3.631723232269287, 3.4103569412231445, 3.5419870948791505, 3.466613187789917, 3.7215825843811037, 3.487019019126892, 3.249955735206604, 3.114084506034851, 3.0858022928237916, 2.8493510723114013, 2.7015558958053587, 2.614822993278503, 2.4843905448913572, 2.6212459993362427, 2.6377088594436646, 2.6975906467437745, 2.7389305591583253, 2.8232978200912475, 2.72934965133667, 2.646454849243164, 2.613568410873413, 2.5136814594268797, 2.5978206110000612, 2.6254583644866942, 2.4057094049453736, 2.402720084190369, 2.639316430091858, 2.774964299201965, 2.754122519493103, 3.2175788402557375, 3.1085861253738405, 2.6763640642166138, 2.2616823387145994, 2.0419602537155153, 2.4161604404449464, 2.1771450996398927, 2.094261951446533, 2.2152916240692138, 2.179808506965637, 2.1776322078704835, 2.254474244117737, 2.177420110702515, 2.2640201902389525, 2.2587379169464112, 2.5137687158584594, 2.596677689552307, 2.317622127532959, 2.346512265205383, 2.4663615322113035, 2.5086402177810667, 2.367177896499634, 2.326920690536499, 2.210363359451294, 2.0326780819892885, 2.2230395793914797, 2.0994843864440917, 2.20056378364563, 2.0773591709136965, 2.0296157598495483, 2.0477620792388915, 1.9210728740692138, 2.054435524940491, 2.056104645729065, 1.9066025376319886, 1.843522915840149, 2.3062718963623046, 1.9144582271575927, 1.9594469785690307, 1.9459510326385498, 1.86377028465271, 1.6025599288940429, 1.7876520872116088, 1.6909418821334838, 1.731949632167816, 1.9265658235549927, 1.8606476402282714, 1.949471688270569, 2.1066246747970583, 1.7790155863761903, 1.7997071647644043, 1.7533905220031738, 1.7180848813056946, 1.7088996696472167]\n"
     ]
    },
    {
     "name": "stderr",
     "output_type": "stream",
     "text": [
      "\n"
     ]
    },
    {
     "name": "stdout",
     "output_type": "stream",
     "text": [
      "epoch: 135 Test mAP: 0.004761898890137672 Train mAP: 0.9302313923835754\n",
      "Test mAP Array: [0.0, 0.0, 0.02127656154334545, 0.010204067453742027, 0.0051215216517448425, 0.014166646637022495, 0.03316193446516991, 0.003313692519441247, 0.026041634380817413, 0.0044200788252055645, 0.021867142990231514, 0.0007518788916058838, 0.008113626390695572, 0.013275040313601494, 0.010353523306548595, 0.002705624559894204, 0.044328223913908005, 0.013353311456739902, 0.012046190910041332, 0.015503612346947193, 0.00856652669608593, 0.012172631919384003, 0.046446543186903, 0.017765548080205917, 0.023400645703077316, 0.01204537134617567, 0.016965964809060097, 0.004761898890137672]\n",
      "Train mAP Array: [0.0, 0.0747547596693039, 0.5053293108940125, 0.7937700748443604, 0.9663692712783813, 0.9874552488327026, 0.9544763565063477, 0.9058959484100342, 0.7671000361442566, 0.7827416658401489, 0.8842312693595886, 0.8449891209602356, 0.8830795884132385, 0.9306423664093018, 0.8613497614860535, 0.8504751920700073, 0.8839361667633057, 0.9316099286079407, 0.9345404505729675, 0.8662539124488831, 0.8716952204704285, 0.9339544177055359, 0.8891709446907043, 0.9316245317459106, 0.8825041651725769, 0.9395813345909119, 0.8783979415893555, 0.9302313923835754]\n",
      "=> Saving checkpoint\n"
     ]
    },
    {
     "name": "stderr",
     "output_type": "stream",
     "text": [
      "100%|██████████| 25/25 [00:10<00:00,  2.30it/s, loss=1.37]\n"
     ]
    },
    {
     "name": "stdout",
     "output_type": "stream",
     "text": [
      "Mean Loss Array: [109.72338996887207, 44.82798828125, 32.273617362976076, 26.064711532592774, 21.157442321777342, 19.115713691711427, 16.144016456604003, 14.384355735778808, 13.049383049011231, 12.153732318878173, 11.268043804168702, 10.582560024261475, 9.440228748321534, 9.014247779846192, 8.482091827392578, 8.003567943572998, 7.432519369125366, 7.155730819702148, 6.746190195083618, 6.142616205215454, 6.142941875457764, 5.743178958892822, 5.321213102340698, 5.176215934753418, 4.775535774230957, 4.601470146179199, 4.661863927841186, 4.357816190719604, 4.063107490539551, 3.9366776371002197, 3.8242201232910156, 3.982276134490967, 3.5431699085235597, 3.6115941429138183, 3.6431439113616944, 3.610076675415039, 3.685580883026123, 3.7001155853271483, 3.8652588748931884, 4.324375524520874, 4.284564528465271, 4.347878742218017, 3.902965383529663, 4.126591539382934, 3.909240999221802, 3.7352996635437012, 3.7414236068725586, 3.9067931318283082, 4.026785469055175, 3.6361935329437256, 3.5152342700958252, 3.3081491708755495, 3.631723232269287, 3.4103569412231445, 3.5419870948791505, 3.466613187789917, 3.7215825843811037, 3.487019019126892, 3.249955735206604, 3.114084506034851, 3.0858022928237916, 2.8493510723114013, 2.7015558958053587, 2.614822993278503, 2.4843905448913572, 2.6212459993362427, 2.6377088594436646, 2.6975906467437745, 2.7389305591583253, 2.8232978200912475, 2.72934965133667, 2.646454849243164, 2.613568410873413, 2.5136814594268797, 2.5978206110000612, 2.6254583644866942, 2.4057094049453736, 2.402720084190369, 2.639316430091858, 2.774964299201965, 2.754122519493103, 3.2175788402557375, 3.1085861253738405, 2.6763640642166138, 2.2616823387145994, 2.0419602537155153, 2.4161604404449464, 2.1771450996398927, 2.094261951446533, 2.2152916240692138, 2.179808506965637, 2.1776322078704835, 2.254474244117737, 2.177420110702515, 2.2640201902389525, 2.2587379169464112, 2.5137687158584594, 2.596677689552307, 2.317622127532959, 2.346512265205383, 2.4663615322113035, 2.5086402177810667, 2.367177896499634, 2.326920690536499, 2.210363359451294, 2.0326780819892885, 2.2230395793914797, 2.0994843864440917, 2.20056378364563, 2.0773591709136965, 2.0296157598495483, 2.0477620792388915, 1.9210728740692138, 2.054435524940491, 2.056104645729065, 1.9066025376319886, 1.843522915840149, 2.3062718963623046, 1.9144582271575927, 1.9594469785690307, 1.9459510326385498, 1.86377028465271, 1.6025599288940429, 1.7876520872116088, 1.6909418821334838, 1.731949632167816, 1.9265658235549927, 1.8606476402282714, 1.949471688270569, 2.1066246747970583, 1.7790155863761903, 1.7997071647644043, 1.7533905220031738, 1.7180848813056946, 1.7088996696472167, 1.6943549728393554]\n"
     ]
    },
    {
     "name": "stderr",
     "output_type": "stream",
     "text": [
      "100%|██████████| 25/25 [00:13<00:00,  1.92it/s, loss=1.21]\n"
     ]
    },
    {
     "name": "stdout",
     "output_type": "stream",
     "text": [
      "Mean Loss Array: [109.72338996887207, 44.82798828125, 32.273617362976076, 26.064711532592774, 21.157442321777342, 19.115713691711427, 16.144016456604003, 14.384355735778808, 13.049383049011231, 12.153732318878173, 11.268043804168702, 10.582560024261475, 9.440228748321534, 9.014247779846192, 8.482091827392578, 8.003567943572998, 7.432519369125366, 7.155730819702148, 6.746190195083618, 6.142616205215454, 6.142941875457764, 5.743178958892822, 5.321213102340698, 5.176215934753418, 4.775535774230957, 4.601470146179199, 4.661863927841186, 4.357816190719604, 4.063107490539551, 3.9366776371002197, 3.8242201232910156, 3.982276134490967, 3.5431699085235597, 3.6115941429138183, 3.6431439113616944, 3.610076675415039, 3.685580883026123, 3.7001155853271483, 3.8652588748931884, 4.324375524520874, 4.284564528465271, 4.347878742218017, 3.902965383529663, 4.126591539382934, 3.909240999221802, 3.7352996635437012, 3.7414236068725586, 3.9067931318283082, 4.026785469055175, 3.6361935329437256, 3.5152342700958252, 3.3081491708755495, 3.631723232269287, 3.4103569412231445, 3.5419870948791505, 3.466613187789917, 3.7215825843811037, 3.487019019126892, 3.249955735206604, 3.114084506034851, 3.0858022928237916, 2.8493510723114013, 2.7015558958053587, 2.614822993278503, 2.4843905448913572, 2.6212459993362427, 2.6377088594436646, 2.6975906467437745, 2.7389305591583253, 2.8232978200912475, 2.72934965133667, 2.646454849243164, 2.613568410873413, 2.5136814594268797, 2.5978206110000612, 2.6254583644866942, 2.4057094049453736, 2.402720084190369, 2.639316430091858, 2.774964299201965, 2.754122519493103, 3.2175788402557375, 3.1085861253738405, 2.6763640642166138, 2.2616823387145994, 2.0419602537155153, 2.4161604404449464, 2.1771450996398927, 2.094261951446533, 2.2152916240692138, 2.179808506965637, 2.1776322078704835, 2.254474244117737, 2.177420110702515, 2.2640201902389525, 2.2587379169464112, 2.5137687158584594, 2.596677689552307, 2.317622127532959, 2.346512265205383, 2.4663615322113035, 2.5086402177810667, 2.367177896499634, 2.326920690536499, 2.210363359451294, 2.0326780819892885, 2.2230395793914797, 2.0994843864440917, 2.20056378364563, 2.0773591709136965, 2.0296157598495483, 2.0477620792388915, 1.9210728740692138, 2.054435524940491, 2.056104645729065, 1.9066025376319886, 1.843522915840149, 2.3062718963623046, 1.9144582271575927, 1.9594469785690307, 1.9459510326385498, 1.86377028465271, 1.6025599288940429, 1.7876520872116088, 1.6909418821334838, 1.731949632167816, 1.9265658235549927, 1.8606476402282714, 1.949471688270569, 2.1066246747970583, 1.7790155863761903, 1.7997071647644043, 1.7533905220031738, 1.7180848813056946, 1.7088996696472167, 1.6943549728393554, 1.6413279318809508]\n"
     ]
    },
    {
     "name": "stderr",
     "output_type": "stream",
     "text": [
      "100%|██████████| 25/25 [00:11<00:00,  2.13it/s, loss=1.74]\n"
     ]
    },
    {
     "name": "stdout",
     "output_type": "stream",
     "text": [
      "Mean Loss Array: [109.72338996887207, 44.82798828125, 32.273617362976076, 26.064711532592774, 21.157442321777342, 19.115713691711427, 16.144016456604003, 14.384355735778808, 13.049383049011231, 12.153732318878173, 11.268043804168702, 10.582560024261475, 9.440228748321534, 9.014247779846192, 8.482091827392578, 8.003567943572998, 7.432519369125366, 7.155730819702148, 6.746190195083618, 6.142616205215454, 6.142941875457764, 5.743178958892822, 5.321213102340698, 5.176215934753418, 4.775535774230957, 4.601470146179199, 4.661863927841186, 4.357816190719604, 4.063107490539551, 3.9366776371002197, 3.8242201232910156, 3.982276134490967, 3.5431699085235597, 3.6115941429138183, 3.6431439113616944, 3.610076675415039, 3.685580883026123, 3.7001155853271483, 3.8652588748931884, 4.324375524520874, 4.284564528465271, 4.347878742218017, 3.902965383529663, 4.126591539382934, 3.909240999221802, 3.7352996635437012, 3.7414236068725586, 3.9067931318283082, 4.026785469055175, 3.6361935329437256, 3.5152342700958252, 3.3081491708755495, 3.631723232269287, 3.4103569412231445, 3.5419870948791505, 3.466613187789917, 3.7215825843811037, 3.487019019126892, 3.249955735206604, 3.114084506034851, 3.0858022928237916, 2.8493510723114013, 2.7015558958053587, 2.614822993278503, 2.4843905448913572, 2.6212459993362427, 2.6377088594436646, 2.6975906467437745, 2.7389305591583253, 2.8232978200912475, 2.72934965133667, 2.646454849243164, 2.613568410873413, 2.5136814594268797, 2.5978206110000612, 2.6254583644866942, 2.4057094049453736, 2.402720084190369, 2.639316430091858, 2.774964299201965, 2.754122519493103, 3.2175788402557375, 3.1085861253738405, 2.6763640642166138, 2.2616823387145994, 2.0419602537155153, 2.4161604404449464, 2.1771450996398927, 2.094261951446533, 2.2152916240692138, 2.179808506965637, 2.1776322078704835, 2.254474244117737, 2.177420110702515, 2.2640201902389525, 2.2587379169464112, 2.5137687158584594, 2.596677689552307, 2.317622127532959, 2.346512265205383, 2.4663615322113035, 2.5086402177810667, 2.367177896499634, 2.326920690536499, 2.210363359451294, 2.0326780819892885, 2.2230395793914797, 2.0994843864440917, 2.20056378364563, 2.0773591709136965, 2.0296157598495483, 2.0477620792388915, 1.9210728740692138, 2.054435524940491, 2.056104645729065, 1.9066025376319886, 1.843522915840149, 2.3062718963623046, 1.9144582271575927, 1.9594469785690307, 1.9459510326385498, 1.86377028465271, 1.6025599288940429, 1.7876520872116088, 1.6909418821334838, 1.731949632167816, 1.9265658235549927, 1.8606476402282714, 1.949471688270569, 2.1066246747970583, 1.7790155863761903, 1.7997071647644043, 1.7533905220031738, 1.7180848813056946, 1.7088996696472167, 1.6943549728393554, 1.6413279318809508, 1.6026857709884643]\n"
     ]
    },
    {
     "name": "stderr",
     "output_type": "stream",
     "text": [
      "100%|██████████| 25/25 [00:12<00:00,  2.08it/s, loss=0.811]\n"
     ]
    },
    {
     "name": "stdout",
     "output_type": "stream",
     "text": [
      "Mean Loss Array: [109.72338996887207, 44.82798828125, 32.273617362976076, 26.064711532592774, 21.157442321777342, 19.115713691711427, 16.144016456604003, 14.384355735778808, 13.049383049011231, 12.153732318878173, 11.268043804168702, 10.582560024261475, 9.440228748321534, 9.014247779846192, 8.482091827392578, 8.003567943572998, 7.432519369125366, 7.155730819702148, 6.746190195083618, 6.142616205215454, 6.142941875457764, 5.743178958892822, 5.321213102340698, 5.176215934753418, 4.775535774230957, 4.601470146179199, 4.661863927841186, 4.357816190719604, 4.063107490539551, 3.9366776371002197, 3.8242201232910156, 3.982276134490967, 3.5431699085235597, 3.6115941429138183, 3.6431439113616944, 3.610076675415039, 3.685580883026123, 3.7001155853271483, 3.8652588748931884, 4.324375524520874, 4.284564528465271, 4.347878742218017, 3.902965383529663, 4.126591539382934, 3.909240999221802, 3.7352996635437012, 3.7414236068725586, 3.9067931318283082, 4.026785469055175, 3.6361935329437256, 3.5152342700958252, 3.3081491708755495, 3.631723232269287, 3.4103569412231445, 3.5419870948791505, 3.466613187789917, 3.7215825843811037, 3.487019019126892, 3.249955735206604, 3.114084506034851, 3.0858022928237916, 2.8493510723114013, 2.7015558958053587, 2.614822993278503, 2.4843905448913572, 2.6212459993362427, 2.6377088594436646, 2.6975906467437745, 2.7389305591583253, 2.8232978200912475, 2.72934965133667, 2.646454849243164, 2.613568410873413, 2.5136814594268797, 2.5978206110000612, 2.6254583644866942, 2.4057094049453736, 2.402720084190369, 2.639316430091858, 2.774964299201965, 2.754122519493103, 3.2175788402557375, 3.1085861253738405, 2.6763640642166138, 2.2616823387145994, 2.0419602537155153, 2.4161604404449464, 2.1771450996398927, 2.094261951446533, 2.2152916240692138, 2.179808506965637, 2.1776322078704835, 2.254474244117737, 2.177420110702515, 2.2640201902389525, 2.2587379169464112, 2.5137687158584594, 2.596677689552307, 2.317622127532959, 2.346512265205383, 2.4663615322113035, 2.5086402177810667, 2.367177896499634, 2.326920690536499, 2.210363359451294, 2.0326780819892885, 2.2230395793914797, 2.0994843864440917, 2.20056378364563, 2.0773591709136965, 2.0296157598495483, 2.0477620792388915, 1.9210728740692138, 2.054435524940491, 2.056104645729065, 1.9066025376319886, 1.843522915840149, 2.3062718963623046, 1.9144582271575927, 1.9594469785690307, 1.9459510326385498, 1.86377028465271, 1.6025599288940429, 1.7876520872116088, 1.6909418821334838, 1.731949632167816, 1.9265658235549927, 1.8606476402282714, 1.949471688270569, 2.1066246747970583, 1.7790155863761903, 1.7997071647644043, 1.7533905220031738, 1.7180848813056946, 1.7088996696472167, 1.6943549728393554, 1.6413279318809508, 1.6026857709884643, 1.6194091105461121]\n"
     ]
    },
    {
     "name": "stderr",
     "output_type": "stream",
     "text": [
      "100%|██████████| 25/25 [00:11<00:00,  2.12it/s, loss=1.31]"
     ]
    },
    {
     "name": "stdout",
     "output_type": "stream",
     "text": [
      "Mean Loss Array: [109.72338996887207, 44.82798828125, 32.273617362976076, 26.064711532592774, 21.157442321777342, 19.115713691711427, 16.144016456604003, 14.384355735778808, 13.049383049011231, 12.153732318878173, 11.268043804168702, 10.582560024261475, 9.440228748321534, 9.014247779846192, 8.482091827392578, 8.003567943572998, 7.432519369125366, 7.155730819702148, 6.746190195083618, 6.142616205215454, 6.142941875457764, 5.743178958892822, 5.321213102340698, 5.176215934753418, 4.775535774230957, 4.601470146179199, 4.661863927841186, 4.357816190719604, 4.063107490539551, 3.9366776371002197, 3.8242201232910156, 3.982276134490967, 3.5431699085235597, 3.6115941429138183, 3.6431439113616944, 3.610076675415039, 3.685580883026123, 3.7001155853271483, 3.8652588748931884, 4.324375524520874, 4.284564528465271, 4.347878742218017, 3.902965383529663, 4.126591539382934, 3.909240999221802, 3.7352996635437012, 3.7414236068725586, 3.9067931318283082, 4.026785469055175, 3.6361935329437256, 3.5152342700958252, 3.3081491708755495, 3.631723232269287, 3.4103569412231445, 3.5419870948791505, 3.466613187789917, 3.7215825843811037, 3.487019019126892, 3.249955735206604, 3.114084506034851, 3.0858022928237916, 2.8493510723114013, 2.7015558958053587, 2.614822993278503, 2.4843905448913572, 2.6212459993362427, 2.6377088594436646, 2.6975906467437745, 2.7389305591583253, 2.8232978200912475, 2.72934965133667, 2.646454849243164, 2.613568410873413, 2.5136814594268797, 2.5978206110000612, 2.6254583644866942, 2.4057094049453736, 2.402720084190369, 2.639316430091858, 2.774964299201965, 2.754122519493103, 3.2175788402557375, 3.1085861253738405, 2.6763640642166138, 2.2616823387145994, 2.0419602537155153, 2.4161604404449464, 2.1771450996398927, 2.094261951446533, 2.2152916240692138, 2.179808506965637, 2.1776322078704835, 2.254474244117737, 2.177420110702515, 2.2640201902389525, 2.2587379169464112, 2.5137687158584594, 2.596677689552307, 2.317622127532959, 2.346512265205383, 2.4663615322113035, 2.5086402177810667, 2.367177896499634, 2.326920690536499, 2.210363359451294, 2.0326780819892885, 2.2230395793914797, 2.0994843864440917, 2.20056378364563, 2.0773591709136965, 2.0296157598495483, 2.0477620792388915, 1.9210728740692138, 2.054435524940491, 2.056104645729065, 1.9066025376319886, 1.843522915840149, 2.3062718963623046, 1.9144582271575927, 1.9594469785690307, 1.9459510326385498, 1.86377028465271, 1.6025599288940429, 1.7876520872116088, 1.6909418821334838, 1.731949632167816, 1.9265658235549927, 1.8606476402282714, 1.949471688270569, 2.1066246747970583, 1.7790155863761903, 1.7997071647644043, 1.7533905220031738, 1.7180848813056946, 1.7088996696472167, 1.6943549728393554, 1.6413279318809508, 1.6026857709884643, 1.6194091105461121, 1.508999652862549]\n"
     ]
    },
    {
     "name": "stderr",
     "output_type": "stream",
     "text": [
      "\n"
     ]
    },
    {
     "name": "stdout",
     "output_type": "stream",
     "text": [
      "epoch: 140 Test mAP: 0.019243961200118065 Train mAP: 0.9664768576622009\n",
      "Test mAP Array: [0.0, 0.0, 0.02127656154334545, 0.010204067453742027, 0.0051215216517448425, 0.014166646637022495, 0.03316193446516991, 0.003313692519441247, 0.026041634380817413, 0.0044200788252055645, 0.021867142990231514, 0.0007518788916058838, 0.008113626390695572, 0.013275040313601494, 0.010353523306548595, 0.002705624559894204, 0.044328223913908005, 0.013353311456739902, 0.012046190910041332, 0.015503612346947193, 0.00856652669608593, 0.012172631919384003, 0.046446543186903, 0.017765548080205917, 0.023400645703077316, 0.01204537134617567, 0.016965964809060097, 0.004761898890137672, 0.019243961200118065]\n",
      "Train mAP Array: [0.0, 0.0747547596693039, 0.5053293108940125, 0.7937700748443604, 0.9663692712783813, 0.9874552488327026, 0.9544763565063477, 0.9058959484100342, 0.7671000361442566, 0.7827416658401489, 0.8842312693595886, 0.8449891209602356, 0.8830795884132385, 0.9306423664093018, 0.8613497614860535, 0.8504751920700073, 0.8839361667633057, 0.9316099286079407, 0.9345404505729675, 0.8662539124488831, 0.8716952204704285, 0.9339544177055359, 0.8891709446907043, 0.9316245317459106, 0.8825041651725769, 0.9395813345909119, 0.8783979415893555, 0.9302313923835754, 0.9664768576622009]\n",
      "=> Saving checkpoint\n"
     ]
    },
    {
     "name": "stderr",
     "output_type": "stream",
     "text": [
      "100%|██████████| 25/25 [00:11<00:00,  2.08it/s, loss=1.89]\n"
     ]
    },
    {
     "name": "stdout",
     "output_type": "stream",
     "text": [
      "Mean Loss Array: [109.72338996887207, 44.82798828125, 32.273617362976076, 26.064711532592774, 21.157442321777342, 19.115713691711427, 16.144016456604003, 14.384355735778808, 13.049383049011231, 12.153732318878173, 11.268043804168702, 10.582560024261475, 9.440228748321534, 9.014247779846192, 8.482091827392578, 8.003567943572998, 7.432519369125366, 7.155730819702148, 6.746190195083618, 6.142616205215454, 6.142941875457764, 5.743178958892822, 5.321213102340698, 5.176215934753418, 4.775535774230957, 4.601470146179199, 4.661863927841186, 4.357816190719604, 4.063107490539551, 3.9366776371002197, 3.8242201232910156, 3.982276134490967, 3.5431699085235597, 3.6115941429138183, 3.6431439113616944, 3.610076675415039, 3.685580883026123, 3.7001155853271483, 3.8652588748931884, 4.324375524520874, 4.284564528465271, 4.347878742218017, 3.902965383529663, 4.126591539382934, 3.909240999221802, 3.7352996635437012, 3.7414236068725586, 3.9067931318283082, 4.026785469055175, 3.6361935329437256, 3.5152342700958252, 3.3081491708755495, 3.631723232269287, 3.4103569412231445, 3.5419870948791505, 3.466613187789917, 3.7215825843811037, 3.487019019126892, 3.249955735206604, 3.114084506034851, 3.0858022928237916, 2.8493510723114013, 2.7015558958053587, 2.614822993278503, 2.4843905448913572, 2.6212459993362427, 2.6377088594436646, 2.6975906467437745, 2.7389305591583253, 2.8232978200912475, 2.72934965133667, 2.646454849243164, 2.613568410873413, 2.5136814594268797, 2.5978206110000612, 2.6254583644866942, 2.4057094049453736, 2.402720084190369, 2.639316430091858, 2.774964299201965, 2.754122519493103, 3.2175788402557375, 3.1085861253738405, 2.6763640642166138, 2.2616823387145994, 2.0419602537155153, 2.4161604404449464, 2.1771450996398927, 2.094261951446533, 2.2152916240692138, 2.179808506965637, 2.1776322078704835, 2.254474244117737, 2.177420110702515, 2.2640201902389525, 2.2587379169464112, 2.5137687158584594, 2.596677689552307, 2.317622127532959, 2.346512265205383, 2.4663615322113035, 2.5086402177810667, 2.367177896499634, 2.326920690536499, 2.210363359451294, 2.0326780819892885, 2.2230395793914797, 2.0994843864440917, 2.20056378364563, 2.0773591709136965, 2.0296157598495483, 2.0477620792388915, 1.9210728740692138, 2.054435524940491, 2.056104645729065, 1.9066025376319886, 1.843522915840149, 2.3062718963623046, 1.9144582271575927, 1.9594469785690307, 1.9459510326385498, 1.86377028465271, 1.6025599288940429, 1.7876520872116088, 1.6909418821334838, 1.731949632167816, 1.9265658235549927, 1.8606476402282714, 1.949471688270569, 2.1066246747970583, 1.7790155863761903, 1.7997071647644043, 1.7533905220031738, 1.7180848813056946, 1.7088996696472167, 1.6943549728393554, 1.6413279318809508, 1.6026857709884643, 1.6194091105461121, 1.508999652862549, 1.7580823016166687]\n"
     ]
    },
    {
     "name": "stderr",
     "output_type": "stream",
     "text": [
      "100%|██████████| 25/25 [00:12<00:00,  1.98it/s, loss=3.91]\n"
     ]
    },
    {
     "name": "stdout",
     "output_type": "stream",
     "text": [
      "Mean Loss Array: [109.72338996887207, 44.82798828125, 32.273617362976076, 26.064711532592774, 21.157442321777342, 19.115713691711427, 16.144016456604003, 14.384355735778808, 13.049383049011231, 12.153732318878173, 11.268043804168702, 10.582560024261475, 9.440228748321534, 9.014247779846192, 8.482091827392578, 8.003567943572998, 7.432519369125366, 7.155730819702148, 6.746190195083618, 6.142616205215454, 6.142941875457764, 5.743178958892822, 5.321213102340698, 5.176215934753418, 4.775535774230957, 4.601470146179199, 4.661863927841186, 4.357816190719604, 4.063107490539551, 3.9366776371002197, 3.8242201232910156, 3.982276134490967, 3.5431699085235597, 3.6115941429138183, 3.6431439113616944, 3.610076675415039, 3.685580883026123, 3.7001155853271483, 3.8652588748931884, 4.324375524520874, 4.284564528465271, 4.347878742218017, 3.902965383529663, 4.126591539382934, 3.909240999221802, 3.7352996635437012, 3.7414236068725586, 3.9067931318283082, 4.026785469055175, 3.6361935329437256, 3.5152342700958252, 3.3081491708755495, 3.631723232269287, 3.4103569412231445, 3.5419870948791505, 3.466613187789917, 3.7215825843811037, 3.487019019126892, 3.249955735206604, 3.114084506034851, 3.0858022928237916, 2.8493510723114013, 2.7015558958053587, 2.614822993278503, 2.4843905448913572, 2.6212459993362427, 2.6377088594436646, 2.6975906467437745, 2.7389305591583253, 2.8232978200912475, 2.72934965133667, 2.646454849243164, 2.613568410873413, 2.5136814594268797, 2.5978206110000612, 2.6254583644866942, 2.4057094049453736, 2.402720084190369, 2.639316430091858, 2.774964299201965, 2.754122519493103, 3.2175788402557375, 3.1085861253738405, 2.6763640642166138, 2.2616823387145994, 2.0419602537155153, 2.4161604404449464, 2.1771450996398927, 2.094261951446533, 2.2152916240692138, 2.179808506965637, 2.1776322078704835, 2.254474244117737, 2.177420110702515, 2.2640201902389525, 2.2587379169464112, 2.5137687158584594, 2.596677689552307, 2.317622127532959, 2.346512265205383, 2.4663615322113035, 2.5086402177810667, 2.367177896499634, 2.326920690536499, 2.210363359451294, 2.0326780819892885, 2.2230395793914797, 2.0994843864440917, 2.20056378364563, 2.0773591709136965, 2.0296157598495483, 2.0477620792388915, 1.9210728740692138, 2.054435524940491, 2.056104645729065, 1.9066025376319886, 1.843522915840149, 2.3062718963623046, 1.9144582271575927, 1.9594469785690307, 1.9459510326385498, 1.86377028465271, 1.6025599288940429, 1.7876520872116088, 1.6909418821334838, 1.731949632167816, 1.9265658235549927, 1.8606476402282714, 1.949471688270569, 2.1066246747970583, 1.7790155863761903, 1.7997071647644043, 1.7533905220031738, 1.7180848813056946, 1.7088996696472167, 1.6943549728393554, 1.6413279318809508, 1.6026857709884643, 1.6194091105461121, 1.508999652862549, 1.7580823016166687, 1.79651930809021]\n"
     ]
    },
    {
     "name": "stderr",
     "output_type": "stream",
     "text": [
      "100%|██████████| 25/25 [00:10<00:00,  2.48it/s, loss=1.62]\n"
     ]
    },
    {
     "name": "stdout",
     "output_type": "stream",
     "text": [
      "Mean Loss Array: [109.72338996887207, 44.82798828125, 32.273617362976076, 26.064711532592774, 21.157442321777342, 19.115713691711427, 16.144016456604003, 14.384355735778808, 13.049383049011231, 12.153732318878173, 11.268043804168702, 10.582560024261475, 9.440228748321534, 9.014247779846192, 8.482091827392578, 8.003567943572998, 7.432519369125366, 7.155730819702148, 6.746190195083618, 6.142616205215454, 6.142941875457764, 5.743178958892822, 5.321213102340698, 5.176215934753418, 4.775535774230957, 4.601470146179199, 4.661863927841186, 4.357816190719604, 4.063107490539551, 3.9366776371002197, 3.8242201232910156, 3.982276134490967, 3.5431699085235597, 3.6115941429138183, 3.6431439113616944, 3.610076675415039, 3.685580883026123, 3.7001155853271483, 3.8652588748931884, 4.324375524520874, 4.284564528465271, 4.347878742218017, 3.902965383529663, 4.126591539382934, 3.909240999221802, 3.7352996635437012, 3.7414236068725586, 3.9067931318283082, 4.026785469055175, 3.6361935329437256, 3.5152342700958252, 3.3081491708755495, 3.631723232269287, 3.4103569412231445, 3.5419870948791505, 3.466613187789917, 3.7215825843811037, 3.487019019126892, 3.249955735206604, 3.114084506034851, 3.0858022928237916, 2.8493510723114013, 2.7015558958053587, 2.614822993278503, 2.4843905448913572, 2.6212459993362427, 2.6377088594436646, 2.6975906467437745, 2.7389305591583253, 2.8232978200912475, 2.72934965133667, 2.646454849243164, 2.613568410873413, 2.5136814594268797, 2.5978206110000612, 2.6254583644866942, 2.4057094049453736, 2.402720084190369, 2.639316430091858, 2.774964299201965, 2.754122519493103, 3.2175788402557375, 3.1085861253738405, 2.6763640642166138, 2.2616823387145994, 2.0419602537155153, 2.4161604404449464, 2.1771450996398927, 2.094261951446533, 2.2152916240692138, 2.179808506965637, 2.1776322078704835, 2.254474244117737, 2.177420110702515, 2.2640201902389525, 2.2587379169464112, 2.5137687158584594, 2.596677689552307, 2.317622127532959, 2.346512265205383, 2.4663615322113035, 2.5086402177810667, 2.367177896499634, 2.326920690536499, 2.210363359451294, 2.0326780819892885, 2.2230395793914797, 2.0994843864440917, 2.20056378364563, 2.0773591709136965, 2.0296157598495483, 2.0477620792388915, 1.9210728740692138, 2.054435524940491, 2.056104645729065, 1.9066025376319886, 1.843522915840149, 2.3062718963623046, 1.9144582271575927, 1.9594469785690307, 1.9459510326385498, 1.86377028465271, 1.6025599288940429, 1.7876520872116088, 1.6909418821334838, 1.731949632167816, 1.9265658235549927, 1.8606476402282714, 1.949471688270569, 2.1066246747970583, 1.7790155863761903, 1.7997071647644043, 1.7533905220031738, 1.7180848813056946, 1.7088996696472167, 1.6943549728393554, 1.6413279318809508, 1.6026857709884643, 1.6194091105461121, 1.508999652862549, 1.7580823016166687, 1.79651930809021, 1.622192885875702]\n"
     ]
    },
    {
     "name": "stderr",
     "output_type": "stream",
     "text": [
      "100%|██████████| 25/25 [00:14<00:00,  1.73it/s, loss=1.76]\n"
     ]
    },
    {
     "name": "stdout",
     "output_type": "stream",
     "text": [
      "Mean Loss Array: [109.72338996887207, 44.82798828125, 32.273617362976076, 26.064711532592774, 21.157442321777342, 19.115713691711427, 16.144016456604003, 14.384355735778808, 13.049383049011231, 12.153732318878173, 11.268043804168702, 10.582560024261475, 9.440228748321534, 9.014247779846192, 8.482091827392578, 8.003567943572998, 7.432519369125366, 7.155730819702148, 6.746190195083618, 6.142616205215454, 6.142941875457764, 5.743178958892822, 5.321213102340698, 5.176215934753418, 4.775535774230957, 4.601470146179199, 4.661863927841186, 4.357816190719604, 4.063107490539551, 3.9366776371002197, 3.8242201232910156, 3.982276134490967, 3.5431699085235597, 3.6115941429138183, 3.6431439113616944, 3.610076675415039, 3.685580883026123, 3.7001155853271483, 3.8652588748931884, 4.324375524520874, 4.284564528465271, 4.347878742218017, 3.902965383529663, 4.126591539382934, 3.909240999221802, 3.7352996635437012, 3.7414236068725586, 3.9067931318283082, 4.026785469055175, 3.6361935329437256, 3.5152342700958252, 3.3081491708755495, 3.631723232269287, 3.4103569412231445, 3.5419870948791505, 3.466613187789917, 3.7215825843811037, 3.487019019126892, 3.249955735206604, 3.114084506034851, 3.0858022928237916, 2.8493510723114013, 2.7015558958053587, 2.614822993278503, 2.4843905448913572, 2.6212459993362427, 2.6377088594436646, 2.6975906467437745, 2.7389305591583253, 2.8232978200912475, 2.72934965133667, 2.646454849243164, 2.613568410873413, 2.5136814594268797, 2.5978206110000612, 2.6254583644866942, 2.4057094049453736, 2.402720084190369, 2.639316430091858, 2.774964299201965, 2.754122519493103, 3.2175788402557375, 3.1085861253738405, 2.6763640642166138, 2.2616823387145994, 2.0419602537155153, 2.4161604404449464, 2.1771450996398927, 2.094261951446533, 2.2152916240692138, 2.179808506965637, 2.1776322078704835, 2.254474244117737, 2.177420110702515, 2.2640201902389525, 2.2587379169464112, 2.5137687158584594, 2.596677689552307, 2.317622127532959, 2.346512265205383, 2.4663615322113035, 2.5086402177810667, 2.367177896499634, 2.326920690536499, 2.210363359451294, 2.0326780819892885, 2.2230395793914797, 2.0994843864440917, 2.20056378364563, 2.0773591709136965, 2.0296157598495483, 2.0477620792388915, 1.9210728740692138, 2.054435524940491, 2.056104645729065, 1.9066025376319886, 1.843522915840149, 2.3062718963623046, 1.9144582271575927, 1.9594469785690307, 1.9459510326385498, 1.86377028465271, 1.6025599288940429, 1.7876520872116088, 1.6909418821334838, 1.731949632167816, 1.9265658235549927, 1.8606476402282714, 1.949471688270569, 2.1066246747970583, 1.7790155863761903, 1.7997071647644043, 1.7533905220031738, 1.7180848813056946, 1.7088996696472167, 1.6943549728393554, 1.6413279318809508, 1.6026857709884643, 1.6194091105461121, 1.508999652862549, 1.7580823016166687, 1.79651930809021, 1.622192885875702, 1.8660597777366639]\n"
     ]
    },
    {
     "name": "stderr",
     "output_type": "stream",
     "text": [
      "100%|██████████| 25/25 [00:12<00:00,  2.08it/s, loss=3.39]"
     ]
    },
    {
     "name": "stdout",
     "output_type": "stream",
     "text": [
      "Mean Loss Array: [109.72338996887207, 44.82798828125, 32.273617362976076, 26.064711532592774, 21.157442321777342, 19.115713691711427, 16.144016456604003, 14.384355735778808, 13.049383049011231, 12.153732318878173, 11.268043804168702, 10.582560024261475, 9.440228748321534, 9.014247779846192, 8.482091827392578, 8.003567943572998, 7.432519369125366, 7.155730819702148, 6.746190195083618, 6.142616205215454, 6.142941875457764, 5.743178958892822, 5.321213102340698, 5.176215934753418, 4.775535774230957, 4.601470146179199, 4.661863927841186, 4.357816190719604, 4.063107490539551, 3.9366776371002197, 3.8242201232910156, 3.982276134490967, 3.5431699085235597, 3.6115941429138183, 3.6431439113616944, 3.610076675415039, 3.685580883026123, 3.7001155853271483, 3.8652588748931884, 4.324375524520874, 4.284564528465271, 4.347878742218017, 3.902965383529663, 4.126591539382934, 3.909240999221802, 3.7352996635437012, 3.7414236068725586, 3.9067931318283082, 4.026785469055175, 3.6361935329437256, 3.5152342700958252, 3.3081491708755495, 3.631723232269287, 3.4103569412231445, 3.5419870948791505, 3.466613187789917, 3.7215825843811037, 3.487019019126892, 3.249955735206604, 3.114084506034851, 3.0858022928237916, 2.8493510723114013, 2.7015558958053587, 2.614822993278503, 2.4843905448913572, 2.6212459993362427, 2.6377088594436646, 2.6975906467437745, 2.7389305591583253, 2.8232978200912475, 2.72934965133667, 2.646454849243164, 2.613568410873413, 2.5136814594268797, 2.5978206110000612, 2.6254583644866942, 2.4057094049453736, 2.402720084190369, 2.639316430091858, 2.774964299201965, 2.754122519493103, 3.2175788402557375, 3.1085861253738405, 2.6763640642166138, 2.2616823387145994, 2.0419602537155153, 2.4161604404449464, 2.1771450996398927, 2.094261951446533, 2.2152916240692138, 2.179808506965637, 2.1776322078704835, 2.254474244117737, 2.177420110702515, 2.2640201902389525, 2.2587379169464112, 2.5137687158584594, 2.596677689552307, 2.317622127532959, 2.346512265205383, 2.4663615322113035, 2.5086402177810667, 2.367177896499634, 2.326920690536499, 2.210363359451294, 2.0326780819892885, 2.2230395793914797, 2.0994843864440917, 2.20056378364563, 2.0773591709136965, 2.0296157598495483, 2.0477620792388915, 1.9210728740692138, 2.054435524940491, 2.056104645729065, 1.9066025376319886, 1.843522915840149, 2.3062718963623046, 1.9144582271575927, 1.9594469785690307, 1.9459510326385498, 1.86377028465271, 1.6025599288940429, 1.7876520872116088, 1.6909418821334838, 1.731949632167816, 1.9265658235549927, 1.8606476402282714, 1.949471688270569, 2.1066246747970583, 1.7790155863761903, 1.7997071647644043, 1.7533905220031738, 1.7180848813056946, 1.7088996696472167, 1.6943549728393554, 1.6413279318809508, 1.6026857709884643, 1.6194091105461121, 1.508999652862549, 1.7580823016166687, 1.79651930809021, 1.622192885875702, 1.8660597777366639, 1.6159732365608215]\n"
     ]
    },
    {
     "name": "stderr",
     "output_type": "stream",
     "text": [
      "\n"
     ]
    },
    {
     "name": "stdout",
     "output_type": "stream",
     "text": [
      "epoch: 145 Test mAP: 0.01944098062813282 Train mAP: 0.9243113398551941\n",
      "Test mAP Array: [0.0, 0.0, 0.02127656154334545, 0.010204067453742027, 0.0051215216517448425, 0.014166646637022495, 0.03316193446516991, 0.003313692519441247, 0.026041634380817413, 0.0044200788252055645, 0.021867142990231514, 0.0007518788916058838, 0.008113626390695572, 0.013275040313601494, 0.010353523306548595, 0.002705624559894204, 0.044328223913908005, 0.013353311456739902, 0.012046190910041332, 0.015503612346947193, 0.00856652669608593, 0.012172631919384003, 0.046446543186903, 0.017765548080205917, 0.023400645703077316, 0.01204537134617567, 0.016965964809060097, 0.004761898890137672, 0.019243961200118065, 0.01944098062813282]\n",
      "Train mAP Array: [0.0, 0.0747547596693039, 0.5053293108940125, 0.7937700748443604, 0.9663692712783813, 0.9874552488327026, 0.9544763565063477, 0.9058959484100342, 0.7671000361442566, 0.7827416658401489, 0.8842312693595886, 0.8449891209602356, 0.8830795884132385, 0.9306423664093018, 0.8613497614860535, 0.8504751920700073, 0.8839361667633057, 0.9316099286079407, 0.9345404505729675, 0.8662539124488831, 0.8716952204704285, 0.9339544177055359, 0.8891709446907043, 0.9316245317459106, 0.8825041651725769, 0.9395813345909119, 0.8783979415893555, 0.9302313923835754, 0.9664768576622009, 0.9243113398551941]\n",
      "=> Saving checkpoint\n"
     ]
    },
    {
     "name": "stderr",
     "output_type": "stream",
     "text": [
      "100%|██████████| 25/25 [00:12<00:00,  2.03it/s, loss=1.42]\n"
     ]
    },
    {
     "name": "stdout",
     "output_type": "stream",
     "text": [
      "Mean Loss Array: [109.72338996887207, 44.82798828125, 32.273617362976076, 26.064711532592774, 21.157442321777342, 19.115713691711427, 16.144016456604003, 14.384355735778808, 13.049383049011231, 12.153732318878173, 11.268043804168702, 10.582560024261475, 9.440228748321534, 9.014247779846192, 8.482091827392578, 8.003567943572998, 7.432519369125366, 7.155730819702148, 6.746190195083618, 6.142616205215454, 6.142941875457764, 5.743178958892822, 5.321213102340698, 5.176215934753418, 4.775535774230957, 4.601470146179199, 4.661863927841186, 4.357816190719604, 4.063107490539551, 3.9366776371002197, 3.8242201232910156, 3.982276134490967, 3.5431699085235597, 3.6115941429138183, 3.6431439113616944, 3.610076675415039, 3.685580883026123, 3.7001155853271483, 3.8652588748931884, 4.324375524520874, 4.284564528465271, 4.347878742218017, 3.902965383529663, 4.126591539382934, 3.909240999221802, 3.7352996635437012, 3.7414236068725586, 3.9067931318283082, 4.026785469055175, 3.6361935329437256, 3.5152342700958252, 3.3081491708755495, 3.631723232269287, 3.4103569412231445, 3.5419870948791505, 3.466613187789917, 3.7215825843811037, 3.487019019126892, 3.249955735206604, 3.114084506034851, 3.0858022928237916, 2.8493510723114013, 2.7015558958053587, 2.614822993278503, 2.4843905448913572, 2.6212459993362427, 2.6377088594436646, 2.6975906467437745, 2.7389305591583253, 2.8232978200912475, 2.72934965133667, 2.646454849243164, 2.613568410873413, 2.5136814594268797, 2.5978206110000612, 2.6254583644866942, 2.4057094049453736, 2.402720084190369, 2.639316430091858, 2.774964299201965, 2.754122519493103, 3.2175788402557375, 3.1085861253738405, 2.6763640642166138, 2.2616823387145994, 2.0419602537155153, 2.4161604404449464, 2.1771450996398927, 2.094261951446533, 2.2152916240692138, 2.179808506965637, 2.1776322078704835, 2.254474244117737, 2.177420110702515, 2.2640201902389525, 2.2587379169464112, 2.5137687158584594, 2.596677689552307, 2.317622127532959, 2.346512265205383, 2.4663615322113035, 2.5086402177810667, 2.367177896499634, 2.326920690536499, 2.210363359451294, 2.0326780819892885, 2.2230395793914797, 2.0994843864440917, 2.20056378364563, 2.0773591709136965, 2.0296157598495483, 2.0477620792388915, 1.9210728740692138, 2.054435524940491, 2.056104645729065, 1.9066025376319886, 1.843522915840149, 2.3062718963623046, 1.9144582271575927, 1.9594469785690307, 1.9459510326385498, 1.86377028465271, 1.6025599288940429, 1.7876520872116088, 1.6909418821334838, 1.731949632167816, 1.9265658235549927, 1.8606476402282714, 1.949471688270569, 2.1066246747970583, 1.7790155863761903, 1.7997071647644043, 1.7533905220031738, 1.7180848813056946, 1.7088996696472167, 1.6943549728393554, 1.6413279318809508, 1.6026857709884643, 1.6194091105461121, 1.508999652862549, 1.7580823016166687, 1.79651930809021, 1.622192885875702, 1.8660597777366639, 1.6159732365608215, 1.5839011216163634]\n"
     ]
    },
    {
     "name": "stderr",
     "output_type": "stream",
     "text": [
      "100%|██████████| 25/25 [00:12<00:00,  1.95it/s, loss=2.24]\n"
     ]
    },
    {
     "name": "stdout",
     "output_type": "stream",
     "text": [
      "Mean Loss Array: [109.72338996887207, 44.82798828125, 32.273617362976076, 26.064711532592774, 21.157442321777342, 19.115713691711427, 16.144016456604003, 14.384355735778808, 13.049383049011231, 12.153732318878173, 11.268043804168702, 10.582560024261475, 9.440228748321534, 9.014247779846192, 8.482091827392578, 8.003567943572998, 7.432519369125366, 7.155730819702148, 6.746190195083618, 6.142616205215454, 6.142941875457764, 5.743178958892822, 5.321213102340698, 5.176215934753418, 4.775535774230957, 4.601470146179199, 4.661863927841186, 4.357816190719604, 4.063107490539551, 3.9366776371002197, 3.8242201232910156, 3.982276134490967, 3.5431699085235597, 3.6115941429138183, 3.6431439113616944, 3.610076675415039, 3.685580883026123, 3.7001155853271483, 3.8652588748931884, 4.324375524520874, 4.284564528465271, 4.347878742218017, 3.902965383529663, 4.126591539382934, 3.909240999221802, 3.7352996635437012, 3.7414236068725586, 3.9067931318283082, 4.026785469055175, 3.6361935329437256, 3.5152342700958252, 3.3081491708755495, 3.631723232269287, 3.4103569412231445, 3.5419870948791505, 3.466613187789917, 3.7215825843811037, 3.487019019126892, 3.249955735206604, 3.114084506034851, 3.0858022928237916, 2.8493510723114013, 2.7015558958053587, 2.614822993278503, 2.4843905448913572, 2.6212459993362427, 2.6377088594436646, 2.6975906467437745, 2.7389305591583253, 2.8232978200912475, 2.72934965133667, 2.646454849243164, 2.613568410873413, 2.5136814594268797, 2.5978206110000612, 2.6254583644866942, 2.4057094049453736, 2.402720084190369, 2.639316430091858, 2.774964299201965, 2.754122519493103, 3.2175788402557375, 3.1085861253738405, 2.6763640642166138, 2.2616823387145994, 2.0419602537155153, 2.4161604404449464, 2.1771450996398927, 2.094261951446533, 2.2152916240692138, 2.179808506965637, 2.1776322078704835, 2.254474244117737, 2.177420110702515, 2.2640201902389525, 2.2587379169464112, 2.5137687158584594, 2.596677689552307, 2.317622127532959, 2.346512265205383, 2.4663615322113035, 2.5086402177810667, 2.367177896499634, 2.326920690536499, 2.210363359451294, 2.0326780819892885, 2.2230395793914797, 2.0994843864440917, 2.20056378364563, 2.0773591709136965, 2.0296157598495483, 2.0477620792388915, 1.9210728740692138, 2.054435524940491, 2.056104645729065, 1.9066025376319886, 1.843522915840149, 2.3062718963623046, 1.9144582271575927, 1.9594469785690307, 1.9459510326385498, 1.86377028465271, 1.6025599288940429, 1.7876520872116088, 1.6909418821334838, 1.731949632167816, 1.9265658235549927, 1.8606476402282714, 1.949471688270569, 2.1066246747970583, 1.7790155863761903, 1.7997071647644043, 1.7533905220031738, 1.7180848813056946, 1.7088996696472167, 1.6943549728393554, 1.6413279318809508, 1.6026857709884643, 1.6194091105461121, 1.508999652862549, 1.7580823016166687, 1.79651930809021, 1.622192885875702, 1.8660597777366639, 1.6159732365608215, 1.5839011216163634, 1.5803806018829345]\n"
     ]
    },
    {
     "name": "stderr",
     "output_type": "stream",
     "text": [
      "100%|██████████| 25/25 [00:09<00:00,  2.52it/s, loss=1.1]\n"
     ]
    },
    {
     "name": "stdout",
     "output_type": "stream",
     "text": [
      "Mean Loss Array: [109.72338996887207, 44.82798828125, 32.273617362976076, 26.064711532592774, 21.157442321777342, 19.115713691711427, 16.144016456604003, 14.384355735778808, 13.049383049011231, 12.153732318878173, 11.268043804168702, 10.582560024261475, 9.440228748321534, 9.014247779846192, 8.482091827392578, 8.003567943572998, 7.432519369125366, 7.155730819702148, 6.746190195083618, 6.142616205215454, 6.142941875457764, 5.743178958892822, 5.321213102340698, 5.176215934753418, 4.775535774230957, 4.601470146179199, 4.661863927841186, 4.357816190719604, 4.063107490539551, 3.9366776371002197, 3.8242201232910156, 3.982276134490967, 3.5431699085235597, 3.6115941429138183, 3.6431439113616944, 3.610076675415039, 3.685580883026123, 3.7001155853271483, 3.8652588748931884, 4.324375524520874, 4.284564528465271, 4.347878742218017, 3.902965383529663, 4.126591539382934, 3.909240999221802, 3.7352996635437012, 3.7414236068725586, 3.9067931318283082, 4.026785469055175, 3.6361935329437256, 3.5152342700958252, 3.3081491708755495, 3.631723232269287, 3.4103569412231445, 3.5419870948791505, 3.466613187789917, 3.7215825843811037, 3.487019019126892, 3.249955735206604, 3.114084506034851, 3.0858022928237916, 2.8493510723114013, 2.7015558958053587, 2.614822993278503, 2.4843905448913572, 2.6212459993362427, 2.6377088594436646, 2.6975906467437745, 2.7389305591583253, 2.8232978200912475, 2.72934965133667, 2.646454849243164, 2.613568410873413, 2.5136814594268797, 2.5978206110000612, 2.6254583644866942, 2.4057094049453736, 2.402720084190369, 2.639316430091858, 2.774964299201965, 2.754122519493103, 3.2175788402557375, 3.1085861253738405, 2.6763640642166138, 2.2616823387145994, 2.0419602537155153, 2.4161604404449464, 2.1771450996398927, 2.094261951446533, 2.2152916240692138, 2.179808506965637, 2.1776322078704835, 2.254474244117737, 2.177420110702515, 2.2640201902389525, 2.2587379169464112, 2.5137687158584594, 2.596677689552307, 2.317622127532959, 2.346512265205383, 2.4663615322113035, 2.5086402177810667, 2.367177896499634, 2.326920690536499, 2.210363359451294, 2.0326780819892885, 2.2230395793914797, 2.0994843864440917, 2.20056378364563, 2.0773591709136965, 2.0296157598495483, 2.0477620792388915, 1.9210728740692138, 2.054435524940491, 2.056104645729065, 1.9066025376319886, 1.843522915840149, 2.3062718963623046, 1.9144582271575927, 1.9594469785690307, 1.9459510326385498, 1.86377028465271, 1.6025599288940429, 1.7876520872116088, 1.6909418821334838, 1.731949632167816, 1.9265658235549927, 1.8606476402282714, 1.949471688270569, 2.1066246747970583, 1.7790155863761903, 1.7997071647644043, 1.7533905220031738, 1.7180848813056946, 1.7088996696472167, 1.6943549728393554, 1.6413279318809508, 1.6026857709884643, 1.6194091105461121, 1.508999652862549, 1.7580823016166687, 1.79651930809021, 1.622192885875702, 1.8660597777366639, 1.6159732365608215, 1.5839011216163634, 1.5803806018829345, 1.638033709526062]\n"
     ]
    },
    {
     "name": "stderr",
     "output_type": "stream",
     "text": [
      "100%|██████████| 25/25 [00:11<00:00,  2.09it/s, loss=1.39]\n"
     ]
    },
    {
     "name": "stdout",
     "output_type": "stream",
     "text": [
      "Mean Loss Array: [109.72338996887207, 44.82798828125, 32.273617362976076, 26.064711532592774, 21.157442321777342, 19.115713691711427, 16.144016456604003, 14.384355735778808, 13.049383049011231, 12.153732318878173, 11.268043804168702, 10.582560024261475, 9.440228748321534, 9.014247779846192, 8.482091827392578, 8.003567943572998, 7.432519369125366, 7.155730819702148, 6.746190195083618, 6.142616205215454, 6.142941875457764, 5.743178958892822, 5.321213102340698, 5.176215934753418, 4.775535774230957, 4.601470146179199, 4.661863927841186, 4.357816190719604, 4.063107490539551, 3.9366776371002197, 3.8242201232910156, 3.982276134490967, 3.5431699085235597, 3.6115941429138183, 3.6431439113616944, 3.610076675415039, 3.685580883026123, 3.7001155853271483, 3.8652588748931884, 4.324375524520874, 4.284564528465271, 4.347878742218017, 3.902965383529663, 4.126591539382934, 3.909240999221802, 3.7352996635437012, 3.7414236068725586, 3.9067931318283082, 4.026785469055175, 3.6361935329437256, 3.5152342700958252, 3.3081491708755495, 3.631723232269287, 3.4103569412231445, 3.5419870948791505, 3.466613187789917, 3.7215825843811037, 3.487019019126892, 3.249955735206604, 3.114084506034851, 3.0858022928237916, 2.8493510723114013, 2.7015558958053587, 2.614822993278503, 2.4843905448913572, 2.6212459993362427, 2.6377088594436646, 2.6975906467437745, 2.7389305591583253, 2.8232978200912475, 2.72934965133667, 2.646454849243164, 2.613568410873413, 2.5136814594268797, 2.5978206110000612, 2.6254583644866942, 2.4057094049453736, 2.402720084190369, 2.639316430091858, 2.774964299201965, 2.754122519493103, 3.2175788402557375, 3.1085861253738405, 2.6763640642166138, 2.2616823387145994, 2.0419602537155153, 2.4161604404449464, 2.1771450996398927, 2.094261951446533, 2.2152916240692138, 2.179808506965637, 2.1776322078704835, 2.254474244117737, 2.177420110702515, 2.2640201902389525, 2.2587379169464112, 2.5137687158584594, 2.596677689552307, 2.317622127532959, 2.346512265205383, 2.4663615322113035, 2.5086402177810667, 2.367177896499634, 2.326920690536499, 2.210363359451294, 2.0326780819892885, 2.2230395793914797, 2.0994843864440917, 2.20056378364563, 2.0773591709136965, 2.0296157598495483, 2.0477620792388915, 1.9210728740692138, 2.054435524940491, 2.056104645729065, 1.9066025376319886, 1.843522915840149, 2.3062718963623046, 1.9144582271575927, 1.9594469785690307, 1.9459510326385498, 1.86377028465271, 1.6025599288940429, 1.7876520872116088, 1.6909418821334838, 1.731949632167816, 1.9265658235549927, 1.8606476402282714, 1.949471688270569, 2.1066246747970583, 1.7790155863761903, 1.7997071647644043, 1.7533905220031738, 1.7180848813056946, 1.7088996696472167, 1.6943549728393554, 1.6413279318809508, 1.6026857709884643, 1.6194091105461121, 1.508999652862549, 1.7580823016166687, 1.79651930809021, 1.622192885875702, 1.8660597777366639, 1.6159732365608215, 1.5839011216163634, 1.5803806018829345, 1.638033709526062, 1.522466902732849]\n"
     ]
    },
    {
     "name": "stderr",
     "output_type": "stream",
     "text": [
      "100%|██████████| 25/25 [00:12<00:00,  2.07it/s, loss=1.71]"
     ]
    },
    {
     "name": "stdout",
     "output_type": "stream",
     "text": [
      "Mean Loss Array: [109.72338996887207, 44.82798828125, 32.273617362976076, 26.064711532592774, 21.157442321777342, 19.115713691711427, 16.144016456604003, 14.384355735778808, 13.049383049011231, 12.153732318878173, 11.268043804168702, 10.582560024261475, 9.440228748321534, 9.014247779846192, 8.482091827392578, 8.003567943572998, 7.432519369125366, 7.155730819702148, 6.746190195083618, 6.142616205215454, 6.142941875457764, 5.743178958892822, 5.321213102340698, 5.176215934753418, 4.775535774230957, 4.601470146179199, 4.661863927841186, 4.357816190719604, 4.063107490539551, 3.9366776371002197, 3.8242201232910156, 3.982276134490967, 3.5431699085235597, 3.6115941429138183, 3.6431439113616944, 3.610076675415039, 3.685580883026123, 3.7001155853271483, 3.8652588748931884, 4.324375524520874, 4.284564528465271, 4.347878742218017, 3.902965383529663, 4.126591539382934, 3.909240999221802, 3.7352996635437012, 3.7414236068725586, 3.9067931318283082, 4.026785469055175, 3.6361935329437256, 3.5152342700958252, 3.3081491708755495, 3.631723232269287, 3.4103569412231445, 3.5419870948791505, 3.466613187789917, 3.7215825843811037, 3.487019019126892, 3.249955735206604, 3.114084506034851, 3.0858022928237916, 2.8493510723114013, 2.7015558958053587, 2.614822993278503, 2.4843905448913572, 2.6212459993362427, 2.6377088594436646, 2.6975906467437745, 2.7389305591583253, 2.8232978200912475, 2.72934965133667, 2.646454849243164, 2.613568410873413, 2.5136814594268797, 2.5978206110000612, 2.6254583644866942, 2.4057094049453736, 2.402720084190369, 2.639316430091858, 2.774964299201965, 2.754122519493103, 3.2175788402557375, 3.1085861253738405, 2.6763640642166138, 2.2616823387145994, 2.0419602537155153, 2.4161604404449464, 2.1771450996398927, 2.094261951446533, 2.2152916240692138, 2.179808506965637, 2.1776322078704835, 2.254474244117737, 2.177420110702515, 2.2640201902389525, 2.2587379169464112, 2.5137687158584594, 2.596677689552307, 2.317622127532959, 2.346512265205383, 2.4663615322113035, 2.5086402177810667, 2.367177896499634, 2.326920690536499, 2.210363359451294, 2.0326780819892885, 2.2230395793914797, 2.0994843864440917, 2.20056378364563, 2.0773591709136965, 2.0296157598495483, 2.0477620792388915, 1.9210728740692138, 2.054435524940491, 2.056104645729065, 1.9066025376319886, 1.843522915840149, 2.3062718963623046, 1.9144582271575927, 1.9594469785690307, 1.9459510326385498, 1.86377028465271, 1.6025599288940429, 1.7876520872116088, 1.6909418821334838, 1.731949632167816, 1.9265658235549927, 1.8606476402282714, 1.949471688270569, 2.1066246747970583, 1.7790155863761903, 1.7997071647644043, 1.7533905220031738, 1.7180848813056946, 1.7088996696472167, 1.6943549728393554, 1.6413279318809508, 1.6026857709884643, 1.6194091105461121, 1.508999652862549, 1.7580823016166687, 1.79651930809021, 1.622192885875702, 1.8660597777366639, 1.6159732365608215, 1.5839011216163634, 1.5803806018829345, 1.638033709526062, 1.522466902732849, 1.3889670062065125]\n"
     ]
    },
    {
     "name": "stderr",
     "output_type": "stream",
     "text": [
      "\n"
     ]
    },
    {
     "name": "stdout",
     "output_type": "stream",
     "text": [
      "epoch: 150 Test mAP: 0.010200467891991138 Train mAP: 0.9493480920791626\n",
      "Test mAP Array: [0.0, 0.0, 0.02127656154334545, 0.010204067453742027, 0.0051215216517448425, 0.014166646637022495, 0.03316193446516991, 0.003313692519441247, 0.026041634380817413, 0.0044200788252055645, 0.021867142990231514, 0.0007518788916058838, 0.008113626390695572, 0.013275040313601494, 0.010353523306548595, 0.002705624559894204, 0.044328223913908005, 0.013353311456739902, 0.012046190910041332, 0.015503612346947193, 0.00856652669608593, 0.012172631919384003, 0.046446543186903, 0.017765548080205917, 0.023400645703077316, 0.01204537134617567, 0.016965964809060097, 0.004761898890137672, 0.019243961200118065, 0.01944098062813282, 0.010200467891991138]\n",
      "Train mAP Array: [0.0, 0.0747547596693039, 0.5053293108940125, 0.7937700748443604, 0.9663692712783813, 0.9874552488327026, 0.9544763565063477, 0.9058959484100342, 0.7671000361442566, 0.7827416658401489, 0.8842312693595886, 0.8449891209602356, 0.8830795884132385, 0.9306423664093018, 0.8613497614860535, 0.8504751920700073, 0.8839361667633057, 0.9316099286079407, 0.9345404505729675, 0.8662539124488831, 0.8716952204704285, 0.9339544177055359, 0.8891709446907043, 0.9316245317459106, 0.8825041651725769, 0.9395813345909119, 0.8783979415893555, 0.9302313923835754, 0.9664768576622009, 0.9243113398551941, 0.9493480920791626]\n",
      "=> Saving checkpoint\n"
     ]
    },
    {
     "name": "stderr",
     "output_type": "stream",
     "text": [
      "100%|██████████| 25/25 [00:12<00:00,  1.97it/s, loss=0.761]\n"
     ]
    },
    {
     "name": "stdout",
     "output_type": "stream",
     "text": [
      "Mean Loss Array: [109.72338996887207, 44.82798828125, 32.273617362976076, 26.064711532592774, 21.157442321777342, 19.115713691711427, 16.144016456604003, 14.384355735778808, 13.049383049011231, 12.153732318878173, 11.268043804168702, 10.582560024261475, 9.440228748321534, 9.014247779846192, 8.482091827392578, 8.003567943572998, 7.432519369125366, 7.155730819702148, 6.746190195083618, 6.142616205215454, 6.142941875457764, 5.743178958892822, 5.321213102340698, 5.176215934753418, 4.775535774230957, 4.601470146179199, 4.661863927841186, 4.357816190719604, 4.063107490539551, 3.9366776371002197, 3.8242201232910156, 3.982276134490967, 3.5431699085235597, 3.6115941429138183, 3.6431439113616944, 3.610076675415039, 3.685580883026123, 3.7001155853271483, 3.8652588748931884, 4.324375524520874, 4.284564528465271, 4.347878742218017, 3.902965383529663, 4.126591539382934, 3.909240999221802, 3.7352996635437012, 3.7414236068725586, 3.9067931318283082, 4.026785469055175, 3.6361935329437256, 3.5152342700958252, 3.3081491708755495, 3.631723232269287, 3.4103569412231445, 3.5419870948791505, 3.466613187789917, 3.7215825843811037, 3.487019019126892, 3.249955735206604, 3.114084506034851, 3.0858022928237916, 2.8493510723114013, 2.7015558958053587, 2.614822993278503, 2.4843905448913572, 2.6212459993362427, 2.6377088594436646, 2.6975906467437745, 2.7389305591583253, 2.8232978200912475, 2.72934965133667, 2.646454849243164, 2.613568410873413, 2.5136814594268797, 2.5978206110000612, 2.6254583644866942, 2.4057094049453736, 2.402720084190369, 2.639316430091858, 2.774964299201965, 2.754122519493103, 3.2175788402557375, 3.1085861253738405, 2.6763640642166138, 2.2616823387145994, 2.0419602537155153, 2.4161604404449464, 2.1771450996398927, 2.094261951446533, 2.2152916240692138, 2.179808506965637, 2.1776322078704835, 2.254474244117737, 2.177420110702515, 2.2640201902389525, 2.2587379169464112, 2.5137687158584594, 2.596677689552307, 2.317622127532959, 2.346512265205383, 2.4663615322113035, 2.5086402177810667, 2.367177896499634, 2.326920690536499, 2.210363359451294, 2.0326780819892885, 2.2230395793914797, 2.0994843864440917, 2.20056378364563, 2.0773591709136965, 2.0296157598495483, 2.0477620792388915, 1.9210728740692138, 2.054435524940491, 2.056104645729065, 1.9066025376319886, 1.843522915840149, 2.3062718963623046, 1.9144582271575927, 1.9594469785690307, 1.9459510326385498, 1.86377028465271, 1.6025599288940429, 1.7876520872116088, 1.6909418821334838, 1.731949632167816, 1.9265658235549927, 1.8606476402282714, 1.949471688270569, 2.1066246747970583, 1.7790155863761903, 1.7997071647644043, 1.7533905220031738, 1.7180848813056946, 1.7088996696472167, 1.6943549728393554, 1.6413279318809508, 1.6026857709884643, 1.6194091105461121, 1.508999652862549, 1.7580823016166687, 1.79651930809021, 1.622192885875702, 1.8660597777366639, 1.6159732365608215, 1.5839011216163634, 1.5803806018829345, 1.638033709526062, 1.522466902732849, 1.3889670062065125, 1.3900275135040283]\n"
     ]
    },
    {
     "name": "stderr",
     "output_type": "stream",
     "text": [
      "100%|██████████| 25/25 [00:13<00:00,  1.91it/s, loss=1.54]\n"
     ]
    },
    {
     "name": "stdout",
     "output_type": "stream",
     "text": [
      "Mean Loss Array: [109.72338996887207, 44.82798828125, 32.273617362976076, 26.064711532592774, 21.157442321777342, 19.115713691711427, 16.144016456604003, 14.384355735778808, 13.049383049011231, 12.153732318878173, 11.268043804168702, 10.582560024261475, 9.440228748321534, 9.014247779846192, 8.482091827392578, 8.003567943572998, 7.432519369125366, 7.155730819702148, 6.746190195083618, 6.142616205215454, 6.142941875457764, 5.743178958892822, 5.321213102340698, 5.176215934753418, 4.775535774230957, 4.601470146179199, 4.661863927841186, 4.357816190719604, 4.063107490539551, 3.9366776371002197, 3.8242201232910156, 3.982276134490967, 3.5431699085235597, 3.6115941429138183, 3.6431439113616944, 3.610076675415039, 3.685580883026123, 3.7001155853271483, 3.8652588748931884, 4.324375524520874, 4.284564528465271, 4.347878742218017, 3.902965383529663, 4.126591539382934, 3.909240999221802, 3.7352996635437012, 3.7414236068725586, 3.9067931318283082, 4.026785469055175, 3.6361935329437256, 3.5152342700958252, 3.3081491708755495, 3.631723232269287, 3.4103569412231445, 3.5419870948791505, 3.466613187789917, 3.7215825843811037, 3.487019019126892, 3.249955735206604, 3.114084506034851, 3.0858022928237916, 2.8493510723114013, 2.7015558958053587, 2.614822993278503, 2.4843905448913572, 2.6212459993362427, 2.6377088594436646, 2.6975906467437745, 2.7389305591583253, 2.8232978200912475, 2.72934965133667, 2.646454849243164, 2.613568410873413, 2.5136814594268797, 2.5978206110000612, 2.6254583644866942, 2.4057094049453736, 2.402720084190369, 2.639316430091858, 2.774964299201965, 2.754122519493103, 3.2175788402557375, 3.1085861253738405, 2.6763640642166138, 2.2616823387145994, 2.0419602537155153, 2.4161604404449464, 2.1771450996398927, 2.094261951446533, 2.2152916240692138, 2.179808506965637, 2.1776322078704835, 2.254474244117737, 2.177420110702515, 2.2640201902389525, 2.2587379169464112, 2.5137687158584594, 2.596677689552307, 2.317622127532959, 2.346512265205383, 2.4663615322113035, 2.5086402177810667, 2.367177896499634, 2.326920690536499, 2.210363359451294, 2.0326780819892885, 2.2230395793914797, 2.0994843864440917, 2.20056378364563, 2.0773591709136965, 2.0296157598495483, 2.0477620792388915, 1.9210728740692138, 2.054435524940491, 2.056104645729065, 1.9066025376319886, 1.843522915840149, 2.3062718963623046, 1.9144582271575927, 1.9594469785690307, 1.9459510326385498, 1.86377028465271, 1.6025599288940429, 1.7876520872116088, 1.6909418821334838, 1.731949632167816, 1.9265658235549927, 1.8606476402282714, 1.949471688270569, 2.1066246747970583, 1.7790155863761903, 1.7997071647644043, 1.7533905220031738, 1.7180848813056946, 1.7088996696472167, 1.6943549728393554, 1.6413279318809508, 1.6026857709884643, 1.6194091105461121, 1.508999652862549, 1.7580823016166687, 1.79651930809021, 1.622192885875702, 1.8660597777366639, 1.6159732365608215, 1.5839011216163634, 1.5803806018829345, 1.638033709526062, 1.522466902732849, 1.3889670062065125, 1.3900275135040283, 1.5603622269630433]\n"
     ]
    },
    {
     "name": "stderr",
     "output_type": "stream",
     "text": [
      "100%|██████████| 25/25 [00:11<00:00,  2.24it/s, loss=1.35]\n"
     ]
    },
    {
     "name": "stdout",
     "output_type": "stream",
     "text": [
      "Mean Loss Array: [109.72338996887207, 44.82798828125, 32.273617362976076, 26.064711532592774, 21.157442321777342, 19.115713691711427, 16.144016456604003, 14.384355735778808, 13.049383049011231, 12.153732318878173, 11.268043804168702, 10.582560024261475, 9.440228748321534, 9.014247779846192, 8.482091827392578, 8.003567943572998, 7.432519369125366, 7.155730819702148, 6.746190195083618, 6.142616205215454, 6.142941875457764, 5.743178958892822, 5.321213102340698, 5.176215934753418, 4.775535774230957, 4.601470146179199, 4.661863927841186, 4.357816190719604, 4.063107490539551, 3.9366776371002197, 3.8242201232910156, 3.982276134490967, 3.5431699085235597, 3.6115941429138183, 3.6431439113616944, 3.610076675415039, 3.685580883026123, 3.7001155853271483, 3.8652588748931884, 4.324375524520874, 4.284564528465271, 4.347878742218017, 3.902965383529663, 4.126591539382934, 3.909240999221802, 3.7352996635437012, 3.7414236068725586, 3.9067931318283082, 4.026785469055175, 3.6361935329437256, 3.5152342700958252, 3.3081491708755495, 3.631723232269287, 3.4103569412231445, 3.5419870948791505, 3.466613187789917, 3.7215825843811037, 3.487019019126892, 3.249955735206604, 3.114084506034851, 3.0858022928237916, 2.8493510723114013, 2.7015558958053587, 2.614822993278503, 2.4843905448913572, 2.6212459993362427, 2.6377088594436646, 2.6975906467437745, 2.7389305591583253, 2.8232978200912475, 2.72934965133667, 2.646454849243164, 2.613568410873413, 2.5136814594268797, 2.5978206110000612, 2.6254583644866942, 2.4057094049453736, 2.402720084190369, 2.639316430091858, 2.774964299201965, 2.754122519493103, 3.2175788402557375, 3.1085861253738405, 2.6763640642166138, 2.2616823387145994, 2.0419602537155153, 2.4161604404449464, 2.1771450996398927, 2.094261951446533, 2.2152916240692138, 2.179808506965637, 2.1776322078704835, 2.254474244117737, 2.177420110702515, 2.2640201902389525, 2.2587379169464112, 2.5137687158584594, 2.596677689552307, 2.317622127532959, 2.346512265205383, 2.4663615322113035, 2.5086402177810667, 2.367177896499634, 2.326920690536499, 2.210363359451294, 2.0326780819892885, 2.2230395793914797, 2.0994843864440917, 2.20056378364563, 2.0773591709136965, 2.0296157598495483, 2.0477620792388915, 1.9210728740692138, 2.054435524940491, 2.056104645729065, 1.9066025376319886, 1.843522915840149, 2.3062718963623046, 1.9144582271575927, 1.9594469785690307, 1.9459510326385498, 1.86377028465271, 1.6025599288940429, 1.7876520872116088, 1.6909418821334838, 1.731949632167816, 1.9265658235549927, 1.8606476402282714, 1.949471688270569, 2.1066246747970583, 1.7790155863761903, 1.7997071647644043, 1.7533905220031738, 1.7180848813056946, 1.7088996696472167, 1.6943549728393554, 1.6413279318809508, 1.6026857709884643, 1.6194091105461121, 1.508999652862549, 1.7580823016166687, 1.79651930809021, 1.622192885875702, 1.8660597777366639, 1.6159732365608215, 1.5839011216163634, 1.5803806018829345, 1.638033709526062, 1.522466902732849, 1.3889670062065125, 1.3900275135040283, 1.5603622269630433, 1.4473596334457397]\n"
     ]
    },
    {
     "name": "stderr",
     "output_type": "stream",
     "text": [
      "100%|██████████| 25/25 [00:10<00:00,  2.30it/s, loss=1.49]\n"
     ]
    },
    {
     "name": "stdout",
     "output_type": "stream",
     "text": [
      "Mean Loss Array: [109.72338996887207, 44.82798828125, 32.273617362976076, 26.064711532592774, 21.157442321777342, 19.115713691711427, 16.144016456604003, 14.384355735778808, 13.049383049011231, 12.153732318878173, 11.268043804168702, 10.582560024261475, 9.440228748321534, 9.014247779846192, 8.482091827392578, 8.003567943572998, 7.432519369125366, 7.155730819702148, 6.746190195083618, 6.142616205215454, 6.142941875457764, 5.743178958892822, 5.321213102340698, 5.176215934753418, 4.775535774230957, 4.601470146179199, 4.661863927841186, 4.357816190719604, 4.063107490539551, 3.9366776371002197, 3.8242201232910156, 3.982276134490967, 3.5431699085235597, 3.6115941429138183, 3.6431439113616944, 3.610076675415039, 3.685580883026123, 3.7001155853271483, 3.8652588748931884, 4.324375524520874, 4.284564528465271, 4.347878742218017, 3.902965383529663, 4.126591539382934, 3.909240999221802, 3.7352996635437012, 3.7414236068725586, 3.9067931318283082, 4.026785469055175, 3.6361935329437256, 3.5152342700958252, 3.3081491708755495, 3.631723232269287, 3.4103569412231445, 3.5419870948791505, 3.466613187789917, 3.7215825843811037, 3.487019019126892, 3.249955735206604, 3.114084506034851, 3.0858022928237916, 2.8493510723114013, 2.7015558958053587, 2.614822993278503, 2.4843905448913572, 2.6212459993362427, 2.6377088594436646, 2.6975906467437745, 2.7389305591583253, 2.8232978200912475, 2.72934965133667, 2.646454849243164, 2.613568410873413, 2.5136814594268797, 2.5978206110000612, 2.6254583644866942, 2.4057094049453736, 2.402720084190369, 2.639316430091858, 2.774964299201965, 2.754122519493103, 3.2175788402557375, 3.1085861253738405, 2.6763640642166138, 2.2616823387145994, 2.0419602537155153, 2.4161604404449464, 2.1771450996398927, 2.094261951446533, 2.2152916240692138, 2.179808506965637, 2.1776322078704835, 2.254474244117737, 2.177420110702515, 2.2640201902389525, 2.2587379169464112, 2.5137687158584594, 2.596677689552307, 2.317622127532959, 2.346512265205383, 2.4663615322113035, 2.5086402177810667, 2.367177896499634, 2.326920690536499, 2.210363359451294, 2.0326780819892885, 2.2230395793914797, 2.0994843864440917, 2.20056378364563, 2.0773591709136965, 2.0296157598495483, 2.0477620792388915, 1.9210728740692138, 2.054435524940491, 2.056104645729065, 1.9066025376319886, 1.843522915840149, 2.3062718963623046, 1.9144582271575927, 1.9594469785690307, 1.9459510326385498, 1.86377028465271, 1.6025599288940429, 1.7876520872116088, 1.6909418821334838, 1.731949632167816, 1.9265658235549927, 1.8606476402282714, 1.949471688270569, 2.1066246747970583, 1.7790155863761903, 1.7997071647644043, 1.7533905220031738, 1.7180848813056946, 1.7088996696472167, 1.6943549728393554, 1.6413279318809508, 1.6026857709884643, 1.6194091105461121, 1.508999652862549, 1.7580823016166687, 1.79651930809021, 1.622192885875702, 1.8660597777366639, 1.6159732365608215, 1.5839011216163634, 1.5803806018829345, 1.638033709526062, 1.522466902732849, 1.3889670062065125, 1.3900275135040283, 1.5603622269630433, 1.4473596334457397, 1.3786982536315917]\n"
     ]
    },
    {
     "name": "stderr",
     "output_type": "stream",
     "text": [
      "100%|██████████| 25/25 [00:13<00:00,  1.86it/s, loss=1.11]"
     ]
    },
    {
     "name": "stdout",
     "output_type": "stream",
     "text": [
      "Mean Loss Array: [109.72338996887207, 44.82798828125, 32.273617362976076, 26.064711532592774, 21.157442321777342, 19.115713691711427, 16.144016456604003, 14.384355735778808, 13.049383049011231, 12.153732318878173, 11.268043804168702, 10.582560024261475, 9.440228748321534, 9.014247779846192, 8.482091827392578, 8.003567943572998, 7.432519369125366, 7.155730819702148, 6.746190195083618, 6.142616205215454, 6.142941875457764, 5.743178958892822, 5.321213102340698, 5.176215934753418, 4.775535774230957, 4.601470146179199, 4.661863927841186, 4.357816190719604, 4.063107490539551, 3.9366776371002197, 3.8242201232910156, 3.982276134490967, 3.5431699085235597, 3.6115941429138183, 3.6431439113616944, 3.610076675415039, 3.685580883026123, 3.7001155853271483, 3.8652588748931884, 4.324375524520874, 4.284564528465271, 4.347878742218017, 3.902965383529663, 4.126591539382934, 3.909240999221802, 3.7352996635437012, 3.7414236068725586, 3.9067931318283082, 4.026785469055175, 3.6361935329437256, 3.5152342700958252, 3.3081491708755495, 3.631723232269287, 3.4103569412231445, 3.5419870948791505, 3.466613187789917, 3.7215825843811037, 3.487019019126892, 3.249955735206604, 3.114084506034851, 3.0858022928237916, 2.8493510723114013, 2.7015558958053587, 2.614822993278503, 2.4843905448913572, 2.6212459993362427, 2.6377088594436646, 2.6975906467437745, 2.7389305591583253, 2.8232978200912475, 2.72934965133667, 2.646454849243164, 2.613568410873413, 2.5136814594268797, 2.5978206110000612, 2.6254583644866942, 2.4057094049453736, 2.402720084190369, 2.639316430091858, 2.774964299201965, 2.754122519493103, 3.2175788402557375, 3.1085861253738405, 2.6763640642166138, 2.2616823387145994, 2.0419602537155153, 2.4161604404449464, 2.1771450996398927, 2.094261951446533, 2.2152916240692138, 2.179808506965637, 2.1776322078704835, 2.254474244117737, 2.177420110702515, 2.2640201902389525, 2.2587379169464112, 2.5137687158584594, 2.596677689552307, 2.317622127532959, 2.346512265205383, 2.4663615322113035, 2.5086402177810667, 2.367177896499634, 2.326920690536499, 2.210363359451294, 2.0326780819892885, 2.2230395793914797, 2.0994843864440917, 2.20056378364563, 2.0773591709136965, 2.0296157598495483, 2.0477620792388915, 1.9210728740692138, 2.054435524940491, 2.056104645729065, 1.9066025376319886, 1.843522915840149, 2.3062718963623046, 1.9144582271575927, 1.9594469785690307, 1.9459510326385498, 1.86377028465271, 1.6025599288940429, 1.7876520872116088, 1.6909418821334838, 1.731949632167816, 1.9265658235549927, 1.8606476402282714, 1.949471688270569, 2.1066246747970583, 1.7790155863761903, 1.7997071647644043, 1.7533905220031738, 1.7180848813056946, 1.7088996696472167, 1.6943549728393554, 1.6413279318809508, 1.6026857709884643, 1.6194091105461121, 1.508999652862549, 1.7580823016166687, 1.79651930809021, 1.622192885875702, 1.8660597777366639, 1.6159732365608215, 1.5839011216163634, 1.5803806018829345, 1.638033709526062, 1.522466902732849, 1.3889670062065125, 1.3900275135040283, 1.5603622269630433, 1.4473596334457397, 1.3786982536315917, 1.3422671103477477]\n"
     ]
    },
    {
     "name": "stderr",
     "output_type": "stream",
     "text": [
      "\n"
     ]
    },
    {
     "name": "stdout",
     "output_type": "stream",
     "text": [
      "epoch: 155 Test mAP: 0.012091489508748055 Train mAP: 0.9842320084571838\n",
      "Test mAP Array: [0.0, 0.0, 0.02127656154334545, 0.010204067453742027, 0.0051215216517448425, 0.014166646637022495, 0.03316193446516991, 0.003313692519441247, 0.026041634380817413, 0.0044200788252055645, 0.021867142990231514, 0.0007518788916058838, 0.008113626390695572, 0.013275040313601494, 0.010353523306548595, 0.002705624559894204, 0.044328223913908005, 0.013353311456739902, 0.012046190910041332, 0.015503612346947193, 0.00856652669608593, 0.012172631919384003, 0.046446543186903, 0.017765548080205917, 0.023400645703077316, 0.01204537134617567, 0.016965964809060097, 0.004761898890137672, 0.019243961200118065, 0.01944098062813282, 0.010200467891991138, 0.012091489508748055]\n",
      "Train mAP Array: [0.0, 0.0747547596693039, 0.5053293108940125, 0.7937700748443604, 0.9663692712783813, 0.9874552488327026, 0.9544763565063477, 0.9058959484100342, 0.7671000361442566, 0.7827416658401489, 0.8842312693595886, 0.8449891209602356, 0.8830795884132385, 0.9306423664093018, 0.8613497614860535, 0.8504751920700073, 0.8839361667633057, 0.9316099286079407, 0.9345404505729675, 0.8662539124488831, 0.8716952204704285, 0.9339544177055359, 0.8891709446907043, 0.9316245317459106, 0.8825041651725769, 0.9395813345909119, 0.8783979415893555, 0.9302313923835754, 0.9664768576622009, 0.9243113398551941, 0.9493480920791626, 0.9842320084571838]\n",
      "=> Saving checkpoint\n"
     ]
    },
    {
     "name": "stderr",
     "output_type": "stream",
     "text": [
      "100%|██████████| 25/25 [00:12<00:00,  1.95it/s, loss=1.14]\n"
     ]
    },
    {
     "name": "stdout",
     "output_type": "stream",
     "text": [
      "Mean Loss Array: [109.72338996887207, 44.82798828125, 32.273617362976076, 26.064711532592774, 21.157442321777342, 19.115713691711427, 16.144016456604003, 14.384355735778808, 13.049383049011231, 12.153732318878173, 11.268043804168702, 10.582560024261475, 9.440228748321534, 9.014247779846192, 8.482091827392578, 8.003567943572998, 7.432519369125366, 7.155730819702148, 6.746190195083618, 6.142616205215454, 6.142941875457764, 5.743178958892822, 5.321213102340698, 5.176215934753418, 4.775535774230957, 4.601470146179199, 4.661863927841186, 4.357816190719604, 4.063107490539551, 3.9366776371002197, 3.8242201232910156, 3.982276134490967, 3.5431699085235597, 3.6115941429138183, 3.6431439113616944, 3.610076675415039, 3.685580883026123, 3.7001155853271483, 3.8652588748931884, 4.324375524520874, 4.284564528465271, 4.347878742218017, 3.902965383529663, 4.126591539382934, 3.909240999221802, 3.7352996635437012, 3.7414236068725586, 3.9067931318283082, 4.026785469055175, 3.6361935329437256, 3.5152342700958252, 3.3081491708755495, 3.631723232269287, 3.4103569412231445, 3.5419870948791505, 3.466613187789917, 3.7215825843811037, 3.487019019126892, 3.249955735206604, 3.114084506034851, 3.0858022928237916, 2.8493510723114013, 2.7015558958053587, 2.614822993278503, 2.4843905448913572, 2.6212459993362427, 2.6377088594436646, 2.6975906467437745, 2.7389305591583253, 2.8232978200912475, 2.72934965133667, 2.646454849243164, 2.613568410873413, 2.5136814594268797, 2.5978206110000612, 2.6254583644866942, 2.4057094049453736, 2.402720084190369, 2.639316430091858, 2.774964299201965, 2.754122519493103, 3.2175788402557375, 3.1085861253738405, 2.6763640642166138, 2.2616823387145994, 2.0419602537155153, 2.4161604404449464, 2.1771450996398927, 2.094261951446533, 2.2152916240692138, 2.179808506965637, 2.1776322078704835, 2.254474244117737, 2.177420110702515, 2.2640201902389525, 2.2587379169464112, 2.5137687158584594, 2.596677689552307, 2.317622127532959, 2.346512265205383, 2.4663615322113035, 2.5086402177810667, 2.367177896499634, 2.326920690536499, 2.210363359451294, 2.0326780819892885, 2.2230395793914797, 2.0994843864440917, 2.20056378364563, 2.0773591709136965, 2.0296157598495483, 2.0477620792388915, 1.9210728740692138, 2.054435524940491, 2.056104645729065, 1.9066025376319886, 1.843522915840149, 2.3062718963623046, 1.9144582271575927, 1.9594469785690307, 1.9459510326385498, 1.86377028465271, 1.6025599288940429, 1.7876520872116088, 1.6909418821334838, 1.731949632167816, 1.9265658235549927, 1.8606476402282714, 1.949471688270569, 2.1066246747970583, 1.7790155863761903, 1.7997071647644043, 1.7533905220031738, 1.7180848813056946, 1.7088996696472167, 1.6943549728393554, 1.6413279318809508, 1.6026857709884643, 1.6194091105461121, 1.508999652862549, 1.7580823016166687, 1.79651930809021, 1.622192885875702, 1.8660597777366639, 1.6159732365608215, 1.5839011216163634, 1.5803806018829345, 1.638033709526062, 1.522466902732849, 1.3889670062065125, 1.3900275135040283, 1.5603622269630433, 1.4473596334457397, 1.3786982536315917, 1.3422671103477477, 1.4118313479423523]\n"
     ]
    },
    {
     "name": "stderr",
     "output_type": "stream",
     "text": [
      "100%|██████████| 25/25 [00:12<00:00,  1.93it/s, loss=1.37]\n"
     ]
    },
    {
     "name": "stdout",
     "output_type": "stream",
     "text": [
      "Mean Loss Array: [109.72338996887207, 44.82798828125, 32.273617362976076, 26.064711532592774, 21.157442321777342, 19.115713691711427, 16.144016456604003, 14.384355735778808, 13.049383049011231, 12.153732318878173, 11.268043804168702, 10.582560024261475, 9.440228748321534, 9.014247779846192, 8.482091827392578, 8.003567943572998, 7.432519369125366, 7.155730819702148, 6.746190195083618, 6.142616205215454, 6.142941875457764, 5.743178958892822, 5.321213102340698, 5.176215934753418, 4.775535774230957, 4.601470146179199, 4.661863927841186, 4.357816190719604, 4.063107490539551, 3.9366776371002197, 3.8242201232910156, 3.982276134490967, 3.5431699085235597, 3.6115941429138183, 3.6431439113616944, 3.610076675415039, 3.685580883026123, 3.7001155853271483, 3.8652588748931884, 4.324375524520874, 4.284564528465271, 4.347878742218017, 3.902965383529663, 4.126591539382934, 3.909240999221802, 3.7352996635437012, 3.7414236068725586, 3.9067931318283082, 4.026785469055175, 3.6361935329437256, 3.5152342700958252, 3.3081491708755495, 3.631723232269287, 3.4103569412231445, 3.5419870948791505, 3.466613187789917, 3.7215825843811037, 3.487019019126892, 3.249955735206604, 3.114084506034851, 3.0858022928237916, 2.8493510723114013, 2.7015558958053587, 2.614822993278503, 2.4843905448913572, 2.6212459993362427, 2.6377088594436646, 2.6975906467437745, 2.7389305591583253, 2.8232978200912475, 2.72934965133667, 2.646454849243164, 2.613568410873413, 2.5136814594268797, 2.5978206110000612, 2.6254583644866942, 2.4057094049453736, 2.402720084190369, 2.639316430091858, 2.774964299201965, 2.754122519493103, 3.2175788402557375, 3.1085861253738405, 2.6763640642166138, 2.2616823387145994, 2.0419602537155153, 2.4161604404449464, 2.1771450996398927, 2.094261951446533, 2.2152916240692138, 2.179808506965637, 2.1776322078704835, 2.254474244117737, 2.177420110702515, 2.2640201902389525, 2.2587379169464112, 2.5137687158584594, 2.596677689552307, 2.317622127532959, 2.346512265205383, 2.4663615322113035, 2.5086402177810667, 2.367177896499634, 2.326920690536499, 2.210363359451294, 2.0326780819892885, 2.2230395793914797, 2.0994843864440917, 2.20056378364563, 2.0773591709136965, 2.0296157598495483, 2.0477620792388915, 1.9210728740692138, 2.054435524940491, 2.056104645729065, 1.9066025376319886, 1.843522915840149, 2.3062718963623046, 1.9144582271575927, 1.9594469785690307, 1.9459510326385498, 1.86377028465271, 1.6025599288940429, 1.7876520872116088, 1.6909418821334838, 1.731949632167816, 1.9265658235549927, 1.8606476402282714, 1.949471688270569, 2.1066246747970583, 1.7790155863761903, 1.7997071647644043, 1.7533905220031738, 1.7180848813056946, 1.7088996696472167, 1.6943549728393554, 1.6413279318809508, 1.6026857709884643, 1.6194091105461121, 1.508999652862549, 1.7580823016166687, 1.79651930809021, 1.622192885875702, 1.8660597777366639, 1.6159732365608215, 1.5839011216163634, 1.5803806018829345, 1.638033709526062, 1.522466902732849, 1.3889670062065125, 1.3900275135040283, 1.5603622269630433, 1.4473596334457397, 1.3786982536315917, 1.3422671103477477, 1.4118313479423523, 1.468309829235077]\n"
     ]
    },
    {
     "name": "stderr",
     "output_type": "stream",
     "text": [
      "100%|██████████| 25/25 [00:12<00:00,  2.05it/s, loss=1.59]\n"
     ]
    },
    {
     "name": "stdout",
     "output_type": "stream",
     "text": [
      "Mean Loss Array: [109.72338996887207, 44.82798828125, 32.273617362976076, 26.064711532592774, 21.157442321777342, 19.115713691711427, 16.144016456604003, 14.384355735778808, 13.049383049011231, 12.153732318878173, 11.268043804168702, 10.582560024261475, 9.440228748321534, 9.014247779846192, 8.482091827392578, 8.003567943572998, 7.432519369125366, 7.155730819702148, 6.746190195083618, 6.142616205215454, 6.142941875457764, 5.743178958892822, 5.321213102340698, 5.176215934753418, 4.775535774230957, 4.601470146179199, 4.661863927841186, 4.357816190719604, 4.063107490539551, 3.9366776371002197, 3.8242201232910156, 3.982276134490967, 3.5431699085235597, 3.6115941429138183, 3.6431439113616944, 3.610076675415039, 3.685580883026123, 3.7001155853271483, 3.8652588748931884, 4.324375524520874, 4.284564528465271, 4.347878742218017, 3.902965383529663, 4.126591539382934, 3.909240999221802, 3.7352996635437012, 3.7414236068725586, 3.9067931318283082, 4.026785469055175, 3.6361935329437256, 3.5152342700958252, 3.3081491708755495, 3.631723232269287, 3.4103569412231445, 3.5419870948791505, 3.466613187789917, 3.7215825843811037, 3.487019019126892, 3.249955735206604, 3.114084506034851, 3.0858022928237916, 2.8493510723114013, 2.7015558958053587, 2.614822993278503, 2.4843905448913572, 2.6212459993362427, 2.6377088594436646, 2.6975906467437745, 2.7389305591583253, 2.8232978200912475, 2.72934965133667, 2.646454849243164, 2.613568410873413, 2.5136814594268797, 2.5978206110000612, 2.6254583644866942, 2.4057094049453736, 2.402720084190369, 2.639316430091858, 2.774964299201965, 2.754122519493103, 3.2175788402557375, 3.1085861253738405, 2.6763640642166138, 2.2616823387145994, 2.0419602537155153, 2.4161604404449464, 2.1771450996398927, 2.094261951446533, 2.2152916240692138, 2.179808506965637, 2.1776322078704835, 2.254474244117737, 2.177420110702515, 2.2640201902389525, 2.2587379169464112, 2.5137687158584594, 2.596677689552307, 2.317622127532959, 2.346512265205383, 2.4663615322113035, 2.5086402177810667, 2.367177896499634, 2.326920690536499, 2.210363359451294, 2.0326780819892885, 2.2230395793914797, 2.0994843864440917, 2.20056378364563, 2.0773591709136965, 2.0296157598495483, 2.0477620792388915, 1.9210728740692138, 2.054435524940491, 2.056104645729065, 1.9066025376319886, 1.843522915840149, 2.3062718963623046, 1.9144582271575927, 1.9594469785690307, 1.9459510326385498, 1.86377028465271, 1.6025599288940429, 1.7876520872116088, 1.6909418821334838, 1.731949632167816, 1.9265658235549927, 1.8606476402282714, 1.949471688270569, 2.1066246747970583, 1.7790155863761903, 1.7997071647644043, 1.7533905220031738, 1.7180848813056946, 1.7088996696472167, 1.6943549728393554, 1.6413279318809508, 1.6026857709884643, 1.6194091105461121, 1.508999652862549, 1.7580823016166687, 1.79651930809021, 1.622192885875702, 1.8660597777366639, 1.6159732365608215, 1.5839011216163634, 1.5803806018829345, 1.638033709526062, 1.522466902732849, 1.3889670062065125, 1.3900275135040283, 1.5603622269630433, 1.4473596334457397, 1.3786982536315917, 1.3422671103477477, 1.4118313479423523, 1.468309829235077, 1.4305617332458496]\n"
     ]
    },
    {
     "name": "stderr",
     "output_type": "stream",
     "text": [
      "100%|██████████| 25/25 [00:11<00:00,  2.21it/s, loss=1.55]\n"
     ]
    },
    {
     "name": "stdout",
     "output_type": "stream",
     "text": [
      "Mean Loss Array: [109.72338996887207, 44.82798828125, 32.273617362976076, 26.064711532592774, 21.157442321777342, 19.115713691711427, 16.144016456604003, 14.384355735778808, 13.049383049011231, 12.153732318878173, 11.268043804168702, 10.582560024261475, 9.440228748321534, 9.014247779846192, 8.482091827392578, 8.003567943572998, 7.432519369125366, 7.155730819702148, 6.746190195083618, 6.142616205215454, 6.142941875457764, 5.743178958892822, 5.321213102340698, 5.176215934753418, 4.775535774230957, 4.601470146179199, 4.661863927841186, 4.357816190719604, 4.063107490539551, 3.9366776371002197, 3.8242201232910156, 3.982276134490967, 3.5431699085235597, 3.6115941429138183, 3.6431439113616944, 3.610076675415039, 3.685580883026123, 3.7001155853271483, 3.8652588748931884, 4.324375524520874, 4.284564528465271, 4.347878742218017, 3.902965383529663, 4.126591539382934, 3.909240999221802, 3.7352996635437012, 3.7414236068725586, 3.9067931318283082, 4.026785469055175, 3.6361935329437256, 3.5152342700958252, 3.3081491708755495, 3.631723232269287, 3.4103569412231445, 3.5419870948791505, 3.466613187789917, 3.7215825843811037, 3.487019019126892, 3.249955735206604, 3.114084506034851, 3.0858022928237916, 2.8493510723114013, 2.7015558958053587, 2.614822993278503, 2.4843905448913572, 2.6212459993362427, 2.6377088594436646, 2.6975906467437745, 2.7389305591583253, 2.8232978200912475, 2.72934965133667, 2.646454849243164, 2.613568410873413, 2.5136814594268797, 2.5978206110000612, 2.6254583644866942, 2.4057094049453736, 2.402720084190369, 2.639316430091858, 2.774964299201965, 2.754122519493103, 3.2175788402557375, 3.1085861253738405, 2.6763640642166138, 2.2616823387145994, 2.0419602537155153, 2.4161604404449464, 2.1771450996398927, 2.094261951446533, 2.2152916240692138, 2.179808506965637, 2.1776322078704835, 2.254474244117737, 2.177420110702515, 2.2640201902389525, 2.2587379169464112, 2.5137687158584594, 2.596677689552307, 2.317622127532959, 2.346512265205383, 2.4663615322113035, 2.5086402177810667, 2.367177896499634, 2.326920690536499, 2.210363359451294, 2.0326780819892885, 2.2230395793914797, 2.0994843864440917, 2.20056378364563, 2.0773591709136965, 2.0296157598495483, 2.0477620792388915, 1.9210728740692138, 2.054435524940491, 2.056104645729065, 1.9066025376319886, 1.843522915840149, 2.3062718963623046, 1.9144582271575927, 1.9594469785690307, 1.9459510326385498, 1.86377028465271, 1.6025599288940429, 1.7876520872116088, 1.6909418821334838, 1.731949632167816, 1.9265658235549927, 1.8606476402282714, 1.949471688270569, 2.1066246747970583, 1.7790155863761903, 1.7997071647644043, 1.7533905220031738, 1.7180848813056946, 1.7088996696472167, 1.6943549728393554, 1.6413279318809508, 1.6026857709884643, 1.6194091105461121, 1.508999652862549, 1.7580823016166687, 1.79651930809021, 1.622192885875702, 1.8660597777366639, 1.6159732365608215, 1.5839011216163634, 1.5803806018829345, 1.638033709526062, 1.522466902732849, 1.3889670062065125, 1.3900275135040283, 1.5603622269630433, 1.4473596334457397, 1.3786982536315917, 1.3422671103477477, 1.4118313479423523, 1.468309829235077, 1.4305617332458496, 1.619095242023468]\n"
     ]
    },
    {
     "name": "stderr",
     "output_type": "stream",
     "text": [
      "100%|██████████| 25/25 [00:11<00:00,  2.27it/s, loss=2.11]"
     ]
    },
    {
     "name": "stdout",
     "output_type": "stream",
     "text": [
      "Mean Loss Array: [109.72338996887207, 44.82798828125, 32.273617362976076, 26.064711532592774, 21.157442321777342, 19.115713691711427, 16.144016456604003, 14.384355735778808, 13.049383049011231, 12.153732318878173, 11.268043804168702, 10.582560024261475, 9.440228748321534, 9.014247779846192, 8.482091827392578, 8.003567943572998, 7.432519369125366, 7.155730819702148, 6.746190195083618, 6.142616205215454, 6.142941875457764, 5.743178958892822, 5.321213102340698, 5.176215934753418, 4.775535774230957, 4.601470146179199, 4.661863927841186, 4.357816190719604, 4.063107490539551, 3.9366776371002197, 3.8242201232910156, 3.982276134490967, 3.5431699085235597, 3.6115941429138183, 3.6431439113616944, 3.610076675415039, 3.685580883026123, 3.7001155853271483, 3.8652588748931884, 4.324375524520874, 4.284564528465271, 4.347878742218017, 3.902965383529663, 4.126591539382934, 3.909240999221802, 3.7352996635437012, 3.7414236068725586, 3.9067931318283082, 4.026785469055175, 3.6361935329437256, 3.5152342700958252, 3.3081491708755495, 3.631723232269287, 3.4103569412231445, 3.5419870948791505, 3.466613187789917, 3.7215825843811037, 3.487019019126892, 3.249955735206604, 3.114084506034851, 3.0858022928237916, 2.8493510723114013, 2.7015558958053587, 2.614822993278503, 2.4843905448913572, 2.6212459993362427, 2.6377088594436646, 2.6975906467437745, 2.7389305591583253, 2.8232978200912475, 2.72934965133667, 2.646454849243164, 2.613568410873413, 2.5136814594268797, 2.5978206110000612, 2.6254583644866942, 2.4057094049453736, 2.402720084190369, 2.639316430091858, 2.774964299201965, 2.754122519493103, 3.2175788402557375, 3.1085861253738405, 2.6763640642166138, 2.2616823387145994, 2.0419602537155153, 2.4161604404449464, 2.1771450996398927, 2.094261951446533, 2.2152916240692138, 2.179808506965637, 2.1776322078704835, 2.254474244117737, 2.177420110702515, 2.2640201902389525, 2.2587379169464112, 2.5137687158584594, 2.596677689552307, 2.317622127532959, 2.346512265205383, 2.4663615322113035, 2.5086402177810667, 2.367177896499634, 2.326920690536499, 2.210363359451294, 2.0326780819892885, 2.2230395793914797, 2.0994843864440917, 2.20056378364563, 2.0773591709136965, 2.0296157598495483, 2.0477620792388915, 1.9210728740692138, 2.054435524940491, 2.056104645729065, 1.9066025376319886, 1.843522915840149, 2.3062718963623046, 1.9144582271575927, 1.9594469785690307, 1.9459510326385498, 1.86377028465271, 1.6025599288940429, 1.7876520872116088, 1.6909418821334838, 1.731949632167816, 1.9265658235549927, 1.8606476402282714, 1.949471688270569, 2.1066246747970583, 1.7790155863761903, 1.7997071647644043, 1.7533905220031738, 1.7180848813056946, 1.7088996696472167, 1.6943549728393554, 1.6413279318809508, 1.6026857709884643, 1.6194091105461121, 1.508999652862549, 1.7580823016166687, 1.79651930809021, 1.622192885875702, 1.8660597777366639, 1.6159732365608215, 1.5839011216163634, 1.5803806018829345, 1.638033709526062, 1.522466902732849, 1.3889670062065125, 1.3900275135040283, 1.5603622269630433, 1.4473596334457397, 1.3786982536315917, 1.3422671103477477, 1.4118313479423523, 1.468309829235077, 1.4305617332458496, 1.619095242023468, 1.4900277757644653]\n"
     ]
    },
    {
     "name": "stderr",
     "output_type": "stream",
     "text": [
      "\n"
     ]
    },
    {
     "name": "stdout",
     "output_type": "stream",
     "text": [
      "epoch: 160 Test mAP: 0.009374989196658134 Train mAP: 0.96986985206604\n",
      "Test mAP Array: [0.0, 0.0, 0.02127656154334545, 0.010204067453742027, 0.0051215216517448425, 0.014166646637022495, 0.03316193446516991, 0.003313692519441247, 0.026041634380817413, 0.0044200788252055645, 0.021867142990231514, 0.0007518788916058838, 0.008113626390695572, 0.013275040313601494, 0.010353523306548595, 0.002705624559894204, 0.044328223913908005, 0.013353311456739902, 0.012046190910041332, 0.015503612346947193, 0.00856652669608593, 0.012172631919384003, 0.046446543186903, 0.017765548080205917, 0.023400645703077316, 0.01204537134617567, 0.016965964809060097, 0.004761898890137672, 0.019243961200118065, 0.01944098062813282, 0.010200467891991138, 0.012091489508748055, 0.009374989196658134]\n",
      "Train mAP Array: [0.0, 0.0747547596693039, 0.5053293108940125, 0.7937700748443604, 0.9663692712783813, 0.9874552488327026, 0.9544763565063477, 0.9058959484100342, 0.7671000361442566, 0.7827416658401489, 0.8842312693595886, 0.8449891209602356, 0.8830795884132385, 0.9306423664093018, 0.8613497614860535, 0.8504751920700073, 0.8839361667633057, 0.9316099286079407, 0.9345404505729675, 0.8662539124488831, 0.8716952204704285, 0.9339544177055359, 0.8891709446907043, 0.9316245317459106, 0.8825041651725769, 0.9395813345909119, 0.8783979415893555, 0.9302313923835754, 0.9664768576622009, 0.9243113398551941, 0.9493480920791626, 0.9842320084571838, 0.96986985206604]\n",
      "=> Saving checkpoint\n"
     ]
    },
    {
     "name": "stderr",
     "output_type": "stream",
     "text": [
      "100%|██████████| 25/25 [00:11<00:00,  2.14it/s, loss=1.42]\n"
     ]
    },
    {
     "name": "stdout",
     "output_type": "stream",
     "text": [
      "Mean Loss Array: [109.72338996887207, 44.82798828125, 32.273617362976076, 26.064711532592774, 21.157442321777342, 19.115713691711427, 16.144016456604003, 14.384355735778808, 13.049383049011231, 12.153732318878173, 11.268043804168702, 10.582560024261475, 9.440228748321534, 9.014247779846192, 8.482091827392578, 8.003567943572998, 7.432519369125366, 7.155730819702148, 6.746190195083618, 6.142616205215454, 6.142941875457764, 5.743178958892822, 5.321213102340698, 5.176215934753418, 4.775535774230957, 4.601470146179199, 4.661863927841186, 4.357816190719604, 4.063107490539551, 3.9366776371002197, 3.8242201232910156, 3.982276134490967, 3.5431699085235597, 3.6115941429138183, 3.6431439113616944, 3.610076675415039, 3.685580883026123, 3.7001155853271483, 3.8652588748931884, 4.324375524520874, 4.284564528465271, 4.347878742218017, 3.902965383529663, 4.126591539382934, 3.909240999221802, 3.7352996635437012, 3.7414236068725586, 3.9067931318283082, 4.026785469055175, 3.6361935329437256, 3.5152342700958252, 3.3081491708755495, 3.631723232269287, 3.4103569412231445, 3.5419870948791505, 3.466613187789917, 3.7215825843811037, 3.487019019126892, 3.249955735206604, 3.114084506034851, 3.0858022928237916, 2.8493510723114013, 2.7015558958053587, 2.614822993278503, 2.4843905448913572, 2.6212459993362427, 2.6377088594436646, 2.6975906467437745, 2.7389305591583253, 2.8232978200912475, 2.72934965133667, 2.646454849243164, 2.613568410873413, 2.5136814594268797, 2.5978206110000612, 2.6254583644866942, 2.4057094049453736, 2.402720084190369, 2.639316430091858, 2.774964299201965, 2.754122519493103, 3.2175788402557375, 3.1085861253738405, 2.6763640642166138, 2.2616823387145994, 2.0419602537155153, 2.4161604404449464, 2.1771450996398927, 2.094261951446533, 2.2152916240692138, 2.179808506965637, 2.1776322078704835, 2.254474244117737, 2.177420110702515, 2.2640201902389525, 2.2587379169464112, 2.5137687158584594, 2.596677689552307, 2.317622127532959, 2.346512265205383, 2.4663615322113035, 2.5086402177810667, 2.367177896499634, 2.326920690536499, 2.210363359451294, 2.0326780819892885, 2.2230395793914797, 2.0994843864440917, 2.20056378364563, 2.0773591709136965, 2.0296157598495483, 2.0477620792388915, 1.9210728740692138, 2.054435524940491, 2.056104645729065, 1.9066025376319886, 1.843522915840149, 2.3062718963623046, 1.9144582271575927, 1.9594469785690307, 1.9459510326385498, 1.86377028465271, 1.6025599288940429, 1.7876520872116088, 1.6909418821334838, 1.731949632167816, 1.9265658235549927, 1.8606476402282714, 1.949471688270569, 2.1066246747970583, 1.7790155863761903, 1.7997071647644043, 1.7533905220031738, 1.7180848813056946, 1.7088996696472167, 1.6943549728393554, 1.6413279318809508, 1.6026857709884643, 1.6194091105461121, 1.508999652862549, 1.7580823016166687, 1.79651930809021, 1.622192885875702, 1.8660597777366639, 1.6159732365608215, 1.5839011216163634, 1.5803806018829345, 1.638033709526062, 1.522466902732849, 1.3889670062065125, 1.3900275135040283, 1.5603622269630433, 1.4473596334457397, 1.3786982536315917, 1.3422671103477477, 1.4118313479423523, 1.468309829235077, 1.4305617332458496, 1.619095242023468, 1.4900277757644653, 1.5921394944190979]\n"
     ]
    },
    {
     "name": "stderr",
     "output_type": "stream",
     "text": [
      "100%|██████████| 25/25 [00:12<00:00,  1.98it/s, loss=2.59]\n"
     ]
    },
    {
     "name": "stdout",
     "output_type": "stream",
     "text": [
      "Mean Loss Array: [109.72338996887207, 44.82798828125, 32.273617362976076, 26.064711532592774, 21.157442321777342, 19.115713691711427, 16.144016456604003, 14.384355735778808, 13.049383049011231, 12.153732318878173, 11.268043804168702, 10.582560024261475, 9.440228748321534, 9.014247779846192, 8.482091827392578, 8.003567943572998, 7.432519369125366, 7.155730819702148, 6.746190195083618, 6.142616205215454, 6.142941875457764, 5.743178958892822, 5.321213102340698, 5.176215934753418, 4.775535774230957, 4.601470146179199, 4.661863927841186, 4.357816190719604, 4.063107490539551, 3.9366776371002197, 3.8242201232910156, 3.982276134490967, 3.5431699085235597, 3.6115941429138183, 3.6431439113616944, 3.610076675415039, 3.685580883026123, 3.7001155853271483, 3.8652588748931884, 4.324375524520874, 4.284564528465271, 4.347878742218017, 3.902965383529663, 4.126591539382934, 3.909240999221802, 3.7352996635437012, 3.7414236068725586, 3.9067931318283082, 4.026785469055175, 3.6361935329437256, 3.5152342700958252, 3.3081491708755495, 3.631723232269287, 3.4103569412231445, 3.5419870948791505, 3.466613187789917, 3.7215825843811037, 3.487019019126892, 3.249955735206604, 3.114084506034851, 3.0858022928237916, 2.8493510723114013, 2.7015558958053587, 2.614822993278503, 2.4843905448913572, 2.6212459993362427, 2.6377088594436646, 2.6975906467437745, 2.7389305591583253, 2.8232978200912475, 2.72934965133667, 2.646454849243164, 2.613568410873413, 2.5136814594268797, 2.5978206110000612, 2.6254583644866942, 2.4057094049453736, 2.402720084190369, 2.639316430091858, 2.774964299201965, 2.754122519493103, 3.2175788402557375, 3.1085861253738405, 2.6763640642166138, 2.2616823387145994, 2.0419602537155153, 2.4161604404449464, 2.1771450996398927, 2.094261951446533, 2.2152916240692138, 2.179808506965637, 2.1776322078704835, 2.254474244117737, 2.177420110702515, 2.2640201902389525, 2.2587379169464112, 2.5137687158584594, 2.596677689552307, 2.317622127532959, 2.346512265205383, 2.4663615322113035, 2.5086402177810667, 2.367177896499634, 2.326920690536499, 2.210363359451294, 2.0326780819892885, 2.2230395793914797, 2.0994843864440917, 2.20056378364563, 2.0773591709136965, 2.0296157598495483, 2.0477620792388915, 1.9210728740692138, 2.054435524940491, 2.056104645729065, 1.9066025376319886, 1.843522915840149, 2.3062718963623046, 1.9144582271575927, 1.9594469785690307, 1.9459510326385498, 1.86377028465271, 1.6025599288940429, 1.7876520872116088, 1.6909418821334838, 1.731949632167816, 1.9265658235549927, 1.8606476402282714, 1.949471688270569, 2.1066246747970583, 1.7790155863761903, 1.7997071647644043, 1.7533905220031738, 1.7180848813056946, 1.7088996696472167, 1.6943549728393554, 1.6413279318809508, 1.6026857709884643, 1.6194091105461121, 1.508999652862549, 1.7580823016166687, 1.79651930809021, 1.622192885875702, 1.8660597777366639, 1.6159732365608215, 1.5839011216163634, 1.5803806018829345, 1.638033709526062, 1.522466902732849, 1.3889670062065125, 1.3900275135040283, 1.5603622269630433, 1.4473596334457397, 1.3786982536315917, 1.3422671103477477, 1.4118313479423523, 1.468309829235077, 1.4305617332458496, 1.619095242023468, 1.4900277757644653, 1.5921394944190979, 1.4331292986869812]\n"
     ]
    },
    {
     "name": "stderr",
     "output_type": "stream",
     "text": [
      "100%|██████████| 25/25 [00:11<00:00,  2.11it/s, loss=2.12]\n"
     ]
    },
    {
     "name": "stdout",
     "output_type": "stream",
     "text": [
      "Mean Loss Array: [109.72338996887207, 44.82798828125, 32.273617362976076, 26.064711532592774, 21.157442321777342, 19.115713691711427, 16.144016456604003, 14.384355735778808, 13.049383049011231, 12.153732318878173, 11.268043804168702, 10.582560024261475, 9.440228748321534, 9.014247779846192, 8.482091827392578, 8.003567943572998, 7.432519369125366, 7.155730819702148, 6.746190195083618, 6.142616205215454, 6.142941875457764, 5.743178958892822, 5.321213102340698, 5.176215934753418, 4.775535774230957, 4.601470146179199, 4.661863927841186, 4.357816190719604, 4.063107490539551, 3.9366776371002197, 3.8242201232910156, 3.982276134490967, 3.5431699085235597, 3.6115941429138183, 3.6431439113616944, 3.610076675415039, 3.685580883026123, 3.7001155853271483, 3.8652588748931884, 4.324375524520874, 4.284564528465271, 4.347878742218017, 3.902965383529663, 4.126591539382934, 3.909240999221802, 3.7352996635437012, 3.7414236068725586, 3.9067931318283082, 4.026785469055175, 3.6361935329437256, 3.5152342700958252, 3.3081491708755495, 3.631723232269287, 3.4103569412231445, 3.5419870948791505, 3.466613187789917, 3.7215825843811037, 3.487019019126892, 3.249955735206604, 3.114084506034851, 3.0858022928237916, 2.8493510723114013, 2.7015558958053587, 2.614822993278503, 2.4843905448913572, 2.6212459993362427, 2.6377088594436646, 2.6975906467437745, 2.7389305591583253, 2.8232978200912475, 2.72934965133667, 2.646454849243164, 2.613568410873413, 2.5136814594268797, 2.5978206110000612, 2.6254583644866942, 2.4057094049453736, 2.402720084190369, 2.639316430091858, 2.774964299201965, 2.754122519493103, 3.2175788402557375, 3.1085861253738405, 2.6763640642166138, 2.2616823387145994, 2.0419602537155153, 2.4161604404449464, 2.1771450996398927, 2.094261951446533, 2.2152916240692138, 2.179808506965637, 2.1776322078704835, 2.254474244117737, 2.177420110702515, 2.2640201902389525, 2.2587379169464112, 2.5137687158584594, 2.596677689552307, 2.317622127532959, 2.346512265205383, 2.4663615322113035, 2.5086402177810667, 2.367177896499634, 2.326920690536499, 2.210363359451294, 2.0326780819892885, 2.2230395793914797, 2.0994843864440917, 2.20056378364563, 2.0773591709136965, 2.0296157598495483, 2.0477620792388915, 1.9210728740692138, 2.054435524940491, 2.056104645729065, 1.9066025376319886, 1.843522915840149, 2.3062718963623046, 1.9144582271575927, 1.9594469785690307, 1.9459510326385498, 1.86377028465271, 1.6025599288940429, 1.7876520872116088, 1.6909418821334838, 1.731949632167816, 1.9265658235549927, 1.8606476402282714, 1.949471688270569, 2.1066246747970583, 1.7790155863761903, 1.7997071647644043, 1.7533905220031738, 1.7180848813056946, 1.7088996696472167, 1.6943549728393554, 1.6413279318809508, 1.6026857709884643, 1.6194091105461121, 1.508999652862549, 1.7580823016166687, 1.79651930809021, 1.622192885875702, 1.8660597777366639, 1.6159732365608215, 1.5839011216163634, 1.5803806018829345, 1.638033709526062, 1.522466902732849, 1.3889670062065125, 1.3900275135040283, 1.5603622269630433, 1.4473596334457397, 1.3786982536315917, 1.3422671103477477, 1.4118313479423523, 1.468309829235077, 1.4305617332458496, 1.619095242023468, 1.4900277757644653, 1.5921394944190979, 1.4331292986869812, 1.5656417226791381]\n"
     ]
    },
    {
     "name": "stderr",
     "output_type": "stream",
     "text": [
      "100%|██████████| 25/25 [00:11<00:00,  2.14it/s, loss=2.11]\n"
     ]
    },
    {
     "name": "stdout",
     "output_type": "stream",
     "text": [
      "Mean Loss Array: [109.72338996887207, 44.82798828125, 32.273617362976076, 26.064711532592774, 21.157442321777342, 19.115713691711427, 16.144016456604003, 14.384355735778808, 13.049383049011231, 12.153732318878173, 11.268043804168702, 10.582560024261475, 9.440228748321534, 9.014247779846192, 8.482091827392578, 8.003567943572998, 7.432519369125366, 7.155730819702148, 6.746190195083618, 6.142616205215454, 6.142941875457764, 5.743178958892822, 5.321213102340698, 5.176215934753418, 4.775535774230957, 4.601470146179199, 4.661863927841186, 4.357816190719604, 4.063107490539551, 3.9366776371002197, 3.8242201232910156, 3.982276134490967, 3.5431699085235597, 3.6115941429138183, 3.6431439113616944, 3.610076675415039, 3.685580883026123, 3.7001155853271483, 3.8652588748931884, 4.324375524520874, 4.284564528465271, 4.347878742218017, 3.902965383529663, 4.126591539382934, 3.909240999221802, 3.7352996635437012, 3.7414236068725586, 3.9067931318283082, 4.026785469055175, 3.6361935329437256, 3.5152342700958252, 3.3081491708755495, 3.631723232269287, 3.4103569412231445, 3.5419870948791505, 3.466613187789917, 3.7215825843811037, 3.487019019126892, 3.249955735206604, 3.114084506034851, 3.0858022928237916, 2.8493510723114013, 2.7015558958053587, 2.614822993278503, 2.4843905448913572, 2.6212459993362427, 2.6377088594436646, 2.6975906467437745, 2.7389305591583253, 2.8232978200912475, 2.72934965133667, 2.646454849243164, 2.613568410873413, 2.5136814594268797, 2.5978206110000612, 2.6254583644866942, 2.4057094049453736, 2.402720084190369, 2.639316430091858, 2.774964299201965, 2.754122519493103, 3.2175788402557375, 3.1085861253738405, 2.6763640642166138, 2.2616823387145994, 2.0419602537155153, 2.4161604404449464, 2.1771450996398927, 2.094261951446533, 2.2152916240692138, 2.179808506965637, 2.1776322078704835, 2.254474244117737, 2.177420110702515, 2.2640201902389525, 2.2587379169464112, 2.5137687158584594, 2.596677689552307, 2.317622127532959, 2.346512265205383, 2.4663615322113035, 2.5086402177810667, 2.367177896499634, 2.326920690536499, 2.210363359451294, 2.0326780819892885, 2.2230395793914797, 2.0994843864440917, 2.20056378364563, 2.0773591709136965, 2.0296157598495483, 2.0477620792388915, 1.9210728740692138, 2.054435524940491, 2.056104645729065, 1.9066025376319886, 1.843522915840149, 2.3062718963623046, 1.9144582271575927, 1.9594469785690307, 1.9459510326385498, 1.86377028465271, 1.6025599288940429, 1.7876520872116088, 1.6909418821334838, 1.731949632167816, 1.9265658235549927, 1.8606476402282714, 1.949471688270569, 2.1066246747970583, 1.7790155863761903, 1.7997071647644043, 1.7533905220031738, 1.7180848813056946, 1.7088996696472167, 1.6943549728393554, 1.6413279318809508, 1.6026857709884643, 1.6194091105461121, 1.508999652862549, 1.7580823016166687, 1.79651930809021, 1.622192885875702, 1.8660597777366639, 1.6159732365608215, 1.5839011216163634, 1.5803806018829345, 1.638033709526062, 1.522466902732849, 1.3889670062065125, 1.3900275135040283, 1.5603622269630433, 1.4473596334457397, 1.3786982536315917, 1.3422671103477477, 1.4118313479423523, 1.468309829235077, 1.4305617332458496, 1.619095242023468, 1.4900277757644653, 1.5921394944190979, 1.4331292986869812, 1.5656417226791381, 1.6025747489929199]\n"
     ]
    },
    {
     "name": "stderr",
     "output_type": "stream",
     "text": [
      "100%|██████████| 25/25 [00:10<00:00,  2.44it/s, loss=1.31]"
     ]
    },
    {
     "name": "stdout",
     "output_type": "stream",
     "text": [
      "Mean Loss Array: [109.72338996887207, 44.82798828125, 32.273617362976076, 26.064711532592774, 21.157442321777342, 19.115713691711427, 16.144016456604003, 14.384355735778808, 13.049383049011231, 12.153732318878173, 11.268043804168702, 10.582560024261475, 9.440228748321534, 9.014247779846192, 8.482091827392578, 8.003567943572998, 7.432519369125366, 7.155730819702148, 6.746190195083618, 6.142616205215454, 6.142941875457764, 5.743178958892822, 5.321213102340698, 5.176215934753418, 4.775535774230957, 4.601470146179199, 4.661863927841186, 4.357816190719604, 4.063107490539551, 3.9366776371002197, 3.8242201232910156, 3.982276134490967, 3.5431699085235597, 3.6115941429138183, 3.6431439113616944, 3.610076675415039, 3.685580883026123, 3.7001155853271483, 3.8652588748931884, 4.324375524520874, 4.284564528465271, 4.347878742218017, 3.902965383529663, 4.126591539382934, 3.909240999221802, 3.7352996635437012, 3.7414236068725586, 3.9067931318283082, 4.026785469055175, 3.6361935329437256, 3.5152342700958252, 3.3081491708755495, 3.631723232269287, 3.4103569412231445, 3.5419870948791505, 3.466613187789917, 3.7215825843811037, 3.487019019126892, 3.249955735206604, 3.114084506034851, 3.0858022928237916, 2.8493510723114013, 2.7015558958053587, 2.614822993278503, 2.4843905448913572, 2.6212459993362427, 2.6377088594436646, 2.6975906467437745, 2.7389305591583253, 2.8232978200912475, 2.72934965133667, 2.646454849243164, 2.613568410873413, 2.5136814594268797, 2.5978206110000612, 2.6254583644866942, 2.4057094049453736, 2.402720084190369, 2.639316430091858, 2.774964299201965, 2.754122519493103, 3.2175788402557375, 3.1085861253738405, 2.6763640642166138, 2.2616823387145994, 2.0419602537155153, 2.4161604404449464, 2.1771450996398927, 2.094261951446533, 2.2152916240692138, 2.179808506965637, 2.1776322078704835, 2.254474244117737, 2.177420110702515, 2.2640201902389525, 2.2587379169464112, 2.5137687158584594, 2.596677689552307, 2.317622127532959, 2.346512265205383, 2.4663615322113035, 2.5086402177810667, 2.367177896499634, 2.326920690536499, 2.210363359451294, 2.0326780819892885, 2.2230395793914797, 2.0994843864440917, 2.20056378364563, 2.0773591709136965, 2.0296157598495483, 2.0477620792388915, 1.9210728740692138, 2.054435524940491, 2.056104645729065, 1.9066025376319886, 1.843522915840149, 2.3062718963623046, 1.9144582271575927, 1.9594469785690307, 1.9459510326385498, 1.86377028465271, 1.6025599288940429, 1.7876520872116088, 1.6909418821334838, 1.731949632167816, 1.9265658235549927, 1.8606476402282714, 1.949471688270569, 2.1066246747970583, 1.7790155863761903, 1.7997071647644043, 1.7533905220031738, 1.7180848813056946, 1.7088996696472167, 1.6943549728393554, 1.6413279318809508, 1.6026857709884643, 1.6194091105461121, 1.508999652862549, 1.7580823016166687, 1.79651930809021, 1.622192885875702, 1.8660597777366639, 1.6159732365608215, 1.5839011216163634, 1.5803806018829345, 1.638033709526062, 1.522466902732849, 1.3889670062065125, 1.3900275135040283, 1.5603622269630433, 1.4473596334457397, 1.3786982536315917, 1.3422671103477477, 1.4118313479423523, 1.468309829235077, 1.4305617332458496, 1.619095242023468, 1.4900277757644653, 1.5921394944190979, 1.4331292986869812, 1.5656417226791381, 1.6025747489929199, 1.6115100765228272]\n"
     ]
    },
    {
     "name": "stderr",
     "output_type": "stream",
     "text": [
      "\n"
     ]
    },
    {
     "name": "stdout",
     "output_type": "stream",
     "text": [
      "epoch: 165 Test mAP: 0.018000558018684387 Train mAP: 0.9673581719398499\n",
      "Test mAP Array: [0.0, 0.0, 0.02127656154334545, 0.010204067453742027, 0.0051215216517448425, 0.014166646637022495, 0.03316193446516991, 0.003313692519441247, 0.026041634380817413, 0.0044200788252055645, 0.021867142990231514, 0.0007518788916058838, 0.008113626390695572, 0.013275040313601494, 0.010353523306548595, 0.002705624559894204, 0.044328223913908005, 0.013353311456739902, 0.012046190910041332, 0.015503612346947193, 0.00856652669608593, 0.012172631919384003, 0.046446543186903, 0.017765548080205917, 0.023400645703077316, 0.01204537134617567, 0.016965964809060097, 0.004761898890137672, 0.019243961200118065, 0.01944098062813282, 0.010200467891991138, 0.012091489508748055, 0.009374989196658134, 0.018000558018684387]\n",
      "Train mAP Array: [0.0, 0.0747547596693039, 0.5053293108940125, 0.7937700748443604, 0.9663692712783813, 0.9874552488327026, 0.9544763565063477, 0.9058959484100342, 0.7671000361442566, 0.7827416658401489, 0.8842312693595886, 0.8449891209602356, 0.8830795884132385, 0.9306423664093018, 0.8613497614860535, 0.8504751920700073, 0.8839361667633057, 0.9316099286079407, 0.9345404505729675, 0.8662539124488831, 0.8716952204704285, 0.9339544177055359, 0.8891709446907043, 0.9316245317459106, 0.8825041651725769, 0.9395813345909119, 0.8783979415893555, 0.9302313923835754, 0.9664768576622009, 0.9243113398551941, 0.9493480920791626, 0.9842320084571838, 0.96986985206604, 0.9673581719398499]\n",
      "=> Saving checkpoint\n"
     ]
    },
    {
     "name": "stderr",
     "output_type": "stream",
     "text": [
      "100%|██████████| 25/25 [00:10<00:00,  2.33it/s, loss=2.52]\n"
     ]
    },
    {
     "name": "stdout",
     "output_type": "stream",
     "text": [
      "Mean Loss Array: [109.72338996887207, 44.82798828125, 32.273617362976076, 26.064711532592774, 21.157442321777342, 19.115713691711427, 16.144016456604003, 14.384355735778808, 13.049383049011231, 12.153732318878173, 11.268043804168702, 10.582560024261475, 9.440228748321534, 9.014247779846192, 8.482091827392578, 8.003567943572998, 7.432519369125366, 7.155730819702148, 6.746190195083618, 6.142616205215454, 6.142941875457764, 5.743178958892822, 5.321213102340698, 5.176215934753418, 4.775535774230957, 4.601470146179199, 4.661863927841186, 4.357816190719604, 4.063107490539551, 3.9366776371002197, 3.8242201232910156, 3.982276134490967, 3.5431699085235597, 3.6115941429138183, 3.6431439113616944, 3.610076675415039, 3.685580883026123, 3.7001155853271483, 3.8652588748931884, 4.324375524520874, 4.284564528465271, 4.347878742218017, 3.902965383529663, 4.126591539382934, 3.909240999221802, 3.7352996635437012, 3.7414236068725586, 3.9067931318283082, 4.026785469055175, 3.6361935329437256, 3.5152342700958252, 3.3081491708755495, 3.631723232269287, 3.4103569412231445, 3.5419870948791505, 3.466613187789917, 3.7215825843811037, 3.487019019126892, 3.249955735206604, 3.114084506034851, 3.0858022928237916, 2.8493510723114013, 2.7015558958053587, 2.614822993278503, 2.4843905448913572, 2.6212459993362427, 2.6377088594436646, 2.6975906467437745, 2.7389305591583253, 2.8232978200912475, 2.72934965133667, 2.646454849243164, 2.613568410873413, 2.5136814594268797, 2.5978206110000612, 2.6254583644866942, 2.4057094049453736, 2.402720084190369, 2.639316430091858, 2.774964299201965, 2.754122519493103, 3.2175788402557375, 3.1085861253738405, 2.6763640642166138, 2.2616823387145994, 2.0419602537155153, 2.4161604404449464, 2.1771450996398927, 2.094261951446533, 2.2152916240692138, 2.179808506965637, 2.1776322078704835, 2.254474244117737, 2.177420110702515, 2.2640201902389525, 2.2587379169464112, 2.5137687158584594, 2.596677689552307, 2.317622127532959, 2.346512265205383, 2.4663615322113035, 2.5086402177810667, 2.367177896499634, 2.326920690536499, 2.210363359451294, 2.0326780819892885, 2.2230395793914797, 2.0994843864440917, 2.20056378364563, 2.0773591709136965, 2.0296157598495483, 2.0477620792388915, 1.9210728740692138, 2.054435524940491, 2.056104645729065, 1.9066025376319886, 1.843522915840149, 2.3062718963623046, 1.9144582271575927, 1.9594469785690307, 1.9459510326385498, 1.86377028465271, 1.6025599288940429, 1.7876520872116088, 1.6909418821334838, 1.731949632167816, 1.9265658235549927, 1.8606476402282714, 1.949471688270569, 2.1066246747970583, 1.7790155863761903, 1.7997071647644043, 1.7533905220031738, 1.7180848813056946, 1.7088996696472167, 1.6943549728393554, 1.6413279318809508, 1.6026857709884643, 1.6194091105461121, 1.508999652862549, 1.7580823016166687, 1.79651930809021, 1.622192885875702, 1.8660597777366639, 1.6159732365608215, 1.5839011216163634, 1.5803806018829345, 1.638033709526062, 1.522466902732849, 1.3889670062065125, 1.3900275135040283, 1.5603622269630433, 1.4473596334457397, 1.3786982536315917, 1.3422671103477477, 1.4118313479423523, 1.468309829235077, 1.4305617332458496, 1.619095242023468, 1.4900277757644653, 1.5921394944190979, 1.4331292986869812, 1.5656417226791381, 1.6025747489929199, 1.6115100765228272, 1.6171373176574706]\n"
     ]
    },
    {
     "name": "stderr",
     "output_type": "stream",
     "text": [
      "100%|██████████| 25/25 [00:12<00:00,  2.07it/s, loss=1.74]\n"
     ]
    },
    {
     "name": "stdout",
     "output_type": "stream",
     "text": [
      "Mean Loss Array: [109.72338996887207, 44.82798828125, 32.273617362976076, 26.064711532592774, 21.157442321777342, 19.115713691711427, 16.144016456604003, 14.384355735778808, 13.049383049011231, 12.153732318878173, 11.268043804168702, 10.582560024261475, 9.440228748321534, 9.014247779846192, 8.482091827392578, 8.003567943572998, 7.432519369125366, 7.155730819702148, 6.746190195083618, 6.142616205215454, 6.142941875457764, 5.743178958892822, 5.321213102340698, 5.176215934753418, 4.775535774230957, 4.601470146179199, 4.661863927841186, 4.357816190719604, 4.063107490539551, 3.9366776371002197, 3.8242201232910156, 3.982276134490967, 3.5431699085235597, 3.6115941429138183, 3.6431439113616944, 3.610076675415039, 3.685580883026123, 3.7001155853271483, 3.8652588748931884, 4.324375524520874, 4.284564528465271, 4.347878742218017, 3.902965383529663, 4.126591539382934, 3.909240999221802, 3.7352996635437012, 3.7414236068725586, 3.9067931318283082, 4.026785469055175, 3.6361935329437256, 3.5152342700958252, 3.3081491708755495, 3.631723232269287, 3.4103569412231445, 3.5419870948791505, 3.466613187789917, 3.7215825843811037, 3.487019019126892, 3.249955735206604, 3.114084506034851, 3.0858022928237916, 2.8493510723114013, 2.7015558958053587, 2.614822993278503, 2.4843905448913572, 2.6212459993362427, 2.6377088594436646, 2.6975906467437745, 2.7389305591583253, 2.8232978200912475, 2.72934965133667, 2.646454849243164, 2.613568410873413, 2.5136814594268797, 2.5978206110000612, 2.6254583644866942, 2.4057094049453736, 2.402720084190369, 2.639316430091858, 2.774964299201965, 2.754122519493103, 3.2175788402557375, 3.1085861253738405, 2.6763640642166138, 2.2616823387145994, 2.0419602537155153, 2.4161604404449464, 2.1771450996398927, 2.094261951446533, 2.2152916240692138, 2.179808506965637, 2.1776322078704835, 2.254474244117737, 2.177420110702515, 2.2640201902389525, 2.2587379169464112, 2.5137687158584594, 2.596677689552307, 2.317622127532959, 2.346512265205383, 2.4663615322113035, 2.5086402177810667, 2.367177896499634, 2.326920690536499, 2.210363359451294, 2.0326780819892885, 2.2230395793914797, 2.0994843864440917, 2.20056378364563, 2.0773591709136965, 2.0296157598495483, 2.0477620792388915, 1.9210728740692138, 2.054435524940491, 2.056104645729065, 1.9066025376319886, 1.843522915840149, 2.3062718963623046, 1.9144582271575927, 1.9594469785690307, 1.9459510326385498, 1.86377028465271, 1.6025599288940429, 1.7876520872116088, 1.6909418821334838, 1.731949632167816, 1.9265658235549927, 1.8606476402282714, 1.949471688270569, 2.1066246747970583, 1.7790155863761903, 1.7997071647644043, 1.7533905220031738, 1.7180848813056946, 1.7088996696472167, 1.6943549728393554, 1.6413279318809508, 1.6026857709884643, 1.6194091105461121, 1.508999652862549, 1.7580823016166687, 1.79651930809021, 1.622192885875702, 1.8660597777366639, 1.6159732365608215, 1.5839011216163634, 1.5803806018829345, 1.638033709526062, 1.522466902732849, 1.3889670062065125, 1.3900275135040283, 1.5603622269630433, 1.4473596334457397, 1.3786982536315917, 1.3422671103477477, 1.4118313479423523, 1.468309829235077, 1.4305617332458496, 1.619095242023468, 1.4900277757644653, 1.5921394944190979, 1.4331292986869812, 1.5656417226791381, 1.6025747489929199, 1.6115100765228272, 1.6171373176574706, 1.4974716997146607]\n"
     ]
    },
    {
     "name": "stderr",
     "output_type": "stream",
     "text": [
      "100%|██████████| 25/25 [00:12<00:00,  2.08it/s, loss=2.02]\n"
     ]
    },
    {
     "name": "stdout",
     "output_type": "stream",
     "text": [
      "Mean Loss Array: [109.72338996887207, 44.82798828125, 32.273617362976076, 26.064711532592774, 21.157442321777342, 19.115713691711427, 16.144016456604003, 14.384355735778808, 13.049383049011231, 12.153732318878173, 11.268043804168702, 10.582560024261475, 9.440228748321534, 9.014247779846192, 8.482091827392578, 8.003567943572998, 7.432519369125366, 7.155730819702148, 6.746190195083618, 6.142616205215454, 6.142941875457764, 5.743178958892822, 5.321213102340698, 5.176215934753418, 4.775535774230957, 4.601470146179199, 4.661863927841186, 4.357816190719604, 4.063107490539551, 3.9366776371002197, 3.8242201232910156, 3.982276134490967, 3.5431699085235597, 3.6115941429138183, 3.6431439113616944, 3.610076675415039, 3.685580883026123, 3.7001155853271483, 3.8652588748931884, 4.324375524520874, 4.284564528465271, 4.347878742218017, 3.902965383529663, 4.126591539382934, 3.909240999221802, 3.7352996635437012, 3.7414236068725586, 3.9067931318283082, 4.026785469055175, 3.6361935329437256, 3.5152342700958252, 3.3081491708755495, 3.631723232269287, 3.4103569412231445, 3.5419870948791505, 3.466613187789917, 3.7215825843811037, 3.487019019126892, 3.249955735206604, 3.114084506034851, 3.0858022928237916, 2.8493510723114013, 2.7015558958053587, 2.614822993278503, 2.4843905448913572, 2.6212459993362427, 2.6377088594436646, 2.6975906467437745, 2.7389305591583253, 2.8232978200912475, 2.72934965133667, 2.646454849243164, 2.613568410873413, 2.5136814594268797, 2.5978206110000612, 2.6254583644866942, 2.4057094049453736, 2.402720084190369, 2.639316430091858, 2.774964299201965, 2.754122519493103, 3.2175788402557375, 3.1085861253738405, 2.6763640642166138, 2.2616823387145994, 2.0419602537155153, 2.4161604404449464, 2.1771450996398927, 2.094261951446533, 2.2152916240692138, 2.179808506965637, 2.1776322078704835, 2.254474244117737, 2.177420110702515, 2.2640201902389525, 2.2587379169464112, 2.5137687158584594, 2.596677689552307, 2.317622127532959, 2.346512265205383, 2.4663615322113035, 2.5086402177810667, 2.367177896499634, 2.326920690536499, 2.210363359451294, 2.0326780819892885, 2.2230395793914797, 2.0994843864440917, 2.20056378364563, 2.0773591709136965, 2.0296157598495483, 2.0477620792388915, 1.9210728740692138, 2.054435524940491, 2.056104645729065, 1.9066025376319886, 1.843522915840149, 2.3062718963623046, 1.9144582271575927, 1.9594469785690307, 1.9459510326385498, 1.86377028465271, 1.6025599288940429, 1.7876520872116088, 1.6909418821334838, 1.731949632167816, 1.9265658235549927, 1.8606476402282714, 1.949471688270569, 2.1066246747970583, 1.7790155863761903, 1.7997071647644043, 1.7533905220031738, 1.7180848813056946, 1.7088996696472167, 1.6943549728393554, 1.6413279318809508, 1.6026857709884643, 1.6194091105461121, 1.508999652862549, 1.7580823016166687, 1.79651930809021, 1.622192885875702, 1.8660597777366639, 1.6159732365608215, 1.5839011216163634, 1.5803806018829345, 1.638033709526062, 1.522466902732849, 1.3889670062065125, 1.3900275135040283, 1.5603622269630433, 1.4473596334457397, 1.3786982536315917, 1.3422671103477477, 1.4118313479423523, 1.468309829235077, 1.4305617332458496, 1.619095242023468, 1.4900277757644653, 1.5921394944190979, 1.4331292986869812, 1.5656417226791381, 1.6025747489929199, 1.6115100765228272, 1.6171373176574706, 1.4974716997146607, 1.6448046803474425]\n"
     ]
    },
    {
     "name": "stderr",
     "output_type": "stream",
     "text": [
      "100%|██████████| 25/25 [00:12<00:00,  2.08it/s, loss=1.24]\n"
     ]
    },
    {
     "name": "stdout",
     "output_type": "stream",
     "text": [
      "Mean Loss Array: [109.72338996887207, 44.82798828125, 32.273617362976076, 26.064711532592774, 21.157442321777342, 19.115713691711427, 16.144016456604003, 14.384355735778808, 13.049383049011231, 12.153732318878173, 11.268043804168702, 10.582560024261475, 9.440228748321534, 9.014247779846192, 8.482091827392578, 8.003567943572998, 7.432519369125366, 7.155730819702148, 6.746190195083618, 6.142616205215454, 6.142941875457764, 5.743178958892822, 5.321213102340698, 5.176215934753418, 4.775535774230957, 4.601470146179199, 4.661863927841186, 4.357816190719604, 4.063107490539551, 3.9366776371002197, 3.8242201232910156, 3.982276134490967, 3.5431699085235597, 3.6115941429138183, 3.6431439113616944, 3.610076675415039, 3.685580883026123, 3.7001155853271483, 3.8652588748931884, 4.324375524520874, 4.284564528465271, 4.347878742218017, 3.902965383529663, 4.126591539382934, 3.909240999221802, 3.7352996635437012, 3.7414236068725586, 3.9067931318283082, 4.026785469055175, 3.6361935329437256, 3.5152342700958252, 3.3081491708755495, 3.631723232269287, 3.4103569412231445, 3.5419870948791505, 3.466613187789917, 3.7215825843811037, 3.487019019126892, 3.249955735206604, 3.114084506034851, 3.0858022928237916, 2.8493510723114013, 2.7015558958053587, 2.614822993278503, 2.4843905448913572, 2.6212459993362427, 2.6377088594436646, 2.6975906467437745, 2.7389305591583253, 2.8232978200912475, 2.72934965133667, 2.646454849243164, 2.613568410873413, 2.5136814594268797, 2.5978206110000612, 2.6254583644866942, 2.4057094049453736, 2.402720084190369, 2.639316430091858, 2.774964299201965, 2.754122519493103, 3.2175788402557375, 3.1085861253738405, 2.6763640642166138, 2.2616823387145994, 2.0419602537155153, 2.4161604404449464, 2.1771450996398927, 2.094261951446533, 2.2152916240692138, 2.179808506965637, 2.1776322078704835, 2.254474244117737, 2.177420110702515, 2.2640201902389525, 2.2587379169464112, 2.5137687158584594, 2.596677689552307, 2.317622127532959, 2.346512265205383, 2.4663615322113035, 2.5086402177810667, 2.367177896499634, 2.326920690536499, 2.210363359451294, 2.0326780819892885, 2.2230395793914797, 2.0994843864440917, 2.20056378364563, 2.0773591709136965, 2.0296157598495483, 2.0477620792388915, 1.9210728740692138, 2.054435524940491, 2.056104645729065, 1.9066025376319886, 1.843522915840149, 2.3062718963623046, 1.9144582271575927, 1.9594469785690307, 1.9459510326385498, 1.86377028465271, 1.6025599288940429, 1.7876520872116088, 1.6909418821334838, 1.731949632167816, 1.9265658235549927, 1.8606476402282714, 1.949471688270569, 2.1066246747970583, 1.7790155863761903, 1.7997071647644043, 1.7533905220031738, 1.7180848813056946, 1.7088996696472167, 1.6943549728393554, 1.6413279318809508, 1.6026857709884643, 1.6194091105461121, 1.508999652862549, 1.7580823016166687, 1.79651930809021, 1.622192885875702, 1.8660597777366639, 1.6159732365608215, 1.5839011216163634, 1.5803806018829345, 1.638033709526062, 1.522466902732849, 1.3889670062065125, 1.3900275135040283, 1.5603622269630433, 1.4473596334457397, 1.3786982536315917, 1.3422671103477477, 1.4118313479423523, 1.468309829235077, 1.4305617332458496, 1.619095242023468, 1.4900277757644653, 1.5921394944190979, 1.4331292986869812, 1.5656417226791381, 1.6025747489929199, 1.6115100765228272, 1.6171373176574706, 1.4974716997146607, 1.6448046803474425, 1.6357415652275085]\n"
     ]
    },
    {
     "name": "stderr",
     "output_type": "stream",
     "text": [
      "100%|██████████| 25/25 [00:11<00:00,  2.14it/s, loss=1.01]"
     ]
    },
    {
     "name": "stdout",
     "output_type": "stream",
     "text": [
      "Mean Loss Array: [109.72338996887207, 44.82798828125, 32.273617362976076, 26.064711532592774, 21.157442321777342, 19.115713691711427, 16.144016456604003, 14.384355735778808, 13.049383049011231, 12.153732318878173, 11.268043804168702, 10.582560024261475, 9.440228748321534, 9.014247779846192, 8.482091827392578, 8.003567943572998, 7.432519369125366, 7.155730819702148, 6.746190195083618, 6.142616205215454, 6.142941875457764, 5.743178958892822, 5.321213102340698, 5.176215934753418, 4.775535774230957, 4.601470146179199, 4.661863927841186, 4.357816190719604, 4.063107490539551, 3.9366776371002197, 3.8242201232910156, 3.982276134490967, 3.5431699085235597, 3.6115941429138183, 3.6431439113616944, 3.610076675415039, 3.685580883026123, 3.7001155853271483, 3.8652588748931884, 4.324375524520874, 4.284564528465271, 4.347878742218017, 3.902965383529663, 4.126591539382934, 3.909240999221802, 3.7352996635437012, 3.7414236068725586, 3.9067931318283082, 4.026785469055175, 3.6361935329437256, 3.5152342700958252, 3.3081491708755495, 3.631723232269287, 3.4103569412231445, 3.5419870948791505, 3.466613187789917, 3.7215825843811037, 3.487019019126892, 3.249955735206604, 3.114084506034851, 3.0858022928237916, 2.8493510723114013, 2.7015558958053587, 2.614822993278503, 2.4843905448913572, 2.6212459993362427, 2.6377088594436646, 2.6975906467437745, 2.7389305591583253, 2.8232978200912475, 2.72934965133667, 2.646454849243164, 2.613568410873413, 2.5136814594268797, 2.5978206110000612, 2.6254583644866942, 2.4057094049453736, 2.402720084190369, 2.639316430091858, 2.774964299201965, 2.754122519493103, 3.2175788402557375, 3.1085861253738405, 2.6763640642166138, 2.2616823387145994, 2.0419602537155153, 2.4161604404449464, 2.1771450996398927, 2.094261951446533, 2.2152916240692138, 2.179808506965637, 2.1776322078704835, 2.254474244117737, 2.177420110702515, 2.2640201902389525, 2.2587379169464112, 2.5137687158584594, 2.596677689552307, 2.317622127532959, 2.346512265205383, 2.4663615322113035, 2.5086402177810667, 2.367177896499634, 2.326920690536499, 2.210363359451294, 2.0326780819892885, 2.2230395793914797, 2.0994843864440917, 2.20056378364563, 2.0773591709136965, 2.0296157598495483, 2.0477620792388915, 1.9210728740692138, 2.054435524940491, 2.056104645729065, 1.9066025376319886, 1.843522915840149, 2.3062718963623046, 1.9144582271575927, 1.9594469785690307, 1.9459510326385498, 1.86377028465271, 1.6025599288940429, 1.7876520872116088, 1.6909418821334838, 1.731949632167816, 1.9265658235549927, 1.8606476402282714, 1.949471688270569, 2.1066246747970583, 1.7790155863761903, 1.7997071647644043, 1.7533905220031738, 1.7180848813056946, 1.7088996696472167, 1.6943549728393554, 1.6413279318809508, 1.6026857709884643, 1.6194091105461121, 1.508999652862549, 1.7580823016166687, 1.79651930809021, 1.622192885875702, 1.8660597777366639, 1.6159732365608215, 1.5839011216163634, 1.5803806018829345, 1.638033709526062, 1.522466902732849, 1.3889670062065125, 1.3900275135040283, 1.5603622269630433, 1.4473596334457397, 1.3786982536315917, 1.3422671103477477, 1.4118313479423523, 1.468309829235077, 1.4305617332458496, 1.619095242023468, 1.4900277757644653, 1.5921394944190979, 1.4331292986869812, 1.5656417226791381, 1.6025747489929199, 1.6115100765228272, 1.6171373176574706, 1.4974716997146607, 1.6448046803474425, 1.6357415652275085, 1.4990618562698363]\n"
     ]
    },
    {
     "name": "stderr",
     "output_type": "stream",
     "text": [
      "\n"
     ]
    },
    {
     "name": "stdout",
     "output_type": "stream",
     "text": [
      "epoch: 170 Test mAP: 0.01932452619075775 Train mAP: 0.9706774950027466\n",
      "Test mAP Array: [0.0, 0.0, 0.02127656154334545, 0.010204067453742027, 0.0051215216517448425, 0.014166646637022495, 0.03316193446516991, 0.003313692519441247, 0.026041634380817413, 0.0044200788252055645, 0.021867142990231514, 0.0007518788916058838, 0.008113626390695572, 0.013275040313601494, 0.010353523306548595, 0.002705624559894204, 0.044328223913908005, 0.013353311456739902, 0.012046190910041332, 0.015503612346947193, 0.00856652669608593, 0.012172631919384003, 0.046446543186903, 0.017765548080205917, 0.023400645703077316, 0.01204537134617567, 0.016965964809060097, 0.004761898890137672, 0.019243961200118065, 0.01944098062813282, 0.010200467891991138, 0.012091489508748055, 0.009374989196658134, 0.018000558018684387, 0.01932452619075775]\n",
      "Train mAP Array: [0.0, 0.0747547596693039, 0.5053293108940125, 0.7937700748443604, 0.9663692712783813, 0.9874552488327026, 0.9544763565063477, 0.9058959484100342, 0.7671000361442566, 0.7827416658401489, 0.8842312693595886, 0.8449891209602356, 0.8830795884132385, 0.9306423664093018, 0.8613497614860535, 0.8504751920700073, 0.8839361667633057, 0.9316099286079407, 0.9345404505729675, 0.8662539124488831, 0.8716952204704285, 0.9339544177055359, 0.8891709446907043, 0.9316245317459106, 0.8825041651725769, 0.9395813345909119, 0.8783979415893555, 0.9302313923835754, 0.9664768576622009, 0.9243113398551941, 0.9493480920791626, 0.9842320084571838, 0.96986985206604, 0.9673581719398499, 0.9706774950027466]\n",
      "=> Saving checkpoint\n"
     ]
    },
    {
     "name": "stderr",
     "output_type": "stream",
     "text": [
      "100%|██████████| 25/25 [00:12<00:00,  2.06it/s, loss=1.72]\n"
     ]
    },
    {
     "name": "stdout",
     "output_type": "stream",
     "text": [
      "Mean Loss Array: [109.72338996887207, 44.82798828125, 32.273617362976076, 26.064711532592774, 21.157442321777342, 19.115713691711427, 16.144016456604003, 14.384355735778808, 13.049383049011231, 12.153732318878173, 11.268043804168702, 10.582560024261475, 9.440228748321534, 9.014247779846192, 8.482091827392578, 8.003567943572998, 7.432519369125366, 7.155730819702148, 6.746190195083618, 6.142616205215454, 6.142941875457764, 5.743178958892822, 5.321213102340698, 5.176215934753418, 4.775535774230957, 4.601470146179199, 4.661863927841186, 4.357816190719604, 4.063107490539551, 3.9366776371002197, 3.8242201232910156, 3.982276134490967, 3.5431699085235597, 3.6115941429138183, 3.6431439113616944, 3.610076675415039, 3.685580883026123, 3.7001155853271483, 3.8652588748931884, 4.324375524520874, 4.284564528465271, 4.347878742218017, 3.902965383529663, 4.126591539382934, 3.909240999221802, 3.7352996635437012, 3.7414236068725586, 3.9067931318283082, 4.026785469055175, 3.6361935329437256, 3.5152342700958252, 3.3081491708755495, 3.631723232269287, 3.4103569412231445, 3.5419870948791505, 3.466613187789917, 3.7215825843811037, 3.487019019126892, 3.249955735206604, 3.114084506034851, 3.0858022928237916, 2.8493510723114013, 2.7015558958053587, 2.614822993278503, 2.4843905448913572, 2.6212459993362427, 2.6377088594436646, 2.6975906467437745, 2.7389305591583253, 2.8232978200912475, 2.72934965133667, 2.646454849243164, 2.613568410873413, 2.5136814594268797, 2.5978206110000612, 2.6254583644866942, 2.4057094049453736, 2.402720084190369, 2.639316430091858, 2.774964299201965, 2.754122519493103, 3.2175788402557375, 3.1085861253738405, 2.6763640642166138, 2.2616823387145994, 2.0419602537155153, 2.4161604404449464, 2.1771450996398927, 2.094261951446533, 2.2152916240692138, 2.179808506965637, 2.1776322078704835, 2.254474244117737, 2.177420110702515, 2.2640201902389525, 2.2587379169464112, 2.5137687158584594, 2.596677689552307, 2.317622127532959, 2.346512265205383, 2.4663615322113035, 2.5086402177810667, 2.367177896499634, 2.326920690536499, 2.210363359451294, 2.0326780819892885, 2.2230395793914797, 2.0994843864440917, 2.20056378364563, 2.0773591709136965, 2.0296157598495483, 2.0477620792388915, 1.9210728740692138, 2.054435524940491, 2.056104645729065, 1.9066025376319886, 1.843522915840149, 2.3062718963623046, 1.9144582271575927, 1.9594469785690307, 1.9459510326385498, 1.86377028465271, 1.6025599288940429, 1.7876520872116088, 1.6909418821334838, 1.731949632167816, 1.9265658235549927, 1.8606476402282714, 1.949471688270569, 2.1066246747970583, 1.7790155863761903, 1.7997071647644043, 1.7533905220031738, 1.7180848813056946, 1.7088996696472167, 1.6943549728393554, 1.6413279318809508, 1.6026857709884643, 1.6194091105461121, 1.508999652862549, 1.7580823016166687, 1.79651930809021, 1.622192885875702, 1.8660597777366639, 1.6159732365608215, 1.5839011216163634, 1.5803806018829345, 1.638033709526062, 1.522466902732849, 1.3889670062065125, 1.3900275135040283, 1.5603622269630433, 1.4473596334457397, 1.3786982536315917, 1.3422671103477477, 1.4118313479423523, 1.468309829235077, 1.4305617332458496, 1.619095242023468, 1.4900277757644653, 1.5921394944190979, 1.4331292986869812, 1.5656417226791381, 1.6025747489929199, 1.6115100765228272, 1.6171373176574706, 1.4974716997146607, 1.6448046803474425, 1.6357415652275085, 1.4990618562698363, 1.2858665800094604]\n"
     ]
    },
    {
     "name": "stderr",
     "output_type": "stream",
     "text": [
      "100%|██████████| 25/25 [00:12<00:00,  2.03it/s, loss=1.25]\n"
     ]
    },
    {
     "name": "stdout",
     "output_type": "stream",
     "text": [
      "Mean Loss Array: [109.72338996887207, 44.82798828125, 32.273617362976076, 26.064711532592774, 21.157442321777342, 19.115713691711427, 16.144016456604003, 14.384355735778808, 13.049383049011231, 12.153732318878173, 11.268043804168702, 10.582560024261475, 9.440228748321534, 9.014247779846192, 8.482091827392578, 8.003567943572998, 7.432519369125366, 7.155730819702148, 6.746190195083618, 6.142616205215454, 6.142941875457764, 5.743178958892822, 5.321213102340698, 5.176215934753418, 4.775535774230957, 4.601470146179199, 4.661863927841186, 4.357816190719604, 4.063107490539551, 3.9366776371002197, 3.8242201232910156, 3.982276134490967, 3.5431699085235597, 3.6115941429138183, 3.6431439113616944, 3.610076675415039, 3.685580883026123, 3.7001155853271483, 3.8652588748931884, 4.324375524520874, 4.284564528465271, 4.347878742218017, 3.902965383529663, 4.126591539382934, 3.909240999221802, 3.7352996635437012, 3.7414236068725586, 3.9067931318283082, 4.026785469055175, 3.6361935329437256, 3.5152342700958252, 3.3081491708755495, 3.631723232269287, 3.4103569412231445, 3.5419870948791505, 3.466613187789917, 3.7215825843811037, 3.487019019126892, 3.249955735206604, 3.114084506034851, 3.0858022928237916, 2.8493510723114013, 2.7015558958053587, 2.614822993278503, 2.4843905448913572, 2.6212459993362427, 2.6377088594436646, 2.6975906467437745, 2.7389305591583253, 2.8232978200912475, 2.72934965133667, 2.646454849243164, 2.613568410873413, 2.5136814594268797, 2.5978206110000612, 2.6254583644866942, 2.4057094049453736, 2.402720084190369, 2.639316430091858, 2.774964299201965, 2.754122519493103, 3.2175788402557375, 3.1085861253738405, 2.6763640642166138, 2.2616823387145994, 2.0419602537155153, 2.4161604404449464, 2.1771450996398927, 2.094261951446533, 2.2152916240692138, 2.179808506965637, 2.1776322078704835, 2.254474244117737, 2.177420110702515, 2.2640201902389525, 2.2587379169464112, 2.5137687158584594, 2.596677689552307, 2.317622127532959, 2.346512265205383, 2.4663615322113035, 2.5086402177810667, 2.367177896499634, 2.326920690536499, 2.210363359451294, 2.0326780819892885, 2.2230395793914797, 2.0994843864440917, 2.20056378364563, 2.0773591709136965, 2.0296157598495483, 2.0477620792388915, 1.9210728740692138, 2.054435524940491, 2.056104645729065, 1.9066025376319886, 1.843522915840149, 2.3062718963623046, 1.9144582271575927, 1.9594469785690307, 1.9459510326385498, 1.86377028465271, 1.6025599288940429, 1.7876520872116088, 1.6909418821334838, 1.731949632167816, 1.9265658235549927, 1.8606476402282714, 1.949471688270569, 2.1066246747970583, 1.7790155863761903, 1.7997071647644043, 1.7533905220031738, 1.7180848813056946, 1.7088996696472167, 1.6943549728393554, 1.6413279318809508, 1.6026857709884643, 1.6194091105461121, 1.508999652862549, 1.7580823016166687, 1.79651930809021, 1.622192885875702, 1.8660597777366639, 1.6159732365608215, 1.5839011216163634, 1.5803806018829345, 1.638033709526062, 1.522466902732849, 1.3889670062065125, 1.3900275135040283, 1.5603622269630433, 1.4473596334457397, 1.3786982536315917, 1.3422671103477477, 1.4118313479423523, 1.468309829235077, 1.4305617332458496, 1.619095242023468, 1.4900277757644653, 1.5921394944190979, 1.4331292986869812, 1.5656417226791381, 1.6025747489929199, 1.6115100765228272, 1.6171373176574706, 1.4974716997146607, 1.6448046803474425, 1.6357415652275085, 1.4990618562698363, 1.2858665800094604, 1.4362549257278443]\n"
     ]
    },
    {
     "name": "stderr",
     "output_type": "stream",
     "text": [
      "100%|██████████| 25/25 [00:10<00:00,  2.33it/s, loss=1.39]\n"
     ]
    },
    {
     "name": "stdout",
     "output_type": "stream",
     "text": [
      "Mean Loss Array: [109.72338996887207, 44.82798828125, 32.273617362976076, 26.064711532592774, 21.157442321777342, 19.115713691711427, 16.144016456604003, 14.384355735778808, 13.049383049011231, 12.153732318878173, 11.268043804168702, 10.582560024261475, 9.440228748321534, 9.014247779846192, 8.482091827392578, 8.003567943572998, 7.432519369125366, 7.155730819702148, 6.746190195083618, 6.142616205215454, 6.142941875457764, 5.743178958892822, 5.321213102340698, 5.176215934753418, 4.775535774230957, 4.601470146179199, 4.661863927841186, 4.357816190719604, 4.063107490539551, 3.9366776371002197, 3.8242201232910156, 3.982276134490967, 3.5431699085235597, 3.6115941429138183, 3.6431439113616944, 3.610076675415039, 3.685580883026123, 3.7001155853271483, 3.8652588748931884, 4.324375524520874, 4.284564528465271, 4.347878742218017, 3.902965383529663, 4.126591539382934, 3.909240999221802, 3.7352996635437012, 3.7414236068725586, 3.9067931318283082, 4.026785469055175, 3.6361935329437256, 3.5152342700958252, 3.3081491708755495, 3.631723232269287, 3.4103569412231445, 3.5419870948791505, 3.466613187789917, 3.7215825843811037, 3.487019019126892, 3.249955735206604, 3.114084506034851, 3.0858022928237916, 2.8493510723114013, 2.7015558958053587, 2.614822993278503, 2.4843905448913572, 2.6212459993362427, 2.6377088594436646, 2.6975906467437745, 2.7389305591583253, 2.8232978200912475, 2.72934965133667, 2.646454849243164, 2.613568410873413, 2.5136814594268797, 2.5978206110000612, 2.6254583644866942, 2.4057094049453736, 2.402720084190369, 2.639316430091858, 2.774964299201965, 2.754122519493103, 3.2175788402557375, 3.1085861253738405, 2.6763640642166138, 2.2616823387145994, 2.0419602537155153, 2.4161604404449464, 2.1771450996398927, 2.094261951446533, 2.2152916240692138, 2.179808506965637, 2.1776322078704835, 2.254474244117737, 2.177420110702515, 2.2640201902389525, 2.2587379169464112, 2.5137687158584594, 2.596677689552307, 2.317622127532959, 2.346512265205383, 2.4663615322113035, 2.5086402177810667, 2.367177896499634, 2.326920690536499, 2.210363359451294, 2.0326780819892885, 2.2230395793914797, 2.0994843864440917, 2.20056378364563, 2.0773591709136965, 2.0296157598495483, 2.0477620792388915, 1.9210728740692138, 2.054435524940491, 2.056104645729065, 1.9066025376319886, 1.843522915840149, 2.3062718963623046, 1.9144582271575927, 1.9594469785690307, 1.9459510326385498, 1.86377028465271, 1.6025599288940429, 1.7876520872116088, 1.6909418821334838, 1.731949632167816, 1.9265658235549927, 1.8606476402282714, 1.949471688270569, 2.1066246747970583, 1.7790155863761903, 1.7997071647644043, 1.7533905220031738, 1.7180848813056946, 1.7088996696472167, 1.6943549728393554, 1.6413279318809508, 1.6026857709884643, 1.6194091105461121, 1.508999652862549, 1.7580823016166687, 1.79651930809021, 1.622192885875702, 1.8660597777366639, 1.6159732365608215, 1.5839011216163634, 1.5803806018829345, 1.638033709526062, 1.522466902732849, 1.3889670062065125, 1.3900275135040283, 1.5603622269630433, 1.4473596334457397, 1.3786982536315917, 1.3422671103477477, 1.4118313479423523, 1.468309829235077, 1.4305617332458496, 1.619095242023468, 1.4900277757644653, 1.5921394944190979, 1.4331292986869812, 1.5656417226791381, 1.6025747489929199, 1.6115100765228272, 1.6171373176574706, 1.4974716997146607, 1.6448046803474425, 1.6357415652275085, 1.4990618562698363, 1.2858665800094604, 1.4362549257278443, 1.3839680123329163]\n"
     ]
    },
    {
     "name": "stderr",
     "output_type": "stream",
     "text": [
      "100%|██████████| 25/25 [00:12<00:00,  1.99it/s, loss=2.26]\n"
     ]
    },
    {
     "name": "stdout",
     "output_type": "stream",
     "text": [
      "Mean Loss Array: [109.72338996887207, 44.82798828125, 32.273617362976076, 26.064711532592774, 21.157442321777342, 19.115713691711427, 16.144016456604003, 14.384355735778808, 13.049383049011231, 12.153732318878173, 11.268043804168702, 10.582560024261475, 9.440228748321534, 9.014247779846192, 8.482091827392578, 8.003567943572998, 7.432519369125366, 7.155730819702148, 6.746190195083618, 6.142616205215454, 6.142941875457764, 5.743178958892822, 5.321213102340698, 5.176215934753418, 4.775535774230957, 4.601470146179199, 4.661863927841186, 4.357816190719604, 4.063107490539551, 3.9366776371002197, 3.8242201232910156, 3.982276134490967, 3.5431699085235597, 3.6115941429138183, 3.6431439113616944, 3.610076675415039, 3.685580883026123, 3.7001155853271483, 3.8652588748931884, 4.324375524520874, 4.284564528465271, 4.347878742218017, 3.902965383529663, 4.126591539382934, 3.909240999221802, 3.7352996635437012, 3.7414236068725586, 3.9067931318283082, 4.026785469055175, 3.6361935329437256, 3.5152342700958252, 3.3081491708755495, 3.631723232269287, 3.4103569412231445, 3.5419870948791505, 3.466613187789917, 3.7215825843811037, 3.487019019126892, 3.249955735206604, 3.114084506034851, 3.0858022928237916, 2.8493510723114013, 2.7015558958053587, 2.614822993278503, 2.4843905448913572, 2.6212459993362427, 2.6377088594436646, 2.6975906467437745, 2.7389305591583253, 2.8232978200912475, 2.72934965133667, 2.646454849243164, 2.613568410873413, 2.5136814594268797, 2.5978206110000612, 2.6254583644866942, 2.4057094049453736, 2.402720084190369, 2.639316430091858, 2.774964299201965, 2.754122519493103, 3.2175788402557375, 3.1085861253738405, 2.6763640642166138, 2.2616823387145994, 2.0419602537155153, 2.4161604404449464, 2.1771450996398927, 2.094261951446533, 2.2152916240692138, 2.179808506965637, 2.1776322078704835, 2.254474244117737, 2.177420110702515, 2.2640201902389525, 2.2587379169464112, 2.5137687158584594, 2.596677689552307, 2.317622127532959, 2.346512265205383, 2.4663615322113035, 2.5086402177810667, 2.367177896499634, 2.326920690536499, 2.210363359451294, 2.0326780819892885, 2.2230395793914797, 2.0994843864440917, 2.20056378364563, 2.0773591709136965, 2.0296157598495483, 2.0477620792388915, 1.9210728740692138, 2.054435524940491, 2.056104645729065, 1.9066025376319886, 1.843522915840149, 2.3062718963623046, 1.9144582271575927, 1.9594469785690307, 1.9459510326385498, 1.86377028465271, 1.6025599288940429, 1.7876520872116088, 1.6909418821334838, 1.731949632167816, 1.9265658235549927, 1.8606476402282714, 1.949471688270569, 2.1066246747970583, 1.7790155863761903, 1.7997071647644043, 1.7533905220031738, 1.7180848813056946, 1.7088996696472167, 1.6943549728393554, 1.6413279318809508, 1.6026857709884643, 1.6194091105461121, 1.508999652862549, 1.7580823016166687, 1.79651930809021, 1.622192885875702, 1.8660597777366639, 1.6159732365608215, 1.5839011216163634, 1.5803806018829345, 1.638033709526062, 1.522466902732849, 1.3889670062065125, 1.3900275135040283, 1.5603622269630433, 1.4473596334457397, 1.3786982536315917, 1.3422671103477477, 1.4118313479423523, 1.468309829235077, 1.4305617332458496, 1.619095242023468, 1.4900277757644653, 1.5921394944190979, 1.4331292986869812, 1.5656417226791381, 1.6025747489929199, 1.6115100765228272, 1.6171373176574706, 1.4974716997146607, 1.6448046803474425, 1.6357415652275085, 1.4990618562698363, 1.2858665800094604, 1.4362549257278443, 1.3839680123329163, 1.4394021439552307]\n"
     ]
    },
    {
     "name": "stderr",
     "output_type": "stream",
     "text": [
      "100%|██████████| 25/25 [00:11<00:00,  2.09it/s, loss=1.62]"
     ]
    },
    {
     "name": "stdout",
     "output_type": "stream",
     "text": [
      "Mean Loss Array: [109.72338996887207, 44.82798828125, 32.273617362976076, 26.064711532592774, 21.157442321777342, 19.115713691711427, 16.144016456604003, 14.384355735778808, 13.049383049011231, 12.153732318878173, 11.268043804168702, 10.582560024261475, 9.440228748321534, 9.014247779846192, 8.482091827392578, 8.003567943572998, 7.432519369125366, 7.155730819702148, 6.746190195083618, 6.142616205215454, 6.142941875457764, 5.743178958892822, 5.321213102340698, 5.176215934753418, 4.775535774230957, 4.601470146179199, 4.661863927841186, 4.357816190719604, 4.063107490539551, 3.9366776371002197, 3.8242201232910156, 3.982276134490967, 3.5431699085235597, 3.6115941429138183, 3.6431439113616944, 3.610076675415039, 3.685580883026123, 3.7001155853271483, 3.8652588748931884, 4.324375524520874, 4.284564528465271, 4.347878742218017, 3.902965383529663, 4.126591539382934, 3.909240999221802, 3.7352996635437012, 3.7414236068725586, 3.9067931318283082, 4.026785469055175, 3.6361935329437256, 3.5152342700958252, 3.3081491708755495, 3.631723232269287, 3.4103569412231445, 3.5419870948791505, 3.466613187789917, 3.7215825843811037, 3.487019019126892, 3.249955735206604, 3.114084506034851, 3.0858022928237916, 2.8493510723114013, 2.7015558958053587, 2.614822993278503, 2.4843905448913572, 2.6212459993362427, 2.6377088594436646, 2.6975906467437745, 2.7389305591583253, 2.8232978200912475, 2.72934965133667, 2.646454849243164, 2.613568410873413, 2.5136814594268797, 2.5978206110000612, 2.6254583644866942, 2.4057094049453736, 2.402720084190369, 2.639316430091858, 2.774964299201965, 2.754122519493103, 3.2175788402557375, 3.1085861253738405, 2.6763640642166138, 2.2616823387145994, 2.0419602537155153, 2.4161604404449464, 2.1771450996398927, 2.094261951446533, 2.2152916240692138, 2.179808506965637, 2.1776322078704835, 2.254474244117737, 2.177420110702515, 2.2640201902389525, 2.2587379169464112, 2.5137687158584594, 2.596677689552307, 2.317622127532959, 2.346512265205383, 2.4663615322113035, 2.5086402177810667, 2.367177896499634, 2.326920690536499, 2.210363359451294, 2.0326780819892885, 2.2230395793914797, 2.0994843864440917, 2.20056378364563, 2.0773591709136965, 2.0296157598495483, 2.0477620792388915, 1.9210728740692138, 2.054435524940491, 2.056104645729065, 1.9066025376319886, 1.843522915840149, 2.3062718963623046, 1.9144582271575927, 1.9594469785690307, 1.9459510326385498, 1.86377028465271, 1.6025599288940429, 1.7876520872116088, 1.6909418821334838, 1.731949632167816, 1.9265658235549927, 1.8606476402282714, 1.949471688270569, 2.1066246747970583, 1.7790155863761903, 1.7997071647644043, 1.7533905220031738, 1.7180848813056946, 1.7088996696472167, 1.6943549728393554, 1.6413279318809508, 1.6026857709884643, 1.6194091105461121, 1.508999652862549, 1.7580823016166687, 1.79651930809021, 1.622192885875702, 1.8660597777366639, 1.6159732365608215, 1.5839011216163634, 1.5803806018829345, 1.638033709526062, 1.522466902732849, 1.3889670062065125, 1.3900275135040283, 1.5603622269630433, 1.4473596334457397, 1.3786982536315917, 1.3422671103477477, 1.4118313479423523, 1.468309829235077, 1.4305617332458496, 1.619095242023468, 1.4900277757644653, 1.5921394944190979, 1.4331292986869812, 1.5656417226791381, 1.6025747489929199, 1.6115100765228272, 1.6171373176574706, 1.4974716997146607, 1.6448046803474425, 1.6357415652275085, 1.4990618562698363, 1.2858665800094604, 1.4362549257278443, 1.3839680123329163, 1.4394021439552307, 1.5193523645401001]\n"
     ]
    },
    {
     "name": "stderr",
     "output_type": "stream",
     "text": [
      "\n"
     ]
    },
    {
     "name": "stdout",
     "output_type": "stream",
     "text": [
      "epoch: 175 Test mAP: 0.0331081748008728 Train mAP: 0.9686717391014099\n",
      "Test mAP Array: [0.0, 0.0, 0.02127656154334545, 0.010204067453742027, 0.0051215216517448425, 0.014166646637022495, 0.03316193446516991, 0.003313692519441247, 0.026041634380817413, 0.0044200788252055645, 0.021867142990231514, 0.0007518788916058838, 0.008113626390695572, 0.013275040313601494, 0.010353523306548595, 0.002705624559894204, 0.044328223913908005, 0.013353311456739902, 0.012046190910041332, 0.015503612346947193, 0.00856652669608593, 0.012172631919384003, 0.046446543186903, 0.017765548080205917, 0.023400645703077316, 0.01204537134617567, 0.016965964809060097, 0.004761898890137672, 0.019243961200118065, 0.01944098062813282, 0.010200467891991138, 0.012091489508748055, 0.009374989196658134, 0.018000558018684387, 0.01932452619075775, 0.0331081748008728]\n",
      "Train mAP Array: [0.0, 0.0747547596693039, 0.5053293108940125, 0.7937700748443604, 0.9663692712783813, 0.9874552488327026, 0.9544763565063477, 0.9058959484100342, 0.7671000361442566, 0.7827416658401489, 0.8842312693595886, 0.8449891209602356, 0.8830795884132385, 0.9306423664093018, 0.8613497614860535, 0.8504751920700073, 0.8839361667633057, 0.9316099286079407, 0.9345404505729675, 0.8662539124488831, 0.8716952204704285, 0.9339544177055359, 0.8891709446907043, 0.9316245317459106, 0.8825041651725769, 0.9395813345909119, 0.8783979415893555, 0.9302313923835754, 0.9664768576622009, 0.9243113398551941, 0.9493480920791626, 0.9842320084571838, 0.96986985206604, 0.9673581719398499, 0.9706774950027466, 0.9686717391014099]\n",
      "=> Saving checkpoint\n"
     ]
    },
    {
     "name": "stderr",
     "output_type": "stream",
     "text": [
      "100%|██████████| 25/25 [00:14<00:00,  1.75it/s, loss=1.53]\n"
     ]
    },
    {
     "name": "stdout",
     "output_type": "stream",
     "text": [
      "Mean Loss Array: [109.72338996887207, 44.82798828125, 32.273617362976076, 26.064711532592774, 21.157442321777342, 19.115713691711427, 16.144016456604003, 14.384355735778808, 13.049383049011231, 12.153732318878173, 11.268043804168702, 10.582560024261475, 9.440228748321534, 9.014247779846192, 8.482091827392578, 8.003567943572998, 7.432519369125366, 7.155730819702148, 6.746190195083618, 6.142616205215454, 6.142941875457764, 5.743178958892822, 5.321213102340698, 5.176215934753418, 4.775535774230957, 4.601470146179199, 4.661863927841186, 4.357816190719604, 4.063107490539551, 3.9366776371002197, 3.8242201232910156, 3.982276134490967, 3.5431699085235597, 3.6115941429138183, 3.6431439113616944, 3.610076675415039, 3.685580883026123, 3.7001155853271483, 3.8652588748931884, 4.324375524520874, 4.284564528465271, 4.347878742218017, 3.902965383529663, 4.126591539382934, 3.909240999221802, 3.7352996635437012, 3.7414236068725586, 3.9067931318283082, 4.026785469055175, 3.6361935329437256, 3.5152342700958252, 3.3081491708755495, 3.631723232269287, 3.4103569412231445, 3.5419870948791505, 3.466613187789917, 3.7215825843811037, 3.487019019126892, 3.249955735206604, 3.114084506034851, 3.0858022928237916, 2.8493510723114013, 2.7015558958053587, 2.614822993278503, 2.4843905448913572, 2.6212459993362427, 2.6377088594436646, 2.6975906467437745, 2.7389305591583253, 2.8232978200912475, 2.72934965133667, 2.646454849243164, 2.613568410873413, 2.5136814594268797, 2.5978206110000612, 2.6254583644866942, 2.4057094049453736, 2.402720084190369, 2.639316430091858, 2.774964299201965, 2.754122519493103, 3.2175788402557375, 3.1085861253738405, 2.6763640642166138, 2.2616823387145994, 2.0419602537155153, 2.4161604404449464, 2.1771450996398927, 2.094261951446533, 2.2152916240692138, 2.179808506965637, 2.1776322078704835, 2.254474244117737, 2.177420110702515, 2.2640201902389525, 2.2587379169464112, 2.5137687158584594, 2.596677689552307, 2.317622127532959, 2.346512265205383, 2.4663615322113035, 2.5086402177810667, 2.367177896499634, 2.326920690536499, 2.210363359451294, 2.0326780819892885, 2.2230395793914797, 2.0994843864440917, 2.20056378364563, 2.0773591709136965, 2.0296157598495483, 2.0477620792388915, 1.9210728740692138, 2.054435524940491, 2.056104645729065, 1.9066025376319886, 1.843522915840149, 2.3062718963623046, 1.9144582271575927, 1.9594469785690307, 1.9459510326385498, 1.86377028465271, 1.6025599288940429, 1.7876520872116088, 1.6909418821334838, 1.731949632167816, 1.9265658235549927, 1.8606476402282714, 1.949471688270569, 2.1066246747970583, 1.7790155863761903, 1.7997071647644043, 1.7533905220031738, 1.7180848813056946, 1.7088996696472167, 1.6943549728393554, 1.6413279318809508, 1.6026857709884643, 1.6194091105461121, 1.508999652862549, 1.7580823016166687, 1.79651930809021, 1.622192885875702, 1.8660597777366639, 1.6159732365608215, 1.5839011216163634, 1.5803806018829345, 1.638033709526062, 1.522466902732849, 1.3889670062065125, 1.3900275135040283, 1.5603622269630433, 1.4473596334457397, 1.3786982536315917, 1.3422671103477477, 1.4118313479423523, 1.468309829235077, 1.4305617332458496, 1.619095242023468, 1.4900277757644653, 1.5921394944190979, 1.4331292986869812, 1.5656417226791381, 1.6025747489929199, 1.6115100765228272, 1.6171373176574706, 1.4974716997146607, 1.6448046803474425, 1.6357415652275085, 1.4990618562698363, 1.2858665800094604, 1.4362549257278443, 1.3839680123329163, 1.4394021439552307, 1.5193523645401001, 1.6151867389678956]\n"
     ]
    },
    {
     "name": "stderr",
     "output_type": "stream",
     "text": [
      "100%|██████████| 25/25 [00:12<00:00,  2.01it/s, loss=1.46]\n"
     ]
    },
    {
     "name": "stdout",
     "output_type": "stream",
     "text": [
      "Mean Loss Array: [109.72338996887207, 44.82798828125, 32.273617362976076, 26.064711532592774, 21.157442321777342, 19.115713691711427, 16.144016456604003, 14.384355735778808, 13.049383049011231, 12.153732318878173, 11.268043804168702, 10.582560024261475, 9.440228748321534, 9.014247779846192, 8.482091827392578, 8.003567943572998, 7.432519369125366, 7.155730819702148, 6.746190195083618, 6.142616205215454, 6.142941875457764, 5.743178958892822, 5.321213102340698, 5.176215934753418, 4.775535774230957, 4.601470146179199, 4.661863927841186, 4.357816190719604, 4.063107490539551, 3.9366776371002197, 3.8242201232910156, 3.982276134490967, 3.5431699085235597, 3.6115941429138183, 3.6431439113616944, 3.610076675415039, 3.685580883026123, 3.7001155853271483, 3.8652588748931884, 4.324375524520874, 4.284564528465271, 4.347878742218017, 3.902965383529663, 4.126591539382934, 3.909240999221802, 3.7352996635437012, 3.7414236068725586, 3.9067931318283082, 4.026785469055175, 3.6361935329437256, 3.5152342700958252, 3.3081491708755495, 3.631723232269287, 3.4103569412231445, 3.5419870948791505, 3.466613187789917, 3.7215825843811037, 3.487019019126892, 3.249955735206604, 3.114084506034851, 3.0858022928237916, 2.8493510723114013, 2.7015558958053587, 2.614822993278503, 2.4843905448913572, 2.6212459993362427, 2.6377088594436646, 2.6975906467437745, 2.7389305591583253, 2.8232978200912475, 2.72934965133667, 2.646454849243164, 2.613568410873413, 2.5136814594268797, 2.5978206110000612, 2.6254583644866942, 2.4057094049453736, 2.402720084190369, 2.639316430091858, 2.774964299201965, 2.754122519493103, 3.2175788402557375, 3.1085861253738405, 2.6763640642166138, 2.2616823387145994, 2.0419602537155153, 2.4161604404449464, 2.1771450996398927, 2.094261951446533, 2.2152916240692138, 2.179808506965637, 2.1776322078704835, 2.254474244117737, 2.177420110702515, 2.2640201902389525, 2.2587379169464112, 2.5137687158584594, 2.596677689552307, 2.317622127532959, 2.346512265205383, 2.4663615322113035, 2.5086402177810667, 2.367177896499634, 2.326920690536499, 2.210363359451294, 2.0326780819892885, 2.2230395793914797, 2.0994843864440917, 2.20056378364563, 2.0773591709136965, 2.0296157598495483, 2.0477620792388915, 1.9210728740692138, 2.054435524940491, 2.056104645729065, 1.9066025376319886, 1.843522915840149, 2.3062718963623046, 1.9144582271575927, 1.9594469785690307, 1.9459510326385498, 1.86377028465271, 1.6025599288940429, 1.7876520872116088, 1.6909418821334838, 1.731949632167816, 1.9265658235549927, 1.8606476402282714, 1.949471688270569, 2.1066246747970583, 1.7790155863761903, 1.7997071647644043, 1.7533905220031738, 1.7180848813056946, 1.7088996696472167, 1.6943549728393554, 1.6413279318809508, 1.6026857709884643, 1.6194091105461121, 1.508999652862549, 1.7580823016166687, 1.79651930809021, 1.622192885875702, 1.8660597777366639, 1.6159732365608215, 1.5839011216163634, 1.5803806018829345, 1.638033709526062, 1.522466902732849, 1.3889670062065125, 1.3900275135040283, 1.5603622269630433, 1.4473596334457397, 1.3786982536315917, 1.3422671103477477, 1.4118313479423523, 1.468309829235077, 1.4305617332458496, 1.619095242023468, 1.4900277757644653, 1.5921394944190979, 1.4331292986869812, 1.5656417226791381, 1.6025747489929199, 1.6115100765228272, 1.6171373176574706, 1.4974716997146607, 1.6448046803474425, 1.6357415652275085, 1.4990618562698363, 1.2858665800094604, 1.4362549257278443, 1.3839680123329163, 1.4394021439552307, 1.5193523645401001, 1.6151867389678956, 1.4985089802742004]\n"
     ]
    },
    {
     "name": "stderr",
     "output_type": "stream",
     "text": [
      "100%|██████████| 25/25 [00:11<00:00,  2.11it/s, loss=1.52]\n"
     ]
    },
    {
     "name": "stdout",
     "output_type": "stream",
     "text": [
      "Mean Loss Array: [109.72338996887207, 44.82798828125, 32.273617362976076, 26.064711532592774, 21.157442321777342, 19.115713691711427, 16.144016456604003, 14.384355735778808, 13.049383049011231, 12.153732318878173, 11.268043804168702, 10.582560024261475, 9.440228748321534, 9.014247779846192, 8.482091827392578, 8.003567943572998, 7.432519369125366, 7.155730819702148, 6.746190195083618, 6.142616205215454, 6.142941875457764, 5.743178958892822, 5.321213102340698, 5.176215934753418, 4.775535774230957, 4.601470146179199, 4.661863927841186, 4.357816190719604, 4.063107490539551, 3.9366776371002197, 3.8242201232910156, 3.982276134490967, 3.5431699085235597, 3.6115941429138183, 3.6431439113616944, 3.610076675415039, 3.685580883026123, 3.7001155853271483, 3.8652588748931884, 4.324375524520874, 4.284564528465271, 4.347878742218017, 3.902965383529663, 4.126591539382934, 3.909240999221802, 3.7352996635437012, 3.7414236068725586, 3.9067931318283082, 4.026785469055175, 3.6361935329437256, 3.5152342700958252, 3.3081491708755495, 3.631723232269287, 3.4103569412231445, 3.5419870948791505, 3.466613187789917, 3.7215825843811037, 3.487019019126892, 3.249955735206604, 3.114084506034851, 3.0858022928237916, 2.8493510723114013, 2.7015558958053587, 2.614822993278503, 2.4843905448913572, 2.6212459993362427, 2.6377088594436646, 2.6975906467437745, 2.7389305591583253, 2.8232978200912475, 2.72934965133667, 2.646454849243164, 2.613568410873413, 2.5136814594268797, 2.5978206110000612, 2.6254583644866942, 2.4057094049453736, 2.402720084190369, 2.639316430091858, 2.774964299201965, 2.754122519493103, 3.2175788402557375, 3.1085861253738405, 2.6763640642166138, 2.2616823387145994, 2.0419602537155153, 2.4161604404449464, 2.1771450996398927, 2.094261951446533, 2.2152916240692138, 2.179808506965637, 2.1776322078704835, 2.254474244117737, 2.177420110702515, 2.2640201902389525, 2.2587379169464112, 2.5137687158584594, 2.596677689552307, 2.317622127532959, 2.346512265205383, 2.4663615322113035, 2.5086402177810667, 2.367177896499634, 2.326920690536499, 2.210363359451294, 2.0326780819892885, 2.2230395793914797, 2.0994843864440917, 2.20056378364563, 2.0773591709136965, 2.0296157598495483, 2.0477620792388915, 1.9210728740692138, 2.054435524940491, 2.056104645729065, 1.9066025376319886, 1.843522915840149, 2.3062718963623046, 1.9144582271575927, 1.9594469785690307, 1.9459510326385498, 1.86377028465271, 1.6025599288940429, 1.7876520872116088, 1.6909418821334838, 1.731949632167816, 1.9265658235549927, 1.8606476402282714, 1.949471688270569, 2.1066246747970583, 1.7790155863761903, 1.7997071647644043, 1.7533905220031738, 1.7180848813056946, 1.7088996696472167, 1.6943549728393554, 1.6413279318809508, 1.6026857709884643, 1.6194091105461121, 1.508999652862549, 1.7580823016166687, 1.79651930809021, 1.622192885875702, 1.8660597777366639, 1.6159732365608215, 1.5839011216163634, 1.5803806018829345, 1.638033709526062, 1.522466902732849, 1.3889670062065125, 1.3900275135040283, 1.5603622269630433, 1.4473596334457397, 1.3786982536315917, 1.3422671103477477, 1.4118313479423523, 1.468309829235077, 1.4305617332458496, 1.619095242023468, 1.4900277757644653, 1.5921394944190979, 1.4331292986869812, 1.5656417226791381, 1.6025747489929199, 1.6115100765228272, 1.6171373176574706, 1.4974716997146607, 1.6448046803474425, 1.6357415652275085, 1.4990618562698363, 1.2858665800094604, 1.4362549257278443, 1.3839680123329163, 1.4394021439552307, 1.5193523645401001, 1.6151867389678956, 1.4985089802742004, 1.4272795081138612]\n"
     ]
    },
    {
     "name": "stderr",
     "output_type": "stream",
     "text": [
      "100%|██████████| 25/25 [00:11<00:00,  2.14it/s, loss=1.79]\n"
     ]
    },
    {
     "name": "stdout",
     "output_type": "stream",
     "text": [
      "Mean Loss Array: [109.72338996887207, 44.82798828125, 32.273617362976076, 26.064711532592774, 21.157442321777342, 19.115713691711427, 16.144016456604003, 14.384355735778808, 13.049383049011231, 12.153732318878173, 11.268043804168702, 10.582560024261475, 9.440228748321534, 9.014247779846192, 8.482091827392578, 8.003567943572998, 7.432519369125366, 7.155730819702148, 6.746190195083618, 6.142616205215454, 6.142941875457764, 5.743178958892822, 5.321213102340698, 5.176215934753418, 4.775535774230957, 4.601470146179199, 4.661863927841186, 4.357816190719604, 4.063107490539551, 3.9366776371002197, 3.8242201232910156, 3.982276134490967, 3.5431699085235597, 3.6115941429138183, 3.6431439113616944, 3.610076675415039, 3.685580883026123, 3.7001155853271483, 3.8652588748931884, 4.324375524520874, 4.284564528465271, 4.347878742218017, 3.902965383529663, 4.126591539382934, 3.909240999221802, 3.7352996635437012, 3.7414236068725586, 3.9067931318283082, 4.026785469055175, 3.6361935329437256, 3.5152342700958252, 3.3081491708755495, 3.631723232269287, 3.4103569412231445, 3.5419870948791505, 3.466613187789917, 3.7215825843811037, 3.487019019126892, 3.249955735206604, 3.114084506034851, 3.0858022928237916, 2.8493510723114013, 2.7015558958053587, 2.614822993278503, 2.4843905448913572, 2.6212459993362427, 2.6377088594436646, 2.6975906467437745, 2.7389305591583253, 2.8232978200912475, 2.72934965133667, 2.646454849243164, 2.613568410873413, 2.5136814594268797, 2.5978206110000612, 2.6254583644866942, 2.4057094049453736, 2.402720084190369, 2.639316430091858, 2.774964299201965, 2.754122519493103, 3.2175788402557375, 3.1085861253738405, 2.6763640642166138, 2.2616823387145994, 2.0419602537155153, 2.4161604404449464, 2.1771450996398927, 2.094261951446533, 2.2152916240692138, 2.179808506965637, 2.1776322078704835, 2.254474244117737, 2.177420110702515, 2.2640201902389525, 2.2587379169464112, 2.5137687158584594, 2.596677689552307, 2.317622127532959, 2.346512265205383, 2.4663615322113035, 2.5086402177810667, 2.367177896499634, 2.326920690536499, 2.210363359451294, 2.0326780819892885, 2.2230395793914797, 2.0994843864440917, 2.20056378364563, 2.0773591709136965, 2.0296157598495483, 2.0477620792388915, 1.9210728740692138, 2.054435524940491, 2.056104645729065, 1.9066025376319886, 1.843522915840149, 2.3062718963623046, 1.9144582271575927, 1.9594469785690307, 1.9459510326385498, 1.86377028465271, 1.6025599288940429, 1.7876520872116088, 1.6909418821334838, 1.731949632167816, 1.9265658235549927, 1.8606476402282714, 1.949471688270569, 2.1066246747970583, 1.7790155863761903, 1.7997071647644043, 1.7533905220031738, 1.7180848813056946, 1.7088996696472167, 1.6943549728393554, 1.6413279318809508, 1.6026857709884643, 1.6194091105461121, 1.508999652862549, 1.7580823016166687, 1.79651930809021, 1.622192885875702, 1.8660597777366639, 1.6159732365608215, 1.5839011216163634, 1.5803806018829345, 1.638033709526062, 1.522466902732849, 1.3889670062065125, 1.3900275135040283, 1.5603622269630433, 1.4473596334457397, 1.3786982536315917, 1.3422671103477477, 1.4118313479423523, 1.468309829235077, 1.4305617332458496, 1.619095242023468, 1.4900277757644653, 1.5921394944190979, 1.4331292986869812, 1.5656417226791381, 1.6025747489929199, 1.6115100765228272, 1.6171373176574706, 1.4974716997146607, 1.6448046803474425, 1.6357415652275085, 1.4990618562698363, 1.2858665800094604, 1.4362549257278443, 1.3839680123329163, 1.4394021439552307, 1.5193523645401001, 1.6151867389678956, 1.4985089802742004, 1.4272795081138612, 1.4221443128585816]\n"
     ]
    },
    {
     "name": "stderr",
     "output_type": "stream",
     "text": [
      "100%|██████████| 25/25 [00:10<00:00,  2.37it/s, loss=0.89]"
     ]
    },
    {
     "name": "stdout",
     "output_type": "stream",
     "text": [
      "Mean Loss Array: [109.72338996887207, 44.82798828125, 32.273617362976076, 26.064711532592774, 21.157442321777342, 19.115713691711427, 16.144016456604003, 14.384355735778808, 13.049383049011231, 12.153732318878173, 11.268043804168702, 10.582560024261475, 9.440228748321534, 9.014247779846192, 8.482091827392578, 8.003567943572998, 7.432519369125366, 7.155730819702148, 6.746190195083618, 6.142616205215454, 6.142941875457764, 5.743178958892822, 5.321213102340698, 5.176215934753418, 4.775535774230957, 4.601470146179199, 4.661863927841186, 4.357816190719604, 4.063107490539551, 3.9366776371002197, 3.8242201232910156, 3.982276134490967, 3.5431699085235597, 3.6115941429138183, 3.6431439113616944, 3.610076675415039, 3.685580883026123, 3.7001155853271483, 3.8652588748931884, 4.324375524520874, 4.284564528465271, 4.347878742218017, 3.902965383529663, 4.126591539382934, 3.909240999221802, 3.7352996635437012, 3.7414236068725586, 3.9067931318283082, 4.026785469055175, 3.6361935329437256, 3.5152342700958252, 3.3081491708755495, 3.631723232269287, 3.4103569412231445, 3.5419870948791505, 3.466613187789917, 3.7215825843811037, 3.487019019126892, 3.249955735206604, 3.114084506034851, 3.0858022928237916, 2.8493510723114013, 2.7015558958053587, 2.614822993278503, 2.4843905448913572, 2.6212459993362427, 2.6377088594436646, 2.6975906467437745, 2.7389305591583253, 2.8232978200912475, 2.72934965133667, 2.646454849243164, 2.613568410873413, 2.5136814594268797, 2.5978206110000612, 2.6254583644866942, 2.4057094049453736, 2.402720084190369, 2.639316430091858, 2.774964299201965, 2.754122519493103, 3.2175788402557375, 3.1085861253738405, 2.6763640642166138, 2.2616823387145994, 2.0419602537155153, 2.4161604404449464, 2.1771450996398927, 2.094261951446533, 2.2152916240692138, 2.179808506965637, 2.1776322078704835, 2.254474244117737, 2.177420110702515, 2.2640201902389525, 2.2587379169464112, 2.5137687158584594, 2.596677689552307, 2.317622127532959, 2.346512265205383, 2.4663615322113035, 2.5086402177810667, 2.367177896499634, 2.326920690536499, 2.210363359451294, 2.0326780819892885, 2.2230395793914797, 2.0994843864440917, 2.20056378364563, 2.0773591709136965, 2.0296157598495483, 2.0477620792388915, 1.9210728740692138, 2.054435524940491, 2.056104645729065, 1.9066025376319886, 1.843522915840149, 2.3062718963623046, 1.9144582271575927, 1.9594469785690307, 1.9459510326385498, 1.86377028465271, 1.6025599288940429, 1.7876520872116088, 1.6909418821334838, 1.731949632167816, 1.9265658235549927, 1.8606476402282714, 1.949471688270569, 2.1066246747970583, 1.7790155863761903, 1.7997071647644043, 1.7533905220031738, 1.7180848813056946, 1.7088996696472167, 1.6943549728393554, 1.6413279318809508, 1.6026857709884643, 1.6194091105461121, 1.508999652862549, 1.7580823016166687, 1.79651930809021, 1.622192885875702, 1.8660597777366639, 1.6159732365608215, 1.5839011216163634, 1.5803806018829345, 1.638033709526062, 1.522466902732849, 1.3889670062065125, 1.3900275135040283, 1.5603622269630433, 1.4473596334457397, 1.3786982536315917, 1.3422671103477477, 1.4118313479423523, 1.468309829235077, 1.4305617332458496, 1.619095242023468, 1.4900277757644653, 1.5921394944190979, 1.4331292986869812, 1.5656417226791381, 1.6025747489929199, 1.6115100765228272, 1.6171373176574706, 1.4974716997146607, 1.6448046803474425, 1.6357415652275085, 1.4990618562698363, 1.2858665800094604, 1.4362549257278443, 1.3839680123329163, 1.4394021439552307, 1.5193523645401001, 1.6151867389678956, 1.4985089802742004, 1.4272795081138612, 1.4221443128585816, 1.2751284456253051]\n"
     ]
    },
    {
     "name": "stderr",
     "output_type": "stream",
     "text": [
      "\n"
     ]
    },
    {
     "name": "stdout",
     "output_type": "stream",
     "text": [
      "epoch: 180 Test mAP: 0.024309316650032997 Train mAP: 0.9412909746170044\n",
      "Test mAP Array: [0.0, 0.0, 0.02127656154334545, 0.010204067453742027, 0.0051215216517448425, 0.014166646637022495, 0.03316193446516991, 0.003313692519441247, 0.026041634380817413, 0.0044200788252055645, 0.021867142990231514, 0.0007518788916058838, 0.008113626390695572, 0.013275040313601494, 0.010353523306548595, 0.002705624559894204, 0.044328223913908005, 0.013353311456739902, 0.012046190910041332, 0.015503612346947193, 0.00856652669608593, 0.012172631919384003, 0.046446543186903, 0.017765548080205917, 0.023400645703077316, 0.01204537134617567, 0.016965964809060097, 0.004761898890137672, 0.019243961200118065, 0.01944098062813282, 0.010200467891991138, 0.012091489508748055, 0.009374989196658134, 0.018000558018684387, 0.01932452619075775, 0.0331081748008728, 0.024309316650032997]\n",
      "Train mAP Array: [0.0, 0.0747547596693039, 0.5053293108940125, 0.7937700748443604, 0.9663692712783813, 0.9874552488327026, 0.9544763565063477, 0.9058959484100342, 0.7671000361442566, 0.7827416658401489, 0.8842312693595886, 0.8449891209602356, 0.8830795884132385, 0.9306423664093018, 0.8613497614860535, 0.8504751920700073, 0.8839361667633057, 0.9316099286079407, 0.9345404505729675, 0.8662539124488831, 0.8716952204704285, 0.9339544177055359, 0.8891709446907043, 0.9316245317459106, 0.8825041651725769, 0.9395813345909119, 0.8783979415893555, 0.9302313923835754, 0.9664768576622009, 0.9243113398551941, 0.9493480920791626, 0.9842320084571838, 0.96986985206604, 0.9673581719398499, 0.9706774950027466, 0.9686717391014099, 0.9412909746170044]\n",
      "=> Saving checkpoint\n"
     ]
    },
    {
     "name": "stderr",
     "output_type": "stream",
     "text": [
      "100%|██████████| 25/25 [00:10<00:00,  2.30it/s, loss=2.28]\n"
     ]
    },
    {
     "name": "stdout",
     "output_type": "stream",
     "text": [
      "Mean Loss Array: [109.72338996887207, 44.82798828125, 32.273617362976076, 26.064711532592774, 21.157442321777342, 19.115713691711427, 16.144016456604003, 14.384355735778808, 13.049383049011231, 12.153732318878173, 11.268043804168702, 10.582560024261475, 9.440228748321534, 9.014247779846192, 8.482091827392578, 8.003567943572998, 7.432519369125366, 7.155730819702148, 6.746190195083618, 6.142616205215454, 6.142941875457764, 5.743178958892822, 5.321213102340698, 5.176215934753418, 4.775535774230957, 4.601470146179199, 4.661863927841186, 4.357816190719604, 4.063107490539551, 3.9366776371002197, 3.8242201232910156, 3.982276134490967, 3.5431699085235597, 3.6115941429138183, 3.6431439113616944, 3.610076675415039, 3.685580883026123, 3.7001155853271483, 3.8652588748931884, 4.324375524520874, 4.284564528465271, 4.347878742218017, 3.902965383529663, 4.126591539382934, 3.909240999221802, 3.7352996635437012, 3.7414236068725586, 3.9067931318283082, 4.026785469055175, 3.6361935329437256, 3.5152342700958252, 3.3081491708755495, 3.631723232269287, 3.4103569412231445, 3.5419870948791505, 3.466613187789917, 3.7215825843811037, 3.487019019126892, 3.249955735206604, 3.114084506034851, 3.0858022928237916, 2.8493510723114013, 2.7015558958053587, 2.614822993278503, 2.4843905448913572, 2.6212459993362427, 2.6377088594436646, 2.6975906467437745, 2.7389305591583253, 2.8232978200912475, 2.72934965133667, 2.646454849243164, 2.613568410873413, 2.5136814594268797, 2.5978206110000612, 2.6254583644866942, 2.4057094049453736, 2.402720084190369, 2.639316430091858, 2.774964299201965, 2.754122519493103, 3.2175788402557375, 3.1085861253738405, 2.6763640642166138, 2.2616823387145994, 2.0419602537155153, 2.4161604404449464, 2.1771450996398927, 2.094261951446533, 2.2152916240692138, 2.179808506965637, 2.1776322078704835, 2.254474244117737, 2.177420110702515, 2.2640201902389525, 2.2587379169464112, 2.5137687158584594, 2.596677689552307, 2.317622127532959, 2.346512265205383, 2.4663615322113035, 2.5086402177810667, 2.367177896499634, 2.326920690536499, 2.210363359451294, 2.0326780819892885, 2.2230395793914797, 2.0994843864440917, 2.20056378364563, 2.0773591709136965, 2.0296157598495483, 2.0477620792388915, 1.9210728740692138, 2.054435524940491, 2.056104645729065, 1.9066025376319886, 1.843522915840149, 2.3062718963623046, 1.9144582271575927, 1.9594469785690307, 1.9459510326385498, 1.86377028465271, 1.6025599288940429, 1.7876520872116088, 1.6909418821334838, 1.731949632167816, 1.9265658235549927, 1.8606476402282714, 1.949471688270569, 2.1066246747970583, 1.7790155863761903, 1.7997071647644043, 1.7533905220031738, 1.7180848813056946, 1.7088996696472167, 1.6943549728393554, 1.6413279318809508, 1.6026857709884643, 1.6194091105461121, 1.508999652862549, 1.7580823016166687, 1.79651930809021, 1.622192885875702, 1.8660597777366639, 1.6159732365608215, 1.5839011216163634, 1.5803806018829345, 1.638033709526062, 1.522466902732849, 1.3889670062065125, 1.3900275135040283, 1.5603622269630433, 1.4473596334457397, 1.3786982536315917, 1.3422671103477477, 1.4118313479423523, 1.468309829235077, 1.4305617332458496, 1.619095242023468, 1.4900277757644653, 1.5921394944190979, 1.4331292986869812, 1.5656417226791381, 1.6025747489929199, 1.6115100765228272, 1.6171373176574706, 1.4974716997146607, 1.6448046803474425, 1.6357415652275085, 1.4990618562698363, 1.2858665800094604, 1.4362549257278443, 1.3839680123329163, 1.4394021439552307, 1.5193523645401001, 1.6151867389678956, 1.4985089802742004, 1.4272795081138612, 1.4221443128585816, 1.2751284456253051, 1.325443034172058]\n"
     ]
    },
    {
     "name": "stderr",
     "output_type": "stream",
     "text": [
      "100%|██████████| 25/25 [00:12<00:00,  2.04it/s, loss=0.893]\n"
     ]
    },
    {
     "name": "stdout",
     "output_type": "stream",
     "text": [
      "Mean Loss Array: [109.72338996887207, 44.82798828125, 32.273617362976076, 26.064711532592774, 21.157442321777342, 19.115713691711427, 16.144016456604003, 14.384355735778808, 13.049383049011231, 12.153732318878173, 11.268043804168702, 10.582560024261475, 9.440228748321534, 9.014247779846192, 8.482091827392578, 8.003567943572998, 7.432519369125366, 7.155730819702148, 6.746190195083618, 6.142616205215454, 6.142941875457764, 5.743178958892822, 5.321213102340698, 5.176215934753418, 4.775535774230957, 4.601470146179199, 4.661863927841186, 4.357816190719604, 4.063107490539551, 3.9366776371002197, 3.8242201232910156, 3.982276134490967, 3.5431699085235597, 3.6115941429138183, 3.6431439113616944, 3.610076675415039, 3.685580883026123, 3.7001155853271483, 3.8652588748931884, 4.324375524520874, 4.284564528465271, 4.347878742218017, 3.902965383529663, 4.126591539382934, 3.909240999221802, 3.7352996635437012, 3.7414236068725586, 3.9067931318283082, 4.026785469055175, 3.6361935329437256, 3.5152342700958252, 3.3081491708755495, 3.631723232269287, 3.4103569412231445, 3.5419870948791505, 3.466613187789917, 3.7215825843811037, 3.487019019126892, 3.249955735206604, 3.114084506034851, 3.0858022928237916, 2.8493510723114013, 2.7015558958053587, 2.614822993278503, 2.4843905448913572, 2.6212459993362427, 2.6377088594436646, 2.6975906467437745, 2.7389305591583253, 2.8232978200912475, 2.72934965133667, 2.646454849243164, 2.613568410873413, 2.5136814594268797, 2.5978206110000612, 2.6254583644866942, 2.4057094049453736, 2.402720084190369, 2.639316430091858, 2.774964299201965, 2.754122519493103, 3.2175788402557375, 3.1085861253738405, 2.6763640642166138, 2.2616823387145994, 2.0419602537155153, 2.4161604404449464, 2.1771450996398927, 2.094261951446533, 2.2152916240692138, 2.179808506965637, 2.1776322078704835, 2.254474244117737, 2.177420110702515, 2.2640201902389525, 2.2587379169464112, 2.5137687158584594, 2.596677689552307, 2.317622127532959, 2.346512265205383, 2.4663615322113035, 2.5086402177810667, 2.367177896499634, 2.326920690536499, 2.210363359451294, 2.0326780819892885, 2.2230395793914797, 2.0994843864440917, 2.20056378364563, 2.0773591709136965, 2.0296157598495483, 2.0477620792388915, 1.9210728740692138, 2.054435524940491, 2.056104645729065, 1.9066025376319886, 1.843522915840149, 2.3062718963623046, 1.9144582271575927, 1.9594469785690307, 1.9459510326385498, 1.86377028465271, 1.6025599288940429, 1.7876520872116088, 1.6909418821334838, 1.731949632167816, 1.9265658235549927, 1.8606476402282714, 1.949471688270569, 2.1066246747970583, 1.7790155863761903, 1.7997071647644043, 1.7533905220031738, 1.7180848813056946, 1.7088996696472167, 1.6943549728393554, 1.6413279318809508, 1.6026857709884643, 1.6194091105461121, 1.508999652862549, 1.7580823016166687, 1.79651930809021, 1.622192885875702, 1.8660597777366639, 1.6159732365608215, 1.5839011216163634, 1.5803806018829345, 1.638033709526062, 1.522466902732849, 1.3889670062065125, 1.3900275135040283, 1.5603622269630433, 1.4473596334457397, 1.3786982536315917, 1.3422671103477477, 1.4118313479423523, 1.468309829235077, 1.4305617332458496, 1.619095242023468, 1.4900277757644653, 1.5921394944190979, 1.4331292986869812, 1.5656417226791381, 1.6025747489929199, 1.6115100765228272, 1.6171373176574706, 1.4974716997146607, 1.6448046803474425, 1.6357415652275085, 1.4990618562698363, 1.2858665800094604, 1.4362549257278443, 1.3839680123329163, 1.4394021439552307, 1.5193523645401001, 1.6151867389678956, 1.4985089802742004, 1.4272795081138612, 1.4221443128585816, 1.2751284456253051, 1.325443034172058, 1.3453159260749816]\n"
     ]
    },
    {
     "name": "stderr",
     "output_type": "stream",
     "text": [
      "100%|██████████| 25/25 [00:12<00:00,  2.07it/s, loss=1.88]\n"
     ]
    },
    {
     "name": "stdout",
     "output_type": "stream",
     "text": [
      "Mean Loss Array: [109.72338996887207, 44.82798828125, 32.273617362976076, 26.064711532592774, 21.157442321777342, 19.115713691711427, 16.144016456604003, 14.384355735778808, 13.049383049011231, 12.153732318878173, 11.268043804168702, 10.582560024261475, 9.440228748321534, 9.014247779846192, 8.482091827392578, 8.003567943572998, 7.432519369125366, 7.155730819702148, 6.746190195083618, 6.142616205215454, 6.142941875457764, 5.743178958892822, 5.321213102340698, 5.176215934753418, 4.775535774230957, 4.601470146179199, 4.661863927841186, 4.357816190719604, 4.063107490539551, 3.9366776371002197, 3.8242201232910156, 3.982276134490967, 3.5431699085235597, 3.6115941429138183, 3.6431439113616944, 3.610076675415039, 3.685580883026123, 3.7001155853271483, 3.8652588748931884, 4.324375524520874, 4.284564528465271, 4.347878742218017, 3.902965383529663, 4.126591539382934, 3.909240999221802, 3.7352996635437012, 3.7414236068725586, 3.9067931318283082, 4.026785469055175, 3.6361935329437256, 3.5152342700958252, 3.3081491708755495, 3.631723232269287, 3.4103569412231445, 3.5419870948791505, 3.466613187789917, 3.7215825843811037, 3.487019019126892, 3.249955735206604, 3.114084506034851, 3.0858022928237916, 2.8493510723114013, 2.7015558958053587, 2.614822993278503, 2.4843905448913572, 2.6212459993362427, 2.6377088594436646, 2.6975906467437745, 2.7389305591583253, 2.8232978200912475, 2.72934965133667, 2.646454849243164, 2.613568410873413, 2.5136814594268797, 2.5978206110000612, 2.6254583644866942, 2.4057094049453736, 2.402720084190369, 2.639316430091858, 2.774964299201965, 2.754122519493103, 3.2175788402557375, 3.1085861253738405, 2.6763640642166138, 2.2616823387145994, 2.0419602537155153, 2.4161604404449464, 2.1771450996398927, 2.094261951446533, 2.2152916240692138, 2.179808506965637, 2.1776322078704835, 2.254474244117737, 2.177420110702515, 2.2640201902389525, 2.2587379169464112, 2.5137687158584594, 2.596677689552307, 2.317622127532959, 2.346512265205383, 2.4663615322113035, 2.5086402177810667, 2.367177896499634, 2.326920690536499, 2.210363359451294, 2.0326780819892885, 2.2230395793914797, 2.0994843864440917, 2.20056378364563, 2.0773591709136965, 2.0296157598495483, 2.0477620792388915, 1.9210728740692138, 2.054435524940491, 2.056104645729065, 1.9066025376319886, 1.843522915840149, 2.3062718963623046, 1.9144582271575927, 1.9594469785690307, 1.9459510326385498, 1.86377028465271, 1.6025599288940429, 1.7876520872116088, 1.6909418821334838, 1.731949632167816, 1.9265658235549927, 1.8606476402282714, 1.949471688270569, 2.1066246747970583, 1.7790155863761903, 1.7997071647644043, 1.7533905220031738, 1.7180848813056946, 1.7088996696472167, 1.6943549728393554, 1.6413279318809508, 1.6026857709884643, 1.6194091105461121, 1.508999652862549, 1.7580823016166687, 1.79651930809021, 1.622192885875702, 1.8660597777366639, 1.6159732365608215, 1.5839011216163634, 1.5803806018829345, 1.638033709526062, 1.522466902732849, 1.3889670062065125, 1.3900275135040283, 1.5603622269630433, 1.4473596334457397, 1.3786982536315917, 1.3422671103477477, 1.4118313479423523, 1.468309829235077, 1.4305617332458496, 1.619095242023468, 1.4900277757644653, 1.5921394944190979, 1.4331292986869812, 1.5656417226791381, 1.6025747489929199, 1.6115100765228272, 1.6171373176574706, 1.4974716997146607, 1.6448046803474425, 1.6357415652275085, 1.4990618562698363, 1.2858665800094604, 1.4362549257278443, 1.3839680123329163, 1.4394021439552307, 1.5193523645401001, 1.6151867389678956, 1.4985089802742004, 1.4272795081138612, 1.4221443128585816, 1.2751284456253051, 1.325443034172058, 1.3453159260749816, 1.4328895831108093]\n"
     ]
    },
    {
     "name": "stderr",
     "output_type": "stream",
     "text": [
      "100%|██████████| 25/25 [00:12<00:00,  2.05it/s, loss=1.16]\n"
     ]
    },
    {
     "name": "stdout",
     "output_type": "stream",
     "text": [
      "Mean Loss Array: [109.72338996887207, 44.82798828125, 32.273617362976076, 26.064711532592774, 21.157442321777342, 19.115713691711427, 16.144016456604003, 14.384355735778808, 13.049383049011231, 12.153732318878173, 11.268043804168702, 10.582560024261475, 9.440228748321534, 9.014247779846192, 8.482091827392578, 8.003567943572998, 7.432519369125366, 7.155730819702148, 6.746190195083618, 6.142616205215454, 6.142941875457764, 5.743178958892822, 5.321213102340698, 5.176215934753418, 4.775535774230957, 4.601470146179199, 4.661863927841186, 4.357816190719604, 4.063107490539551, 3.9366776371002197, 3.8242201232910156, 3.982276134490967, 3.5431699085235597, 3.6115941429138183, 3.6431439113616944, 3.610076675415039, 3.685580883026123, 3.7001155853271483, 3.8652588748931884, 4.324375524520874, 4.284564528465271, 4.347878742218017, 3.902965383529663, 4.126591539382934, 3.909240999221802, 3.7352996635437012, 3.7414236068725586, 3.9067931318283082, 4.026785469055175, 3.6361935329437256, 3.5152342700958252, 3.3081491708755495, 3.631723232269287, 3.4103569412231445, 3.5419870948791505, 3.466613187789917, 3.7215825843811037, 3.487019019126892, 3.249955735206604, 3.114084506034851, 3.0858022928237916, 2.8493510723114013, 2.7015558958053587, 2.614822993278503, 2.4843905448913572, 2.6212459993362427, 2.6377088594436646, 2.6975906467437745, 2.7389305591583253, 2.8232978200912475, 2.72934965133667, 2.646454849243164, 2.613568410873413, 2.5136814594268797, 2.5978206110000612, 2.6254583644866942, 2.4057094049453736, 2.402720084190369, 2.639316430091858, 2.774964299201965, 2.754122519493103, 3.2175788402557375, 3.1085861253738405, 2.6763640642166138, 2.2616823387145994, 2.0419602537155153, 2.4161604404449464, 2.1771450996398927, 2.094261951446533, 2.2152916240692138, 2.179808506965637, 2.1776322078704835, 2.254474244117737, 2.177420110702515, 2.2640201902389525, 2.2587379169464112, 2.5137687158584594, 2.596677689552307, 2.317622127532959, 2.346512265205383, 2.4663615322113035, 2.5086402177810667, 2.367177896499634, 2.326920690536499, 2.210363359451294, 2.0326780819892885, 2.2230395793914797, 2.0994843864440917, 2.20056378364563, 2.0773591709136965, 2.0296157598495483, 2.0477620792388915, 1.9210728740692138, 2.054435524940491, 2.056104645729065, 1.9066025376319886, 1.843522915840149, 2.3062718963623046, 1.9144582271575927, 1.9594469785690307, 1.9459510326385498, 1.86377028465271, 1.6025599288940429, 1.7876520872116088, 1.6909418821334838, 1.731949632167816, 1.9265658235549927, 1.8606476402282714, 1.949471688270569, 2.1066246747970583, 1.7790155863761903, 1.7997071647644043, 1.7533905220031738, 1.7180848813056946, 1.7088996696472167, 1.6943549728393554, 1.6413279318809508, 1.6026857709884643, 1.6194091105461121, 1.508999652862549, 1.7580823016166687, 1.79651930809021, 1.622192885875702, 1.8660597777366639, 1.6159732365608215, 1.5839011216163634, 1.5803806018829345, 1.638033709526062, 1.522466902732849, 1.3889670062065125, 1.3900275135040283, 1.5603622269630433, 1.4473596334457397, 1.3786982536315917, 1.3422671103477477, 1.4118313479423523, 1.468309829235077, 1.4305617332458496, 1.619095242023468, 1.4900277757644653, 1.5921394944190979, 1.4331292986869812, 1.5656417226791381, 1.6025747489929199, 1.6115100765228272, 1.6171373176574706, 1.4974716997146607, 1.6448046803474425, 1.6357415652275085, 1.4990618562698363, 1.2858665800094604, 1.4362549257278443, 1.3839680123329163, 1.4394021439552307, 1.5193523645401001, 1.6151867389678956, 1.4985089802742004, 1.4272795081138612, 1.4221443128585816, 1.2751284456253051, 1.325443034172058, 1.3453159260749816, 1.4328895831108093, 1.4585467219352721]\n"
     ]
    },
    {
     "name": "stderr",
     "output_type": "stream",
     "text": [
      "100%|██████████| 25/25 [00:11<00:00,  2.09it/s, loss=2.3]"
     ]
    },
    {
     "name": "stdout",
     "output_type": "stream",
     "text": [
      "Mean Loss Array: [109.72338996887207, 44.82798828125, 32.273617362976076, 26.064711532592774, 21.157442321777342, 19.115713691711427, 16.144016456604003, 14.384355735778808, 13.049383049011231, 12.153732318878173, 11.268043804168702, 10.582560024261475, 9.440228748321534, 9.014247779846192, 8.482091827392578, 8.003567943572998, 7.432519369125366, 7.155730819702148, 6.746190195083618, 6.142616205215454, 6.142941875457764, 5.743178958892822, 5.321213102340698, 5.176215934753418, 4.775535774230957, 4.601470146179199, 4.661863927841186, 4.357816190719604, 4.063107490539551, 3.9366776371002197, 3.8242201232910156, 3.982276134490967, 3.5431699085235597, 3.6115941429138183, 3.6431439113616944, 3.610076675415039, 3.685580883026123, 3.7001155853271483, 3.8652588748931884, 4.324375524520874, 4.284564528465271, 4.347878742218017, 3.902965383529663, 4.126591539382934, 3.909240999221802, 3.7352996635437012, 3.7414236068725586, 3.9067931318283082, 4.026785469055175, 3.6361935329437256, 3.5152342700958252, 3.3081491708755495, 3.631723232269287, 3.4103569412231445, 3.5419870948791505, 3.466613187789917, 3.7215825843811037, 3.487019019126892, 3.249955735206604, 3.114084506034851, 3.0858022928237916, 2.8493510723114013, 2.7015558958053587, 2.614822993278503, 2.4843905448913572, 2.6212459993362427, 2.6377088594436646, 2.6975906467437745, 2.7389305591583253, 2.8232978200912475, 2.72934965133667, 2.646454849243164, 2.613568410873413, 2.5136814594268797, 2.5978206110000612, 2.6254583644866942, 2.4057094049453736, 2.402720084190369, 2.639316430091858, 2.774964299201965, 2.754122519493103, 3.2175788402557375, 3.1085861253738405, 2.6763640642166138, 2.2616823387145994, 2.0419602537155153, 2.4161604404449464, 2.1771450996398927, 2.094261951446533, 2.2152916240692138, 2.179808506965637, 2.1776322078704835, 2.254474244117737, 2.177420110702515, 2.2640201902389525, 2.2587379169464112, 2.5137687158584594, 2.596677689552307, 2.317622127532959, 2.346512265205383, 2.4663615322113035, 2.5086402177810667, 2.367177896499634, 2.326920690536499, 2.210363359451294, 2.0326780819892885, 2.2230395793914797, 2.0994843864440917, 2.20056378364563, 2.0773591709136965, 2.0296157598495483, 2.0477620792388915, 1.9210728740692138, 2.054435524940491, 2.056104645729065, 1.9066025376319886, 1.843522915840149, 2.3062718963623046, 1.9144582271575927, 1.9594469785690307, 1.9459510326385498, 1.86377028465271, 1.6025599288940429, 1.7876520872116088, 1.6909418821334838, 1.731949632167816, 1.9265658235549927, 1.8606476402282714, 1.949471688270569, 2.1066246747970583, 1.7790155863761903, 1.7997071647644043, 1.7533905220031738, 1.7180848813056946, 1.7088996696472167, 1.6943549728393554, 1.6413279318809508, 1.6026857709884643, 1.6194091105461121, 1.508999652862549, 1.7580823016166687, 1.79651930809021, 1.622192885875702, 1.8660597777366639, 1.6159732365608215, 1.5839011216163634, 1.5803806018829345, 1.638033709526062, 1.522466902732849, 1.3889670062065125, 1.3900275135040283, 1.5603622269630433, 1.4473596334457397, 1.3786982536315917, 1.3422671103477477, 1.4118313479423523, 1.468309829235077, 1.4305617332458496, 1.619095242023468, 1.4900277757644653, 1.5921394944190979, 1.4331292986869812, 1.5656417226791381, 1.6025747489929199, 1.6115100765228272, 1.6171373176574706, 1.4974716997146607, 1.6448046803474425, 1.6357415652275085, 1.4990618562698363, 1.2858665800094604, 1.4362549257278443, 1.3839680123329163, 1.4394021439552307, 1.5193523645401001, 1.6151867389678956, 1.4985089802742004, 1.4272795081138612, 1.4221443128585816, 1.2751284456253051, 1.325443034172058, 1.3453159260749816, 1.4328895831108093, 1.4585467219352721, 1.4561477565765382]\n"
     ]
    },
    {
     "name": "stderr",
     "output_type": "stream",
     "text": [
      "\n"
     ]
    },
    {
     "name": "stdout",
     "output_type": "stream",
     "text": [
      "epoch: 185 Test mAP: 0.0389508455991745 Train mAP: 0.9409541487693787\n",
      "Test mAP Array: [0.0, 0.0, 0.02127656154334545, 0.010204067453742027, 0.0051215216517448425, 0.014166646637022495, 0.03316193446516991, 0.003313692519441247, 0.026041634380817413, 0.0044200788252055645, 0.021867142990231514, 0.0007518788916058838, 0.008113626390695572, 0.013275040313601494, 0.010353523306548595, 0.002705624559894204, 0.044328223913908005, 0.013353311456739902, 0.012046190910041332, 0.015503612346947193, 0.00856652669608593, 0.012172631919384003, 0.046446543186903, 0.017765548080205917, 0.023400645703077316, 0.01204537134617567, 0.016965964809060097, 0.004761898890137672, 0.019243961200118065, 0.01944098062813282, 0.010200467891991138, 0.012091489508748055, 0.009374989196658134, 0.018000558018684387, 0.01932452619075775, 0.0331081748008728, 0.024309316650032997, 0.0389508455991745]\n",
      "Train mAP Array: [0.0, 0.0747547596693039, 0.5053293108940125, 0.7937700748443604, 0.9663692712783813, 0.9874552488327026, 0.9544763565063477, 0.9058959484100342, 0.7671000361442566, 0.7827416658401489, 0.8842312693595886, 0.8449891209602356, 0.8830795884132385, 0.9306423664093018, 0.8613497614860535, 0.8504751920700073, 0.8839361667633057, 0.9316099286079407, 0.9345404505729675, 0.8662539124488831, 0.8716952204704285, 0.9339544177055359, 0.8891709446907043, 0.9316245317459106, 0.8825041651725769, 0.9395813345909119, 0.8783979415893555, 0.9302313923835754, 0.9664768576622009, 0.9243113398551941, 0.9493480920791626, 0.9842320084571838, 0.96986985206604, 0.9673581719398499, 0.9706774950027466, 0.9686717391014099, 0.9412909746170044, 0.9409541487693787]\n",
      "=> Saving checkpoint\n"
     ]
    },
    {
     "name": "stderr",
     "output_type": "stream",
     "text": [
      "100%|██████████| 25/25 [00:13<00:00,  1.86it/s, loss=1.36]\n"
     ]
    },
    {
     "name": "stdout",
     "output_type": "stream",
     "text": [
      "Mean Loss Array: [109.72338996887207, 44.82798828125, 32.273617362976076, 26.064711532592774, 21.157442321777342, 19.115713691711427, 16.144016456604003, 14.384355735778808, 13.049383049011231, 12.153732318878173, 11.268043804168702, 10.582560024261475, 9.440228748321534, 9.014247779846192, 8.482091827392578, 8.003567943572998, 7.432519369125366, 7.155730819702148, 6.746190195083618, 6.142616205215454, 6.142941875457764, 5.743178958892822, 5.321213102340698, 5.176215934753418, 4.775535774230957, 4.601470146179199, 4.661863927841186, 4.357816190719604, 4.063107490539551, 3.9366776371002197, 3.8242201232910156, 3.982276134490967, 3.5431699085235597, 3.6115941429138183, 3.6431439113616944, 3.610076675415039, 3.685580883026123, 3.7001155853271483, 3.8652588748931884, 4.324375524520874, 4.284564528465271, 4.347878742218017, 3.902965383529663, 4.126591539382934, 3.909240999221802, 3.7352996635437012, 3.7414236068725586, 3.9067931318283082, 4.026785469055175, 3.6361935329437256, 3.5152342700958252, 3.3081491708755495, 3.631723232269287, 3.4103569412231445, 3.5419870948791505, 3.466613187789917, 3.7215825843811037, 3.487019019126892, 3.249955735206604, 3.114084506034851, 3.0858022928237916, 2.8493510723114013, 2.7015558958053587, 2.614822993278503, 2.4843905448913572, 2.6212459993362427, 2.6377088594436646, 2.6975906467437745, 2.7389305591583253, 2.8232978200912475, 2.72934965133667, 2.646454849243164, 2.613568410873413, 2.5136814594268797, 2.5978206110000612, 2.6254583644866942, 2.4057094049453736, 2.402720084190369, 2.639316430091858, 2.774964299201965, 2.754122519493103, 3.2175788402557375, 3.1085861253738405, 2.6763640642166138, 2.2616823387145994, 2.0419602537155153, 2.4161604404449464, 2.1771450996398927, 2.094261951446533, 2.2152916240692138, 2.179808506965637, 2.1776322078704835, 2.254474244117737, 2.177420110702515, 2.2640201902389525, 2.2587379169464112, 2.5137687158584594, 2.596677689552307, 2.317622127532959, 2.346512265205383, 2.4663615322113035, 2.5086402177810667, 2.367177896499634, 2.326920690536499, 2.210363359451294, 2.0326780819892885, 2.2230395793914797, 2.0994843864440917, 2.20056378364563, 2.0773591709136965, 2.0296157598495483, 2.0477620792388915, 1.9210728740692138, 2.054435524940491, 2.056104645729065, 1.9066025376319886, 1.843522915840149, 2.3062718963623046, 1.9144582271575927, 1.9594469785690307, 1.9459510326385498, 1.86377028465271, 1.6025599288940429, 1.7876520872116088, 1.6909418821334838, 1.731949632167816, 1.9265658235549927, 1.8606476402282714, 1.949471688270569, 2.1066246747970583, 1.7790155863761903, 1.7997071647644043, 1.7533905220031738, 1.7180848813056946, 1.7088996696472167, 1.6943549728393554, 1.6413279318809508, 1.6026857709884643, 1.6194091105461121, 1.508999652862549, 1.7580823016166687, 1.79651930809021, 1.622192885875702, 1.8660597777366639, 1.6159732365608215, 1.5839011216163634, 1.5803806018829345, 1.638033709526062, 1.522466902732849, 1.3889670062065125, 1.3900275135040283, 1.5603622269630433, 1.4473596334457397, 1.3786982536315917, 1.3422671103477477, 1.4118313479423523, 1.468309829235077, 1.4305617332458496, 1.619095242023468, 1.4900277757644653, 1.5921394944190979, 1.4331292986869812, 1.5656417226791381, 1.6025747489929199, 1.6115100765228272, 1.6171373176574706, 1.4974716997146607, 1.6448046803474425, 1.6357415652275085, 1.4990618562698363, 1.2858665800094604, 1.4362549257278443, 1.3839680123329163, 1.4394021439552307, 1.5193523645401001, 1.6151867389678956, 1.4985089802742004, 1.4272795081138612, 1.4221443128585816, 1.2751284456253051, 1.325443034172058, 1.3453159260749816, 1.4328895831108093, 1.4585467219352721, 1.4561477565765382, 1.3962455368041993]\n"
     ]
    },
    {
     "name": "stderr",
     "output_type": "stream",
     "text": [
      "100%|██████████| 25/25 [00:13<00:00,  1.85it/s, loss=1.66]\n"
     ]
    },
    {
     "name": "stdout",
     "output_type": "stream",
     "text": [
      "Mean Loss Array: [109.72338996887207, 44.82798828125, 32.273617362976076, 26.064711532592774, 21.157442321777342, 19.115713691711427, 16.144016456604003, 14.384355735778808, 13.049383049011231, 12.153732318878173, 11.268043804168702, 10.582560024261475, 9.440228748321534, 9.014247779846192, 8.482091827392578, 8.003567943572998, 7.432519369125366, 7.155730819702148, 6.746190195083618, 6.142616205215454, 6.142941875457764, 5.743178958892822, 5.321213102340698, 5.176215934753418, 4.775535774230957, 4.601470146179199, 4.661863927841186, 4.357816190719604, 4.063107490539551, 3.9366776371002197, 3.8242201232910156, 3.982276134490967, 3.5431699085235597, 3.6115941429138183, 3.6431439113616944, 3.610076675415039, 3.685580883026123, 3.7001155853271483, 3.8652588748931884, 4.324375524520874, 4.284564528465271, 4.347878742218017, 3.902965383529663, 4.126591539382934, 3.909240999221802, 3.7352996635437012, 3.7414236068725586, 3.9067931318283082, 4.026785469055175, 3.6361935329437256, 3.5152342700958252, 3.3081491708755495, 3.631723232269287, 3.4103569412231445, 3.5419870948791505, 3.466613187789917, 3.7215825843811037, 3.487019019126892, 3.249955735206604, 3.114084506034851, 3.0858022928237916, 2.8493510723114013, 2.7015558958053587, 2.614822993278503, 2.4843905448913572, 2.6212459993362427, 2.6377088594436646, 2.6975906467437745, 2.7389305591583253, 2.8232978200912475, 2.72934965133667, 2.646454849243164, 2.613568410873413, 2.5136814594268797, 2.5978206110000612, 2.6254583644866942, 2.4057094049453736, 2.402720084190369, 2.639316430091858, 2.774964299201965, 2.754122519493103, 3.2175788402557375, 3.1085861253738405, 2.6763640642166138, 2.2616823387145994, 2.0419602537155153, 2.4161604404449464, 2.1771450996398927, 2.094261951446533, 2.2152916240692138, 2.179808506965637, 2.1776322078704835, 2.254474244117737, 2.177420110702515, 2.2640201902389525, 2.2587379169464112, 2.5137687158584594, 2.596677689552307, 2.317622127532959, 2.346512265205383, 2.4663615322113035, 2.5086402177810667, 2.367177896499634, 2.326920690536499, 2.210363359451294, 2.0326780819892885, 2.2230395793914797, 2.0994843864440917, 2.20056378364563, 2.0773591709136965, 2.0296157598495483, 2.0477620792388915, 1.9210728740692138, 2.054435524940491, 2.056104645729065, 1.9066025376319886, 1.843522915840149, 2.3062718963623046, 1.9144582271575927, 1.9594469785690307, 1.9459510326385498, 1.86377028465271, 1.6025599288940429, 1.7876520872116088, 1.6909418821334838, 1.731949632167816, 1.9265658235549927, 1.8606476402282714, 1.949471688270569, 2.1066246747970583, 1.7790155863761903, 1.7997071647644043, 1.7533905220031738, 1.7180848813056946, 1.7088996696472167, 1.6943549728393554, 1.6413279318809508, 1.6026857709884643, 1.6194091105461121, 1.508999652862549, 1.7580823016166687, 1.79651930809021, 1.622192885875702, 1.8660597777366639, 1.6159732365608215, 1.5839011216163634, 1.5803806018829345, 1.638033709526062, 1.522466902732849, 1.3889670062065125, 1.3900275135040283, 1.5603622269630433, 1.4473596334457397, 1.3786982536315917, 1.3422671103477477, 1.4118313479423523, 1.468309829235077, 1.4305617332458496, 1.619095242023468, 1.4900277757644653, 1.5921394944190979, 1.4331292986869812, 1.5656417226791381, 1.6025747489929199, 1.6115100765228272, 1.6171373176574706, 1.4974716997146607, 1.6448046803474425, 1.6357415652275085, 1.4990618562698363, 1.2858665800094604, 1.4362549257278443, 1.3839680123329163, 1.4394021439552307, 1.5193523645401001, 1.6151867389678956, 1.4985089802742004, 1.4272795081138612, 1.4221443128585816, 1.2751284456253051, 1.325443034172058, 1.3453159260749816, 1.4328895831108093, 1.4585467219352721, 1.4561477565765382, 1.3962455368041993, 1.4358772587776185]\n"
     ]
    },
    {
     "name": "stderr",
     "output_type": "stream",
     "text": [
      "100%|██████████| 25/25 [00:11<00:00,  2.12it/s, loss=1.96]\n"
     ]
    },
    {
     "name": "stdout",
     "output_type": "stream",
     "text": [
      "Mean Loss Array: [109.72338996887207, 44.82798828125, 32.273617362976076, 26.064711532592774, 21.157442321777342, 19.115713691711427, 16.144016456604003, 14.384355735778808, 13.049383049011231, 12.153732318878173, 11.268043804168702, 10.582560024261475, 9.440228748321534, 9.014247779846192, 8.482091827392578, 8.003567943572998, 7.432519369125366, 7.155730819702148, 6.746190195083618, 6.142616205215454, 6.142941875457764, 5.743178958892822, 5.321213102340698, 5.176215934753418, 4.775535774230957, 4.601470146179199, 4.661863927841186, 4.357816190719604, 4.063107490539551, 3.9366776371002197, 3.8242201232910156, 3.982276134490967, 3.5431699085235597, 3.6115941429138183, 3.6431439113616944, 3.610076675415039, 3.685580883026123, 3.7001155853271483, 3.8652588748931884, 4.324375524520874, 4.284564528465271, 4.347878742218017, 3.902965383529663, 4.126591539382934, 3.909240999221802, 3.7352996635437012, 3.7414236068725586, 3.9067931318283082, 4.026785469055175, 3.6361935329437256, 3.5152342700958252, 3.3081491708755495, 3.631723232269287, 3.4103569412231445, 3.5419870948791505, 3.466613187789917, 3.7215825843811037, 3.487019019126892, 3.249955735206604, 3.114084506034851, 3.0858022928237916, 2.8493510723114013, 2.7015558958053587, 2.614822993278503, 2.4843905448913572, 2.6212459993362427, 2.6377088594436646, 2.6975906467437745, 2.7389305591583253, 2.8232978200912475, 2.72934965133667, 2.646454849243164, 2.613568410873413, 2.5136814594268797, 2.5978206110000612, 2.6254583644866942, 2.4057094049453736, 2.402720084190369, 2.639316430091858, 2.774964299201965, 2.754122519493103, 3.2175788402557375, 3.1085861253738405, 2.6763640642166138, 2.2616823387145994, 2.0419602537155153, 2.4161604404449464, 2.1771450996398927, 2.094261951446533, 2.2152916240692138, 2.179808506965637, 2.1776322078704835, 2.254474244117737, 2.177420110702515, 2.2640201902389525, 2.2587379169464112, 2.5137687158584594, 2.596677689552307, 2.317622127532959, 2.346512265205383, 2.4663615322113035, 2.5086402177810667, 2.367177896499634, 2.326920690536499, 2.210363359451294, 2.0326780819892885, 2.2230395793914797, 2.0994843864440917, 2.20056378364563, 2.0773591709136965, 2.0296157598495483, 2.0477620792388915, 1.9210728740692138, 2.054435524940491, 2.056104645729065, 1.9066025376319886, 1.843522915840149, 2.3062718963623046, 1.9144582271575927, 1.9594469785690307, 1.9459510326385498, 1.86377028465271, 1.6025599288940429, 1.7876520872116088, 1.6909418821334838, 1.731949632167816, 1.9265658235549927, 1.8606476402282714, 1.949471688270569, 2.1066246747970583, 1.7790155863761903, 1.7997071647644043, 1.7533905220031738, 1.7180848813056946, 1.7088996696472167, 1.6943549728393554, 1.6413279318809508, 1.6026857709884643, 1.6194091105461121, 1.508999652862549, 1.7580823016166687, 1.79651930809021, 1.622192885875702, 1.8660597777366639, 1.6159732365608215, 1.5839011216163634, 1.5803806018829345, 1.638033709526062, 1.522466902732849, 1.3889670062065125, 1.3900275135040283, 1.5603622269630433, 1.4473596334457397, 1.3786982536315917, 1.3422671103477477, 1.4118313479423523, 1.468309829235077, 1.4305617332458496, 1.619095242023468, 1.4900277757644653, 1.5921394944190979, 1.4331292986869812, 1.5656417226791381, 1.6025747489929199, 1.6115100765228272, 1.6171373176574706, 1.4974716997146607, 1.6448046803474425, 1.6357415652275085, 1.4990618562698363, 1.2858665800094604, 1.4362549257278443, 1.3839680123329163, 1.4394021439552307, 1.5193523645401001, 1.6151867389678956, 1.4985089802742004, 1.4272795081138612, 1.4221443128585816, 1.2751284456253051, 1.325443034172058, 1.3453159260749816, 1.4328895831108093, 1.4585467219352721, 1.4561477565765382, 1.3962455368041993, 1.4358772587776185, 1.4299667382240295]\n"
     ]
    },
    {
     "name": "stderr",
     "output_type": "stream",
     "text": [
      "100%|██████████| 25/25 [00:10<00:00,  2.28it/s, loss=1.3]\n"
     ]
    },
    {
     "name": "stdout",
     "output_type": "stream",
     "text": [
      "Mean Loss Array: [109.72338996887207, 44.82798828125, 32.273617362976076, 26.064711532592774, 21.157442321777342, 19.115713691711427, 16.144016456604003, 14.384355735778808, 13.049383049011231, 12.153732318878173, 11.268043804168702, 10.582560024261475, 9.440228748321534, 9.014247779846192, 8.482091827392578, 8.003567943572998, 7.432519369125366, 7.155730819702148, 6.746190195083618, 6.142616205215454, 6.142941875457764, 5.743178958892822, 5.321213102340698, 5.176215934753418, 4.775535774230957, 4.601470146179199, 4.661863927841186, 4.357816190719604, 4.063107490539551, 3.9366776371002197, 3.8242201232910156, 3.982276134490967, 3.5431699085235597, 3.6115941429138183, 3.6431439113616944, 3.610076675415039, 3.685580883026123, 3.7001155853271483, 3.8652588748931884, 4.324375524520874, 4.284564528465271, 4.347878742218017, 3.902965383529663, 4.126591539382934, 3.909240999221802, 3.7352996635437012, 3.7414236068725586, 3.9067931318283082, 4.026785469055175, 3.6361935329437256, 3.5152342700958252, 3.3081491708755495, 3.631723232269287, 3.4103569412231445, 3.5419870948791505, 3.466613187789917, 3.7215825843811037, 3.487019019126892, 3.249955735206604, 3.114084506034851, 3.0858022928237916, 2.8493510723114013, 2.7015558958053587, 2.614822993278503, 2.4843905448913572, 2.6212459993362427, 2.6377088594436646, 2.6975906467437745, 2.7389305591583253, 2.8232978200912475, 2.72934965133667, 2.646454849243164, 2.613568410873413, 2.5136814594268797, 2.5978206110000612, 2.6254583644866942, 2.4057094049453736, 2.402720084190369, 2.639316430091858, 2.774964299201965, 2.754122519493103, 3.2175788402557375, 3.1085861253738405, 2.6763640642166138, 2.2616823387145994, 2.0419602537155153, 2.4161604404449464, 2.1771450996398927, 2.094261951446533, 2.2152916240692138, 2.179808506965637, 2.1776322078704835, 2.254474244117737, 2.177420110702515, 2.2640201902389525, 2.2587379169464112, 2.5137687158584594, 2.596677689552307, 2.317622127532959, 2.346512265205383, 2.4663615322113035, 2.5086402177810667, 2.367177896499634, 2.326920690536499, 2.210363359451294, 2.0326780819892885, 2.2230395793914797, 2.0994843864440917, 2.20056378364563, 2.0773591709136965, 2.0296157598495483, 2.0477620792388915, 1.9210728740692138, 2.054435524940491, 2.056104645729065, 1.9066025376319886, 1.843522915840149, 2.3062718963623046, 1.9144582271575927, 1.9594469785690307, 1.9459510326385498, 1.86377028465271, 1.6025599288940429, 1.7876520872116088, 1.6909418821334838, 1.731949632167816, 1.9265658235549927, 1.8606476402282714, 1.949471688270569, 2.1066246747970583, 1.7790155863761903, 1.7997071647644043, 1.7533905220031738, 1.7180848813056946, 1.7088996696472167, 1.6943549728393554, 1.6413279318809508, 1.6026857709884643, 1.6194091105461121, 1.508999652862549, 1.7580823016166687, 1.79651930809021, 1.622192885875702, 1.8660597777366639, 1.6159732365608215, 1.5839011216163634, 1.5803806018829345, 1.638033709526062, 1.522466902732849, 1.3889670062065125, 1.3900275135040283, 1.5603622269630433, 1.4473596334457397, 1.3786982536315917, 1.3422671103477477, 1.4118313479423523, 1.468309829235077, 1.4305617332458496, 1.619095242023468, 1.4900277757644653, 1.5921394944190979, 1.4331292986869812, 1.5656417226791381, 1.6025747489929199, 1.6115100765228272, 1.6171373176574706, 1.4974716997146607, 1.6448046803474425, 1.6357415652275085, 1.4990618562698363, 1.2858665800094604, 1.4362549257278443, 1.3839680123329163, 1.4394021439552307, 1.5193523645401001, 1.6151867389678956, 1.4985089802742004, 1.4272795081138612, 1.4221443128585816, 1.2751284456253051, 1.325443034172058, 1.3453159260749816, 1.4328895831108093, 1.4585467219352721, 1.4561477565765382, 1.3962455368041993, 1.4358772587776185, 1.4299667382240295, 1.5987610626220703]\n"
     ]
    },
    {
     "name": "stderr",
     "output_type": "stream",
     "text": [
      "100%|██████████| 25/25 [00:10<00:00,  2.32it/s, loss=1.25]"
     ]
    },
    {
     "name": "stdout",
     "output_type": "stream",
     "text": [
      "Mean Loss Array: [109.72338996887207, 44.82798828125, 32.273617362976076, 26.064711532592774, 21.157442321777342, 19.115713691711427, 16.144016456604003, 14.384355735778808, 13.049383049011231, 12.153732318878173, 11.268043804168702, 10.582560024261475, 9.440228748321534, 9.014247779846192, 8.482091827392578, 8.003567943572998, 7.432519369125366, 7.155730819702148, 6.746190195083618, 6.142616205215454, 6.142941875457764, 5.743178958892822, 5.321213102340698, 5.176215934753418, 4.775535774230957, 4.601470146179199, 4.661863927841186, 4.357816190719604, 4.063107490539551, 3.9366776371002197, 3.8242201232910156, 3.982276134490967, 3.5431699085235597, 3.6115941429138183, 3.6431439113616944, 3.610076675415039, 3.685580883026123, 3.7001155853271483, 3.8652588748931884, 4.324375524520874, 4.284564528465271, 4.347878742218017, 3.902965383529663, 4.126591539382934, 3.909240999221802, 3.7352996635437012, 3.7414236068725586, 3.9067931318283082, 4.026785469055175, 3.6361935329437256, 3.5152342700958252, 3.3081491708755495, 3.631723232269287, 3.4103569412231445, 3.5419870948791505, 3.466613187789917, 3.7215825843811037, 3.487019019126892, 3.249955735206604, 3.114084506034851, 3.0858022928237916, 2.8493510723114013, 2.7015558958053587, 2.614822993278503, 2.4843905448913572, 2.6212459993362427, 2.6377088594436646, 2.6975906467437745, 2.7389305591583253, 2.8232978200912475, 2.72934965133667, 2.646454849243164, 2.613568410873413, 2.5136814594268797, 2.5978206110000612, 2.6254583644866942, 2.4057094049453736, 2.402720084190369, 2.639316430091858, 2.774964299201965, 2.754122519493103, 3.2175788402557375, 3.1085861253738405, 2.6763640642166138, 2.2616823387145994, 2.0419602537155153, 2.4161604404449464, 2.1771450996398927, 2.094261951446533, 2.2152916240692138, 2.179808506965637, 2.1776322078704835, 2.254474244117737, 2.177420110702515, 2.2640201902389525, 2.2587379169464112, 2.5137687158584594, 2.596677689552307, 2.317622127532959, 2.346512265205383, 2.4663615322113035, 2.5086402177810667, 2.367177896499634, 2.326920690536499, 2.210363359451294, 2.0326780819892885, 2.2230395793914797, 2.0994843864440917, 2.20056378364563, 2.0773591709136965, 2.0296157598495483, 2.0477620792388915, 1.9210728740692138, 2.054435524940491, 2.056104645729065, 1.9066025376319886, 1.843522915840149, 2.3062718963623046, 1.9144582271575927, 1.9594469785690307, 1.9459510326385498, 1.86377028465271, 1.6025599288940429, 1.7876520872116088, 1.6909418821334838, 1.731949632167816, 1.9265658235549927, 1.8606476402282714, 1.949471688270569, 2.1066246747970583, 1.7790155863761903, 1.7997071647644043, 1.7533905220031738, 1.7180848813056946, 1.7088996696472167, 1.6943549728393554, 1.6413279318809508, 1.6026857709884643, 1.6194091105461121, 1.508999652862549, 1.7580823016166687, 1.79651930809021, 1.622192885875702, 1.8660597777366639, 1.6159732365608215, 1.5839011216163634, 1.5803806018829345, 1.638033709526062, 1.522466902732849, 1.3889670062065125, 1.3900275135040283, 1.5603622269630433, 1.4473596334457397, 1.3786982536315917, 1.3422671103477477, 1.4118313479423523, 1.468309829235077, 1.4305617332458496, 1.619095242023468, 1.4900277757644653, 1.5921394944190979, 1.4331292986869812, 1.5656417226791381, 1.6025747489929199, 1.6115100765228272, 1.6171373176574706, 1.4974716997146607, 1.6448046803474425, 1.6357415652275085, 1.4990618562698363, 1.2858665800094604, 1.4362549257278443, 1.3839680123329163, 1.4394021439552307, 1.5193523645401001, 1.6151867389678956, 1.4985089802742004, 1.4272795081138612, 1.4221443128585816, 1.2751284456253051, 1.325443034172058, 1.3453159260749816, 1.4328895831108093, 1.4585467219352721, 1.4561477565765382, 1.3962455368041993, 1.4358772587776185, 1.4299667382240295, 1.5987610626220703, 1.4728900480270386]\n"
     ]
    },
    {
     "name": "stderr",
     "output_type": "stream",
     "text": [
      "\n"
     ]
    },
    {
     "name": "stdout",
     "output_type": "stream",
     "text": [
      "epoch: 190 Test mAP: 0.021965913474559784 Train mAP: 0.9699730277061462\n",
      "Test mAP Array: [0.0, 0.0, 0.02127656154334545, 0.010204067453742027, 0.0051215216517448425, 0.014166646637022495, 0.03316193446516991, 0.003313692519441247, 0.026041634380817413, 0.0044200788252055645, 0.021867142990231514, 0.0007518788916058838, 0.008113626390695572, 0.013275040313601494, 0.010353523306548595, 0.002705624559894204, 0.044328223913908005, 0.013353311456739902, 0.012046190910041332, 0.015503612346947193, 0.00856652669608593, 0.012172631919384003, 0.046446543186903, 0.017765548080205917, 0.023400645703077316, 0.01204537134617567, 0.016965964809060097, 0.004761898890137672, 0.019243961200118065, 0.01944098062813282, 0.010200467891991138, 0.012091489508748055, 0.009374989196658134, 0.018000558018684387, 0.01932452619075775, 0.0331081748008728, 0.024309316650032997, 0.0389508455991745, 0.021965913474559784]\n",
      "Train mAP Array: [0.0, 0.0747547596693039, 0.5053293108940125, 0.7937700748443604, 0.9663692712783813, 0.9874552488327026, 0.9544763565063477, 0.9058959484100342, 0.7671000361442566, 0.7827416658401489, 0.8842312693595886, 0.8449891209602356, 0.8830795884132385, 0.9306423664093018, 0.8613497614860535, 0.8504751920700073, 0.8839361667633057, 0.9316099286079407, 0.9345404505729675, 0.8662539124488831, 0.8716952204704285, 0.9339544177055359, 0.8891709446907043, 0.9316245317459106, 0.8825041651725769, 0.9395813345909119, 0.8783979415893555, 0.9302313923835754, 0.9664768576622009, 0.9243113398551941, 0.9493480920791626, 0.9842320084571838, 0.96986985206604, 0.9673581719398499, 0.9706774950027466, 0.9686717391014099, 0.9412909746170044, 0.9409541487693787, 0.9699730277061462]\n",
      "=> Saving checkpoint\n"
     ]
    },
    {
     "name": "stderr",
     "output_type": "stream",
     "text": [
      "100%|██████████| 25/25 [00:11<00:00,  2.10it/s, loss=1.71]\n"
     ]
    },
    {
     "name": "stdout",
     "output_type": "stream",
     "text": [
      "Mean Loss Array: [109.72338996887207, 44.82798828125, 32.273617362976076, 26.064711532592774, 21.157442321777342, 19.115713691711427, 16.144016456604003, 14.384355735778808, 13.049383049011231, 12.153732318878173, 11.268043804168702, 10.582560024261475, 9.440228748321534, 9.014247779846192, 8.482091827392578, 8.003567943572998, 7.432519369125366, 7.155730819702148, 6.746190195083618, 6.142616205215454, 6.142941875457764, 5.743178958892822, 5.321213102340698, 5.176215934753418, 4.775535774230957, 4.601470146179199, 4.661863927841186, 4.357816190719604, 4.063107490539551, 3.9366776371002197, 3.8242201232910156, 3.982276134490967, 3.5431699085235597, 3.6115941429138183, 3.6431439113616944, 3.610076675415039, 3.685580883026123, 3.7001155853271483, 3.8652588748931884, 4.324375524520874, 4.284564528465271, 4.347878742218017, 3.902965383529663, 4.126591539382934, 3.909240999221802, 3.7352996635437012, 3.7414236068725586, 3.9067931318283082, 4.026785469055175, 3.6361935329437256, 3.5152342700958252, 3.3081491708755495, 3.631723232269287, 3.4103569412231445, 3.5419870948791505, 3.466613187789917, 3.7215825843811037, 3.487019019126892, 3.249955735206604, 3.114084506034851, 3.0858022928237916, 2.8493510723114013, 2.7015558958053587, 2.614822993278503, 2.4843905448913572, 2.6212459993362427, 2.6377088594436646, 2.6975906467437745, 2.7389305591583253, 2.8232978200912475, 2.72934965133667, 2.646454849243164, 2.613568410873413, 2.5136814594268797, 2.5978206110000612, 2.6254583644866942, 2.4057094049453736, 2.402720084190369, 2.639316430091858, 2.774964299201965, 2.754122519493103, 3.2175788402557375, 3.1085861253738405, 2.6763640642166138, 2.2616823387145994, 2.0419602537155153, 2.4161604404449464, 2.1771450996398927, 2.094261951446533, 2.2152916240692138, 2.179808506965637, 2.1776322078704835, 2.254474244117737, 2.177420110702515, 2.2640201902389525, 2.2587379169464112, 2.5137687158584594, 2.596677689552307, 2.317622127532959, 2.346512265205383, 2.4663615322113035, 2.5086402177810667, 2.367177896499634, 2.326920690536499, 2.210363359451294, 2.0326780819892885, 2.2230395793914797, 2.0994843864440917, 2.20056378364563, 2.0773591709136965, 2.0296157598495483, 2.0477620792388915, 1.9210728740692138, 2.054435524940491, 2.056104645729065, 1.9066025376319886, 1.843522915840149, 2.3062718963623046, 1.9144582271575927, 1.9594469785690307, 1.9459510326385498, 1.86377028465271, 1.6025599288940429, 1.7876520872116088, 1.6909418821334838, 1.731949632167816, 1.9265658235549927, 1.8606476402282714, 1.949471688270569, 2.1066246747970583, 1.7790155863761903, 1.7997071647644043, 1.7533905220031738, 1.7180848813056946, 1.7088996696472167, 1.6943549728393554, 1.6413279318809508, 1.6026857709884643, 1.6194091105461121, 1.508999652862549, 1.7580823016166687, 1.79651930809021, 1.622192885875702, 1.8660597777366639, 1.6159732365608215, 1.5839011216163634, 1.5803806018829345, 1.638033709526062, 1.522466902732849, 1.3889670062065125, 1.3900275135040283, 1.5603622269630433, 1.4473596334457397, 1.3786982536315917, 1.3422671103477477, 1.4118313479423523, 1.468309829235077, 1.4305617332458496, 1.619095242023468, 1.4900277757644653, 1.5921394944190979, 1.4331292986869812, 1.5656417226791381, 1.6025747489929199, 1.6115100765228272, 1.6171373176574706, 1.4974716997146607, 1.6448046803474425, 1.6357415652275085, 1.4990618562698363, 1.2858665800094604, 1.4362549257278443, 1.3839680123329163, 1.4394021439552307, 1.5193523645401001, 1.6151867389678956, 1.4985089802742004, 1.4272795081138612, 1.4221443128585816, 1.2751284456253051, 1.325443034172058, 1.3453159260749816, 1.4328895831108093, 1.4585467219352721, 1.4561477565765382, 1.3962455368041993, 1.4358772587776185, 1.4299667382240295, 1.5987610626220703, 1.4728900480270386, 1.4055519556999208]\n"
     ]
    },
    {
     "name": "stderr",
     "output_type": "stream",
     "text": [
      " 24%|██▍       | 6/25 [00:03<00:11,  1.69it/s, loss=0.74]"
     ]
    }
   ],
   "source": [
    "#have to train tiny yolo\n",
    "EPOCHS = 100\n",
    "LOAD_MODEL = False\n",
    "MINIMUM_SCALE=0.3\n",
    "#main()"
   ]
  },
  {
   "cell_type": "code",
   "execution_count": null,
   "metadata": {
    "id": "pYna2hPeyYTC"
   },
   "outputs": [],
   "source": [
    "mean_loss_tiny=(torch.load(\"/content/drive/MyDrive/data/tiny_yolo/save_data_aug_0.6.pth.tar\")[\"mean_loss_array\"])\n",
    "mean_loss_yolo=(torch.load(\"/content/drive/MyDrive/data/yolov1/save.pth.tar\")[\"mean_loss_array\"])\n",
    "mean_loss_yolo_data=(torch.load(\"/content/drive/MyDrive/data/yolov1/save_data_aug_0.6.pth.tar\")[\"mean_loss_array\"])\n",
    "form(mean_loss_tiny[:50])\n",
    "form(mean_loss_yolo[:50])\n",
    "form(mean_loss_yolo_data[:50])\n",
    "y = mean_loss[10:]\n",
    "y2=mean_loss_data_aug[10:]\n",
    "x = range(max(len(y),len(y2)))\n",
    "plt.plot(x, y,y2)\n",
    "plt.xlabel('epochs')\n",
    "plt.ylabel('Loss')\n",
    "plt.title('Loss')\n",
    "plt.show()\n",
    "print(mean_loss_data_aug)\n",
    "print(mean_loss)"
   ]
  },
  {
   "cell_type": "code",
   "execution_count": null,
   "metadata": {
    "colab": {
     "base_uri": "https://localhost:8080/",
     "height": 254
    },
    "id": "JYNaMRoyCmU_",
    "outputId": "79658f68-f71a-4306-95f7-adad694a4a80"
   },
   "outputs": [
    {
     "ename": "KeyError",
     "evalue": "ignored",
     "output_type": "error",
     "traceback": [
      "\u001b[0;31m---------------------------------------------------------------------------\u001b[0m",
      "\u001b[0;31mKeyError\u001b[0m                                  Traceback (most recent call last)",
      "\u001b[0;32m<ipython-input-33-91c1aec309ea>\u001b[0m in \u001b[0;36m<cell line: 2>\u001b[0;34m()\u001b[0m\n\u001b[1;32m      1\u001b[0m \u001b[0;31m#map_array_test_data_aug=(torch.load(\"/content/drive/MyDrive/archive/data/tiny_yolo/save.pth.tar\")[\"map_array_test\"])\u001b[0m\u001b[0;34m\u001b[0m\u001b[0;34m\u001b[0m\u001b[0m\n\u001b[0;32m----> 2\u001b[0;31m \u001b[0mmap_array_test\u001b[0m\u001b[0;34m=\u001b[0m\u001b[0;34m(\u001b[0m\u001b[0mtorch\u001b[0m\u001b[0;34m.\u001b[0m\u001b[0mload\u001b[0m\u001b[0;34m(\u001b[0m\u001b[0;34m\"/content/drive/MyDrive/archive/data/yolov1/best_model.pth.tar\"\u001b[0m\u001b[0;34m)\u001b[0m\u001b[0;34m[\u001b[0m\u001b[0;34m\"map_array_test\"\u001b[0m\u001b[0;34m]\u001b[0m\u001b[0;34m)\u001b[0m\u001b[0;34m\u001b[0m\u001b[0;34m\u001b[0m\u001b[0m\n\u001b[0m\u001b[1;32m      3\u001b[0m \u001b[0my\u001b[0m \u001b[0;34m=\u001b[0m \u001b[0mmap_array_test\u001b[0m\u001b[0;34m[\u001b[0m\u001b[0;36m0\u001b[0m\u001b[0;34m:\u001b[0m\u001b[0;34m]\u001b[0m\u001b[0;34m\u001b[0m\u001b[0;34m\u001b[0m\u001b[0m\n\u001b[1;32m      4\u001b[0m \u001b[0my2\u001b[0m\u001b[0;34m=\u001b[0m\u001b[0mmap_array_test_data_aug\u001b[0m\u001b[0;34m[\u001b[0m\u001b[0;36m0\u001b[0m\u001b[0;34m:\u001b[0m\u001b[0;34m]\u001b[0m\u001b[0;34m\u001b[0m\u001b[0;34m\u001b[0m\u001b[0m\n\u001b[1;32m      5\u001b[0m \u001b[0mx\u001b[0m \u001b[0;34m=\u001b[0m \u001b[0mrange\u001b[0m\u001b[0;34m(\u001b[0m\u001b[0mmax\u001b[0m\u001b[0;34m(\u001b[0m\u001b[0mlen\u001b[0m\u001b[0;34m(\u001b[0m\u001b[0my\u001b[0m\u001b[0;34m)\u001b[0m\u001b[0;34m,\u001b[0m\u001b[0mlen\u001b[0m\u001b[0;34m(\u001b[0m\u001b[0my2\u001b[0m\u001b[0;34m)\u001b[0m\u001b[0;34m)\u001b[0m\u001b[0;34m)\u001b[0m\u001b[0;34m\u001b[0m\u001b[0;34m\u001b[0m\u001b[0m\n",
      "\u001b[0;31mKeyError\u001b[0m: 'map_array_test'"
     ]
    }
   ],
   "source": [
    "#map_array_test_data_aug=(torch.load(\"/content/drive/MyDrive/archive/data/tiny_yolo/save.pth.tar\")[\"map_array_test\"])\n",
    "map_array_test=(torch.load(\"/content/drive/MyDrive/archive/data/yolov1/best_model.pth.tar\")[\"map_array_test\"])\n",
    "y = map_array_test[0:]\n",
    "y2=map_array_test_data_aug[0:]\n",
    "x = range(max(len(y),len(y2)))\n",
    "plt.plot(x, y,y2)\n",
    "plt.xlabel('epochs')\n",
    "plt.ylabel('mAP Test')\n",
    "plt.title('mAP Test')\n",
    "plt.show()\n",
    "print(map_array_test_data_aug)\n",
    "print(map_array_test)"
   ]
  },
  {
   "cell_type": "code",
   "execution_count": null,
   "metadata": {
    "id": "H_Iy5HGZCDNM"
   },
   "outputs": [],
   "source": [
    "map_array_train_tiny_data_aug=(torch.load(\"/content/drive/MyDrive/data/tiny_yolo/save_data_aug_0.6.pth.tar\")[\"map_array_train\"])\n",
    "map_array_train_data_aug=(torch.load(\"/content/drive/MyDrive/data/yolov1/save_data_aug_0.6.pth.tar\")[\"map_array_train\"])\n",
    "map_array_train=mean_loss_array=(torch.load(\"/content/drive/MyDrive/data/yolov1/save.pth.tar\")[\"map_array_train\"])\n",
    "y = map_array_train[0:]\n",
    "y2=map_array_train_data_aug[0:]\n",
    "y3=map_array_train_tiny_data_aug\n",
    "m=min(len(y),len(y2))\n",
    "x = range(m)\n",
    "plt.plot(x, y[:m],y)\n",
    "plt.xlabel('epochs')\n",
    "plt.ylabel('mAP Train')\n",
    "plt.title('mAP Train')\n",
    "plt.show()\n",
    "print(y3)\n",
    "print(y)"
   ]
  },
  {
   "cell_type": "code",
   "execution_count": null,
   "metadata": {
    "id": "OeZ4Zv5wwAMY"
   },
   "outputs": [],
   "source": []
  },
  {
   "cell_type": "code",
   "execution_count": null,
   "metadata": {
    "colab": {
     "base_uri": "https://localhost:8080/",
     "height": 300
    },
    "id": "X3CVqrJyLxC9",
    "outputId": "448e9628-fa8c-4130-d3d2-e93ccf537bd9"
   },
   "outputs": [
    {
     "name": "stdout",
     "output_type": "stream",
     "text": [
      "0.00, 0.00, 0.00, 0.00, 0.02, 0.03, 0.08, 0.09, 0.13, 0.13, 0.14, 0.24, 0.28, 0.25, 0.30, 0.46, 0.48, 0.44, 0.52, 0.56, 0.62, 0.56, 0.64, 0.68, 0.64, 0.73, 0.71, 0.73, 0.74, 0.75, 0.73, 0.77, 0.77, 0.75, 0.73, 0.73, 0.81, 0.77, 0.76, 0.74, 0.84, 0.79, 0.78, 0.81, 0.86, 0.80, 0.79, 0.84, 0.81, 0.87, 0.88, 0.82, 0.81, 0.84, 0.90, 0.88, 0.82, 0.89, 0.89, 0.85, 0.92, 0.85, 0.88, 0.92, 0.90, 0.87, 0.86, 0.89\n",
      "0.00, 0.01, 0.01, 0.00, 0.01, 0.01, 0.02, 0.03, 0.05, 0.03, 0.05, 0.11, 0.11, 0.09, 0.06, 0.13, 0.11, 0.21, 0.16, 0.19, 0.23, 0.27, 0.27, 0.21, 0.20, 0.28, 0.23, 0.26, 0.33, 0.28, 0.28, 0.31, 0.29, 0.33, 0.31, 0.34, 0.24, 0.40, 0.42, 0.32, 0.33, 0.39, 0.31, 0.42, 0.43, 0.42, 0.32, 0.40, 0.38, 0.48, 0.41, 0.45, 0.44, 0.46, 0.32, 0.55, 0.43, 0.51, 0.49, 0.48, 0.42, 0.47, 0.41, 0.45, 0.43, 0.38, 0.41, 0.42\n"
     ]
    },
    {
     "ename": "NameError",
     "evalue": "ignored",
     "output_type": "error",
     "traceback": [
      "\u001b[0;31m---------------------------------------------------------------------------\u001b[0m",
      "\u001b[0;31mNameError\u001b[0m                                 Traceback (most recent call last)",
      "\u001b[0;32m<ipython-input-62-6bdaaec95757>\u001b[0m in \u001b[0;36m<cell line: 37>\u001b[0;34m()\u001b[0m\n\u001b[1;32m     35\u001b[0m \u001b[0;34m\u001b[0m\u001b[0m\n\u001b[1;32m     36\u001b[0m \u001b[0;31m# x axis values\u001b[0m\u001b[0;34m\u001b[0m\u001b[0;34m\u001b[0m\u001b[0m\n\u001b[0;32m---> 37\u001b[0;31m \u001b[0mx\u001b[0m \u001b[0;34m=\u001b[0m \u001b[0mrange\u001b[0m\u001b[0;34m(\u001b[0m\u001b[0mlen\u001b[0m\u001b[0;34m(\u001b[0m\u001b[0mmap_array_test\u001b[0m\u001b[0;34m)\u001b[0m\u001b[0;34m)\u001b[0m\u001b[0;34m\u001b[0m\u001b[0;34m\u001b[0m\u001b[0m\n\u001b[0m\u001b[1;32m     38\u001b[0m \u001b[0;31m# corresponding y axis values\u001b[0m\u001b[0;34m\u001b[0m\u001b[0;34m\u001b[0m\u001b[0m\n\u001b[1;32m     39\u001b[0m \u001b[0my1\u001b[0m \u001b[0;34m=\u001b[0m \u001b[0mmap_array_test\u001b[0m\u001b[0;34m\u001b[0m\u001b[0;34m\u001b[0m\u001b[0m\n",
      "\u001b[0;31mNameError\u001b[0m: name 'map_array_test' is not defined"
     ]
    }
   ],
   "source": [
    "def form(array):\n",
    "  print(', '.join(f'{q:.2f}' for q in array))\n",
    "# importing the required module\n",
    "import matplotlib.pyplot as plt\n",
    "# map_array_train=mean_loss_array=(torch.load(\"/content/drive/MyDrive/data/yolov1/save.pth.tar\")[\"map_array_train\"])\n",
    "# map_array_test=mean_loss_array=(torch.load(\"/content/drive/MyDrive/data/yolov1/save.pth.tar\")[\"map_array_test\"])\n",
    "# map_array_train_tiny_data_aug=(torch.load(\"/content/drive/MyDrive/data/tiny_yolo/save_data_aug_0.6.pth.tar\")[\"map_array_train\"])\n",
    "# map_array_train_data_aug=(torch.load(\"/content/drive/MyDrive/data/yolov1/save_data_aug_0.6.pth.tar\")[\"map_array_train\"])\n",
    "# map_array_train=mean_loss_array=(torch.load(\"/content/drive/MyDrive/data/yolov1/save.pth.tar\")[\"map_array_train\"])\n",
    "\n",
    "# map_array_test_data_aug=(torch.load(\"/content/drive/MyDrive/data/tiny_yolo/save_data_aug_0.6.pth.tar\")[\"map_array_test\"])\n",
    "\n",
    "# map_array_test_06=(torch.load(\"/content/drive/MyDrive/data/yolov1/save_data_aug_0.6.pth.tar\")[\"map_array_test\"])\n",
    "# map_array_test=(torch.load(\"/content/drive/MyDrive/data/yolov1/save.pth.tar\")[\"map_array_test\"])\n",
    "# print(file_list[0])\n",
    "# file=file_list[0]\n",
    "file=\"/content/drive/MyDrive/archive/data/yolov1/best_save_data_aug_0.3.pth.tar\"\n",
    "# print(yolov1_dir)\n",
    "epoch=torch.load(os.path.join(file),map_location=torch.device('cpu'))[\"total_epoch\"]\n",
    "val_map=torch.load(os.path.join(file),map_location=torch.device('cpu'))[\"map_array_test\"]\n",
    "train_map=torch.load(os.path.join(file),map_location=torch.device('cpu'))[\"map_array_train\"]\n",
    "train_loss=torch.load(os.path.join(file),map_location=torch.device('cpu'))[\"mean_loss_array\"]\n",
    "test_loss=torch.load(os.path.join(file),map_location=torch.device('cpu'))[\"mean_loss_test_array\"]\n",
    "\n",
    "form(train_map)\n",
    "form(val_map)\n",
    "# form(train_loss)\n",
    "# form(test_loss)\n",
    "#form(map_array_test)\n",
    "#print((torch.load(\"/content/drive/MyDrive/data/yolov1/save_data_aug_0.6.pth.tar\")[\"total_epoch\"]))\n",
    "\n",
    "\n",
    "\n",
    "\n",
    "\n",
    "# x axis values\n",
    "x = range(len(map_array_test))\n",
    "# corresponding y axis values\n",
    "y1 = map_array_test\n",
    "y2 = map_array_train\n",
    "print(max(map_array_train))\n",
    "# plotting the points\n",
    "plt.plot(x, y1, y2)\n",
    "\n",
    "# naming the x axis\n",
    "plt.xlabel('epochs')\n",
    "# naming the y axis\n",
    "plt.ylabel('Test mAp')\n",
    "\n",
    "# giving a title to my graph\n",
    "plt.title('mAP')\n",
    "\n",
    "# function to show the plot\n",
    "plt.show()"
   ]
  },
  {
   "cell_type": "code",
   "execution_count": null,
   "metadata": {
    "id": "6dhgvCPd6XxF"
   },
   "outputs": [],
   "source": [
    "#map_array_yolov1=(torch.load(yolov1_dir+\"/best_model.pth.tar\")[\"map_array\"])\n",
    "map_array_tiny_test=(torch.load(tiny_yolo_dir+\"/save.pth.tar\")[\"map_array_test\"])\n",
    "map_array_tiny_train=(torch.load(tiny_yolo_dir+\"/save.pth.tar\")[\"map_array_train\"])\n",
    "mean_loss_array=(torch.load(tiny_yolo_dir+\"/save.pth.tar\")[\"mean_loss_array\"])\n",
    "# importing the required module\n",
    "import matplotlib.pyplot as plt\n",
    "\n",
    "# x axis values\n",
    "x = range(len(map_array_tiny_test))\n",
    "# corresponding y axis values\n",
    "#y = map_array\n",
    "# plotting the points\n",
    "#plt.plot(x, map_array_yolov1,map_array_tiny[:len(map_array_yolov1)])\n",
    "plt.plot(x, map_array_tiny_test,map_array_tiny_train)\n",
    "\n",
    "# naming the x axis\n",
    "plt.xlabel('epochs')\n",
    "# naming the y axis\n",
    "plt.ylabel('Test mAp')\n",
    "\n",
    "# giving a title to my graph\n",
    "plt.title('mAP')\n",
    "\n",
    "# function to show the plot\n",
    "plt.show()"
   ]
  },
  {
   "cell_type": "code",
   "execution_count": null,
   "metadata": {
    "id": "RygOkCD4LWQN"
   },
   "outputs": [],
   "source": [
    "def show_bbox(img,boxes,name,scores=0,color=(0,255,0)):\n",
    "    #boxes=boxes.astype(int)\n",
    "    scores=scores\n",
    "    img=img.copy()\n",
    "    for box in boxes:\n",
    "        score=f\"{box[1]:.4f}\"\n",
    "        box = box[2:]\n",
    "        #score=f\"{scores[i]:.4f}\"\n",
    "        upper_left_x = box[0] - box[2] / 2\n",
    "        upper_left_y = box[1] - box[3] / 2\n",
    "        x=upper_left_x * width\n",
    "        y=upper_left_y * height\n",
    "        w=box[2] * width\n",
    "        h=box[3] * height\n",
    "        cv2.rectangle(img,(x,y),(w,h),color,2)\n",
    "        y=box[1]-10 if box[1]-10>10 else box[1]+10\n",
    "        cv2.putText(img,score,(box[0],y),cv2.FONT_HERSHEY_SIMPLEX,0.5,color,2)\n",
    "    plt.imshow(img)\n",
    "    #plt.savefig(name+\".png\")"
   ]
  },
  {
   "cell_type": "code",
   "execution_count": null,
   "metadata": {
    "id": "I1tWrHHcLcHk"
   },
   "outputs": [],
   "source": [
    "def plot_image(image, boxes,color,name):\n",
    "    \"\"\"Plots predicted bounding boxes on the image\"\"\"\n",
    "    img = np.array(image)\n",
    "    height, width, _ = img.shape\n",
    "    for box in boxes:\n",
    "        box = box[2:]\n",
    "        assert len(box) == 4, \"Got more values than in x, y, w, h, in a box!\"\n",
    "        #upper_left_x = box[0] + box[2] / 2\n",
    "        #upper_left_y = box[1] + box[3] / 2\n",
    "        x = int((box[0] - (box[2] / 2)) * img.shape[1])\n",
    "        y = int((box[1] - (box[3] / 2)) * img.shape[0])\n",
    "\n",
    "        x2 = x + int(box[2] * img.shape[1])\n",
    "        y2 = y + int(box[3] * img.shape[0])\n",
    "\n",
    "        cv2.rectangle(img,(x,y),(x2,y2),color,2)\n",
    "        # rect = patches.Rectangle(\n",
    "        #     (upper_left_x * width, upper_left_y * height),\n",
    "        #     box[2] * width, box[3] * height,\n",
    "        #     linewidth=1, edgecolor=color, facecolor=\"none\",\n",
    "        # )\n",
    "    #plt.show()\n",
    "    #plt.savefig(name+\".png\")\n",
    "    img = Image.fromarray(img)\n",
    "    img.save('/content/drive/MyDrive/archive/data/box_images/'+name+\".jpg\")"
   ]
  },
  {
   "cell_type": "code",
   "execution_count": null,
   "metadata": {
    "colab": {
     "base_uri": "https://localhost:8080/"
    },
    "id": "B6y1SQwklyud",
    "outputId": "3714c297-5388-4479-a26a-babc58d4d6ab"
   },
   "outputs": [
    {
     "name": "stdout",
     "output_type": "stream",
     "text": [
      "=> Loading checkpoint\n"
     ]
    }
   ],
   "source": [
    "model = select_model('tiny_yolo')\n",
    "load_checkpoint(torch.load('/content/drive/MyDrive/archive/data/tiny_yolo/save_data_aug_0.6.pth.tar'), model, optimizer)\n",
    "result_tiny_yolo=model.predict(split_size=7,num_boxes=2,num_classes=1,source=IMG_DIR_TEST,conf=0.50,iou=0.5)\n",
    "model = select_model('yolov1')\n",
    "load_checkpoint(torch.load('/content/drive/MyDrive/archive/data/yolov1/save.pth.tar'), model, optimizer)\n",
    "result_yolo_v1=model.predict(split_size=7,num_boxes=2,num_classes=1,source=IMG_DIR_TEST,conf=0.40,iou=0.5)\n",
    "model = select_model('yolov1')\n",
    "load_checkpoint(torch.load('/content/drive/MyDrive/archive/data/yolov1/save_data_aug_0.6.pth.tar'), model, optimizer)\n",
    "result_yolo_v1_data=model.predict(split_size=7,num_boxes=2,num_classes=1,source=IMG_DIR_TEST,conf=0.40,iou=0.5)"
   ]
  },
  {
   "cell_type": "code",
   "execution_count": null,
   "metadata": {
    "id": "anfYE3sKmdsl"
   },
   "outputs": [],
   "source": [
    "yolo_v1_data_a=[]\n",
    "for key in result_yolo_v1_data:\n",
    "  if len(result_yolo_v1_data[key])>0:\n",
    "    yolo_v1_data_a.append(key)"
   ]
  },
  {
   "cell_type": "code",
   "execution_count": null,
   "metadata": {
    "colab": {
     "base_uri": "https://localhost:8080/"
    },
    "id": "qy9P-nytnUcp",
    "outputId": "c675ff15-cd73-48d7-9208-ac8e5c347f8d"
   },
   "outputs": [
    {
     "name": "stdout",
     "output_type": "stream",
     "text": [
      "['vid_4_10000.jpg', 'vid_4_10100.jpg', 'vid_4_10120.jpg', 'vid_4_1040.jpg', 'vid_4_10980.jpg', 'vid_4_11000.jpg', 'vid_4_11240.jpg', 'vid_4_11260.jpg', 'vid_4_11380.jpg', 'vid_4_11880.jpg', 'vid_4_12080.jpg', 'vid_4_12160.jpg', 'vid_4_12200.jpg', 'vid_4_12240.jpg', 'vid_4_12280.jpg', 'vid_4_12300.jpg', 'vid_4_12320.jpg', 'vid_4_12340.jpg', 'vid_4_13620.jpg', 'vid_4_13740.jpg', 'vid_4_13780.jpg', 'vid_4_13840.jpg', 'vid_4_13900.jpg', 'vid_4_13920.jpg', 'vid_4_14360.jpg', 'vid_4_14440.jpg', 'vid_4_14500.jpg', 'vid_4_15040.jpg', 'vid_4_16060.jpg', 'vid_4_16120.jpg', 'vid_4_16180.jpg', 'vid_4_16300.jpg', 'vid_4_16320.jpg', 'vid_4_16400.jpg', 'vid_4_16660.jpg', 'vid_4_16700.jpg', 'vid_4_16720.jpg', 'vid_4_17100.jpg', 'vid_4_17260.jpg', 'vid_4_17320.jpg', 'vid_4_17340.jpg', 'vid_4_17360.jpg', 'vid_4_17540.jpg', 'vid_4_1760.jpg', 'vid_4_1780.jpg', 'vid_4_18360.jpg', 'vid_4_1840.jpg', 'vid_4_1860.jpg', 'vid_4_18860.jpg', 'vid_4_19040.jpg', 'vid_4_19060.jpg', 'vid_4_19740.jpg', 'vid_4_2040.jpg', 'vid_4_2060.jpg', 'vid_4_2080.jpg', 'vid_4_21200.jpg', 'vid_4_21220.jpg', 'vid_4_21260.jpg', 'vid_4_21300.jpg', 'vid_4_21320.jpg', 'vid_4_21400.jpg', 'vid_4_21480.jpg', 'vid_4_21560.jpg', 'vid_4_21640.jpg', 'vid_4_21680.jpg', 'vid_4_2180.jpg', 'vid_4_22240.jpg', 'vid_4_22540.jpg', 'vid_4_22700.jpg', 'vid_4_22980.jpg', 'vid_4_2380.jpg', 'vid_4_26300.jpg', 'vid_4_26340.jpg', 'vid_4_26360.jpg', 'vid_4_26400.jpg', 'vid_4_26420.jpg', 'vid_4_26440.jpg', 'vid_4_26460.jpg', 'vid_4_26500.jpg', 'vid_4_26560.jpg', 'vid_4_29500.jpg', 'vid_4_29560.jpg', 'vid_4_30000.jpg', 'vid_4_30440.jpg', 'vid_4_3120.jpg', 'vid_4_3140.jpg', 'vid_4_3200.jpg', 'vid_4_3260.jpg', 'vid_4_3360.jpg', 'vid_4_3460.jpg', 'vid_4_3540.jpg', 'vid_4_3820.jpg', 'vid_4_3840.jpg', 'vid_4_6180.jpg', 'vid_4_6200.jpg', 'vid_4_6220.jpg', 'vid_4_6260.jpg', 'vid_4_6320.jpg', 'vid_4_6360.jpg', 'vid_4_6460.jpg', 'vid_4_6480.jpg', 'vid_4_6500.jpg', 'vid_4_700.jpg', 'vid_4_8220.jpg', 'vid_4_8280.jpg', 'vid_4_8340.jpg', 'vid_4_8580.jpg', 'vid_4_8660.jpg', 'vid_4_8720.jpg', 'vid_4_8960.jpg', 'vid_4_8980.jpg', 'vid_4_900.jpg', 'vid_4_9000.jpg', 'vid_4_9020.jpg', 'vid_4_9280.jpg', 'vid_4_9560.jpg', 'vid_4_9580.jpg', 'vid_4_9660.jpg', 'vid_4_9740.jpg', 'vid_4_9760.jpg', 'vid_4_980.jpg', 'vid_4_9800.jpg', 'vid_4_9960.jpg']\n",
      "['vid_4_10000.jpg', 'vid_4_10100.jpg', 'vid_4_10120.jpg', 'vid_4_1040.jpg', 'vid_4_10980.jpg', 'vid_4_11000.jpg', 'vid_4_11240.jpg', 'vid_4_11260.jpg', 'vid_4_11380.jpg', 'vid_4_11880.jpg', 'vid_4_12080.jpg', 'vid_4_12160.jpg', 'vid_4_12200.jpg', 'vid_4_12240.jpg', 'vid_4_12280.jpg', 'vid_4_12300.jpg', 'vid_4_12320.jpg', 'vid_4_12340.jpg', 'vid_4_13620.jpg', 'vid_4_13740.jpg', 'vid_4_13780.jpg', 'vid_4_13840.jpg', 'vid_4_13900.jpg', 'vid_4_13920.jpg', 'vid_4_14360.jpg', 'vid_4_14440.jpg', 'vid_4_14500.jpg', 'vid_4_15040.jpg', 'vid_4_16060.jpg', 'vid_4_16120.jpg', 'vid_4_16180.jpg', 'vid_4_16300.jpg', 'vid_4_16320.jpg', 'vid_4_16400.jpg', 'vid_4_16660.jpg', 'vid_4_16700.jpg', 'vid_4_16720.jpg', 'vid_4_17100.jpg', 'vid_4_17260.jpg', 'vid_4_17320.jpg', 'vid_4_17340.jpg', 'vid_4_17360.jpg', 'vid_4_17540.jpg', 'vid_4_1760.jpg', 'vid_4_1780.jpg', 'vid_4_18360.jpg', 'vid_4_1840.jpg', 'vid_4_1860.jpg', 'vid_4_18860.jpg', 'vid_4_19040.jpg', 'vid_4_19060.jpg', 'vid_4_19740.jpg', 'vid_4_2040.jpg', 'vid_4_2060.jpg', 'vid_4_2080.jpg', 'vid_4_21200.jpg', 'vid_4_21220.jpg', 'vid_4_21260.jpg', 'vid_4_21300.jpg', 'vid_4_21320.jpg', 'vid_4_21400.jpg', 'vid_4_21480.jpg', 'vid_4_21560.jpg', 'vid_4_21640.jpg', 'vid_4_21680.jpg', 'vid_4_2180.jpg', 'vid_4_22240.jpg', 'vid_4_22540.jpg', 'vid_4_22700.jpg', 'vid_4_22980.jpg', 'vid_4_2380.jpg', 'vid_4_26300.jpg', 'vid_4_26340.jpg', 'vid_4_26360.jpg', 'vid_4_26400.jpg', 'vid_4_26420.jpg', 'vid_4_26440.jpg', 'vid_4_26460.jpg', 'vid_4_26500.jpg', 'vid_4_26560.jpg', 'vid_4_29500.jpg', 'vid_4_29560.jpg', 'vid_4_30000.jpg', 'vid_4_30440.jpg', 'vid_4_3120.jpg', 'vid_4_3140.jpg', 'vid_4_3200.jpg', 'vid_4_3260.jpg', 'vid_4_3360.jpg', 'vid_4_3460.jpg', 'vid_4_3540.jpg', 'vid_4_3820.jpg', 'vid_4_3840.jpg', 'vid_4_6180.jpg', 'vid_4_6200.jpg', 'vid_4_6220.jpg', 'vid_4_6260.jpg', 'vid_4_6320.jpg', 'vid_4_6360.jpg', 'vid_4_6460.jpg', 'vid_4_6480.jpg', 'vid_4_6500.jpg', 'vid_4_700.jpg', 'vid_4_8220.jpg', 'vid_4_8280.jpg', 'vid_4_8340.jpg', 'vid_4_8580.jpg', 'vid_4_8660.jpg', 'vid_4_8720.jpg', 'vid_4_8960.jpg', 'vid_4_8980.jpg', 'vid_4_900.jpg', 'vid_4_9000.jpg', 'vid_4_9020.jpg', 'vid_4_9280.jpg', 'vid_4_9560.jpg', 'vid_4_9580.jpg', 'vid_4_9660.jpg', 'vid_4_9740.jpg', 'vid_4_9760.jpg', 'vid_4_980.jpg', 'vid_4_9800.jpg', 'vid_4_9960.jpg']\n",
      "['vid_4_11240.jpg', 'vid_4_11380.jpg', 'vid_4_12240.jpg', 'vid_4_12280.jpg', 'vid_4_12300.jpg', 'vid_4_12320.jpg', 'vid_4_12340.jpg', 'vid_4_12460.jpg', 'vid_4_16180.jpg', 'vid_4_17340.jpg', 'vid_4_1780.jpg', 'vid_4_1840.jpg', 'vid_4_1860.jpg', 'vid_4_18860.jpg', 'vid_4_19040.jpg', 'vid_4_21300.jpg', 'vid_4_21400.jpg', 'vid_4_21480.jpg', 'vid_4_22240.jpg', 'vid_4_22540.jpg', 'vid_4_26340.jpg', 'vid_4_26360.jpg', 'vid_4_26400.jpg', 'vid_4_26420.jpg', 'vid_4_26440.jpg', 'vid_4_26460.jpg', 'vid_4_3120.jpg', 'vid_4_3360.jpg', 'vid_4_3840.jpg', 'vid_4_6200.jpg', 'vid_4_6260.jpg', 'vid_4_6320.jpg', 'vid_4_660.jpg', 'vid_4_700.jpg', 'vid_4_8220.jpg', 'vid_4_8720.jpg', 'vid_4_8960.jpg', 'vid_4_8980.jpg', 'vid_4_9560.jpg', 'vid_4_9660.jpg', 'vid_4_9760.jpg', 'vid_4_9800.jpg']\n",
      "['vid_4_16180.jpg', 'vid_4_12340.jpg', 'vid_4_8580.jpg', 'vid_4_9740.jpg', 'vid_4_21680.jpg', 'vid_4_22540.jpg', 'vid_4_3120.jpg', 'vid_4_9000.jpg', 'vid_4_17320.jpg', 'vid_4_21200.jpg', 'vid_4_10980.jpg', 'vid_4_16120.jpg', 'vid_4_6180.jpg', 'vid_4_12200.jpg', 'vid_4_11880.jpg', 'vid_4_12300.jpg', 'vid_4_2080.jpg', 'vid_4_6460.jpg', 'vid_4_26360.jpg', 'vid_4_21320.jpg', 'vid_4_26300.jpg', 'vid_4_2040.jpg', 'vid_4_16300.jpg', 'vid_4_26420.jpg', 'vid_4_17260.jpg', 'vid_4_22240.jpg', 'vid_4_9580.jpg', 'vid_4_19060.jpg', 'vid_4_21560.jpg', 'vid_4_8720.jpg', 'vid_4_700.jpg', 'vid_4_13920.jpg', 'vid_4_21260.jpg', 'vid_4_3360.jpg', 'vid_4_3540.jpg', 'vid_4_8220.jpg', 'vid_4_14500.jpg', 'vid_4_6200.jpg', 'vid_4_21400.jpg', 'vid_4_6260.jpg', 'vid_4_26560.jpg', 'vid_4_11240.jpg', 'vid_4_6480.jpg', 'vid_4_1840.jpg', 'vid_4_3820.jpg', 'vid_4_12320.jpg', 'vid_4_17360.jpg', 'vid_4_26340.jpg', 'vid_4_8340.jpg', 'vid_4_9960.jpg', 'vid_4_12080.jpg', 'vid_4_3140.jpg', 'vid_4_3460.jpg', 'vid_4_10120.jpg', 'vid_4_16720.jpg', 'vid_4_21220.jpg', 'vid_4_9660.jpg', 'vid_4_10100.jpg', 'vid_4_9800.jpg', 'vid_4_16320.jpg', 'vid_4_14360.jpg', 'vid_4_22980.jpg', 'vid_4_14440.jpg', 'vid_4_9760.jpg', 'vid_4_16700.jpg', 'vid_4_11000.jpg', 'vid_4_17340.jpg', 'vid_4_8960.jpg', 'vid_4_18360.jpg', 'vid_4_1860.jpg', 'vid_4_29560.jpg', 'vid_4_11260.jpg', 'vid_4_12240.jpg', 'vid_4_13780.jpg', 'vid_4_12280.jpg', 'vid_4_8660.jpg', 'vid_4_13900.jpg', 'vid_4_9280.jpg', 'vid_4_15040.jpg', 'vid_4_22700.jpg', 'vid_4_6360.jpg', 'vid_4_3840.jpg', 'vid_4_1780.jpg', 'vid_4_30440.jpg', 'vid_4_1760.jpg', 'vid_4_16660.jpg', 'vid_4_6320.jpg', 'vid_4_900.jpg', 'vid_4_11380.jpg', 'vid_4_980.jpg', 'vid_4_17540.jpg', 'vid_4_26460.jpg', 'vid_4_2060.jpg', 'vid_4_13740.jpg', 'vid_4_3200.jpg', 'vid_4_16060.jpg', 'vid_4_10000.jpg', 'vid_4_6500.jpg', 'vid_4_8980.jpg', 'vid_4_1040.jpg', 'vid_4_21300.jpg', 'vid_4_21640.jpg', 'vid_4_12160.jpg', 'vid_4_30000.jpg', 'vid_4_13620.jpg', 'vid_4_17100.jpg', 'vid_4_18860.jpg', 'vid_4_6220.jpg', 'vid_4_19740.jpg', 'vid_4_29500.jpg', 'vid_4_2380.jpg', 'vid_4_26500.jpg', 'vid_4_16400.jpg', 'vid_4_19040.jpg', 'vid_4_3260.jpg', 'vid_4_13840.jpg', 'vid_4_9560.jpg', 'vid_4_8280.jpg', 'vid_4_21480.jpg', 'vid_4_26440.jpg', 'vid_4_26400.jpg', 'vid_4_9020.jpg', 'vid_4_2180.jpg']\n"
     ]
    },
    {
     "data": {
      "text/plain": [
       "['vid_4_16180.jpg',\n",
       " 'vid_4_21400.jpg',\n",
       " 'vid_4_17340.jpg',\n",
       " 'vid_4_6260.jpg',\n",
       " 'vid_4_8960.jpg',\n",
       " 'vid_4_12340.jpg',\n",
       " 'vid_4_11240.jpg',\n",
       " 'vid_4_8980.jpg',\n",
       " 'vid_4_1860.jpg',\n",
       " 'vid_4_21300.jpg',\n",
       " 'vid_4_22540.jpg',\n",
       " 'vid_4_1840.jpg',\n",
       " 'vid_4_12320.jpg',\n",
       " 'vid_4_3120.jpg',\n",
       " 'vid_4_12240.jpg',\n",
       " 'vid_4_26340.jpg',\n",
       " 'vid_4_9760.jpg',\n",
       " 'vid_4_12280.jpg',\n",
       " 'vid_4_18860.jpg',\n",
       " 'vid_4_12300.jpg',\n",
       " 'vid_4_26360.jpg',\n",
       " 'vid_4_26420.jpg',\n",
       " 'vid_4_3840.jpg',\n",
       " 'vid_4_9660.jpg',\n",
       " 'vid_4_1780.jpg',\n",
       " 'vid_4_9800.jpg',\n",
       " 'vid_4_22240.jpg',\n",
       " 'vid_4_19040.jpg',\n",
       " 'vid_4_6320.jpg',\n",
       " 'vid_4_8720.jpg',\n",
       " 'vid_4_700.jpg',\n",
       " 'vid_4_9560.jpg',\n",
       " 'vid_4_21480.jpg',\n",
       " 'vid_4_26440.jpg',\n",
       " 'vid_4_11380.jpg',\n",
       " 'vid_4_26400.jpg',\n",
       " 'vid_4_3360.jpg',\n",
       " 'vid_4_26460.jpg',\n",
       " 'vid_4_8220.jpg',\n",
       " 'vid_4_6200.jpg']"
      ]
     },
     "execution_count": 52,
     "metadata": {},
     "output_type": "execute_result"
    }
   ],
   "source": [
    "print(yolov1_a)\n",
    "print(yolov1_a)\n",
    "print(yolo_v1_data_a)\n",
    "temp=list(set(yolov1_a).intersection(yolov1_a))\n",
    "print(temp)\n",
    "common_image=list(set(temp).intersection(yolo_v1_data_a))\n",
    "common_image"
   ]
  },
  {
   "cell_type": "code",
   "execution_count": null,
   "metadata": {
    "colab": {
     "base_uri": "https://localhost:8080/"
    },
    "id": "UhEfgKJNTE5F",
    "outputId": "ec99c941-439c-4fb1-eaeb-2ffdf98cdb59"
   },
   "outputs": [
    {
     "name": "stdout",
     "output_type": "stream",
     "text": [
      "=> Loading checkpoint\n",
      "tiny_yolo\n",
      "vid_4_11240.jpg [[0.0, 0.9515694975852966, 0.8366514444351196, 0.5613628029823303, 0.21049755811691284, 0.1243748813867569]]\n",
      "vid_4_11380.jpg [[0.0, 0.9292946457862854, 0.8283365964889526, 0.533279299736023, 0.1527283936738968, 0.13837826251983643]]\n",
      "vid_4_12240.jpg [[0.0, 0.9994096159934998, 0.9435091614723206, 0.5100623369216919, 0.1267310529947281, 0.1334039717912674], [0.0, 0.9745001196861267, 0.5354689955711365, 0.5154989957809448, 0.09407145529985428, 0.07678566873073578]]\n",
      "vid_4_12280.jpg [[0.0, 0.9910534620285034, 0.37288612127304077, 0.529699444770813, 0.0632127895951271, 0.06264662742614746], [0.0, 0.9806045293807983, 0.6115041971206665, 0.5825032591819763, 0.25911110639572144, 0.1451244354248047]]\n",
      "vid_4_12300.jpg [[0.0, 0.9957064390182495, 0.3734770119190216, 0.6051849722862244, 0.23762769997119904, 0.12689898908138275], [0.0, 0.9887163043022156, 0.6872126460075378, 0.5500388145446777, 0.2435774803161621, 0.11199448257684708], [0.0, 0.9475445747375488, 0.7428408265113831, 0.5583680272102356, 0.25594446063041687, 0.22094811499118805]]\n",
      "vid_4_12320.jpg [[0.0, 1.0151416063308716, 0.26908648014068604, 0.5417842864990234, 0.12369479238986969, 0.0961950272321701], [0.0, 0.9822121262550354, 0.174380823969841, 0.6046959757804871, 0.2176695466041565, 0.10811442136764526], [0.0, 0.9766668677330017, 0.4639962911605835, 0.5870559215545654, 0.24580018222332, 0.18294909596443176]]\n",
      "vid_4_12340.jpg [[0.0, 0.9771612882614136, 0.034353625029325485, 0.5972265601158142, 0.09131564944982529, 0.1275995820760727], [0.0, 0.9437812566757202, 0.25113096833229065, 0.5966071486473083, 0.20347359776496887, 0.2126905620098114]]\n",
      "vid_4_16180.jpg [[0.0, 0.9994688034057617, 0.08553560078144073, 0.5572854280471802, 0.1505625694990158, 0.10079661756753922]]\n",
      "vid_4_17340.jpg [[0.0, 1.0131516456604004, 0.33544859290122986, 0.5595985651016235, 0.19074329733848572, 0.13411132991313934], [0.0, 0.977132260799408, 0.09103891998529434, 0.6259127855300903, 0.19426149129867554, 0.23692604899406433]]\n",
      "vid_4_1780.jpg [[0.0, 1.0181273221969604, 0.3912564814090729, 0.5574848055839539, 0.1425614058971405, 0.09608476608991623], [0.0, 0.9982779026031494, 0.8940379619598389, 0.498536616563797, 0.19738569855690002, 0.19960875809192657]]\n",
      "vid_4_1840.jpg [[0.0, 1.016363263130188, 0.28542882204055786, 0.6026849150657654, 0.2680739164352417, 0.2081461101770401], [0.0, 1.0143983364105225, 0.5787447094917297, 0.5491975545883179, 0.23309899866580963, 0.14283065497875214]]\n",
      "vid_4_1860.jpg [[0.0, 0.9921571016311646, 0.9494879841804504, 0.5450230836868286, 0.11816014349460602, 0.14696210622787476], [0.0, 0.9843833446502686, 0.05331571027636528, 0.5663472414016724, 0.06690383702516556, 0.08693058788776398], [0.0, 0.9836822152137756, 0.24369999766349792, 0.5698635578155518, 0.18152624368667603, 0.13628321886062622]]\n",
      "vid_4_18860.jpg [[0.0, 0.9984987378120422, 0.16712133586406708, 0.5661293268203735, 0.17430590093135834, 0.11983680725097656], [0.0, 0.9944379925727844, 0.8979272842407227, 0.5586379766464233, 0.228300541639328, 0.20827777683734894]]\n",
      "vid_4_19040.jpg [[0.0, 1.039259433746338, 0.8980566263198853, 0.5421354174613953, 0.15717318654060364, 0.1332305669784546]]\n",
      "vid_4_21300.jpg [[0.0, 0.9662097096443176, 0.8558879494667053, 0.5674165487289429, 0.2619912028312683, 0.1597127467393875]]\n",
      "vid_4_21400.jpg [[0.0, 0.9807730317115784, 0.8000611066818237, 0.5391150712966919, 0.18442603945732117, 0.12407229840755463]]\n",
      "vid_4_21480.jpg [[0.0, 1.0559943914413452, 0.9078403115272522, 0.513572633266449, 0.15995478630065918, 0.10734745860099792], [0.0, 1.024478793144226, 0.6471056342124939, 0.5574864745140076, 0.25273817777633667, 0.15511639416217804]]\n",
      "vid_4_22540.jpg [[0.0, 1.0327332019805908, 0.9158505201339722, 0.5398995280265808, 0.17126916348934174, 0.11625678837299347]]\n",
      "vid_4_26340.jpg [[0.0, 1.0217376947402954, 0.9403729438781738, 0.5132637619972229, 0.08189651370048523, 0.09890977293252945], [0.0, 0.9945797324180603, 0.6085277795791626, 0.5292527675628662, 0.13202962279319763, 0.08913883566856384], [0.0, 0.9427313208580017, 0.8321670889854431, 0.5330302715301514, 0.19000107049942017, 0.09905882179737091]]\n",
      "vid_4_26360.jpg [[0.0, 1.0116175413131714, 0.9632925987243652, 0.5115652084350586, 0.07740375399589539, 0.11312492191791534], [0.0, 0.9953488707542419, 0.43850645422935486, 0.5528281927108765, 0.10897091031074524, 0.08457241207361221], [0.0, 0.9837014675140381, 0.5936099290847778, 0.5582692623138428, 0.18008248507976532, 0.12441546469926834], [0.0, 0.9636558890342712, 0.8212037682533264, 0.5323378443717957, 0.11619196087121964, 0.07836054265499115]]\n",
      "vid_4_26400.jpg [[0.0, 1.028577446937561, 0.512380838394165, 0.5436182022094727, 0.1317497342824936, 0.08804892003536224], [0.0, 1.0118604898452759, 0.9614319801330566, 0.5176966190338135, 0.0853101909160614, 0.10275016725063324], [0.0, 0.9981352686882019, 0.6171598434448242, 0.5376124382019043, 0.16100671887397766, 0.10741176456212997], [0.0, 0.9889255166053772, 0.8057336211204529, 0.5328077673912048, 0.1394626796245575, 0.09371955692768097], [0.0, 0.9856624603271484, 0.1283463090658188, 0.563267171382904, 0.16827994585037231, 0.11054929345846176]]\n",
      "vid_4_26420.jpg [[0.0, 1.0516690015792847, 0.3758567273616791, 0.5671542882919312, 0.1690373569726944, 0.12563033401966095], [0.0, 1.024484395980835, 0.9234916567802429, 0.5166365504264832, 0.10369973629713058, 0.08576169610023499], [0.0, 0.9775936603546143, 0.8411215543746948, 0.5355263352394104, 0.1819126456975937, 0.10067716985940933], [0.0, 0.9701952338218689, 0.6450426578521729, 0.5336233973503113, 0.14351125061511993, 0.08537311851978302], [0.0, 0.9612576365470886, 0.029501622542738914, 0.5652552843093872, 0.062058351933956146, 0.08925339579582214]]\n",
      "vid_4_26440.jpg [[0.0, 1.0353480577468872, 0.9456973671913147, 0.5241312384605408, 0.13588947057724, 0.10718163102865219], [0.0, 1.0157756805419922, 0.6197533011436462, 0.5491597056388855, 0.1805562525987625, 0.10424337536096573], [0.0, 1.0077012777328491, 0.48650574684143066, 0.5535265803337097, 0.12210438400506973, 0.08274440467357635], [0.0, 0.953841507434845, 0.7660577893257141, 0.507891833782196, 0.11172503232955933, 0.07502462714910507], [0.0, 0.9537864923477173, 0.17353913187980652, 0.568781316280365, 0.17171575129032135, 0.103395015001297]]\n",
      "vid_4_26460.jpg [[0.0, 1.0255743265151978, 0.3202764093875885, 0.5658063888549805, 0.10797581821680069, 0.06797239929437637], [0.0, 1.0002714395523071, 0.02036486379802227, 0.5574321746826172, 0.06879982352256775, 0.09931980073451996], [0.0, 0.9924657940864563, 0.5944101214408875, 0.5175764560699463, 0.1311299353837967, 0.09887998551130295], [0.0, 0.9862361550331116, 0.7728946805000305, 0.5485836267471313, 0.14008860290050507, 0.10701549798250198], [0.0, 0.9811111688613892, 0.9052084684371948, 0.509447455406189, 0.12684528529644012, 0.10399912297725677]]\n",
      "vid_4_3120.jpg [[0.0, 0.5999799370765686, 0.9046502709388733, 0.5281780958175659, 0.13792407512664795, 0.1310535967350006]]\n",
      "vid_4_3360.jpg [[0.0, 1.0257967710494995, 0.4944554269313812, 0.5417236089706421, 0.17484380304813385, 0.10443124920129776]]\n",
      "vid_4_6200.jpg [[0.0, 0.9962155222892761, 0.444494366645813, 0.5277224779129028, 0.1864592581987381, 0.12314154207706451], [0.0, 0.9930161833763123, 0.7858341336250305, 0.5152075886726379, 0.14366893470287323, 0.0878923237323761]]\n",
      "vid_4_6260.jpg [[0.0, 1.044833779335022, 0.413889616727829, 0.5676984190940857, 0.16660986840724945, 0.11005173623561859], [0.0, 1.0241062641143799, 0.6725486516952515, 0.5360168218612671, 0.1536138355731964, 0.12149334698915482], [0.0, 1.0008596181869507, 0.9439082741737366, 0.5117455720901489, 0.10180845856666565, 0.1117812991142273], [0.0, 0.9678208231925964, 0.14141947031021118, 0.5689730644226074, 0.10585053265094757, 0.0868421420454979], [0.0, 0.9451788663864136, 0.8275845050811768, 0.5281667113304138, 0.17180722951889038, 0.10415638238191605]]\n",
      "vid_4_6320.jpg [[0.0, 1.044571042060852, 0.32840821146965027, 0.5447814464569092, 0.14111502468585968, 0.10477269440889359], [0.0, 1.0176271200180054, 0.12216564267873764, 0.5582857131958008, 0.15142320096492767, 0.09615848958492279]]\n",
      "vid_4_700.jpg [[0.0, 1.0032955408096313, 0.9321009516716003, 0.5505578517913818, 0.13086853921413422, 0.17655691504478455], [0.0, 0.9808104634284973, 0.5568620562553406, 0.63819420337677, 0.3702771067619324, 0.21753504872322083]]\n",
      "vid_4_8220.jpg [[0.0, 1.0504776239395142, 0.8970521688461304, 0.5256897807121277, 0.16566090285778046, 0.11196640878915787]]\n",
      "vid_4_8720.jpg [[0.0, 0.988749086856842, 0.14583760499954224, 0.5643727779388428, 0.10184935480356216, 0.0793335810303688]]\n",
      "vid_4_8960.jpg [[0.0, 1.0091838836669922, 0.12475824356079102, 0.5660891532897949, 0.17962172627449036, 0.11847330629825592]]\n",
      "vid_4_8980.jpg [[0.0, 1.0214966535568237, 0.0997677817940712, 0.5543962121009827, 0.14939534664154053, 0.1161167174577713]]\n",
      "vid_4_9560.jpg [[0.0, 1.0092244148254395, 0.3597601354122162, 0.5504447817802429, 0.09743203222751617, 0.07798334211111069], [0.0, 0.9948148131370544, 0.22300292551517487, 0.5505824685096741, 0.1906169354915619, 0.14044766128063202], [0.0, 0.9800452589988708, 0.8269752860069275, 0.518474280834198, 0.1855599582195282, 0.12856262922286987]]\n",
      "vid_4_9660.jpg [[0.0, 0.9838168621063232, 0.09272683411836624, 0.5674591064453125, 0.15021297335624695, 0.11537844687700272]]\n",
      "vid_4_9760.jpg [[0.0, 1.058666467666626, 0.537641167640686, 0.5372521281242371, 0.2940739393234253, 0.17304880917072296], [0.0, 0.9819549918174744, 0.7801363468170166, 0.5191364288330078, 0.15074032545089722, 0.11755450069904327], [0.0, 0.9719886183738708, 0.01524883508682251, 0.5671727061271667, 0.05866508558392525, 0.08329462260007858]]\n",
      "vid_4_9800.jpg [[0.0, 1.0264188051223755, 0.9699606895446777, 0.5104437470436096, 0.0701393410563469, 0.09554687887430191], [0.0, 0.9929304718971252, 0.07900389283895493, 0.5483973026275635, 0.11691951751708984, 0.09692396968603134]]\n"
     ]
    }
   ],
   "source": [
    "model = select_model('tiny_yolo')\n",
    "load_checkpoint(torch.load('/content/drive/MyDrive/archive/data/tiny_yolo/save.pth.tar'), model, optimizer)\n",
    "result=model.predict(split_size=7,num_boxes=2,num_classes=1,source=IMG_DIR_TEST,conf=0.50,iou=0.5)\n",
    "print(model.name)\n",
    "for key in result:\n",
    "  if len(result[key])>0:\n",
    "    if key in common_image:\n",
    "      print(key,result[key])\n",
    "      img_file_path=os.path.join('/content/',key[:len(key)-4]+'_2.jpg')\n",
    "      #img_file_path=os.path.join(IMG_DIR_TEST,key)\n",
    "      img = Image.open(img_file_path)\n",
    "      img=np.array(img)\n",
    "      #show_bbox(img, result[key],key[:len(key)-4]+'_tiny_yolo')\n",
    "      plot_image(img, result[key],[255,255,0],key[:len(key)-4]+'_2')"
   ]
  },
  {
   "cell_type": "code",
   "execution_count": null,
   "metadata": {
    "colab": {
     "base_uri": "https://localhost:8080/"
    },
    "id": "VN4Ic0Odrgrp",
    "outputId": "94abab1f-a418-46f8-dc09-70f741e81bee"
   },
   "outputs": [
    {
     "name": "stdout",
     "output_type": "stream",
     "text": [
      "[0.0, 0.0, 0.031045708805322647, 0.08081141114234924, 0.057424236088991165, 0.1321578323841095, 0.2022007405757904, 0.14842191338539124, 0.14811937510967255, 0.15236008167266846, 0.15277783572673798, 0.19670549035072327, 0.13649199903011322, 0.1618472784757614, 0.19791735708713531, 0.17653010785579681]\n",
      "[0.0, 0.0, 0.03395633399486542, 0.047404784709215164, 0.06946990638971329, 0.07649116963148117, 0.10722114145755768, 0.10278230160474777, 0.10604818165302277, 0.1036040261387825, 0.10587041079998016, 0.1091078668832779, 0.11508957296609879, 0.1094265729188919, 0.10781236737966537, 0.10372328013181686, 0.0783223882317543, 0.10965558886528015, 0.1077393889427185, 0.10372328013181686, 0.0783223882317543, 0.10965558886528015, 0.1077393889427185, 0.10372328013181686, 0.0783223882317543]\n",
      "[0.0, 0.0, 0.0, 0.027777742594480515, 0.04140334948897362, 0.058830536901950836, 0.13151617348194122, 0.10589194297790527, 0.13381284475326538, 0.19532249867916107, 0.15895654261112213, 0.15404492616653442, 0.1393822729587555, 0.11516811698675156, 0.13873742520809174, 0.19501447677612305, 0.15895654261112213, 0.15537390112876892, 0.1393822729587555, 0.11516811698675156, 0.13873742520809174, 0.19501447677612305, 0.15895654261112213, 0.15537390112876892, 0.1393822729587555]\n"
     ]
    }
   ],
   "source": [
    "tiny_yolo_data=torch.load('/content/drive/MyDrive/archive/data/tiny_yolo/save_data_aug_0.6.pth.tar')['map_array_test']\n",
    "yolo_v1=torch.load('/content/drive/MyDrive/archive/data/yolov1/save.pth.tar')['map_array_test']\n",
    "yolo_v1_data=torch.load('/content/drive/MyDrive/archive/data/yolov1/save_data_aug_0.6.pth.tar')['map_array_test']\n",
    "print(tiny_yolo_data)\n",
    "print(yolo_v1)\n",
    "print(yolo_v1_data)"
   ]
  },
  {
   "cell_type": "code",
   "execution_count": null,
   "metadata": {
    "id": "oAXUtCcLJEct"
   },
   "outputs": [],
   "source": [
    "tiny_yolo=['vid_4_12240.jpg', 'vid_4_17340.jpg', 'vid_4_17600.jpg', 'vid_4_26320.jpg', 'vid_4_26440.jpg', 'vid_4_26540.jpg', 'vid_4_29960.jpg', 'vid_4_30020.jpg', 'vid_4_3340.jpg', 'vid_4_920.jpg', 'vid_4_9500.jpg', 'vid_4_9540.jpg']\n",
    "yolo_v1=['vid_4_10960.jpg', 'vid_4_11900.jpg', 'vid_4_12240.jpg', 'vid_4_13660.jpg', 'vid_4_16400.jpg', 'vid_4_16440.jpg', 'vid_4_17340.jpg', 'vid_4_17440.jpg', 'vid_4_17560.jpg', 'vid_4_1760.jpg', 'vid_4_17600.jpg', 'vid_4_17640.jpg', 'vid_4_19040.jpg', 'vid_4_1940.jpg', 'vid_4_2020.jpg', 'vid_4_2060.jpg', 'vid_4_2100.jpg', 'vid_4_21500.jpg', 'vid_4_22220.jpg', 'vid_4_22720.jpg', 'vid_4_2540.jpg', 'vid_4_26320.jpg', 'vid_4_26440.jpg', 'vid_4_26540.jpg', 'vid_4_28240.jpg', 'vid_4_28840.jpg', 'vid_4_29520.jpg', 'vid_4_29960.jpg', 'vid_4_29980.jpg', 'vid_4_30020.jpg', 'vid_4_3340.jpg', 'vid_4_3420.jpg', 'vid_4_3440.jpg', 'vid_4_3520.jpg', 'vid_4_3840.jpg', 'vid_4_6160.jpg', 'vid_4_6360.jpg', 'vid_4_6400.jpg', 'vid_4_8580.jpg', 'vid_4_9020.jpg', 'vid_4_9060.jpg', 'vid_4_920.jpg', 'vid_4_9320.jpg', 'vid_4_9500.jpg', 'vid_4_9520.jpg', 'vid_4_9540.jpg', 'vid_4_9660.jpg', 'vid_4_9780.jpg', 'vid_4_9820.jpg']\n",
    "yolo_v1_data=['vid_4_12240.jpg', 'vid_4_13660.jpg', 'vid_4_17340.jpg', 'vid_4_17560.jpg', 'vid_4_17600.jpg', 'vid_4_17640.jpg', 'vid_4_19040.jpg', 'vid_4_1940.jpg', 'vid_4_2020.jpg', 'vid_4_2540.jpg', 'vid_4_26320.jpg', 'vid_4_26440.jpg', 'vid_4_29960.jpg', 'vid_4_3340.jpg', 'vid_4_3420.jpg', 'vid_4_3440.jpg', 'vid_4_3840.jpg', 'vid_4_6160.jpg', 'vid_4_920.jpg', 'vid_4_9500.jpg', 'vid_4_9520.jpg', 'vid_4_9540.jpg', 'vid_4_9660.jpg', 'vid_4_9780.jpg']\n",
    "list(set(['vid_4_26320.jpg',\n",
    " 'vid_4_17340.jpg',\n",
    " 'vid_4_30020.jpg',\n",
    " 'vid_4_12240.jpg',\n",
    " 'vid_4_9540.jpg',\n",
    " 'vid_4_26440.jpg',\n",
    " 'vid_4_26540.jpg',\n",
    " 'vid_4_920.jpg',\n",
    " 'vid_4_3340.jpg',\n",
    " 'vid_4_29960.jpg',\n",
    " 'vid_4_9500.jpg',\n",
    " 'vid_4_17600.jpg']).intersection(yolo_v1_data))"
   ]
  },
  {
   "cell_type": "code",
   "execution_count": null,
   "metadata": {
    "id": "7s5lINoayoW0"
   },
   "outputs": [],
   "source": [
    "load_checkpoint(torch.load(BEST_MODEL_FILE), model, optimizer)\n",
    "test_images=drive_dir+'/testing_images'\n",
    "result_2=model.predict(source=test_images,conf=0.40,iou=0.5,num_boxes=2, num_classes=1,split_size=7)\n",
    "imgs_name=['vid_5_400.jpg','vid_5_26720.jpg']\n",
    "for key in result_2:\n",
    "  if key in imgs_name:\n",
    "  #if len(result_2[key])>0:\n",
    "    print(key,result_2[key])\n",
    "    img_file_path=os.path.join(test_images,key)\n",
    "    img = Image.open(img_file_path)\n",
    "    print(img_file_path)\n",
    "    plot_image(img, result_2[key])"
   ]
  },
  {
   "cell_type": "code",
   "execution_count": null,
   "metadata": {
    "id": "H_z9VfMMzG44"
   },
   "outputs": [],
   "source": [
    "load_checkpoint(torch.load(BEST_MODEL_FILE), model, optimizer)\n",
    "for i in range(10):\n",
    "    pred_boxes, target_boxes = get_bboxes(test_loader, model, iou_threshold=0.5, threshold=0.4, device=DEVICE) #Overfitting\n",
    "    mean_avg_prec = mean_average_precision(pred_boxes, target_boxes, iou_threshold=0.5, box_format=\"midpoint\")\n",
    "    print(f\"epoch: {epoch} Train mAP: {mean_avg_prec}\")"
   ]
  },
  {
   "cell_type": "code",
   "execution_count": null,
   "metadata": {
    "id": "Yx8gf-9hp96g"
   },
   "outputs": [],
   "source": [
    "IMG_DIR_TEST"
   ]
  },
  {
   "cell_type": "code",
   "execution_count": null,
   "metadata": {
    "id": "JU-xyamymU73"
   },
   "outputs": [],
   "source": [
    "def plot(imgs, with_orig=True, row_title=None, **imshow_kwargs):\n",
    "    if not isinstance(imgs[0], list):\n",
    "        # Make a 2d grid even if there's just 1 row\n",
    "        imgs = [imgs]\n",
    "\n",
    "    num_rows = len(imgs)\n",
    "    num_cols = len(imgs[0]) + with_orig\n",
    "    fig, axs = plt.subplots(nrows=num_rows, ncols=num_cols, squeeze=False)\n",
    "    for row_idx, row in enumerate(imgs):\n",
    "        row = [orig_img] + row if with_orig else row\n",
    "        for col_idx, img in enumerate(row):\n",
    "            ax = axs[row_idx, col_idx]\n",
    "            ax.imshow(np.asarray(img), **imshow_kwargs)\n",
    "            ax.set(xticklabels=[], yticklabels=[], xticks=[], yticks=[])\n",
    "\n",
    "    if with_orig:\n",
    "        axs[0, 0].set(title='Original image')\n",
    "        axs[0, 0].title.set_size(8)\n",
    "    if row_title is not None:\n",
    "        for row_idx in range(num_rows):\n",
    "            axs[row_idx, 0].set(ylabel=row_title[row_idx])\n",
    "\n",
    "    plt.tight_layout()"
   ]
  },
  {
   "cell_type": "code",
   "execution_count": null,
   "metadata": {
    "id": "8J_tMnojktmC"
   },
   "outputs": [],
   "source": [
    "import torchvision\n",
    "from torchvision.transforms.v2 import functional as F\n",
    "class Compose(object):\n",
    "    def __init__(self, transforms):\n",
    "        self.transforms = transforms\n",
    "\n",
    "    def __call__(self, img, bboxes):\n",
    "        bboxes=yolotobox(bboxes,F.get_spatial_size(img)[1],F.get_spatial_size(img)[0])\n",
    "        if not bboxes:\n",
    "          bboxes.append([0.0,0.0,0.0,0.0])\n",
    "        bboxes = datapoints.BoundingBox(bboxes,format=datapoints.BoundingBoxFormat.CXCYWH,spatial_size=F.get_spatial_size(img),)\n",
    "        for t in self.transforms:\n",
    "            img, bboxes = t(img,bboxes)\n",
    "\n",
    "        return img, boxtoyolo(bboxes,448,448)\n",
    "\n",
    "transform = Compose([\n",
    "      transforms.RandomResizedCrop(size=(448, 448),scale=(0.6,1),ratio=(1,1), antialias=True),\n",
    "      transforms.RandomHorizontalFlip(p=0.5),\n",
    "\n",
    "\n",
    "\n",
    "      #transforms.Resize((448, 448)),\n",
    "      transforms.ToTensor(),\n",
    "      #transforms.Normalize(mean=[0.5, 0.5, 0.5], std=[0.2, 0.2, 0.2]),\n",
    "      ])\n",
    "resize_cropper = transforms.RandomResizedCrop(size=(448, 448))\n",
    "image_id=\"vid_4_1000\"\n",
    "orig_img=Image.open('/content/drive/MyDrive/data/yolov8/images/train/'+image_id+'.jpg')\n",
    "label_path='/content/drive/MyDrive/data/yolov8/labels/train/'+image_id+'.txt'\n",
    "boxes=[]\n",
    "if path.exists(label_path) == True:\n",
    "          with open(label_path) as f:\n",
    "              for label in f.readlines():\n",
    "                  class_label, x, y, width, height = [float(x) if float(x)!=int(float(x)) else int(float(x)) for x in label.strip().split()]\n",
    "                  boxes.append([class_label, x, y, width, height])\n",
    "boxes= torch.tensor(boxes)\n",
    "resized_crop=[]\n",
    "for i in range(6):\n",
    "  resized,box = transform(orig_img,boxes)\n",
    "  #print(resized)\n",
    "  trans=transforms.ToPILImage()\n",
    "  resized_crop.append(trans(resized))\n",
    "  #resized_crop.append(resized)\n",
    "  #print(box[0])\n",
    "  #print(boxtoyolo(box[0].tolist(),448,448))\n",
    "  #box=boxtoyolo(box[0].tolist(),448,448)\n",
    "  #print(box)\n",
    "  for b in box:\n",
    "    b.insert(0,0.0)\n",
    "  print(box)\n",
    "  plot_image(trans(resized), box)\n",
    "plot(resized_crop)\n",
    "#print(yoloboxes([[0.11034732271449704, 0.5591216215789474, 0.17149059332840239, 0.13642213631578948]],F.get_spatial_size(orig_img)[1],F.get_spatial_size(orig_img)[0]))\n",
    "#print(F.get_spatial_size(orig_img)[1],F.get_spatial_size(orig_img)[0])\n"
   ]
  }
 ],
 "metadata": {
  "accelerator": "GPU",
  "colab": {
   "gpuType": "T4",
   "provenance": []
  },
  "kernelspec": {
   "display_name": "Python 3 (ipykernel)",
   "language": "python",
   "name": "python3"
  },
  "language_info": {
   "codemirror_mode": {
    "name": "ipython",
    "version": 3
   },
   "file_extension": ".py",
   "mimetype": "text/x-python",
   "name": "python",
   "nbconvert_exporter": "python",
   "pygments_lexer": "ipython3",
   "version": "3.10.13"
  }
 },
 "nbformat": 4,
 "nbformat_minor": 4
}
